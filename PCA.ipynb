{
  "nbformat": 4,
  "nbformat_minor": 0,
  "metadata": {
    "colab": {
      "name": "PCA.ipynb",
      "provenance": [],
      "collapsed_sections": [],
      "include_colab_link": true
    },
    "kernelspec": {
      "name": "python3",
      "display_name": "Python 3"
    },
    "accelerator": "GPU"
  },
  "cells": [
    {
      "cell_type": "markdown",
      "metadata": {
        "id": "view-in-github",
        "colab_type": "text"
      },
      "source": [
        "<a href=\"https://colab.research.google.com/github/Maskify/maskify.github.io/blob/master/PCA.ipynb\" target=\"_parent\"><img src=\"https://colab.research.google.com/assets/colab-badge.svg\" alt=\"Open In Colab\"/></a>"
      ]
    },
    {
      "cell_type": "code",
      "metadata": {
        "id": "3BqNcVnrj8G4"
      },
      "source": [
        "###import commands\n",
        "import numpy as np\n",
        "import sklearn\n",
        "import pandas as pd\n",
        "import matplotlib.pyplot as plt\n",
        "import json\n",
        "from pylab import *\n",
        "from matplotlib.pyplot import *\n",
        "import imageio\n",
        "###"
      ],
      "execution_count": null,
      "outputs": []
    },
    {
      "cell_type": "code",
      "metadata": {
        "id": "96adphgtwVSw"
      },
      "source": [
        "\n"
      ],
      "execution_count": null,
      "outputs": []
    },
    {
      "cell_type": "code",
      "metadata": {
        "id": "JjTJiM2ilZgn"
      },
      "source": [
        "###import files from Github to Kaggle -> GoogleColab "
      ],
      "execution_count": null,
      "outputs": []
    },
    {
      "cell_type": "markdown",
      "metadata": {
        "id": "vGw7uf3_sUyD"
      },
      "source": [
        "**import files from Github to Kaggle -> GoogleColab **"
      ]
    },
    {
      "cell_type": "code",
      "metadata": {
        "id": "cPq3sK7hnISz",
        "outputId": "9e444bde-0ed3-4b7c-985e-79461df4d9b7",
        "colab": {
          "base_uri": "https://localhost:8080/"
        }
      },
      "source": [
        "###install Kaggle onto Colab\n",
        "# To install Kaggle CLI:\n",
        "!pip install kaggle\n"
      ],
      "execution_count": null,
      "outputs": [
        {
          "output_type": "stream",
          "text": [
            "Requirement already satisfied: kaggle in /usr/local/lib/python3.6/dist-packages (1.5.9)\n",
            "Requirement already satisfied: python-slugify in /usr/local/lib/python3.6/dist-packages (from kaggle) (4.0.1)\n",
            "Requirement already satisfied: six>=1.10 in /usr/local/lib/python3.6/dist-packages (from kaggle) (1.15.0)\n",
            "Requirement already satisfied: urllib3 in /usr/local/lib/python3.6/dist-packages (from kaggle) (1.24.3)\n",
            "Requirement already satisfied: tqdm in /usr/local/lib/python3.6/dist-packages (from kaggle) (4.41.1)\n",
            "Requirement already satisfied: slugify in /usr/local/lib/python3.6/dist-packages (from kaggle) (0.0.1)\n",
            "Requirement already satisfied: python-dateutil in /usr/local/lib/python3.6/dist-packages (from kaggle) (2.8.1)\n",
            "Requirement already satisfied: requests in /usr/local/lib/python3.6/dist-packages (from kaggle) (2.23.0)\n",
            "Requirement already satisfied: certifi in /usr/local/lib/python3.6/dist-packages (from kaggle) (2020.6.20)\n",
            "Requirement already satisfied: text-unidecode>=1.3 in /usr/local/lib/python3.6/dist-packages (from python-slugify->kaggle) (1.3)\n",
            "Requirement already satisfied: idna<3,>=2.5 in /usr/local/lib/python3.6/dist-packages (from requests->kaggle) (2.10)\n",
            "Requirement already satisfied: chardet<4,>=3.0.2 in /usr/local/lib/python3.6/dist-packages (from requests->kaggle) (3.0.4)\n"
          ],
          "name": "stdout"
        }
      ]
    },
    {
      "cell_type": "code",
      "metadata": {
        "id": "jitUmh8FrO6s"
      },
      "source": [
        "###Choose the kaggle.json file that you downloaded\n",
        "from google.colab import files"
      ],
      "execution_count": null,
      "outputs": []
    },
    {
      "cell_type": "code",
      "metadata": {
        "id": "CdfWIruorTMc"
      },
      "source": [
        "###Make directory named kaggle and copy kaggle.json file there.\n",
        "! mkdir ~/.kaggle"
      ],
      "execution_count": null,
      "outputs": []
    },
    {
      "cell_type": "code",
      "metadata": {
        "id": "MI0hY5wwrA0Y"
      },
      "source": [
        "#import json \n",
        "token = {\"username\":\"ninachen99\",\"key\":\"ee5999a7fab2b35a875f1490862a902e\"}"
      ],
      "execution_count": null,
      "outputs": []
    },
    {
      "cell_type": "code",
      "metadata": {
        "id": "axbLPpkdqyoT"
      },
      "source": [
        "with open('/content/kaggle.json', 'w') as file:\n",
        "    json.dump(token, file)"
      ],
      "execution_count": null,
      "outputs": []
    },
    {
      "cell_type": "code",
      "metadata": {
        "id": "AGaS6Xht6xH4"
      },
      "source": [
        "!cp /content/kaggle.json ~/.kaggle/kaggle.json\n"
      ],
      "execution_count": null,
      "outputs": []
    },
    {
      "cell_type": "code",
      "metadata": {
        "id": "gtPq4KGd60ib"
      },
      "source": [
        "#!kaggle config set -n path -v{/content}\n",
        "!chmod 600 /root/.kaggle/kaggle.json"
      ],
      "execution_count": null,
      "outputs": []
    },
    {
      "cell_type": "code",
      "metadata": {
        "id": "1Jsmo_-f7AWz",
        "outputId": "dac56254-c4f6-48fb-821e-0f42f1c8ce92",
        "colab": {
          "base_uri": "https://localhost:8080/"
        }
      },
      "source": [
        "!kaggle datasets list"
      ],
      "execution_count": null,
      "outputs": [
        {
          "output_type": "stream",
          "text": [
            "Warning: Looks like you're using an outdated API Version, please consider updating (server 1.5.9 / client 1.5.4)\n",
            "ref                                                       title                                               size  lastUpdated          downloadCount  \n",
            "--------------------------------------------------------  -------------------------------------------------  -----  -------------------  -------------  \n",
            "terenceshin/covid19s-impact-on-airport-traffic            COVID-19's Impact on Airport Traffic               106KB  2020-10-19 12:40:17           1137  \n",
            "sootersaalu/amazon-top-50-bestselling-books-2009-2019     Amazon Top 50 Bestselling Books 2009 - 2019         15KB  2020-10-13 09:39:21           1141  \n",
            "thomaskonstantin/highly-rated-children-books-and-stories  Highly Rated Children Books And Stories            106KB  2020-10-24 12:09:59            270  \n",
            "tunguz/euro-parliament-proceedings-1996-2011              Euro Parliament Proceedings 1996 - 2011              1GB  2020-10-26 17:48:29             17  \n",
            "rishidamarla/judicial-expenditures-across-all-50-states   Judicial Expenditures across all 50 States           2KB  2020-10-25 00:07:45            178  \n",
            "docstein/brics-world-bank-indicators                      BRICS World Bank Indicators                          4MB  2020-10-22 12:18:40            243  \n",
            "kanishk307/6000-indian-food-recipes-dataset               6000+ Indian Food Recipes Dataset                    9MB  2020-10-24 01:08:23            346  \n",
            "elvinagammed/chatbots-intent-recognition-dataset          Chatbots: Intent Recognition Dataset                17KB  2020-10-23 07:44:59            133  \n",
            "omarhanyy/500-greatest-songs-of-all-time                  500 Greatest Songs of All Time                      33KB  2020-10-26 13:36:09            290  \n",
            "balraj98/synthetic-objective-testing-set-sots-reside      Synthetic Objective Testing Set (SOTS) [RESIDE]    415MB  2020-10-24 10:07:29             45  \n",
            "lunamcbride24/pokemon-type-matchup-data                   Pokemon Type Matchup Data                            9KB  2020-10-14 18:56:23            183  \n",
            "gaurav2796/kaggle-competions-rankings-and-kernels         Kaggle Competions, Rankings and Kernels            698KB  2020-10-15 04:05:15             23  \n",
            "balraj98/indoor-training-set-its-residestandard           Indoor Training Set (ITS) [RESIDE-Standard]          5GB  2020-10-24 10:07:30             29  \n",
            "romazepa/moscow-schools-winners-of-educational-olympiads  Moscow schools - winners of educational Olympiads    1MB  2020-10-12 21:45:01             41  \n",
            "sootersaalu/nigerian-songs-spotify                        Nigerian Songs Spotify                              24KB  2020-10-25 19:10:23             44  \n",
            "salmaneunus/mechanical-tools-dataset                      Mechanical Tools Classification Dataset            652MB  2020-11-01 11:28:22            151  \n",
            "thanatoz/hinglish-blogs                                   Hinglish blogs                                       2MB  2020-10-13 18:16:05             10  \n",
            "shivamb/netflix-shows                                     Netflix Movies and TV Shows                        971KB  2020-01-20 07:33:56          52149  \n",
            "nehaprabhavalkar/indian-food-101                          Indian Food 101                                      7KB  2020-09-30 06:23:43           5792  \n",
            "heeraldedhia/groceries-dataset                            Groceries dataset                                  257KB  2020-09-17 04:36:08           5960  \n"
          ],
          "name": "stdout"
        }
      ]
    },
    {
      "cell_type": "code",
      "metadata": {
        "id": "76KU1wnr7GX2",
        "outputId": "bf5d4909-5d48-4fa3-a5fa-6cf067d9c566",
        "colab": {
          "base_uri": "https://localhost:8080/"
        }
      },
      "source": [
        "!kaggle datasets download -d ninachen99/maskify-data/data_with_masks -p /content"
      ],
      "execution_count": null,
      "outputs": [
        {
          "output_type": "stream",
          "text": [
            "Downloading maskify-data.zip to /content\n",
            " 91% 241M/264M [00:02<00:00, 81.8MB/s]\n",
            "100% 264M/264M [00:02<00:00, 104MB/s] \n"
          ],
          "name": "stdout"
        }
      ]
    },
    {
      "cell_type": "code",
      "metadata": {
        "id": "TufD6KRk7yFn",
        "outputId": "e34d62db-d20e-4c32-e61b-85dda6da00a7",
        "colab": {
          "base_uri": "https://localhost:8080/"
        }
      },
      "source": [
        "!unzip \\maskify-data.zip"
      ],
      "execution_count": null,
      "outputs": [
        {
          "output_type": "stream",
          "text": [
            "Archive:  maskify-data.zip\n",
            "  inflating: .DS_Store               \n",
            "  inflating: Maskify_Infographic.png  \n",
            "  inflating: css/bootstrap-responsive.min.css  \n",
            "  inflating: css/bootstrap.css       \n",
            "  inflating: data_raw/004f.jpeg      \n",
            "  inflating: data_raw/004f.jpg       \n",
            "  inflating: data_raw/010-wuhan-coronavirus_1024.jpg  \n",
            "  inflating: data_raw/012120_jl_coronavirus_feat-1028x579.jpg  \n",
            "  inflating: data_raw/013020whocorona1_960x540.jpg  \n",
            "  inflating: data_raw/020420wuhanlife2_960x540.jpg  \n",
            "  inflating: data_raw/030220_tseg_coronavirus_feat-800x450.jpg  \n",
            "  inflating: data_raw/032820_ts_coronavirus_feat-1028x579.jpg  \n",
            "  inflating: data_raw/03NYVIRUS-superJumbo.jpg  \n",
            "  inflating: data_raw/05062020_Masks_160023-300x214.jpg  \n",
            "  inflating: data_raw/090920_ls_covid-nose_feat-1028x579.jpg  \n",
            "  inflating: data_raw/0C04F43E-A519-48A6-AD5C5B890DB1F507_source.jpg  \n",
            "  inflating: data_raw/100220trump.positive_960x540.jpg  \n",
            "  inflating: data_raw/105382757_104659829.jpg  \n",
            "  inflating: data_raw/106345210-1579564049833gettyimages-1193183155.jpeg  \n",
            "  inflating: data_raw/106368539-1580594102318gettyimages-1197630168.jpeg  \n",
            "  inflating: data_raw/106424727-1583349204010gettyimages-1204957934.jpeg  \n",
            "  inflating: data_raw/106432200-15837577422942020-03-06t003519z_1773049675_rc20ef959m4r_rtrmadp_3_health-coronavirus-usa.jpg  \n",
            "  inflating: data_raw/106588991-15929302622020-06-23t162343z_2133702971_rc24fh9koz6k_rtrmadp_0_health-coronavirus-usa-congress.jpeg  \n",
            "  inflating: data_raw/11-mask.jpg    \n",
            "  inflating: data_raw/1140-family-distanced-in-park.jpg  \n",
            "  inflating: data_raw/1140-family-distanced-in-park.web.jpg  \n",
            "  inflating: data_raw/11921618-3x2-xlarge.jpg  \n",
            "  inflating: data_raw/1200x0.jpg     \n",
            "  inflating: data_raw/13Lynteris4-superJumbo.jpg  \n",
            "  inflating: data_raw/13klass-mask-facebookJumbo.jpg  \n",
            "  inflating: data_raw/1585832963_064504_1585833063_noticia_normal_recorte1.jpg  \n",
            "  inflating: data_raw/1586117681_997630_1586167021_noticia_normal_recorte1.jpg  \n",
            "  inflating: data_raw/1590616478-etsy-kids-face-mask-1590616463.jpg  \n",
            "  inflating: data_raw/171708EC-2996-4CB7-8D343AD3639E13BA_source.jpg  \n",
            "  inflating: data_raw/200129205811-hong-kong-coronavirus-masks-exlarge-169.jpg  \n",
            "  inflating: data_raw/200130-Messer-Coronavirus-tease_ffi1jk.jpg  \n",
            "  inflating: data_raw/200130095104-coronavirus-wuhan-worker-full-169.jpg  \n",
            "  inflating: data_raw/200202_wn_sandell_hpMain_16x9_992.jpg  \n",
            "  inflating: data_raw/200227-Coronavirus-and-the-potential-impact-on-Supply-Chains-1920x1280-1600x1067.jpg  \n",
            "  inflating: data_raw/200229_spev_trump_coronavirus1_hpMain_4x3_992.jpg  \n",
            "  inflating: data_raw/200301171519-01-coronavirus-washington-state-0229-super-tease.jpg  \n",
            "  inflating: data_raw/200305233751-coronavirus-patient-anderson-cooper.jpg  \n",
            "  inflating: data_raw/200309-kirkland-washington-coronavirus-cs-1241p_23b6118983b42e3c7e3cb01f3d73eef9.fit-760w.jpg  \n",
            "  inflating: data_raw/200311215641-clay-bentley-georgia-coronavirus-patient-bts-nr-vpx-00022428-large-169.jpg  \n",
            "  inflating: data_raw/200417081832-jason-hartelius.jpg  \n",
            "  inflating: data_raw/200511_r36411.jpg  \n",
            "  inflating: data_raw/2020-02-28T032620Z_1647176435_RC2F9F9ODNLT_RTRMADP_3_HEALTH-CORONAVIRUS-1200x800.jpg  \n",
            "  inflating: data_raw/23klass-masks-articleLarge-v2.jpg  \n",
            "  inflating: data_raw/29dcvirusleadall-mediumSquareAt3X.jpg  \n",
            "  inflating: data_raw/333f2d45265807e53d6f010c91bfa65a.jpg  \n",
            "  inflating: data_raw/33469741_H26251037.jpg  \n",
            "  inflating: data_raw/38ae4a-20200418-north-mpls-free-masks-01.jpg  \n",
            "  inflating: data_raw/3eabb46ef79f708440996eb2628a1e2d87-lena-dunham-antonio-banderas-coronavirus.rsquare.w330.jpg  \n",
            "  inflating: data_raw/405f6404-14e6-4e9b-b725-a1ab813d3e4a-AFP_AFP_1RK01S.jpg  \n",
            "  inflating: data_raw/41591_2020_843_Fig1_HTML.png  \n",
            "  inflating: data_raw/420x0.jpg      \n",
            "  inflating: data_raw/4aa6044a-4148-11ea-9fd9-ecfbb38a9743_image_hires_205902.jpg  \n",
            "  inflating: data_raw/51b56742-5874-11ea-b438-8452af50d521_image_hires_112142.jpg  \n",
            "  inflating: data_raw/548241-Where-to-Buy-the-Best-Face-Masks-for-Kids-1296x728-Header.jpg  \n",
            "  inflating: data_raw/5877213_012420-wtvd-coronavirus-docs-img.jpg  \n",
            "  inflating: data_raw/5975946_022920-cc-ap-coronavirus-trumppence-img.jpg  \n",
            "  inflating: data_raw/5MistakesWithYourMask_INFOGRAPHIC_FINAL_1500x1940.jpg  \n",
            "  inflating: data_raw/5d122393697e2bf60a26c75b783db591d1-27-kid-mask-lede.rsquare.w1200.jpg  \n",
            "  inflating: data_raw/5e8cd2a205dd6d0009054675-eight.jpg  \n",
            "  inflating: data_raw/5e91117012587.image.jpg  \n",
            "  inflating: data_raw/5eb0a65c7b247700094a133c-eight.jpg  \n",
            "  inflating: data_raw/602x338_cmsv2_9b29c250-edf3-55b5-bd93-d9400dbbddd9-4811174.jpg  \n",
            "  inflating: data_raw/67e090550cb14d04b709ec3240ad0dfa_18.jpeg  \n",
            "  inflating: data_raw/696ff7c9-c956-48e9-b029-2bb388f299b7-XXX_TH_Seattle_coronavirus_2020_239.jpg  \n",
            "  inflating: data_raw/6Q6FHIN7LZABPNJWA4FEJS4UC4.jpg  \n",
            "  inflating: data_raw/6f95e8f3-b269-4fad-9c6a-b473ce9ee4ac-small.jpg  \n",
            "  inflating: data_raw/71DB63LrkqL._AC_SL1500_.jpg  \n",
            "  inflating: data_raw/71TL+VXvZ4L._AC_SL1200_.jpg  \n",
            "  inflating: data_raw/8.jpg          \n",
            "  inflating: data_raw/800.jpeg       \n",
            "  inflating: data_raw/81M+YcowM5L._AC_UL1500_.jpg  \n",
            "  inflating: data_raw/860610607.jpg  \n",
            "  inflating: data_raw/8704bedefaba4ee08e9d83df32fbda90.jpeg  \n",
            "  inflating: data_raw/8parenting-childrenMasks-superJumbo.jpg  \n",
            "  inflating: data_raw/920x920.jpg    \n",
            "  inflating: data_raw/97855f61-1328-4771-9aac-da52bb0c4ce3-VPC_CORONAVIRUS_EXPLAINER_DESK_THUMB.jpg  \n",
            "  inflating: data_raw/9af2d89929fcf7662f1c78c310a8b576.jpg  \n",
            "  inflating: data_raw/9d0d3600855a0f7932e3ac28557a7e94.webp  \n",
            "  inflating: data_raw/AP_20028354355410-645x645.jpg  \n",
            "  inflating: data_raw/AP_20030201663763-1000x667.jpg  \n",
            "  inflating: data_raw/AP_20035327777691_BN.jpg  \n",
            "  inflating: data_raw/AP_20062717338676-1000x667.jpg  \n",
            "  inflating: data_raw/AP_20073116772407.jpg  \n",
            "  inflating: data_raw/AP_20193726454564-1000x667.jpg  \n",
            "  inflating: data_raw/AS20191207000954_comm.jpg  \n",
            "  inflating: data_raw/Bill-Foster_1280p.jpg  \n",
            "  inflating: data_raw/Blog_KidsandMasks.jpg  \n",
            "  inflating: data_raw/BrightonPark_FILE_1_0.jpg  \n",
            "  inflating: data_raw/CLT_mondaycharlotte_306.jpeg  \n",
            "  inflating: data_raw/CLT_mondaycharlotte_306.jpg  \n",
            "  inflating: data_raw/Coronavirus_masks_1280x720.jpg  \n",
            "  inflating: data_raw/Drupal-NEWS_schools-mask7.jpg  \n",
            "  inflating: data_raw/EBT-L-FRIPROTEST-0606-7.jpg  \n",
            "  inflating: data_raw/EZ5MMUCOF5E53POMHXXZX3SIFQ.jpg  \n",
            "  inflating: data_raw/EcwmUnwWoAQu-aq.jpg  \n",
            "  inflating: data_raw/Family_Face_Masks_1296x728-header-1.jpg  \n",
            "  inflating: data_raw/Female_Mask_1200x628-facebook-1200x628.jpg  \n",
            "  inflating: data_raw/GettyImages-1052453810-1000x712.jpg  \n",
            "  inflating: data_raw/GettyImages-1197642798.webp  \n",
            "  inflating: data_raw/GettyImages-1198381294-800x512.jpg  \n",
            "  inflating: data_raw/GettyImages-1199257161-645x645.jpg  \n",
            "  inflating: data_raw/GettyImages-1204916988.jpg  \n",
            "  inflating: data_raw/GettyImages-1209208162.jpg  \n",
            "  inflating: data_raw/GettyImages-1214886737_e4ebdc2f-6f02-44dc-9714-f55b850b58c9-prv.jpg  \n",
            "  inflating: data_raw/GettyImages-1218031592.jpg  \n",
            "  inflating: data_raw/GettyImages-181135370_hero-1024x575.jpg  \n",
            "  inflating: data_raw/GettyImages-511437895.jpg  \n",
            "  inflating: data_raw/HQ-Ebola-Presser-UNOG-29MAY2018_0224.jpg  \n",
            "  inflating: data_raw/London-face-masks-epidemic-1024x683.jpg  \n",
            "  inflating: data_raw/MGN_1280x720_00527P00-LPFVS-1024x576.jpg  \n",
            "  inflating: data_raw/MW-HZ291_corona_20200130090852_ZH.jpg  \n",
            "  inflating: data_raw/MW-IC064_corona_20200311170341_ZQ.jpg  \n",
            "  inflating: data_raw/MW-II391_asympt_20200611104536_ZQ.jpg  \n",
            "  inflating: data_raw/MW-IN715_studen_20200902102915_ZQ.jpg  \n",
            "  inflating: data_raw/Masks.jpg      \n",
            "  inflating: data_raw/MedicalPersonnelCoronavirusTestDriver640.jpg  \n",
            "  inflating: data_raw/Mother+and+son+wear+masks+to+stay+safe_02aad8bb-7b45-4b92-b101-366b7ba1b2eb-prv.jpg  \n",
            "  inflating: data_raw/RTS32VNI-layout-comp-e1582813406825-732x419.jpg  \n",
            "  inflating: data_raw/STAT_Wuhan_Chicago_Coronavirus_AP_20024618829122-1024x576.jpg  \n",
            "  inflating: data_raw/TELEMMGLPICT000229296834_trans_NvBQzQNjv4BqpVlberWd9EgFPZtcLiMQfyf2A9a6I9YchsjMeADBa08.jpeg  \n",
            "  inflating: data_raw/UN0145759.jpg  \n",
            "  inflating: data_raw/UNI316644.jpeg  \n",
            "  inflating: data_raw/UNI360179.jpg  \n",
            "  inflating: data_raw/Virus_Outbreak_Czech_Republic_Protest_94840.jpg  \n",
            "  inflating: data_raw/WireAP_16b5008d867f4a01996b632301768f0d_16x9_384.jpg  \n",
            "  inflating: data_raw/Woman-mask-grocery-store.jpg  \n",
            "  inflating: data_raw/Women-wearing-facemasks-while-walking-outdoors-Milan-Italy-February-2020-coronavirus-COVID-19.jpg  \n",
            "  inflating: data_raw/_110646338_mediaitem110646336.jpg  \n",
            "  inflating: data_raw/_110755695_gettyimages-1202072951.jpg  \n",
            "  inflating: data_raw/_111146219_coronavirus-london_index_virus.jpg  \n",
            "  inflating: data_raw/_111552161_mediaitem111552159.jpg  \n",
            "  inflating: data_raw/a5a25436-4c67-4412-9358-79c321dd719f_tcm990-383424_w800_h640.jpg  \n",
            "  inflating: data_raw/afesgrbdftg.jpeg  \n",
            "  inflating: data_raw/anewappcanhe.jpg  \n",
            "  inflating: data_raw/ap_france_face_masks_16May20.jpg  \n",
            "  inflating: data_raw/arrow_down (1).png  \n",
            "  inflating: data_raw/arrow_down.png  \n",
            "  inflating: data_raw/awefaaa.jpeg   \n",
            "  inflating: data_raw/b0fe5a8e-47bb-11ea-befc-ef9687daaa85_image_hires_134422.jpeg  \n",
            "  inflating: data_raw/b0fe5a8e-47bb-11ea-befc-ef9687daaa85_image_hires_134422.jpg  \n",
            "  inflating: data_raw/c055bad6181d509d03e9d3b9c3261c38.jpg  \n",
            "  inflating: data_raw/c88f8073-febe-4aaf-9dff-e828a8adc215.jpg  \n",
            "  inflating: data_raw/c937abd8d9464b89990eb7140b840bb2_18.jpeg  \n",
            "  inflating: data_raw/c984e3ee-cfd8-47ba-8e39-cf44f4c61079.jpg  \n",
            "  inflating: data_raw/cdcredfield_wide-03cd4d6adc0164b684b69cd3af8c96c3f0b8009e-s800-c85.jpg  \n",
            "  inflating: data_raw/checkmark.png  \n",
            "  inflating: data_raw/coronavirus-predictions.jpg  \n",
            "  inflating: data_raw/coronavirus-ss-jt-200120_hpMain_16x9_992.jpg  \n",
            "  inflating: data_raw/coronavirus-today-main-200130_aef44d5313fc91e71e490fa62e718264.jpg  \n",
            "  inflating: data_raw/coronovirus-1-gty-er-200126_hpMain_16x9_1600.jpg  \n",
            "  inflating: data_raw/covid-masks-360.png  \n",
            "  inflating: data_raw/d41586-020-00502-w_18457516.jpg  \n",
            "  inflating: data_raw/d41586-020-00827-6_17822390.jpg  \n",
            "  inflating: data_raw/datanomask (1).jpeg  \n",
            "  inflating: data_raw/datanomask (1).jpg  \n",
            "  inflating: data_raw/datanomask (1).png  \n",
            "  inflating: data_raw/datanomask (10).jpg  \n",
            "  inflating: data_raw/datanomask (10).png  \n",
            "  inflating: data_raw/datanomask (100).jpg  \n",
            "  inflating: data_raw/datanomask (101).jpg  \n",
            "  inflating: data_raw/datanomask (102).jpg  \n",
            "  inflating: data_raw/datanomask (103).jpg  \n",
            "  inflating: data_raw/datanomask (104).jpg  \n",
            "  inflating: data_raw/datanomask (105).jpg  \n",
            "  inflating: data_raw/datanomask (106).jpg  \n",
            "  inflating: data_raw/datanomask (107).jpg  \n",
            "  inflating: data_raw/datanomask (108).jpg  \n",
            "  inflating: data_raw/datanomask (109).jpg  \n",
            "  inflating: data_raw/datanomask (11).jpg  \n",
            "  inflating: data_raw/datanomask (11).png  \n",
            "  inflating: data_raw/datanomask (110).jpg  \n",
            "  inflating: data_raw/datanomask (111).jpg  \n",
            "  inflating: data_raw/datanomask (112).jpg  \n",
            "  inflating: data_raw/datanomask (113).jpg  \n",
            "  inflating: data_raw/datanomask (114).jpg  \n",
            "  inflating: data_raw/datanomask (115).jpg  \n",
            "  inflating: data_raw/datanomask (116).jpg  \n",
            "  inflating: data_raw/datanomask (117).jpg  \n",
            "  inflating: data_raw/datanomask (118).jpg  \n",
            "  inflating: data_raw/datanomask (119).jpg  \n",
            "  inflating: data_raw/datanomask (12).jpg  \n",
            "  inflating: data_raw/datanomask (12).png  \n",
            "  inflating: data_raw/datanomask (120).jpg  \n",
            "  inflating: data_raw/datanomask (121).jpg  \n",
            "  inflating: data_raw/datanomask (122).jpg  \n",
            "  inflating: data_raw/datanomask (123).jpg  \n",
            "  inflating: data_raw/datanomask (124).jpg  \n",
            "  inflating: data_raw/datanomask (125).jpg  \n",
            "  inflating: data_raw/datanomask (126).jpg  \n",
            "  inflating: data_raw/datanomask (127).jpg  \n",
            "  inflating: data_raw/datanomask (128).jpg  \n",
            "  inflating: data_raw/datanomask (129).jpg  \n",
            "  inflating: data_raw/datanomask (13).jpg  \n",
            "  inflating: data_raw/datanomask (13).png  \n",
            "  inflating: data_raw/datanomask (130).jpg  \n",
            "  inflating: data_raw/datanomask (131).jpg  \n",
            "  inflating: data_raw/datanomask (132).jpg  \n",
            "  inflating: data_raw/datanomask (133).jpg  \n",
            "  inflating: data_raw/datanomask (134).jpg  \n",
            "  inflating: data_raw/datanomask (135).jpg  \n",
            "  inflating: data_raw/datanomask (136).jpg  \n",
            "  inflating: data_raw/datanomask (137).jpg  \n",
            "  inflating: data_raw/datanomask (138).jpg  \n",
            "  inflating: data_raw/datanomask (139).jpg  \n",
            "  inflating: data_raw/datanomask (14).jpg  \n",
            "  inflating: data_raw/datanomask (14).png  \n",
            "  inflating: data_raw/datanomask (140).jpg  \n",
            "  inflating: data_raw/datanomask (141).jpg  \n",
            "  inflating: data_raw/datanomask (142).jpg  \n",
            "  inflating: data_raw/datanomask (143).jpg  \n",
            "  inflating: data_raw/datanomask (144).jpg  \n",
            "  inflating: data_raw/datanomask (145).jpg  \n",
            "  inflating: data_raw/datanomask (146).jpg  \n",
            "  inflating: data_raw/datanomask (147).jpg  \n",
            "  inflating: data_raw/datanomask (148).jpg  \n",
            "  inflating: data_raw/datanomask (149).jpg  \n",
            "  inflating: data_raw/datanomask (15).jpg  \n",
            "  inflating: data_raw/datanomask (15).png  \n",
            "  inflating: data_raw/datanomask (150).jpg  \n",
            "  inflating: data_raw/datanomask (151).jpg  \n",
            "  inflating: data_raw/datanomask (152).jpg  \n",
            "  inflating: data_raw/datanomask (153).jpg  \n",
            "  inflating: data_raw/datanomask (154).jpg  \n",
            "  inflating: data_raw/datanomask (155).jpg  \n",
            "  inflating: data_raw/datanomask (156).jpg  \n",
            "  inflating: data_raw/datanomask (157).jpg  \n",
            "  inflating: data_raw/datanomask (158).jpg  \n",
            "  inflating: data_raw/datanomask (159).jpg  \n",
            "  inflating: data_raw/datanomask (16).jpg  \n",
            "  inflating: data_raw/datanomask (16).png  \n",
            "  inflating: data_raw/datanomask (160).jpg  \n",
            "  inflating: data_raw/datanomask (161).jpg  \n",
            "  inflating: data_raw/datanomask (162).jpg  \n",
            "  inflating: data_raw/datanomask (163).jpg  \n",
            "  inflating: data_raw/datanomask (164).jpg  \n",
            "  inflating: data_raw/datanomask (165).jpg  \n",
            "  inflating: data_raw/datanomask (166).jpg  \n",
            "  inflating: data_raw/datanomask (167).jpg  \n",
            "  inflating: data_raw/datanomask (168).jpg  \n",
            "  inflating: data_raw/datanomask (169).jpg  \n",
            "  inflating: data_raw/datanomask (17).jpg  \n",
            "  inflating: data_raw/datanomask (17).png  \n",
            "  inflating: data_raw/datanomask (170).jpg  \n",
            "  inflating: data_raw/datanomask (171).jpg  \n",
            "  inflating: data_raw/datanomask (172).jpg  \n",
            "  inflating: data_raw/datanomask (173).jpg  \n",
            "  inflating: data_raw/datanomask (174).jpg  \n",
            "  inflating: data_raw/datanomask (175).jpg  \n",
            "  inflating: data_raw/datanomask (176).jpg  \n",
            "  inflating: data_raw/datanomask (177).jpg  \n",
            "  inflating: data_raw/datanomask (178).jpg  \n",
            "  inflating: data_raw/datanomask (179).jpg  \n",
            "  inflating: data_raw/datanomask (18).jpg  \n",
            "  inflating: data_raw/datanomask (18).png  \n",
            "  inflating: data_raw/datanomask (180).jpg  \n",
            "  inflating: data_raw/datanomask (181).jpg  \n",
            "  inflating: data_raw/datanomask (182).jpg  \n",
            "  inflating: data_raw/datanomask (183).jpg  \n",
            "  inflating: data_raw/datanomask (184).jpg  \n",
            "  inflating: data_raw/datanomask (185).jpg  \n",
            "  inflating: data_raw/datanomask (186).jpg  \n",
            "  inflating: data_raw/datanomask (187).jpg  \n",
            "  inflating: data_raw/datanomask (188).jpg  \n",
            "  inflating: data_raw/datanomask (189).jpg  \n",
            "  inflating: data_raw/datanomask (19).jpg  \n",
            "  inflating: data_raw/datanomask (19).png  \n",
            "  inflating: data_raw/datanomask (190).jpg  \n",
            "  inflating: data_raw/datanomask (191).jpg  \n",
            "  inflating: data_raw/datanomask (192).jpg  \n",
            "  inflating: data_raw/datanomask (193).jpg  \n",
            "  inflating: data_raw/datanomask (194).jpg  \n",
            "  inflating: data_raw/datanomask (195).jpg  \n",
            "  inflating: data_raw/datanomask (196).jpg  \n",
            "  inflating: data_raw/datanomask (197).jpg  \n",
            "  inflating: data_raw/datanomask (198).jpg  \n",
            "  inflating: data_raw/datanomask (199).jpg  \n",
            "  inflating: data_raw/datanomask (2).jpeg  \n",
            "  inflating: data_raw/datanomask (2).jpg  \n",
            "  inflating: data_raw/datanomask (2).png  \n",
            "  inflating: data_raw/datanomask (20).jpg  \n",
            "  inflating: data_raw/datanomask (20).png  \n",
            "  inflating: data_raw/datanomask (200).jpg  \n",
            "  inflating: data_raw/datanomask (201).jpg  \n",
            "  inflating: data_raw/datanomask (202).jpg  \n",
            "  inflating: data_raw/datanomask (203).jpg  \n",
            "  inflating: data_raw/datanomask (204).jpg  \n",
            "  inflating: data_raw/datanomask (205).jpg  \n",
            "  inflating: data_raw/datanomask (206).jpg  \n",
            "  inflating: data_raw/datanomask (207).jpg  \n",
            "  inflating: data_raw/datanomask (208).jpg  \n",
            "  inflating: data_raw/datanomask (209).jpg  \n",
            "  inflating: data_raw/datanomask (21).jpg  \n",
            "  inflating: data_raw/datanomask (21).png  \n",
            "  inflating: data_raw/datanomask (210).jpg  \n",
            "  inflating: data_raw/datanomask (211).jpg  \n",
            "  inflating: data_raw/datanomask (212).jpg  \n",
            "  inflating: data_raw/datanomask (213).jpg  \n",
            "  inflating: data_raw/datanomask (214).jpg  \n",
            "  inflating: data_raw/datanomask (215).jpg  \n",
            "  inflating: data_raw/datanomask (216).jpg  \n",
            "  inflating: data_raw/datanomask (217).jpg  \n",
            "  inflating: data_raw/datanomask (218).jpg  \n",
            "  inflating: data_raw/datanomask (219).jpg  \n",
            "  inflating: data_raw/datanomask (22).jpg  \n",
            "  inflating: data_raw/datanomask (22).png  \n",
            "  inflating: data_raw/datanomask (220).jpg  \n",
            "  inflating: data_raw/datanomask (221).jpg  \n",
            "  inflating: data_raw/datanomask (222).jpg  \n",
            "  inflating: data_raw/datanomask (223).jpg  \n",
            "  inflating: data_raw/datanomask (224).jpg  \n",
            "  inflating: data_raw/datanomask (225).jpg  \n",
            "  inflating: data_raw/datanomask (226).jpg  \n",
            "  inflating: data_raw/datanomask (227).jpg  \n",
            "  inflating: data_raw/datanomask (228).jpg  \n",
            "  inflating: data_raw/datanomask (229).jpg  \n",
            "  inflating: data_raw/datanomask (23).jpg  \n",
            "  inflating: data_raw/datanomask (23).png  \n",
            "  inflating: data_raw/datanomask (230).jpg  \n",
            "  inflating: data_raw/datanomask (231).jpg  \n",
            "  inflating: data_raw/datanomask (232).jpg  \n",
            "  inflating: data_raw/datanomask (233).jpg  \n",
            "  inflating: data_raw/datanomask (234).jpg  \n",
            "  inflating: data_raw/datanomask (235).jpg  \n",
            "  inflating: data_raw/datanomask (236).jpg  \n",
            "  inflating: data_raw/datanomask (237).jpg  \n",
            "  inflating: data_raw/datanomask (238).jpg  \n",
            "  inflating: data_raw/datanomask (239).jpg  \n",
            "  inflating: data_raw/datanomask (24).jpg  \n",
            "  inflating: data_raw/datanomask (24).png  \n",
            "  inflating: data_raw/datanomask (240).jpg  \n",
            "  inflating: data_raw/datanomask (241).jpg  \n",
            "  inflating: data_raw/datanomask (242).jpg  \n",
            "  inflating: data_raw/datanomask (243).jpg  \n",
            "  inflating: data_raw/datanomask (244).jpg  \n",
            "  inflating: data_raw/datanomask (245).jpg  \n",
            "  inflating: data_raw/datanomask (246).jpg  \n",
            "  inflating: data_raw/datanomask (247).jpg  \n",
            "  inflating: data_raw/datanomask (248).jpg  \n",
            "  inflating: data_raw/datanomask (249).jpg  \n",
            "  inflating: data_raw/datanomask (25).jpg  \n",
            "  inflating: data_raw/datanomask (25).png  \n",
            "  inflating: data_raw/datanomask (250).jpg  \n",
            "  inflating: data_raw/datanomask (251).jpg  \n",
            "  inflating: data_raw/datanomask (252).jpg  \n",
            "  inflating: data_raw/datanomask (253).jpg  \n",
            "  inflating: data_raw/datanomask (254).jpg  \n",
            "  inflating: data_raw/datanomask (255).jpg  \n",
            "  inflating: data_raw/datanomask (256).jpg  \n",
            "  inflating: data_raw/datanomask (257).jpg  \n",
            "  inflating: data_raw/datanomask (258).jpg  \n",
            "  inflating: data_raw/datanomask (259).jpg  \n",
            "  inflating: data_raw/datanomask (26).jpg  \n",
            "  inflating: data_raw/datanomask (26).png  \n",
            "  inflating: data_raw/datanomask (260).jpg  \n",
            "  inflating: data_raw/datanomask (261).jpg  \n",
            "  inflating: data_raw/datanomask (262).jpg  \n",
            "  inflating: data_raw/datanomask (263).jpg  \n",
            "  inflating: data_raw/datanomask (264).jpg  \n",
            "  inflating: data_raw/datanomask (265).jpg  \n",
            "  inflating: data_raw/datanomask (266).jpg  \n",
            "  inflating: data_raw/datanomask (267).jpg  \n",
            "  inflating: data_raw/datanomask (268).jpg  \n",
            "  inflating: data_raw/datanomask (269).jpg  \n",
            "  inflating: data_raw/datanomask (27).jpg  \n",
            "  inflating: data_raw/datanomask (27).png  \n",
            "  inflating: data_raw/datanomask (270).jpg  \n",
            "  inflating: data_raw/datanomask (271).jpg  \n",
            "  inflating: data_raw/datanomask (272).jpg  \n",
            "  inflating: data_raw/datanomask (273).jpg  \n",
            "  inflating: data_raw/datanomask (274).jpg  \n",
            "  inflating: data_raw/datanomask (275).jpg  \n",
            "  inflating: data_raw/datanomask (276).jpg  \n",
            "  inflating: data_raw/datanomask (277).jpg  \n",
            "  inflating: data_raw/datanomask (278).jpg  \n",
            "  inflating: data_raw/datanomask (279).jpg  \n",
            "  inflating: data_raw/datanomask (28).jpg  \n",
            "  inflating: data_raw/datanomask (28).png  \n",
            "  inflating: data_raw/datanomask (280).jpg  \n",
            "  inflating: data_raw/datanomask (281).jpg  \n",
            "  inflating: data_raw/datanomask (282).jpg  \n",
            "  inflating: data_raw/datanomask (283).jpg  \n",
            "  inflating: data_raw/datanomask (284).jpg  \n",
            "  inflating: data_raw/datanomask (285).jpg  \n",
            "  inflating: data_raw/datanomask (286).jpg  \n",
            "  inflating: data_raw/datanomask (287).jpg  \n",
            "  inflating: data_raw/datanomask (288).jpg  \n",
            "  inflating: data_raw/datanomask (289).jpg  \n",
            "  inflating: data_raw/datanomask (29).jpg  \n",
            "  inflating: data_raw/datanomask (29).png  \n",
            "  inflating: data_raw/datanomask (290).jpg  \n",
            "  inflating: data_raw/datanomask (291).jpg  \n",
            "  inflating: data_raw/datanomask (292).jpg  \n",
            "  inflating: data_raw/datanomask (293).jpg  \n",
            "  inflating: data_raw/datanomask (294).jpg  \n",
            "  inflating: data_raw/datanomask (295).jpg  \n",
            "  inflating: data_raw/datanomask (296).jpg  \n",
            "  inflating: data_raw/datanomask (297).jpg  \n",
            "  inflating: data_raw/datanomask (298).jpg  \n",
            "  inflating: data_raw/datanomask (299).jpg  \n",
            "  inflating: data_raw/datanomask (3).jpg  \n",
            "  inflating: data_raw/datanomask (3).png  \n",
            "  inflating: data_raw/datanomask (30).jpg  \n",
            "  inflating: data_raw/datanomask (30).png  \n",
            "  inflating: data_raw/datanomask (300).jpg  \n",
            "  inflating: data_raw/datanomask (301).jpg  \n",
            "  inflating: data_raw/datanomask (302).jpg  \n",
            "  inflating: data_raw/datanomask (303).jpg  \n",
            "  inflating: data_raw/datanomask (304).jpg  \n",
            "  inflating: data_raw/datanomask (305).jpg  \n",
            "  inflating: data_raw/datanomask (306).jpg  \n",
            "  inflating: data_raw/datanomask (307).jpg  \n",
            "  inflating: data_raw/datanomask (308).jpg  \n",
            "  inflating: data_raw/datanomask (309).jpg  \n",
            "  inflating: data_raw/datanomask (31).jpg  \n",
            "  inflating: data_raw/datanomask (31).png  \n",
            "  inflating: data_raw/datanomask (310).jpg  \n",
            "  inflating: data_raw/datanomask (311).jpg  \n",
            "  inflating: data_raw/datanomask (312).jpg  \n",
            "  inflating: data_raw/datanomask (313).jpg  \n",
            "  inflating: data_raw/datanomask (314).jpg  \n",
            "  inflating: data_raw/datanomask (315).jpg  \n",
            "  inflating: data_raw/datanomask (316).jpg  \n",
            "  inflating: data_raw/datanomask (317).jpg  \n",
            "  inflating: data_raw/datanomask (318).jpg  \n",
            "  inflating: data_raw/datanomask (319).jpg  \n",
            "  inflating: data_raw/datanomask (32).jpg  \n",
            "  inflating: data_raw/datanomask (32).png  \n",
            "  inflating: data_raw/datanomask (320).jpg  \n",
            "  inflating: data_raw/datanomask (321).jpg  \n",
            "  inflating: data_raw/datanomask (322).jpg  \n",
            "  inflating: data_raw/datanomask (323).jpg  \n",
            "  inflating: data_raw/datanomask (324).jpg  \n",
            "  inflating: data_raw/datanomask (325).jpg  \n",
            "  inflating: data_raw/datanomask (326).jpg  \n",
            "  inflating: data_raw/datanomask (327).jpg  \n",
            "  inflating: data_raw/datanomask (328).jpg  \n",
            "  inflating: data_raw/datanomask (329).jpg  \n",
            "  inflating: data_raw/datanomask (33).jpg  \n",
            "  inflating: data_raw/datanomask (33).png  \n",
            "  inflating: data_raw/datanomask (330).jpg  \n",
            "  inflating: data_raw/datanomask (331).jpg  \n",
            "  inflating: data_raw/datanomask (332).jpg  \n",
            "  inflating: data_raw/datanomask (333).jpg  \n",
            "  inflating: data_raw/datanomask (334).jpg  \n",
            "  inflating: data_raw/datanomask (335).jpg  \n",
            "  inflating: data_raw/datanomask (336).jpg  \n",
            "  inflating: data_raw/datanomask (337).jpg  \n",
            "  inflating: data_raw/datanomask (338).jpg  \n",
            "  inflating: data_raw/datanomask (339).jpg  \n",
            "  inflating: data_raw/datanomask (34).jpg  \n",
            "  inflating: data_raw/datanomask (34).png  \n",
            "  inflating: data_raw/datanomask (340).jpg  \n",
            "  inflating: data_raw/datanomask (341).jpg  \n",
            "  inflating: data_raw/datanomask (342).jpg  \n",
            "  inflating: data_raw/datanomask (343).jpg  \n",
            "  inflating: data_raw/datanomask (344).jpg  \n",
            "  inflating: data_raw/datanomask (345).jpg  \n",
            "  inflating: data_raw/datanomask (346).jpg  \n",
            "  inflating: data_raw/datanomask (347).jpg  \n",
            "  inflating: data_raw/datanomask (348).jpg  \n",
            "  inflating: data_raw/datanomask (349).jpg  \n",
            "  inflating: data_raw/datanomask (35).jpg  \n",
            "  inflating: data_raw/datanomask (35).png  \n",
            "  inflating: data_raw/datanomask (350).jpg  \n",
            "  inflating: data_raw/datanomask (351).jpg  \n",
            "  inflating: data_raw/datanomask (352).jpg  \n",
            "  inflating: data_raw/datanomask (353).jpg  \n",
            "  inflating: data_raw/datanomask (354).jpg  \n",
            "  inflating: data_raw/datanomask (355).jpg  \n",
            "  inflating: data_raw/datanomask (356).jpg  \n",
            "  inflating: data_raw/datanomask (357).jpg  \n",
            "  inflating: data_raw/datanomask (358).jpg  \n",
            "  inflating: data_raw/datanomask (359).jpg  \n",
            "  inflating: data_raw/datanomask (36).jpg  \n",
            "  inflating: data_raw/datanomask (36).png  \n",
            "  inflating: data_raw/datanomask (360).jpg  \n",
            "  inflating: data_raw/datanomask (361).jpg  \n",
            "  inflating: data_raw/datanomask (362).jpg  \n",
            "  inflating: data_raw/datanomask (37).jpg  \n",
            "  inflating: data_raw/datanomask (37).png  \n",
            "  inflating: data_raw/datanomask (38).jpg  \n",
            "  inflating: data_raw/datanomask (38).png  \n",
            "  inflating: data_raw/datanomask (39).jpg  \n",
            "  inflating: data_raw/datanomask (39).png  \n",
            "  inflating: data_raw/datanomask (4).jpg  \n",
            "  inflating: data_raw/datanomask (4).png  \n",
            "  inflating: data_raw/datanomask (40).jpg  \n",
            "  inflating: data_raw/datanomask (40).png  \n",
            "  inflating: data_raw/datanomask (41).jpg  \n",
            "  inflating: data_raw/datanomask (41).png  \n",
            "  inflating: data_raw/datanomask (42).jpg  \n",
            "  inflating: data_raw/datanomask (42).png  \n",
            "  inflating: data_raw/datanomask (43).jpg  \n",
            "  inflating: data_raw/datanomask (43).png  \n",
            "  inflating: data_raw/datanomask (44).jpg  \n",
            "  inflating: data_raw/datanomask (44).png  \n",
            "  inflating: data_raw/datanomask (45).jpg  \n",
            "  inflating: data_raw/datanomask (45).png  \n",
            "  inflating: data_raw/datanomask (46).jpg  \n",
            "  inflating: data_raw/datanomask (46).png  \n",
            "  inflating: data_raw/datanomask (47).jpg  \n",
            "  inflating: data_raw/datanomask (47).png  \n",
            "  inflating: data_raw/datanomask (48).jpg  \n",
            "  inflating: data_raw/datanomask (48).png  \n",
            "  inflating: data_raw/datanomask (49).jpg  \n",
            "  inflating: data_raw/datanomask (49).png  \n",
            "  inflating: data_raw/datanomask (5).jpg  \n",
            "  inflating: data_raw/datanomask (5).png  \n",
            "  inflating: data_raw/datanomask (50).jpg  \n",
            "  inflating: data_raw/datanomask (50).png  \n",
            "  inflating: data_raw/datanomask (51).jpg  \n",
            "  inflating: data_raw/datanomask (52).jpg  \n",
            "  inflating: data_raw/datanomask (53).jpg  \n",
            "  inflating: data_raw/datanomask (54).jpg  \n",
            "  inflating: data_raw/datanomask (55).jpg  \n",
            "  inflating: data_raw/datanomask (56).jpg  \n",
            "  inflating: data_raw/datanomask (57).jpg  \n",
            "  inflating: data_raw/datanomask (58).jpg  \n",
            "  inflating: data_raw/datanomask (59).jpg  \n",
            "  inflating: data_raw/datanomask (6).jpg  \n",
            "  inflating: data_raw/datanomask (6).png  \n",
            "  inflating: data_raw/datanomask (60).jpg  \n",
            "  inflating: data_raw/datanomask (61).jpg  \n",
            "  inflating: data_raw/datanomask (62).jpg  \n",
            "  inflating: data_raw/datanomask (63).jpg  \n",
            "  inflating: data_raw/datanomask (64).jpg  \n",
            "  inflating: data_raw/datanomask (65).jpg  \n",
            "  inflating: data_raw/datanomask (66).jpg  \n",
            "  inflating: data_raw/datanomask (67).jpg  \n",
            "  inflating: data_raw/datanomask (68).jpg  \n",
            "  inflating: data_raw/datanomask (69).jpg  \n",
            "  inflating: data_raw/datanomask (7).jpg  \n",
            "  inflating: data_raw/datanomask (7).png  \n",
            "  inflating: data_raw/datanomask (70).jpg  \n",
            "  inflating: data_raw/datanomask (71).jpg  \n",
            "  inflating: data_raw/datanomask (72).jpg  \n",
            "  inflating: data_raw/datanomask (73).jpg  \n",
            "  inflating: data_raw/datanomask (74).jpg  \n",
            "  inflating: data_raw/datanomask (75).jpg  \n",
            "  inflating: data_raw/datanomask (76).jpg  \n",
            "  inflating: data_raw/datanomask (77).jpg  \n",
            "  inflating: data_raw/datanomask (78).jpg  \n",
            "  inflating: data_raw/datanomask (79).jpg  \n",
            "  inflating: data_raw/datanomask (8).jpg  \n",
            "  inflating: data_raw/datanomask (8).png  \n",
            "  inflating: data_raw/datanomask (80).jpg  \n",
            "  inflating: data_raw/datanomask (81).jpg  \n",
            "  inflating: data_raw/datanomask (82).jpg  \n",
            "  inflating: data_raw/datanomask (83).jpg  \n",
            "  inflating: data_raw/datanomask (84).jpg  \n",
            "  inflating: data_raw/datanomask (85).jpg  \n",
            "  inflating: data_raw/datanomask (86).jpg  \n",
            "  inflating: data_raw/datanomask (87).jpg  \n",
            "  inflating: data_raw/datanomask (88).jpg  \n",
            "  inflating: data_raw/datanomask (89).jpg  \n",
            "  inflating: data_raw/datanomask (9).jpg  \n",
            "  inflating: data_raw/datanomask (9).png  \n",
            "  inflating: data_raw/datanomask (90).jpg  \n",
            "  inflating: data_raw/datanomask (91).jpg  \n",
            "  inflating: data_raw/datanomask (92).jpg  \n",
            "  inflating: data_raw/datanomask (93).jpg  \n",
            "  inflating: data_raw/datanomask (94).jpg  \n",
            "  inflating: data_raw/datanomask (95).jpg  \n",
            "  inflating: data_raw/datanomask (96).jpg  \n",
            "  inflating: data_raw/datanomask (97).jpg  \n",
            "  inflating: data_raw/datanomask (98).jpg  \n",
            "  inflating: data_raw/datanomask (99).jpg  \n",
            "  inflating: data_raw/db1a6988-459b-11ea-9fd9-ecfbb38a9743_image_hires_173525.jpg  \n",
            "  inflating: data_raw/download (1).gif  \n",
            "  inflating: data_raw/download (1).jpeg  \n",
            "  inflating: data_raw/download (1).jpg  \n",
            "  inflating: data_raw/download (10).jpeg  \n",
            "  inflating: data_raw/download (10).jpg  \n",
            "  inflating: data_raw/download (11).jpeg  \n",
            "  inflating: data_raw/download (11).jpg  \n",
            "  inflating: data_raw/download (12).jpeg  \n",
            "  inflating: data_raw/download (12).jpg  \n",
            "  inflating: data_raw/download (13).jpeg  \n",
            "  inflating: data_raw/download (13).jpg  \n",
            "  inflating: data_raw/download (14).jpeg  \n",
            "  inflating: data_raw/download (14).jpg  \n",
            "  inflating: data_raw/download (15).jpeg  \n",
            "  inflating: data_raw/download (15).jpg  \n",
            "  inflating: data_raw/download (16).jpeg  \n",
            "  inflating: data_raw/download (16).jpg  \n",
            "  inflating: data_raw/download (17).jpeg  \n",
            "  inflating: data_raw/download (17).jpg  \n",
            "  inflating: data_raw/download (18).jpg  \n",
            "  inflating: data_raw/download (19).jpg  \n",
            "  inflating: data_raw/download (2).jpeg  \n",
            "  inflating: data_raw/download (2).jpg  \n",
            "  inflating: data_raw/download (20).jpeg  \n",
            "  inflating: data_raw/download (20).jpg  \n",
            "  inflating: data_raw/download (21).jpeg  \n",
            "  inflating: data_raw/download (21).jpg  \n",
            "  inflating: data_raw/download (22).jpeg  \n",
            "  inflating: data_raw/download (22).jpg  \n",
            "  inflating: data_raw/download (23).jpeg  \n",
            "  inflating: data_raw/download (23).jpg  \n",
            "  inflating: data_raw/download (24).jpeg  \n",
            "  inflating: data_raw/download (24).jpg  \n",
            "  inflating: data_raw/download (25).jpeg  \n",
            "  inflating: data_raw/download (25).jpg  \n",
            "  inflating: data_raw/download (26).jpeg  \n",
            "  inflating: data_raw/download (26).jpg  \n",
            "  inflating: data_raw/download (27).jpeg  \n",
            "  inflating: data_raw/download (27).jpg  \n",
            "  inflating: data_raw/download (28).jpeg  \n",
            "  inflating: data_raw/download (28).jpg  \n",
            "  inflating: data_raw/download (29).jpeg  \n",
            "  inflating: data_raw/download (29).jpg  \n",
            "  inflating: data_raw/download (3).jpeg  \n",
            "  inflating: data_raw/download (3).jpg  \n",
            "  inflating: data_raw/download (30).jpeg  \n",
            "  inflating: data_raw/download (30).jpg  \n",
            "  inflating: data_raw/download (31).jpeg  \n",
            "  inflating: data_raw/download (31).jpg  \n",
            "  inflating: data_raw/download (32).jpeg  \n",
            "  inflating: data_raw/download (32).jpg  \n",
            "  inflating: data_raw/download (33).jpeg  \n",
            "  inflating: data_raw/download (33).jpg  \n",
            "  inflating: data_raw/download (34).jpeg  \n",
            "  inflating: data_raw/download (34).jpg  \n",
            "  inflating: data_raw/download (35).jpeg  \n",
            "  inflating: data_raw/download (35).jpg  \n",
            "  inflating: data_raw/download (36).jpeg  \n",
            "  inflating: data_raw/download (36).jpg  \n",
            "  inflating: data_raw/download (37).jpeg  \n",
            "  inflating: data_raw/download (37).jpg  \n",
            "  inflating: data_raw/download (38).jpeg  \n",
            "  inflating: data_raw/download (38).jpg  \n",
            "  inflating: data_raw/download (39).jpeg  \n",
            "  inflating: data_raw/download (39).jpg  \n",
            "  inflating: data_raw/download (4).jpeg  \n",
            "  inflating: data_raw/download (4).jpg  \n",
            "  inflating: data_raw/download (5).jpeg  \n",
            "  inflating: data_raw/download (5).jpg  \n",
            "  inflating: data_raw/download (6).jpeg  \n",
            "  inflating: data_raw/download (6).jpg  \n",
            "  inflating: data_raw/download (7).jpeg  \n",
            "  inflating: data_raw/download (7).jpg  \n",
            "  inflating: data_raw/download (8).jpeg  \n",
            "  inflating: data_raw/download (8).jpg  \n",
            "  inflating: data_raw/download (9).jpeg  \n",
            "  inflating: data_raw/download (9).jpg  \n",
            "  inflating: data_raw/download.gif   \n",
            "  inflating: data_raw/download.jpeg  \n",
            "  inflating: data_raw/download.jpg   \n",
            "  inflating: data_raw/dwfevf.jpeg    \n",
            "  inflating: data_raw/efs.jpeg       \n",
            "  inflating: data_raw/esgrdht.jpeg   \n",
            "  inflating: data_raw/ewafsgr.jpeg   \n",
            "  inflating: data_raw/f564473b-e77a-412d-b7de-2099b9d977b7.jpeg  \n",
            "  inflating: data_raw/face-mask-woman.jpg  \n",
            "  inflating: data_raw/face-masks-Article-202005191632.jpg  \n",
            "  inflating: data_raw/face-masks-without-valves-kr-2x1-tease-200814_c289f1db33da2d22ce0e8db038ba595d.nbcnews-fp-1200-630.jpg  \n",
            "  inflating: data_raw/face_masks.jpg  \n",
            "  inflating: data_raw/faq-coronavirus-and-older-adult-patients-2x.jpg  \n",
            "  inflating: data_raw/fc28399c-d955-49e9-a3f4-3fcf698a29e7.jpg  \n",
            "  inflating: data_raw/fd.jpeg        \n",
            "  inflating: data_raw/fdgs.jpeg      \n",
            "  inflating: data_raw/fegr.jpeg      \n",
            "  inflating: data_raw/fesgrdfgfn.jpeg  \n",
            "  inflating: data_raw/file-20200408-44160-1qpyrm3.jpg  \n",
            "  inflating: data_raw/file-20200719-15-kqya1m.jpg  \n",
            "  inflating: data_raw/fs.jpeg        \n",
            "  inflating: data_raw/gallery_medium.jpg  \n",
            "  inflating: data_raw/gb.jpeg        \n",
            "  inflating: data_raw/gettyimages-1208425789-e2f1fa46014d5b2b14098116ba5cbb1f57461fca.jpg  \n",
            "  inflating: data_raw/gettyimages-1220013438_wide-d5c386dcc4077fc04ac4ae9a1059994dcf1a29ae-s800-c85.jpg  \n",
            "  inflating: data_raw/gi.jpg         \n",
            "  inflating: data_raw/googlelogo_dark_color_188x64dp (1).png  \n",
            "  inflating: data_raw/googlelogo_dark_color_188x64dp.png  \n",
            "  inflating: data_raw/group-illustration-wearing-masks.jpg  \n",
            "  inflating: data_raw/health-coronavirus-southkorea.jpg  \n",
            "  inflating: data_raw/htjj.jpeg      \n",
            "  inflating: data_raw/https___specials-images.forbesimg.com_imageserve_6edb4126639e4c1b970ba42a45a4c226_0x0.jpg  \n",
            "  inflating: data_raw/htyrteg.jpeg   \n",
            "  inflating: data_raw/hypatia-h_1562a5deb45f8d72e0dd2eb8fb01b76b-h_05dac64f58736b2dab5f63d40ce8b01a-1024x576.jpg  \n",
            "  inflating: data_raw/image1440x560cropped.jpg  \n",
            "  inflating: data_raw/images (1).jpeg  \n",
            "  inflating: data_raw/images (1).jpg  \n",
            "  inflating: data_raw/images (1).png  \n",
            "  inflating: data_raw/images (10).jpeg  \n",
            "  inflating: data_raw/images (10).jpg  \n",
            "  inflating: data_raw/images (10).png  \n",
            "  inflating: data_raw/images (100).jpeg  \n",
            "  inflating: data_raw/images (100).jpg  \n",
            "  inflating: data_raw/images (11).jpeg  \n",
            "  inflating: data_raw/images (11).jpg  \n",
            "  inflating: data_raw/images (11).png  \n",
            "  inflating: data_raw/images (12).jpeg  \n",
            "  inflating: data_raw/images (12).jpg  \n",
            "  inflating: data_raw/images (12).png  \n",
            "  inflating: data_raw/images (13).jpeg  \n",
            "  inflating: data_raw/images (13).jpg  \n",
            "  inflating: data_raw/images (13).png  \n",
            "  inflating: data_raw/images (14).jpeg  \n",
            "  inflating: data_raw/images (14).jpg  \n",
            "  inflating: data_raw/images (14).png  \n",
            "  inflating: data_raw/images (15).jpeg  \n",
            "  inflating: data_raw/images (15).jpg  \n",
            "  inflating: data_raw/images (15).png  \n",
            "  inflating: data_raw/images (16).jpeg  \n",
            "  inflating: data_raw/images (16).jpg  \n",
            "  inflating: data_raw/images (16).png  \n",
            "  inflating: data_raw/images (17).jpeg  \n",
            "  inflating: data_raw/images (17).jpg  \n",
            "  inflating: data_raw/images (17).png  \n",
            "  inflating: data_raw/images (18).jpeg  \n",
            "  inflating: data_raw/images (18).jpg  \n",
            "  inflating: data_raw/images (18).png  \n",
            "  inflating: data_raw/images (19).jpeg  \n",
            "  inflating: data_raw/images (19).jpg  \n",
            "  inflating: data_raw/images (19).png  \n",
            "  inflating: data_raw/images (2).jpeg  \n",
            "  inflating: data_raw/images (2).jpg  \n",
            "  inflating: data_raw/images (2).png  \n",
            "  inflating: data_raw/images (20).jpeg  \n",
            "  inflating: data_raw/images (20).jpg  \n",
            "  inflating: data_raw/images (20).png  \n",
            "  inflating: data_raw/images (21).jpeg  \n",
            "  inflating: data_raw/images (21).jpg  \n",
            "  inflating: data_raw/images (21).png  \n",
            "  inflating: data_raw/images (22).jpeg  \n",
            "  inflating: data_raw/images (22).jpg  \n",
            "  inflating: data_raw/images (22).png  \n",
            "  inflating: data_raw/images (23).jpeg  \n",
            "  inflating: data_raw/images (23).jpg  \n",
            "  inflating: data_raw/images (23).png  \n",
            "  inflating: data_raw/images (24).jpeg  \n",
            "  inflating: data_raw/images (24).jpg  \n",
            "  inflating: data_raw/images (24).png  \n",
            "  inflating: data_raw/images (25).jpeg  \n",
            "  inflating: data_raw/images (25).jpg  \n",
            "  inflating: data_raw/images (25).png  \n",
            "  inflating: data_raw/images (26).jpeg  \n",
            "  inflating: data_raw/images (26).jpg  \n",
            "  inflating: data_raw/images (26).png  \n",
            "  inflating: data_raw/images (27).jpeg  \n",
            "  inflating: data_raw/images (27).jpg  \n",
            "  inflating: data_raw/images (27).png  \n",
            "  inflating: data_raw/images (28).jpeg  \n",
            "  inflating: data_raw/images (28).jpg  \n",
            "  inflating: data_raw/images (28).png  \n",
            "  inflating: data_raw/images (29).jpeg  \n",
            "  inflating: data_raw/images (29).jpg  \n",
            "  inflating: data_raw/images (29).png  \n",
            "  inflating: data_raw/images (3).jpeg  \n",
            "  inflating: data_raw/images (3).jpg  \n",
            "  inflating: data_raw/images (3).png  \n",
            "  inflating: data_raw/images (30).jpeg  \n",
            "  inflating: data_raw/images (30).jpg  \n",
            "  inflating: data_raw/images (30).png  \n",
            "  inflating: data_raw/images (31).jpeg  \n",
            "  inflating: data_raw/images (31).jpg  \n",
            "  inflating: data_raw/images (31).png  \n",
            "  inflating: data_raw/images (32).jpeg  \n",
            "  inflating: data_raw/images (32).jpg  \n",
            "  inflating: data_raw/images (32).png  \n",
            "  inflating: data_raw/images (33).jpeg  \n",
            "  inflating: data_raw/images (33).jpg  \n",
            "  inflating: data_raw/images (33).png  \n",
            "  inflating: data_raw/images (34).jpeg  \n",
            "  inflating: data_raw/images (34).jpg  \n",
            "  inflating: data_raw/images (35).jpeg  \n",
            "  inflating: data_raw/images (35).jpg  \n",
            "  inflating: data_raw/images (36).jpeg  \n",
            "  inflating: data_raw/images (36).jpg  \n",
            "  inflating: data_raw/images (37).jpeg  \n",
            "  inflating: data_raw/images (37).jpg  \n",
            "  inflating: data_raw/images (38).jpeg  \n",
            "  inflating: data_raw/images (38).jpg  \n",
            "  inflating: data_raw/images (39).jpeg  \n",
            "  inflating: data_raw/images (39).jpg  \n",
            "  inflating: data_raw/images (4).jpeg  \n",
            "  inflating: data_raw/images (4).jpg  \n",
            "  inflating: data_raw/images (4).png  \n",
            "  inflating: data_raw/images (40).jpeg  \n",
            "  inflating: data_raw/images (40).jpg  \n",
            "  inflating: data_raw/images (41).jpeg  \n",
            "  inflating: data_raw/images (41).jpg  \n",
            "  inflating: data_raw/images (42).jpeg  \n",
            "  inflating: data_raw/images (42).jpg  \n",
            "  inflating: data_raw/images (43).jpeg  \n",
            "  inflating: data_raw/images (43).jpg  \n",
            "  inflating: data_raw/images (44).jpeg  \n",
            "  inflating: data_raw/images (44).jpg  \n",
            "  inflating: data_raw/images (45).jpeg  \n",
            "  inflating: data_raw/images (45).jpg  \n",
            "  inflating: data_raw/images (46).jpeg  \n",
            "  inflating: data_raw/images (46).jpg  \n",
            "  inflating: data_raw/images (47).jpeg  \n",
            "  inflating: data_raw/images (47).jpg  \n",
            "  inflating: data_raw/images (48).jpg  \n",
            "  inflating: data_raw/images (49).jpeg  \n",
            "  inflating: data_raw/images (49).jpg  \n",
            "  inflating: data_raw/images (5).jpeg  \n",
            "  inflating: data_raw/images (5).jpg  \n",
            "  inflating: data_raw/images (5).png  \n",
            "  inflating: data_raw/images (50).jpeg  \n",
            "  inflating: data_raw/images (50).jpg  \n",
            "  inflating: data_raw/images (51).jpeg  \n",
            "  inflating: data_raw/images (51).jpg  \n",
            "  inflating: data_raw/images (52).jpeg  \n",
            "  inflating: data_raw/images (52).jpg  \n",
            "  inflating: data_raw/images (53).jpeg  \n",
            "  inflating: data_raw/images (53).jpg  \n",
            "  inflating: data_raw/images (54).jpeg  \n",
            "  inflating: data_raw/images (54).jpg  \n",
            "  inflating: data_raw/images (55).jpeg  \n",
            "  inflating: data_raw/images (55).jpg  \n",
            "  inflating: data_raw/images (56).jpeg  \n",
            "  inflating: data_raw/images (56).jpg  \n",
            "  inflating: data_raw/images (57).jpeg  \n",
            "  inflating: data_raw/images (57).jpg  \n",
            "  inflating: data_raw/images (58).jpeg  \n",
            "  inflating: data_raw/images (58).jpg  \n",
            "  inflating: data_raw/images (59).jpeg  \n",
            "  inflating: data_raw/images (59).jpg  \n",
            "  inflating: data_raw/images (6).jpeg  \n",
            "  inflating: data_raw/images (6).jpg  \n",
            "  inflating: data_raw/images (6).png  \n",
            "  inflating: data_raw/images (60).jpeg  \n",
            "  inflating: data_raw/images (60).jpg  \n",
            "  inflating: data_raw/images (61).jpeg  \n",
            "  inflating: data_raw/images (61).jpg  \n",
            "  inflating: data_raw/images (62).jpeg  \n",
            "  inflating: data_raw/images (62).jpg  \n",
            "  inflating: data_raw/images (63).jpeg  \n",
            "  inflating: data_raw/images (63).jpg  \n",
            "  inflating: data_raw/images (64).jpeg  \n",
            "  inflating: data_raw/images (64).jpg  \n",
            "  inflating: data_raw/images (65).jpeg  \n",
            "  inflating: data_raw/images (65).jpg  \n",
            "  inflating: data_raw/images (66).jpeg  \n",
            "  inflating: data_raw/images (66).jpg  \n",
            "  inflating: data_raw/images (67).jpeg  \n",
            "  inflating: data_raw/images (67).jpg  \n",
            "  inflating: data_raw/images (68).jpeg  \n",
            "  inflating: data_raw/images (68).jpg  \n",
            "  inflating: data_raw/images (69).jpeg  \n",
            "  inflating: data_raw/images (69).jpg  \n",
            "  inflating: data_raw/images (7).jpeg  \n",
            "  inflating: data_raw/images (7).jpg  \n",
            "  inflating: data_raw/images (7).png  \n",
            "  inflating: data_raw/images (70).jpeg  \n",
            "  inflating: data_raw/images (70).jpg  \n",
            "  inflating: data_raw/images (71).jpeg  \n",
            "  inflating: data_raw/images (71).jpg  \n",
            "  inflating: data_raw/images (72).jpeg  \n",
            "  inflating: data_raw/images (72).jpg  \n",
            "  inflating: data_raw/images (73).jpeg  \n",
            "  inflating: data_raw/images (73).jpg  \n",
            "  inflating: data_raw/images (74).jpeg  \n",
            "  inflating: data_raw/images (74).jpg  \n",
            "  inflating: data_raw/images (75).jpeg  \n",
            "  inflating: data_raw/images (75).jpg  \n",
            "  inflating: data_raw/images (76).jpeg  \n",
            "  inflating: data_raw/images (76).jpg  \n",
            "  inflating: data_raw/images (77).jpeg  \n",
            "  inflating: data_raw/images (77).jpg  \n",
            "  inflating: data_raw/images (78).jpeg  \n",
            "  inflating: data_raw/images (78).jpg  \n",
            "  inflating: data_raw/images (79).jpeg  \n",
            "  inflating: data_raw/images (79).jpg  \n",
            "  inflating: data_raw/images (8).jpeg  \n",
            "  inflating: data_raw/images (8).jpg  \n",
            "  inflating: data_raw/images (8).png  \n",
            "  inflating: data_raw/images (80).jpeg  \n",
            "  inflating: data_raw/images (80).jpg  \n",
            "  inflating: data_raw/images (81).jpeg  \n",
            "  inflating: data_raw/images (81).jpg  \n",
            "  inflating: data_raw/images (82).jpeg  \n",
            "  inflating: data_raw/images (82).jpg  \n",
            "  inflating: data_raw/images (83).jpeg  \n",
            "  inflating: data_raw/images (83).jpg  \n",
            "  inflating: data_raw/images (84).jpeg  \n",
            "  inflating: data_raw/images (84).jpg  \n",
            "  inflating: data_raw/images (85).jpeg  \n",
            "  inflating: data_raw/images (85).jpg  \n",
            "  inflating: data_raw/images (86).jpeg  \n",
            "  inflating: data_raw/images (86).jpg  \n",
            "  inflating: data_raw/images (87).jpeg  \n",
            "  inflating: data_raw/images (87).jpg  \n",
            "  inflating: data_raw/images (88).jpeg  \n",
            "  inflating: data_raw/images (88).jpg  \n",
            "  inflating: data_raw/images (89).jpeg  \n",
            "  inflating: data_raw/images (89).jpg  \n",
            "  inflating: data_raw/images (9).jpeg  \n",
            "  inflating: data_raw/images (9).jpg  \n",
            "  inflating: data_raw/images (9).png  \n",
            "  inflating: data_raw/images (90).jpeg  \n",
            "  inflating: data_raw/images (90).jpg  \n",
            "  inflating: data_raw/images (91).jpeg  \n",
            "  inflating: data_raw/images (91).jpg  \n",
            "  inflating: data_raw/images (92).jpeg  \n",
            "  inflating: data_raw/images (92).jpg  \n",
            "  inflating: data_raw/images (93).jpeg  \n",
            "  inflating: data_raw/images (93).jpg  \n",
            "  inflating: data_raw/images (94).jpeg  \n",
            "  inflating: data_raw/images (94).jpg  \n",
            "  inflating: data_raw/images (95).jpeg  \n",
            "  inflating: data_raw/images (95).jpg  \n",
            "  inflating: data_raw/images (96).jpeg  \n",
            "  inflating: data_raw/images (96).jpg  \n",
            "  inflating: data_raw/images (97).jpeg  \n",
            "  inflating: data_raw/images (97).jpg  \n",
            "  inflating: data_raw/images (98).jpeg  \n",
            "  inflating: data_raw/images (98).jpg  \n",
            "  inflating: data_raw/images (99).jpeg  \n",
            "  inflating: data_raw/images (99).jpg  \n",
            "  inflating: data_raw/images - 2020-10-09T132616.669.jpg  \n",
            "  inflating: data_raw/images - 2020-10-09T132616.677.jpg  \n",
            "  inflating: data_raw/images - 2020-10-09T132616.678.jpg  \n",
            "  inflating: data_raw/images - 2020-10-09T132616.913.jpg  \n",
            "  inflating: data_raw/images - 2020-10-09T132617.136.jpg  \n",
            "  inflating: data_raw/images - 2020-10-09T132617.137.jpg  \n",
            "  inflating: data_raw/images - 2020-10-09T132617.148.jpg  \n",
            "  inflating: data_raw/images - 2020-10-09T132617.149.jpg  \n",
            "  inflating: data_raw/images - 2020-10-09T132617.150.jpg  \n",
            "  inflating: data_raw/images - 2020-10-09T132617.151.jpg  \n",
            "  inflating: data_raw/images - 2020-10-09T132617.152.jpg  \n",
            "  inflating: data_raw/images - 2020-10-09T132617.206.jpg  \n",
            "  inflating: data_raw/images - 2020-10-09T132617.207.jpg  \n",
            "  inflating: data_raw/images - 2020-10-09T132617.208.jpg  \n",
            "  inflating: data_raw/images - 2020-10-09T132617.238.jpg  \n",
            "  inflating: data_raw/images - 2020-10-09T132617.239.jpg  \n",
            "  inflating: data_raw/images - 2020-10-09T132617.240.jpg  \n",
            "  inflating: data_raw/images - 2020-10-09T132617.241.jpg  \n",
            "  inflating: data_raw/images - 2020-10-09T132617.242.jpg  \n",
            "  inflating: data_raw/images - 2020-10-09T132617.243.jpg  \n",
            "  inflating: data_raw/images - 2020-10-09T132617.244.jpg  \n",
            "  inflating: data_raw/images - 2020-10-09T132617.245.jpg  \n",
            "  inflating: data_raw/images - 2020-10-09T132617.246.jpg  \n",
            "  inflating: data_raw/images - 2020-10-09T132617.247.jpg  \n",
            "  inflating: data_raw/images - 2020-10-09T132617.259.jpg  \n",
            "  inflating: data_raw/images - 2020-10-09T132617.262.jpg  \n",
            "  inflating: data_raw/images - 2020-10-09T132617.416.jpg  \n",
            "  inflating: data_raw/images - 2020-10-09T132617.417.jpg  \n",
            "  inflating: data_raw/images - 2020-10-09T132617.418.jpg  \n",
            "  inflating: data_raw/images - 2020-10-09T132617.419.jpg  \n",
            "  inflating: data_raw/images - 2020-10-09T132618.446.jpg  \n",
            "  inflating: data_raw/images - 2020-10-09T132618.447.jpg  \n",
            "  inflating: data_raw/images - 2020-10-09T132618.448.jpg  \n",
            "  inflating: data_raw/images - 2020-10-09T132618.449.jpg  \n",
            "  inflating: data_raw/images - 2020-10-09T132618.450.jpg  \n",
            "  inflating: data_raw/images - 2020-10-09T132618.622.jpg  \n",
            "  inflating: data_raw/images - 2020-10-09T132618.623.jpg  \n",
            "  inflating: data_raw/images - 2020-10-09T132618.624.jpg  \n",
            "  inflating: data_raw/images - 2020-10-09T132618.644.jpg  \n",
            "  inflating: data_raw/images - 2020-10-09T132618.645.jpg  \n",
            "  inflating: data_raw/images - 2020-10-09T132618.646.jpg  \n",
            "  inflating: data_raw/images - 2020-10-09T132618.692.jpg  \n",
            "  inflating: data_raw/images - 2020-10-09T132618.693.jpg  \n",
            "  inflating: data_raw/images - 2020-10-09T132618.694.jpg  \n",
            "  inflating: data_raw/images - 2020-10-09T132618.695.jpg  \n",
            "  inflating: data_raw/images - 2020-10-09T132618.696.jpg  \n",
            "  inflating: data_raw/images - 2020-10-09T132618.697.jpg  \n",
            "  inflating: data_raw/images - 2020-10-09T132618.698.jpg  \n",
            "  inflating: data_raw/images - 2020-10-09T132619.227.jpg  \n",
            "  inflating: data_raw/images - 2020-10-09T132619.228.jpg  \n",
            "  inflating: data_raw/images - 2020-10-09T132619.230.jpg  \n",
            "  inflating: data_raw/images - 2020-10-09T132619.231.jpg  \n",
            "  inflating: data_raw/images - 2020-10-09T132619.232.jpg  \n",
            "  inflating: data_raw/images - 2020-10-09T132619.233.jpg  \n",
            "  inflating: data_raw/images - 2020-10-09T132619.236.jpg  \n",
            "  inflating: data_raw/images - 2020-10-09T132619.240.jpg  \n",
            "  inflating: data_raw/images - 2020-10-09T132619.241.jpg  \n",
            "  inflating: data_raw/images - 2020-10-09T132619.242.jpg  \n",
            "  inflating: data_raw/images - 2020-10-09T132619.243.jpg  \n",
            "  inflating: data_raw/images - 2020-10-09T132619.244.jpg  \n",
            "  inflating: data_raw/images - 2020-10-09T132619.245.jpg  \n",
            "  inflating: data_raw/images - 2020-10-09T132619.403.jpg  \n",
            "  inflating: data_raw/images - 2020-10-09T132619.404.jpg  \n",
            "  inflating: data_raw/images - 2020-10-09T132619.405.jpg  \n",
            "  inflating: data_raw/images - 2020-10-09T132619.406.jpg  \n",
            "  inflating: data_raw/images - 2020-10-09T132619.407.jpg  \n",
            "  inflating: data_raw/images - 2020-10-09T132619.408.jpg  \n",
            "  inflating: data_raw/images - 2020-10-09T132619.409.jpg  \n",
            "  inflating: data_raw/images - 2020-10-09T132619.431.jpg  \n",
            "  inflating: data_raw/images - 2020-10-09T132619.447.jpg  \n",
            "  inflating: data_raw/images - 2020-10-09T132619.448.jpg  \n",
            "  inflating: data_raw/images - 2020-10-09T132619.449.jpg  \n",
            "  inflating: data_raw/images - 2020-10-09T132619.450.jpg  \n",
            "  inflating: data_raw/images - 2020-10-09T132619.451.jpg  \n",
            "  inflating: data_raw/images - 2020-10-09T132619.528.jpg  \n",
            "  inflating: data_raw/images - 2020-10-09T132619.529.jpg  \n",
            "  inflating: data_raw/images - 2020-10-09T132619.530.jpg  \n",
            "  inflating: data_raw/images - 2020-10-09T132619.659.jpg  \n",
            "  inflating: data_raw/images - 2020-10-09T132619.667.jpg  \n",
            "  inflating: data_raw/images - 2020-10-09T132619.668.jpg  \n",
            "  inflating: data_raw/images - 2020-10-09T132619.670.jpg  \n",
            "  inflating: data_raw/images - 2020-10-09T132619.671.jpg  \n",
            "  inflating: data_raw/images - 2020-10-09T132619.672.jpg  \n",
            "  inflating: data_raw/images - 2020-10-09T132619.673.jpg  \n",
            "  inflating: data_raw/images - 2020-10-09T132619.674.jpg  \n",
            "  inflating: data_raw/images - 2020-10-09T132619.675.jpg  \n",
            "  inflating: data_raw/images - 2020-10-09T132619.676.jpg  \n",
            "  inflating: data_raw/images - 2020-10-09T132619.677.jpg  \n",
            "  inflating: data_raw/images - 2020-10-09T132619.678.jpg  \n",
            "  inflating: data_raw/images - 2020-10-09T132619.679.jpg  \n",
            "  inflating: data_raw/images - 2020-10-09T132620.357.jpg  \n",
            "  inflating: data_raw/images - 2020-10-09T132620.358.jpg  \n",
            "  inflating: data_raw/images - 2020-10-09T132620.359.jpg  \n",
            "  inflating: data_raw/images - 2020-10-09T132620.360.jpg  \n",
            "  inflating: data_raw/images - 2020-10-09T132620.361.jpg  \n",
            "  inflating: data_raw/images - 2020-10-09T132620.362.jpg  \n",
            "  inflating: data_raw/images - 2020-10-09T132620.363.jpg  \n",
            "  inflating: data_raw/images - 2020-10-09T132620.364.jpg  \n",
            "  inflating: data_raw/images - 2020-10-09T132620.365.jpg  \n",
            "  inflating: data_raw/images - 2020-10-09T132620.366.jpg  \n",
            "  inflating: data_raw/images - 2020-10-09T132620.367.jpg  \n",
            "  inflating: data_raw/images - 2020-10-09T132620.368.jpg  \n",
            "  inflating: data_raw/images - 2020-10-09T132620.369.jpg  \n",
            "  inflating: data_raw/images - 2020-10-09T132620.370.jpg  \n",
            "  inflating: data_raw/images - 2020-10-09T132621.110.jpg  \n",
            "  inflating: data_raw/images - 2020-10-09T132621.111.jpg  \n",
            "  inflating: data_raw/images - 2020-10-09T132621.388.jpg  \n",
            "  inflating: data_raw/images - 2020-10-09T132621.389.jpg  \n",
            "  inflating: data_raw/images - 2020-10-09T132621.390.jpg  \n",
            "  inflating: data_raw/images - 2020-10-09T132621.391.jpg  \n",
            "  inflating: data_raw/images - 2020-10-09T132622.342.jpg  \n",
            "  inflating: data_raw/images - 2020-10-09T132622.343.jpg  \n",
            "  inflating: data_raw/images - 2020-10-09T132622.344.jpg  \n",
            "  inflating: data_raw/images - 2020-10-09T132622.346.jpg  \n",
            "  inflating: data_raw/images - 2020-10-09T132622.347.jpg  \n",
            "  inflating: data_raw/images - 2020-10-09T132622.351.jpg  \n",
            "  inflating: data_raw/images - 2020-10-09T132622.359.jpg  \n",
            "  inflating: data_raw/images - 2020-10-09T132622.361.jpg  \n",
            "  inflating: data_raw/images - 2020-10-09T132622.363.jpg  \n",
            "  inflating: data_raw/images - 2020-10-09T132622.364.jpg  \n",
            "  inflating: data_raw/images - 2020-10-09T132622.365.jpg  \n",
            "  inflating: data_raw/images - 2020-10-09T132622.610.jpg  \n",
            "  inflating: data_raw/images - 2020-10-09T132622.611.jpg  \n",
            "  inflating: data_raw/images - 2020-10-09T132622.612.jpg  \n",
            "  inflating: data_raw/images - 2020-10-09T132622.613.jpg  \n",
            "  inflating: data_raw/images - 2020-10-09T132622.614.jpg  \n",
            "  inflating: data_raw/images - 2020-10-09T132622.615.jpg  \n",
            "  inflating: data_raw/images - 2020-10-09T132622.616.jpg  \n",
            "  inflating: data_raw/images - 2020-10-09T132622.617.jpg  \n",
            "  inflating: data_raw/images - 2020-10-09T132622.618.jpg  \n",
            "  inflating: data_raw/images - 2020-10-09T132623.454.jpg  \n",
            "  inflating: data_raw/images - 2020-10-09T132623.455.jpg  \n",
            "  inflating: data_raw/images - 2020-10-09T132623.456.jpg  \n",
            "  inflating: data_raw/images - 2020-10-09T132623.457.jpg  \n",
            "  inflating: data_raw/images - 2020-10-09T132623.458.jpg  \n",
            "  inflating: data_raw/images - 2020-10-09T132623.465.jpg  \n",
            "  inflating: data_raw/images - 2020-10-09T132623.475.jpg  \n",
            "  inflating: data_raw/images - 2020-10-09T132623.476.jpg  \n",
            "  inflating: data_raw/images - 2020-10-09T132623.477.jpg  \n",
            "  inflating: data_raw/images - 2020-10-09T132623.478.jpg  \n",
            "  inflating: data_raw/images - 2020-10-09T132623.479.jpg  \n",
            "  inflating: data_raw/images - 2020-10-09T132623.480.jpg  \n",
            "  inflating: data_raw/images - 2020-10-09T132623.481.jpg  \n",
            "  inflating: data_raw/images - 2020-10-09T132623.482.jpg  \n",
            "  inflating: data_raw/images - 2020-10-09T132623.483.jpg  \n",
            "  inflating: data_raw/images - 2020-10-09T132623.484.jpg  \n",
            "  inflating: data_raw/images - 2020-10-09T132623.485.jpg  \n",
            "  inflating: data_raw/images - 2020-10-09T132623.486.jpg  \n",
            "  inflating: data_raw/images - 2020-10-09T132623.487.jpg  \n",
            "  inflating: data_raw/images - 2020-10-09T132623.488.jpg  \n",
            "  inflating: data_raw/images - 2020-10-09T134307.031.jpg  \n",
            "  inflating: data_raw/images - 2020-10-09T134307.045.jpg  \n",
            "  inflating: data_raw/images - 2020-10-09T134307.070.jpg  \n",
            "  inflating: data_raw/images - 2020-10-09T134307.423.jpg  \n",
            "  inflating: data_raw/images - 2020-10-09T134307.436.jpg  \n",
            "  inflating: data_raw/images - 2020-10-09T134307.838.jpg  \n",
            "  inflating: data_raw/images - 2020-10-09T134308.380.jpg  \n",
            "  inflating: data_raw/images - 2020-10-09T134308.443.jpg  \n",
            "  inflating: data_raw/images - 2020-10-09T134308.530.jpg  \n",
            "  inflating: data_raw/images - 2020-10-09T134308.583.jpg  \n",
            "  inflating: data_raw/images - 2020-10-09T134308.805.jpg  \n",
            "  inflating: data_raw/images - 2020-10-09T134308.928.jpg  \n",
            "  inflating: data_raw/images - 2020-10-09T134308.943.jpg  \n",
            "  inflating: data_raw/images - 2020-10-09T134308.944.jpg  \n",
            "  inflating: data_raw/images - 2020-10-09T134308.949.jpg  \n",
            "  inflating: data_raw/images - 2020-10-09T134308.951.jpg  \n",
            "  inflating: data_raw/images - 2020-10-09T134308.987.jpg  \n",
            "  inflating: data_raw/images - 2020-10-09T134308.991.jpg  \n",
            "  inflating: data_raw/images - 2020-10-09T134309.076.jpg  \n",
            "  inflating: data_raw/images - 2020-10-09T134309.077.jpg  \n",
            "  inflating: data_raw/images - 2020-10-09T134309.083.jpg  \n",
            "  inflating: data_raw/images - 2020-10-09T134309.084.jpg  \n",
            "  inflating: data_raw/images - 2020-10-09T134309.087.jpg  \n",
            "  inflating: data_raw/images - 2020-10-09T134309.088.jpg  \n",
            "  inflating: data_raw/images - 2020-10-09T134309.115.jpg  \n",
            "  inflating: data_raw/images - 2020-10-09T134309.116.jpg  \n",
            "  inflating: data_raw/images - 2020-10-09T134309.119.jpg  \n",
            "  inflating: data_raw/images - 2020-10-09T134309.120.jpg  \n",
            "  inflating: data_raw/images - 2020-10-09T134309.230.jpg  \n",
            "  inflating: data_raw/images - 2020-10-09T134309.232.jpg  \n",
            "  inflating: data_raw/images - 2020-10-09T134309.236.jpg  \n",
            "  inflating: data_raw/images - 2020-10-09T134309.245.jpg  \n",
            "  inflating: data_raw/images - 2020-10-09T134309.281.jpg  \n",
            "  inflating: data_raw/images - 2020-10-09T134309.282.jpg  \n",
            "  inflating: data_raw/images - 2020-10-09T134309.284.jpg  \n",
            "  inflating: data_raw/images - 2020-10-09T134309.285.jpg  \n",
            "  inflating: data_raw/images - 2020-10-09T134309.286.jpg  \n",
            "  inflating: data_raw/images - 2020-10-09T134310.321.jpg  \n",
            "  inflating: data_raw/images - 2020-10-09T134310.326.jpg  \n",
            "  inflating: data_raw/images - 2020-10-09T134310.978.jpg  \n",
            "  inflating: data_raw/images - 2020-10-09T134310.980.jpg  \n",
            "  inflating: data_raw/images - 2020-10-09T134310.981.jpg  \n",
            "  inflating: data_raw/images - 2020-10-09T134310.984.jpg  \n",
            "  inflating: data_raw/images - 2020-10-09T134310.985.jpg  \n",
            "  inflating: data_raw/images - 2020-10-09T134310.986.jpg  \n",
            "  inflating: data_raw/images - 2020-10-09T134310.987.jpg  \n",
            "  inflating: data_raw/images - 2020-10-09T134310.997.jpg  \n",
            "  inflating: data_raw/images - 2020-10-09T134310.998.jpg  \n",
            "  inflating: data_raw/images - 2020-10-09T134310.999.jpg  \n",
            "  inflating: data_raw/images - 2020-10-09T134311.235.jpg  \n",
            "  inflating: data_raw/images - 2020-10-09T134311.236.jpg  \n",
            "  inflating: data_raw/images - 2020-10-09T134311.237.jpg  \n",
            "  inflating: data_raw/images - 2020-10-09T134311.244.jpg  \n",
            "  inflating: data_raw/images - 2020-10-09T134311.378.jpg  \n",
            "  inflating: data_raw/images - 2020-10-09T134311.379.jpg  \n",
            "  inflating: data_raw/images - 2020-10-09T134311.380.jpg  \n",
            "  inflating: data_raw/images - 2020-10-09T134311.794.jpg  \n",
            "  inflating: data_raw/images - 2020-10-09T134311.795.jpg  \n",
            "  inflating: data_raw/images - 2020-10-09T134311.990.jpg  \n",
            "  inflating: data_raw/images - 2020-10-09T134311.991.jpg  \n",
            "  inflating: data_raw/images - 2020-10-09T134311.992.jpg  \n",
            "  inflating: data_raw/images - 2020-10-09T134312.008.jpg  \n",
            "  inflating: data_raw/images - 2020-10-09T134312.009.jpg  \n",
            "  inflating: data_raw/images - 2020-10-09T134312.010.jpg  \n",
            "  inflating: data_raw/images - 2020-10-09T134312.294.jpg  \n",
            "  inflating: data_raw/images - 2020-10-09T134312.295.jpg  \n",
            "  inflating: data_raw/images - 2020-10-09T134313.062.jpg  \n",
            "  inflating: data_raw/images - 2020-10-09T134313.063.jpg  \n",
            "  inflating: data_raw/images - 2020-10-09T134313.064.jpg  \n",
            "  inflating: data_raw/images - 2020-10-09T134313.065.jpg  \n",
            "  inflating: data_raw/images - 2020-10-09T134313.233.jpg  \n",
            "  inflating: data_raw/images - 2020-10-09T134313.234.jpg  \n",
            "  inflating: data_raw/images - 2020-10-09T134313.236.jpg  \n",
            "  inflating: data_raw/images - 2020-10-09T134313.562.jpg  \n",
            "  inflating: data_raw/images - 2020-10-09T134313.563.jpg  \n",
            "  inflating: data_raw/images - 2020-10-09T134313.564.jpg  \n",
            "  inflating: data_raw/images - 2020-10-09T134313.682.jpg  \n",
            "  inflating: data_raw/images - 2020-10-09T134313.683.jpg  \n",
            "  inflating: data_raw/images - 2020-10-09T134313.687.jpg  \n",
            "  inflating: data_raw/images - 2020-10-09T134313.689.jpg  \n",
            "  inflating: data_raw/images - 2020-10-09T134313.690.jpg  \n",
            "  inflating: data_raw/images - 2020-10-09T134313.700.jpg  \n",
            "  inflating: data_raw/images - 2020-10-09T134313.701.jpg  \n",
            "  inflating: data_raw/images - 2020-10-09T134313.970.jpg  \n",
            "  inflating: data_raw/images - 2020-10-09T134313.971.jpg  \n",
            "  inflating: data_raw/images - 2020-10-09T134313.974.jpg  \n",
            "  inflating: data_raw/images - 2020-10-09T134314.384.jpg  \n",
            "  inflating: data_raw/images - 2020-10-09T134314.430.jpg  \n",
            "  inflating: data_raw/images - 2020-10-09T134314.431.jpg  \n",
            "  inflating: data_raw/images - 2020-10-09T134314.432.jpg  \n",
            "  inflating: data_raw/images - 2020-10-09T134314.433.jpg  \n",
            "  inflating: data_raw/images - 2020-10-09T134314.434.jpg  \n",
            "  inflating: data_raw/images - 2020-10-09T134314.730.jpg  \n",
            "  inflating: data_raw/images - 2020-10-09T134314.731.jpg  \n",
            "  inflating: data_raw/images - 2020-10-09T134314.732.jpg  \n",
            "  inflating: data_raw/images - 2020-10-09T134314.733.jpg  \n",
            "  inflating: data_raw/images - 2020-10-09T134314.734.jpg  \n",
            "  inflating: data_raw/images - 2020-10-09T134314.919.jpg  \n",
            "  inflating: data_raw/images - 2020-10-09T134314.920.jpg  \n",
            "  inflating: data_raw/images - 2020-10-09T134314.921.jpg  \n",
            "  inflating: data_raw/images - 2020-10-09T134314.922.jpg  \n",
            "  inflating: data_raw/images - 2020-10-09T134315.026.jpg  \n",
            "  inflating: data_raw/images - 2020-10-09T134315.027.jpg  \n",
            "  inflating: data_raw/images - 2020-10-09T134315.160.jpg  \n",
            "  inflating: data_raw/images - 2020-10-09T134315.161.jpg  \n",
            "  inflating: data_raw/images - 2020-10-09T134315.330.jpg  \n",
            "  inflating: data_raw/images - 2020-10-09T134315.331.jpg  \n",
            "  inflating: data_raw/images - 2020-10-09T134315.445.jpg  \n",
            "  inflating: data_raw/images - 2020-10-09T134315.446.jpg  \n",
            "  inflating: data_raw/images - 2020-10-09T134315.447.jpg  \n",
            "  inflating: data_raw/images - 2020-10-09T134315.512.jpg  \n",
            "  inflating: data_raw/images - 2020-10-09T134315.513.jpg  \n",
            "  inflating: data_raw/images - 2020-10-09T134315.514.jpg  \n",
            "  inflating: data_raw/images - 2020-10-09T134315.835.jpg  \n",
            "  inflating: data_raw/images - 2020-10-09T134315.986.jpg  \n",
            "  inflating: data_raw/images - 2020-10-09T134315.987.jpg  \n",
            "  inflating: data_raw/images - 2020-10-09T134315.988.jpg  \n",
            "  inflating: data_raw/images - 2020-10-09T134315.989.jpg  \n",
            "  inflating: data_raw/images - 2020-10-09T134315.990.jpg  \n",
            "  inflating: data_raw/images - 2020-10-09T134315.991.jpg  \n",
            "  inflating: data_raw/images - 2020-10-09T134315.992.jpg  \n",
            "  inflating: data_raw/images - 2020-10-09T134316.214.jpg  \n",
            "  inflating: data_raw/images - 2020-10-09T134316.574.jpg  \n",
            "  inflating: data_raw/images - 2020-10-09T134316.576.jpg  \n",
            "  inflating: data_raw/images - 2020-10-09T134316.577.jpg  \n",
            "  inflating: data_raw/images - 2020-10-09T134316.578.jpg  \n",
            "  inflating: data_raw/images - 2020-10-09T134316.579.jpg  \n",
            "  inflating: data_raw/images - 2020-10-09T134316.580.jpg  \n",
            "  inflating: data_raw/images - 2020-10-09T134316.608.jpg  \n",
            "  inflating: data_raw/images - 2020-10-09T134316.609.jpg  \n",
            "  inflating: data_raw/images - 2020-10-09T134316.610.jpg  \n",
            "  inflating: data_raw/images - 2020-10-09T134316.611.jpg  \n",
            "  inflating: data_raw/images - 2020-10-09T134316.612.jpg  \n",
            "  inflating: data_raw/images - 2020-10-09T134316.613.jpg  \n",
            "  inflating: data_raw/images - 2020-10-09T134316.614.jpg  \n",
            "  inflating: data_raw/images - 2020-10-09T134316.617.jpg  \n",
            "  inflating: data_raw/images - 2020-10-09T134316.618.jpg  \n",
            "  inflating: data_raw/images - 2020-10-09T134316.619.jpg  \n",
            "  inflating: data_raw/images - 2020-10-09T134316.620.jpg  \n",
            "  inflating: data_raw/images - 2020-10-09T134316.621.jpg  \n",
            "  inflating: data_raw/images - 2020-10-09T134316.622.jpg  \n",
            "  inflating: data_raw/images - 2020-10-09T134316.623.jpg  \n",
            "  inflating: data_raw/images - 2020-10-09T134316.624.jpg  \n",
            "  inflating: data_raw/images - 2020-10-09T134316.625.jpg  \n",
            "  inflating: data_raw/images - 2020-10-09T134316.626.jpg  \n",
            "  inflating: data_raw/images - 2020-10-09T134316.627.jpg  \n",
            "  inflating: data_raw/images - 2020-10-09T134316.628.jpg  \n",
            "  inflating: data_raw/images - 2020-10-09T134316.629.jpg  \n",
            "  inflating: data_raw/images - 2020-10-09T134316.630.jpg  \n",
            "  inflating: data_raw/images - 2020-10-09T134316.631.jpg  \n",
            "  inflating: data_raw/images - 2020-10-09T134316.632.jpg  \n",
            "  inflating: data_raw/images - 2020-10-09T134316.633.jpg  \n",
            "  inflating: data_raw/images - 2020-10-09T134316.634.jpg  \n",
            "  inflating: data_raw/images - 2020-10-09T134316.635.jpg  \n",
            "  inflating: data_raw/images - 2020-10-09T134316.636.jpg  \n",
            "  inflating: data_raw/images - 2020-10-09T134316.637.jpg  \n",
            "  inflating: data_raw/images - 2020-10-09T134316.638.jpg  \n",
            "  inflating: data_raw/images - 2020-10-09T134316.839.jpg  \n",
            "  inflating: data_raw/images - 2020-10-09T134316.840.jpg  \n",
            "  inflating: data_raw/images - 2020-10-09T134316.841.jpg  \n",
            "  inflating: data_raw/images - 2020-10-09T134316.858.jpg  \n",
            "  inflating: data_raw/images - 2020-10-09T134316.859.jpg  \n",
            "  inflating: data_raw/images - 2020-10-09T134316.860.jpg  \n",
            "  inflating: data_raw/images - 2020-10-09T134316.861.jpg  \n",
            "  inflating: data_raw/images - 2020-10-09T134316.862.jpg  \n",
            "  inflating: data_raw/images - 2020-10-09T134316.863.jpg  \n",
            "  inflating: data_raw/images - 2020-10-09T134741.367.jpg  \n",
            "  inflating: data_raw/images - 2020-10-09T134741.386.jpg  \n",
            "  inflating: data_raw/images - 2020-10-09T134741.387.jpg  \n",
            "  inflating: data_raw/images - 2020-10-09T134741.390.jpg  \n",
            "  inflating: data_raw/images - 2020-10-09T134741.391.jpg  \n",
            "  inflating: data_raw/images - 2020-10-09T134741.392.jpg  \n",
            "  inflating: data_raw/images - 2020-10-09T134741.399.jpg  \n",
            "  inflating: data_raw/images - 2020-10-09T134741.400.jpg  \n",
            "  inflating: data_raw/images - 2020-10-09T134741.409.jpg  \n",
            "  inflating: data_raw/images - 2020-10-09T134741.410.jpg  \n",
            "  inflating: data_raw/images - 2020-10-09T134741.411.jpg  \n",
            "  inflating: data_raw/images - 2020-10-09T134741.412.jpg  \n",
            "  inflating: data_raw/images - 2020-10-09T134741.413.jpg  \n",
            "  inflating: data_raw/images - 2020-10-09T134741.782.jpg  \n",
            "  inflating: data_raw/images - 2020-10-09T134741.783.jpg  \n",
            "  inflating: data_raw/images - 2020-10-09T134741.784.jpg  \n",
            "  inflating: data_raw/images - 2020-10-09T134742.505.jpg  \n",
            "  inflating: data_raw/images - 2020-10-09T134742.510.jpg  \n",
            "  inflating: data_raw/images - 2020-10-09T134742.511.jpg  \n",
            "  inflating: data_raw/images - 2020-10-09T134742.514.jpg  \n",
            "  inflating: data_raw/images - 2020-10-09T134742.515.jpg  \n",
            "  inflating: data_raw/images - 2020-10-09T134742.517.jpg  \n",
            "  inflating: data_raw/images - 2020-10-09T134742.519.jpg  \n",
            "  inflating: data_raw/images - 2020-10-09T134742.520.jpg  \n",
            "  inflating: data_raw/images - 2020-10-09T134742.526.jpg  \n",
            "  inflating: data_raw/images - 2020-10-09T134742.530.jpg  \n",
            "  inflating: data_raw/images - 2020-10-09T134742.555.jpg  \n",
            "  inflating: data_raw/images - 2020-10-09T134742.556.jpg  \n",
            "  inflating: data_raw/images - 2020-10-09T134742.560.jpg  \n",
            "  inflating: data_raw/images - 2020-10-09T134742.561.jpg  \n",
            "  inflating: data_raw/images - 2020-10-09T134742.563.jpg  \n",
            "  inflating: data_raw/images - 2020-10-09T134742.566.jpg  \n",
            "  inflating: data_raw/images - 2020-10-09T134742.568.jpg  \n",
            "  inflating: data_raw/images - 2020-10-09T134742.571.jpg  \n",
            "  inflating: data_raw/images - 2020-10-09T134742.573.jpg  \n",
            "  inflating: data_raw/images - 2020-10-09T134742.574.jpg  \n",
            "  inflating: data_raw/images - 2020-10-09T134742.575.jpg  \n",
            "  inflating: data_raw/images - 2020-10-09T134742.576.jpg  \n",
            "  inflating: data_raw/images - 2020-10-09T134742.578.jpg  \n",
            "  inflating: data_raw/images - 2020-10-09T134742.579.jpg  \n",
            "  inflating: data_raw/images - 2020-10-09T134742.580.jpg  \n",
            "  inflating: data_raw/images - 2020-10-09T134742.581.jpg  \n",
            "  inflating: data_raw/images - 2020-10-09T134742.583.jpg  \n",
            "  inflating: data_raw/images - 2020-10-09T134742.747.jpg  \n",
            "  inflating: data_raw/images - 2020-10-09T134742.818.jpg  \n",
            "  inflating: data_raw/images - 2020-10-09T134743.441.jpg  \n",
            "  inflating: data_raw/images - 2020-10-09T134743.550.jpg  \n",
            "  inflating: data_raw/images - 2020-10-09T134743.551.jpg  \n",
            "  inflating: data_raw/images - 2020-10-09T134743.552.jpg  \n",
            "  inflating: data_raw/images - 2020-10-09T134743.642.jpg  \n",
            "  inflating: data_raw/images - 2020-10-09T134743.643.jpg  \n",
            "  inflating: data_raw/images - 2020-10-09T134743.644.jpg  \n",
            "  inflating: data_raw/images - 2020-10-09T134743.645.jpg  \n",
            "  inflating: data_raw/images - 2020-10-09T134743.651.jpg  \n",
            "  inflating: data_raw/images - 2020-10-09T134743.652.jpg  \n",
            "  inflating: data_raw/images - 2020-10-09T134743.653.jpg  \n",
            "  inflating: data_raw/images - 2020-10-09T134743.654.jpg  \n",
            "  inflating: data_raw/images - 2020-10-09T134743.655.jpg  \n",
            "  inflating: data_raw/images - 2020-10-09T134743.957.jpg  \n",
            "  inflating: data_raw/images - 2020-10-09T134744.751.jpg  \n",
            "  inflating: data_raw/images - 2020-10-09T134744.755.jpg  \n",
            "  inflating: data_raw/images - 2020-10-09T134744.763.jpg  \n",
            "  inflating: data_raw/images - 2020-10-09T134744.767.jpg  \n",
            "  inflating: data_raw/images - 2020-10-09T134744.768.jpg  \n",
            "  inflating: data_raw/images - 2020-10-09T134744.769.jpg  \n",
            "  inflating: data_raw/images - 2020-10-09T134744.770.jpg  \n",
            "  inflating: data_raw/images - 2020-10-09T134744.771.jpg  \n",
            "  inflating: data_raw/images - 2020-10-09T134745.482.jpg  \n",
            "  inflating: data_raw/images - 2020-10-09T134745.483.jpg  \n",
            "  inflating: data_raw/images - 2020-10-09T134745.488.jpg  \n",
            "  inflating: data_raw/images - 2020-10-09T134745.490.jpg  \n",
            "  inflating: data_raw/images - 2020-10-09T134745.492.jpg  \n",
            "  inflating: data_raw/images - 2020-10-09T134745.946.jpg  \n",
            "  inflating: data_raw/images - 2020-10-09T134745.948.jpg  \n",
            "  inflating: data_raw/images - 2020-10-09T134745.951.jpg  \n",
            "  inflating: data_raw/images - 2020-10-09T134745.952.jpg  \n",
            "  inflating: data_raw/images - 2020-10-09T134745.958.jpg  \n",
            "  inflating: data_raw/images - 2020-10-09T134745.959.jpg  \n",
            "  inflating: data_raw/images - 2020-10-09T134746.094.jpg  \n",
            "  inflating: data_raw/images - 2020-10-09T134746.097.jpg  \n",
            "  inflating: data_raw/images - 2020-10-09T134746.100.jpg  \n",
            "  inflating: data_raw/images - 2020-10-09T134746.109.jpg  \n",
            "  inflating: data_raw/images - 2020-10-09T134746.110.jpg  \n",
            "  inflating: data_raw/images - 2020-10-09T134746.749.jpg  \n",
            "  inflating: data_raw/images - 2020-10-09T134746.750.jpg  \n",
            "  inflating: data_raw/images - 2020-10-09T134746.751.jpg  \n",
            "  inflating: data_raw/images - 2020-10-09T134746.753.jpg  \n",
            "  inflating: data_raw/images - 2020-10-09T134746.754.jpg  \n",
            "  inflating: data_raw/images - 2020-10-09T134746.755.jpg  \n",
            "  inflating: data_raw/images - 2020-10-09T134746.756.jpg  \n",
            "  inflating: data_raw/images - 2020-10-09T134746.969.jpg  \n",
            "  inflating: data_raw/images - 2020-10-09T134746.998.jpg  \n",
            "  inflating: data_raw/images - 2020-10-09T134746.999.jpg  \n",
            "  inflating: data_raw/images - 2020-10-09T134747.364.jpg  \n",
            "  inflating: data_raw/images - 2020-10-09T134748.066.jpg  \n",
            "  inflating: data_raw/images - 2020-10-09T134748.067.jpg  \n",
            "  inflating: data_raw/images - 2020-10-09T134748.068.jpg  \n",
            "  inflating: data_raw/images - 2020-10-09T134748.069.jpg  \n",
            "  inflating: data_raw/images - 2020-10-09T134748.070.jpg  \n",
            "  inflating: data_raw/images - 2020-10-09T134748.071.jpg  \n",
            "  inflating: data_raw/images - 2020-10-09T134748.188.jpg  \n",
            "  inflating: data_raw/images - 2020-10-09T134748.189.jpg  \n",
            "  inflating: data_raw/images - 2020-10-09T134748.474.jpg  \n",
            "  inflating: data_raw/images - 2020-10-09T134748.658.jpg  \n",
            "  inflating: data_raw/images - 2020-10-09T134748.659.jpg  \n",
            "  inflating: data_raw/images - 2020-10-09T134748.660.jpg  \n",
            "  inflating: data_raw/images - 2020-10-09T134748.661.jpg  \n",
            "  inflating: data_raw/images - 2020-10-09T134748.663.jpg  \n",
            "  inflating: data_raw/images - 2020-10-09T134748.664.jpg  \n",
            "  inflating: data_raw/images - 2020-10-09T134748.665.jpg  \n",
            "  inflating: data_raw/images - 2020-10-09T134748.680.jpg  \n",
            "  inflating: data_raw/images - 2020-10-09T134748.681.jpg  \n",
            "  inflating: data_raw/images - 2020-10-09T134748.682.jpg  \n",
            "  inflating: data_raw/images - 2020-10-09T134748.683.jpg  \n",
            "  inflating: data_raw/images - 2020-10-09T134748.883.jpg  \n",
            "  inflating: data_raw/images - 2020-10-09T134748.884.jpg  \n",
            "  inflating: data_raw/images - 2020-10-09T134749.032.jpg  \n",
            "  inflating: data_raw/images - 2020-10-09T134749.033.jpg  \n",
            "  inflating: data_raw/images - 2020-10-09T134749.034.jpg  \n",
            "  inflating: data_raw/images - 2020-10-09T134749.050.jpg  \n",
            "  inflating: data_raw/images - 2020-10-09T134749.051.jpg  \n",
            "  inflating: data_raw/images - 2020-10-09T134749.129.jpg  \n",
            "  inflating: data_raw/images - 2020-10-09T134749.133.jpg  \n",
            "  inflating: data_raw/images - 2020-10-09T134749.215.jpg  \n",
            "  inflating: data_raw/images - 2020-10-09T134749.216.jpg  \n",
            "  inflating: data_raw/images - 2020-10-09T134749.217.jpg  \n",
            "  inflating: data_raw/images - 2020-10-09T134749.394.jpg  \n",
            "  inflating: data_raw/images - 2020-10-09T134749.395.jpg  \n",
            "  inflating: data_raw/images - 2020-10-09T134749.396.jpg  \n",
            "  inflating: data_raw/images - 2020-10-09T134749.397.jpg  \n",
            "  inflating: data_raw/images - 2020-10-09T134749.699.jpg  \n",
            "  inflating: data_raw/images - 2020-10-09T134749.949.jpg  \n",
            "  inflating: data_raw/images - 2020-10-09T134749.950.jpg  \n",
            "  inflating: data_raw/images - 2020-10-09T134749.952.jpg  \n",
            "  inflating: data_raw/images - 2020-10-09T134749.955.jpg  \n",
            "  inflating: data_raw/images - 2020-10-09T134749.959.jpg  \n",
            "  inflating: data_raw/images - 2020-10-09T134749.960.jpg  \n",
            "  inflating: data_raw/images - 2020-10-09T134749.961.jpg  \n",
            "  inflating: data_raw/images - 2020-10-09T134749.963.jpg  \n",
            "  inflating: data_raw/images - 2020-10-09T134749.964.jpg  \n",
            "  inflating: data_raw/images - 2020-10-09T134749.965.jpg  \n",
            "  inflating: data_raw/images - 2020-10-09T134750.985.jpg  \n",
            "  inflating: data_raw/images - 2020-10-09T134751.124.jpg  \n",
            "  inflating: data_raw/images - 2020-10-09T134751.125.jpg  \n",
            "  inflating: data_raw/images - 2020-10-09T134751.126.jpg  \n",
            "  inflating: data_raw/images - 2020-10-09T134751.214.jpg  \n",
            "  inflating: data_raw/images - 2020-10-09T134751.242.jpg  \n",
            "  inflating: data_raw/images - 2020-10-09T134751.243.jpg  \n",
            "  inflating: data_raw/images - 2020-10-09T134751.244.jpg  \n",
            "  inflating: data_raw/images - 2020-10-09T134751.376.jpg  \n",
            "  inflating: data_raw/images - 2020-10-09T134751.378.jpg  \n",
            "  inflating: data_raw/images - 2020-10-09T134751.382.jpg  \n",
            "  inflating: data_raw/images - 2020-10-09T134751.466.jpg  \n",
            "  inflating: data_raw/images - 2020-10-09T134751.563.jpg  \n",
            "  inflating: data_raw/images - 2020-10-09T134751.564.jpg  \n",
            "  inflating: data_raw/images - 2020-10-09T134751.565.jpg  \n",
            "  inflating: data_raw/images - 2020-10-09T134751.566.jpg  \n",
            "  inflating: data_raw/images - 2020-10-09T134751.567.jpg  \n",
            "  inflating: data_raw/images - 2020-10-09T134751.568.jpg  \n",
            "  inflating: data_raw/images - 2020-10-09T134751.570.jpg  \n",
            "  inflating: data_raw/images - 2020-10-09T134751.571.jpg  \n",
            "  inflating: data_raw/images - 2020-10-09T134751.675.jpg  \n",
            "  inflating: data_raw/images - 2020-10-09T134751.676.jpg  \n",
            "  inflating: data_raw/images - 2020-10-09T134751.678.jpg  \n",
            "  inflating: data_raw/images - 2020-10-09T134751.679.jpg  \n",
            "  inflating: data_raw/images - 2020-10-09T134752.315.jpg  \n",
            "  inflating: data_raw/images - 2020-10-09T134752.599.jpg  \n",
            "  inflating: data_raw/images - 2020-10-09T134752.600.jpg  \n",
            "  inflating: data_raw/images - 2020-10-09T134752.601.jpg  \n",
            "  inflating: data_raw/images - 2020-10-09T134752.602.jpg  \n",
            "  inflating: data_raw/images - 2020-10-09T134752.603.jpg  \n",
            "  inflating: data_raw/images - 2020-10-09T134752.762.jpg  \n",
            "  inflating: data_raw/images - 2020-10-09T134752.763.jpg  \n",
            "  inflating: data_raw/images - 2020-10-09T134752.764.jpg  \n",
            "  inflating: data_raw/images - 2020-10-09T134752.765.jpg  \n",
            "  inflating: data_raw/images - 2020-10-09T134752.768.jpg  \n",
            "  inflating: data_raw/images - 2020-10-09T134752.769.jpg  \n",
            "  inflating: data_raw/images - 2020-10-09T134752.770.jpg  \n",
            "  inflating: data_raw/images - 2020-10-09T134752.771.jpg  \n",
            "  inflating: data_raw/images - 2020-10-09T134752.772.jpg  \n",
            "  inflating: data_raw/images - 2020-10-09T134752.773.jpg  \n",
            "  inflating: data_raw/images - 2020-10-09T134752.886.jpg  \n",
            "  inflating: data_raw/images - 2020-10-09T134752.887.jpg  \n",
            "  inflating: data_raw/images - 2020-10-09T134752.888.jpg  \n",
            "  inflating: data_raw/images - 2020-10-09T134752.889.jpg  \n",
            "  inflating: data_raw/images - 2020-10-09T134752.890.jpg  \n",
            "  inflating: data_raw/images - 2020-10-09T134752.891.jpg  \n",
            "  inflating: data_raw/images - 2020-10-09T134752.892.jpg  \n",
            "  inflating: data_raw/images - 2020-10-09T134752.893.jpg  \n",
            "  inflating: data_raw/images - 2020-10-09T134752.894.jpg  \n",
            "  inflating: data_raw/images - 2020-10-09T134752.984.jpg  \n",
            "  inflating: data_raw/images - 2020-10-09T134752.985.jpg  \n",
            "  inflating: data_raw/images - 2020-10-09T134752.986.jpg  \n",
            "  inflating: data_raw/images - 2020-10-09T134752.987.jpg  \n",
            "  inflating: data_raw/images - 2020-10-09T134752.988.jpg  \n",
            "  inflating: data_raw/images - 2020-10-09T134753.076.jpg  \n",
            "  inflating: data_raw/images - 2020-10-09T134753.077.jpg  \n",
            "  inflating: data_raw/images - 2020-10-09T134753.078.jpg  \n",
            "  inflating: data_raw/images - 2020-10-09T134753.079.jpg  \n",
            "  inflating: data_raw/images - 2020-10-09T134753.080.jpg  \n",
            "  inflating: data_raw/images - 2020-10-09T134753.081.jpg  \n",
            "  inflating: data_raw/images - 2020-10-12T140359.600.jpeg  \n",
            "  inflating: data_raw/images - 2020-10-12T140359.601.jpeg  \n",
            "  inflating: data_raw/images - 2020-10-12T140359.602.jpeg  \n",
            "  inflating: data_raw/images - 2020-10-12T140359.612.jpeg  \n",
            "  inflating: data_raw/images - 2020-10-12T140359.617.jpeg  \n",
            "  inflating: data_raw/images - 2020-10-12T140359.622.jpeg  \n",
            "  inflating: data_raw/images - 2020-10-12T140359.624.jpeg  \n",
            "  inflating: data_raw/images - 2020-10-12T140359.625.jpeg  \n",
            "  inflating: data_raw/images - 2020-10-12T140359.627.jpeg  \n",
            "  inflating: data_raw/images - 2020-10-12T140359.630.jpeg  \n",
            "  inflating: data_raw/images - 2020-10-12T140359.638.jpeg  \n",
            "  inflating: data_raw/images - 2020-10-12T140359.639.jpeg  \n",
            "  inflating: data_raw/images - 2020-10-12T140359.645.jpeg  \n",
            "  inflating: data_raw/images - 2020-10-12T140359.679.jpeg  \n",
            "  inflating: data_raw/images - 2020-10-12T140359.680.jpeg  \n",
            "  inflating: data_raw/images - 2020-10-12T140359.686.jpeg  \n",
            "  inflating: data_raw/images - 2020-10-12T140359.687.jpeg  \n",
            "  inflating: data_raw/images - 2020-10-12T140359.691.jpeg  \n",
            "  inflating: data_raw/images - 2020-10-12T140359.693.jpeg  \n",
            "  inflating: data_raw/images - 2020-10-12T140359.708.jpeg  \n",
            "  inflating: data_raw/images - 2020-10-12T140359.709.jpeg  \n",
            "  inflating: data_raw/images - 2020-10-12T140359.718.jpeg  \n",
            "  inflating: data_raw/images - 2020-10-12T140359.742.jpeg  \n",
            "  inflating: data_raw/images - 2020-10-12T140359.743.jpeg  \n",
            "  inflating: data_raw/images - 2020-10-12T140359.750.jpeg  \n",
            "  inflating: data_raw/images - 2020-10-12T140359.755.jpeg  \n",
            "  inflating: data_raw/images - 2020-10-12T140359.756.jpeg  \n",
            "  inflating: data_raw/images - 2020-10-12T140359.764.jpeg  \n",
            "  inflating: data_raw/images - 2020-10-12T140359.766.jpeg  \n",
            "  inflating: data_raw/images - 2020-10-12T140359.767.jpeg  \n",
            "  inflating: data_raw/images - 2020-10-12T140359.773.jpeg  \n",
            "  inflating: data_raw/images - 2020-10-12T140359.778.jpeg  \n",
            "  inflating: data_raw/images - 2020-10-12T140359.798.jpeg  \n",
            "  inflating: data_raw/images - 2020-10-12T140359.809.jpeg  \n",
            "  inflating: data_raw/images - 2020-10-12T140359.821.jpeg  \n",
            "  inflating: data_raw/images - 2020-10-12T140359.840.jpeg  \n",
            "  inflating: data_raw/images - 2020-10-12T140359.841.jpeg  \n",
            "  inflating: data_raw/images - 2020-10-12T140359.848.jpeg  \n",
            "  inflating: data_raw/images - 2020-10-12T140359.856.jpeg  \n",
            "  inflating: data_raw/images - 2020-10-12T140359.890.jpeg  \n",
            "  inflating: data_raw/images - 2020-10-12T140359.920.jpeg  \n",
            "  inflating: data_raw/images - 2020-10-12T140359.930.jpeg  \n",
            "  inflating: data_raw/images - 2020-10-12T140359.938.jpeg  \n",
            "  inflating: data_raw/images - 2020-10-12T140359.946.jpeg  \n",
            "  inflating: data_raw/images - 2020-10-12T140359.949.jpeg  \n",
            "  inflating: data_raw/images - 2020-10-12T140359.950.jpeg  \n",
            "  inflating: data_raw/images - 2020-10-12T140359.951.jpeg  \n",
            "  inflating: data_raw/images - 2020-10-12T140359.952.jpeg  \n",
            "  inflating: data_raw/images - 2020-10-12T140359.953.jpeg  \n",
            "  inflating: data_raw/images - 2020-10-12T140359.954.jpeg  \n",
            "  inflating: data_raw/images - 2020-10-12T140359.955.jpeg  \n",
            "  inflating: data_raw/images - 2020-10-12T140359.956.jpeg  \n",
            "  inflating: data_raw/images - 2020-10-12T140359.957.jpeg  \n",
            "  inflating: data_raw/images - 2020-10-12T140359.960.jpeg  \n",
            "  inflating: data_raw/images - 2020-10-12T140359.961.jpeg  \n",
            "  inflating: data_raw/images - 2020-10-12T140359.962.jpeg  \n",
            "  inflating: data_raw/images - 2020-10-12T140359.963.jpeg  \n",
            "  inflating: data_raw/images - 2020-10-12T140359.964.jpeg  \n",
            "  inflating: data_raw/images - 2020-10-12T140359.966.jpeg  \n",
            "  inflating: data_raw/images - 2020-10-12T140359.967.jpeg  \n",
            "  inflating: data_raw/images - 2020-10-12T140359.968.jpeg  \n",
            "  inflating: data_raw/images - 2020-10-12T140359.969.jpeg  \n",
            "  inflating: data_raw/images - 2020-10-12T140359.974.jpeg  \n",
            "  inflating: data_raw/images - 2020-10-12T140359.980.jpeg  \n",
            "  inflating: data_raw/images - 2020-10-12T140359.981.jpeg  \n",
            "  inflating: data_raw/images - 2020-10-12T140359.989.jpeg  \n",
            "  inflating: data_raw/images - 2020-10-12T140359.992.jpeg  \n",
            "  inflating: data_raw/images - 2020-10-12T140359.995.jpeg  \n",
            "  inflating: data_raw/images - 2020-10-12T140359.997.jpeg  \n",
            "  inflating: data_raw/images - 2020-10-12T140359.999.jpeg  \n",
            "  inflating: data_raw/images - 2020-10-12T140400.000.jpeg  \n",
            "  inflating: data_raw/images - 2020-10-12T140400.001.jpeg  \n",
            "  inflating: data_raw/images - 2020-10-12T140400.047.jpeg  \n",
            "  inflating: data_raw/images - 2020-10-12T140400.060.jpeg  \n",
            "  inflating: data_raw/images - 2020-10-12T140400.061.jpeg  \n",
            "  inflating: data_raw/images - 2020-10-12T140400.099.jpeg  \n",
            "  inflating: data_raw/images - 2020-10-12T140400.100.jpeg  \n",
            "  inflating: data_raw/images - 2020-10-12T140400.101.jpeg  \n",
            "  inflating: data_raw/images - 2020-10-12T140400.106.jpeg  \n",
            "  inflating: data_raw/images - 2020-10-12T140400.107.jpeg  \n",
            "  inflating: data_raw/images - 2020-10-12T140400.115.jpeg  \n",
            "  inflating: data_raw/images - 2020-10-12T140400.123.jpeg  \n",
            "  inflating: data_raw/images - 2020-10-12T140400.131.jpeg  \n",
            "  inflating: data_raw/images - 2020-10-12T140400.138.jpeg  \n",
            "  inflating: data_raw/images - 2020-10-12T140400.140.jpeg  \n",
            "  inflating: data_raw/images - 2020-10-12T140400.159.jpeg  \n",
            "  inflating: data_raw/images - 2020-10-12T140400.160.jpeg  \n",
            "  inflating: data_raw/images - 2020-10-12T140400.176.jpeg  \n",
            "  inflating: data_raw/images - 2020-10-12T140400.183.jpeg  \n",
            "  inflating: data_raw/images - 2020-10-12T140400.184.jpeg  \n",
            "  inflating: data_raw/images - 2020-10-12T140400.185.jpeg  \n",
            "  inflating: data_raw/images - 2020-10-12T140400.273.jpeg  \n",
            "  inflating: data_raw/images - 2020-10-12T140400.289.jpeg  \n",
            "  inflating: data_raw/images - 2020-10-12T140400.292.jpeg  \n",
            "  inflating: data_raw/images - 2020-10-12T140400.293.jpeg  \n",
            "  inflating: data_raw/images - 2020-10-12T140400.309.jpeg  \n",
            "  inflating: data_raw/images - 2020-10-12T140400.312.jpeg  \n",
            "  inflating: data_raw/images - 2020-10-12T140400.315.jpeg  \n",
            "  inflating: data_raw/images - 2020-10-12T140400.316.jpeg  \n",
            "  inflating: data_raw/images - 2020-10-12T140400.317.jpeg  \n",
            "  inflating: data_raw/images - 2020-10-12T140400.318.jpeg  \n",
            "  inflating: data_raw/images - 2020-10-12T140400.319.jpeg  \n",
            "  inflating: data_raw/images - 2020-10-12T140400.320.jpeg  \n",
            "  inflating: data_raw/images - 2020-10-12T140400.333.jpeg  \n",
            "  inflating: data_raw/images - 2020-10-12T140400.337.jpeg  \n",
            "  inflating: data_raw/images - 2020-10-12T140400.341.jpeg  \n",
            "  inflating: data_raw/images - 2020-10-12T140400.343.jpeg  \n",
            "  inflating: data_raw/images - 2020-10-12T140400.346.jpeg  \n",
            "  inflating: data_raw/images - 2020-10-12T140400.347.jpeg  \n",
            "  inflating: data_raw/images - 2020-10-12T140400.349.jpeg  \n",
            "  inflating: data_raw/images - 2020-10-12T140400.350.jpeg  \n",
            "  inflating: data_raw/images - 2020-10-12T140400.351.jpeg  \n",
            "  inflating: data_raw/images - 2020-10-12T140400.352.jpeg  \n",
            "  inflating: data_raw/images - 2020-10-12T140400.353.jpeg  \n",
            "  inflating: data_raw/images - 2020-10-12T140400.354.jpeg  \n",
            "  inflating: data_raw/images - 2020-10-12T140400.365.jpeg  \n",
            "  inflating: data_raw/images - 2020-10-12T140400.372.jpeg  \n",
            "  inflating: data_raw/images - 2020-10-12T140400.373.jpeg  \n",
            "  inflating: data_raw/images - 2020-10-12T140400.377.jpeg  \n",
            "  inflating: data_raw/images - 2020-10-12T140400.378.jpeg  \n",
            "  inflating: data_raw/images - 2020-10-12T140400.379.jpeg  \n",
            "  inflating: data_raw/images - 2020-10-12T140400.380.jpeg  \n",
            "  inflating: data_raw/images - 2020-10-12T140400.400.jpeg  \n",
            "  inflating: data_raw/images - 2020-10-12T140400.401.jpeg  \n",
            "  inflating: data_raw/images - 2020-10-12T140400.439.jpeg  \n",
            "  inflating: data_raw/images - 2020-10-12T140400.441.jpeg  \n",
            "  inflating: data_raw/images - 2020-10-12T140400.442.jpeg  \n",
            "  inflating: data_raw/images - 2020-10-12T140400.444.jpeg  \n",
            "  inflating: data_raw/images - 2020-10-12T140400.461.jpeg  \n",
            "  inflating: data_raw/images - 2020-10-12T140400.469.jpeg  \n",
            "  inflating: data_raw/images - 2020-10-12T140400.638.jpeg  \n",
            "  inflating: data_raw/images - 2020-10-12T140400.646.jpeg  \n",
            "  inflating: data_raw/images - 2020-10-12T140400.713.jpeg  \n",
            "  inflating: data_raw/images - 2020-10-12T140400.721.jpeg  \n",
            "  inflating: data_raw/images - 2020-10-12T140400.743.jpeg  \n",
            "  inflating: data_raw/images - 2020-10-12T140400.819.jpeg  \n",
            "  inflating: data_raw/images - 2020-10-12T140400.881.jpeg  \n",
            "  inflating: data_raw/images - 2020-10-12T140400.952.jpeg  \n",
            "  inflating: data_raw/images - 2020-10-12T140401.044.jpeg  \n",
            "  inflating: data_raw/images - 2020-10-12T140401.091.jpeg  \n",
            "  inflating: data_raw/images - 2020-10-18T171847.439.jpeg  \n",
            "  inflating: data_raw/images - 2020-10-18T171847.461.jpeg  \n",
            "  inflating: data_raw/images - 2020-10-18T171847.514.jpeg  \n",
            "  inflating: data_raw/images - 2020-10-18T171847.515.jpeg  \n",
            "  inflating: data_raw/images - 2020-10-18T171847.516.jpeg  \n",
            "  inflating: data_raw/images - 2020-10-18T171847.517.jpeg  \n",
            "  inflating: data_raw/images - 2020-10-18T171847.518.jpeg  \n",
            "  inflating: data_raw/images - 2020-10-18T171847.519.jpeg  \n",
            "  inflating: data_raw/images - 2020-10-18T171847.520.jpeg  \n",
            "  inflating: data_raw/images - 2020-10-18T171847.596.jpeg  \n",
            "  inflating: data_raw/images - 2020-10-18T171847.597.jpeg  \n",
            "  inflating: data_raw/images - 2020-10-18T171847.599.jpeg  \n",
            "  inflating: data_raw/images - 2020-10-18T171847.619.jpeg  \n",
            "  inflating: data_raw/images - 2020-10-18T171847.620.jpeg  \n",
            "  inflating: data_raw/images - 2020-10-18T171847.636.jpeg  \n",
            "  inflating: data_raw/images - 2020-10-18T171847.652.jpeg  \n",
            "  inflating: data_raw/images - 2020-10-18T171847.653.jpeg  \n",
            "  inflating: data_raw/images - 2020-10-18T171847.680.jpeg  \n",
            "  inflating: data_raw/images - 2020-10-18T171847.682.jpeg  \n",
            "  inflating: data_raw/images - 2020-10-18T171847.683.jpeg  \n",
            "  inflating: data_raw/images - 2020-10-18T171847.785.jpeg  \n",
            "  inflating: data_raw/images - 2020-10-18T171847.786.jpeg  \n",
            "  inflating: data_raw/images - 2020-10-18T171847.789.jpeg  \n",
            "  inflating: data_raw/images - 2020-10-18T171847.790.jpeg  \n",
            "  inflating: data_raw/images - 2020-10-18T171847.792.jpeg  \n",
            "  inflating: data_raw/images - 2020-10-18T171847.806.jpeg  \n",
            "  inflating: data_raw/images - 2020-10-18T171847.817.jpeg  \n",
            "  inflating: data_raw/images - 2020-10-18T171847.823.jpeg  \n",
            "  inflating: data_raw/images - 2020-10-18T171847.824.jpeg  \n",
            "  inflating: data_raw/images - 2020-10-18T171847.830.jpeg  \n",
            "  inflating: data_raw/images - 2020-10-18T171847.847.jpeg  \n",
            "  inflating: data_raw/images - 2020-10-18T171847.858.jpeg  \n",
            "  inflating: data_raw/images - 2020-10-18T171847.896.jpeg  \n",
            "  inflating: data_raw/images - 2020-10-18T171847.904.jpeg  \n",
            "  inflating: data_raw/images - 2020-10-18T171847.905.jpeg  \n",
            "  inflating: data_raw/images - 2020-10-18T171847.911.jpeg  \n",
            "  inflating: data_raw/images - 2020-10-18T171847.979.jpeg  \n",
            "  inflating: data_raw/images - 2020-10-18T171847.980.jpeg  \n",
            "  inflating: data_raw/images - 2020-10-18T171848.011.jpeg  \n",
            "  inflating: data_raw/images - 2020-10-18T171848.018.jpeg  \n",
            "  inflating: data_raw/images - 2020-10-18T171848.019.jpeg  \n",
            "  inflating: data_raw/images - 2020-10-18T171848.020.jpeg  \n",
            "  inflating: data_raw/images - 2020-10-18T171848.021.jpeg  \n",
            "  inflating: data_raw/images - 2020-10-18T171848.022.jpeg  \n",
            "  inflating: data_raw/images - 2020-10-18T171848.023.jpeg  \n",
            "  inflating: data_raw/images - 2020-10-18T171848.027.jpeg  \n",
            "  inflating: data_raw/images - 2020-10-18T171848.028.jpeg  \n",
            "  inflating: data_raw/images - 2020-10-18T171848.029.jpeg  \n",
            "  inflating: data_raw/images - 2020-10-18T171848.030.jpeg  \n",
            "  inflating: data_raw/images - 2020-10-18T171848.031.jpeg  \n",
            "  inflating: data_raw/images - 2020-10-18T171848.032.jpeg  \n",
            "  inflating: data_raw/images - 2020-10-18T171848.033.jpeg  \n",
            "  inflating: data_raw/images - 2020-10-18T171848.034.jpeg  \n",
            "  inflating: data_raw/images - 2020-10-18T171848.035.jpeg  \n",
            "  inflating: data_raw/images - 2020-10-18T171848.036.jpeg  \n",
            "  inflating: data_raw/images - 2020-10-18T171848.038.jpeg  \n",
            "  inflating: data_raw/images - 2020-10-18T171848.039.jpeg  \n",
            "  inflating: data_raw/images - 2020-10-18T171848.044.jpeg  \n",
            "  inflating: data_raw/images - 2020-10-18T171848.045.jpeg  \n",
            "  inflating: data_raw/images - 2020-10-18T171848.046.jpeg  \n",
            "  inflating: data_raw/images - 2020-10-18T171848.047.jpeg  \n",
            "  inflating: data_raw/images - 2020-10-18T171848.049.jpeg  \n",
            "  inflating: data_raw/images - 2020-10-18T171848.077.jpeg  \n",
            "  inflating: data_raw/images - 2020-10-18T171848.078.jpeg  \n",
            "  inflating: data_raw/images - 2020-10-18T171848.079.jpeg  \n",
            "  inflating: data_raw/images - 2020-10-18T171848.138.jpeg  \n",
            "  inflating: data_raw/images - 2020-10-18T171848.142.jpeg  \n",
            "  inflating: data_raw/images - 2020-10-18T171848.143.jpeg  \n",
            "  inflating: data_raw/images - 2020-10-18T171848.146.jpeg  \n",
            "  inflating: data_raw/images - 2020-10-18T171848.156.jpeg  \n",
            "  inflating: data_raw/images - 2020-10-18T171848.271.jpeg  \n",
            "  inflating: data_raw/images - 2020-10-18T171848.272.jpeg  \n",
            "  inflating: data_raw/images - 2020-10-18T171848.319.jpeg  \n",
            "  inflating: data_raw/images - 2020-10-18T171848.326.jpeg  \n",
            "  inflating: data_raw/images - 2020-10-18T171848.327.jpeg  \n",
            "  inflating: data_raw/images - 2020-10-18T171848.328.jpeg  \n",
            "  inflating: data_raw/images - 2020-10-18T171848.361.jpeg  \n",
            "  inflating: data_raw/images - 2020-10-18T171848.388.jpeg  \n",
            "  inflating: data_raw/images - 2020-10-18T171848.389.jpeg  \n",
            "  inflating: data_raw/images - 2020-10-18T171848.390.jpeg  \n",
            "  inflating: data_raw/images - 2020-10-18T171848.391.jpeg  \n",
            "  inflating: data_raw/images - 2020-10-18T171848.393.jpeg  \n",
            "  inflating: data_raw/images - 2020-10-18T171848.394.jpeg  \n",
            "  inflating: data_raw/images - 2020-10-18T171848.395.jpeg  \n",
            "  inflating: data_raw/images - 2020-10-18T171848.396.jpeg  \n",
            "  inflating: data_raw/images - 2020-10-18T171848.397.jpeg  \n",
            "  inflating: data_raw/images - 2020-10-18T171848.398.jpeg  \n",
            "  inflating: data_raw/images - 2020-10-18T171848.418.jpeg  \n",
            "  inflating: data_raw/images - 2020-10-18T171848.419.jpeg  \n",
            "  inflating: data_raw/images - 2020-10-18T171848.448.jpeg  \n",
            "  inflating: data_raw/images - 2020-10-18T171848.449.jpeg  \n",
            "  inflating: data_raw/images - 2020-10-18T171848.451.jpeg  \n",
            "  inflating: data_raw/images - 2020-10-18T171848.453.jpeg  \n",
            "  inflating: data_raw/images - 2020-10-18T171848.454.jpeg  \n",
            "  inflating: data_raw/images - 2020-10-18T171848.499.jpeg  \n",
            "  inflating: data_raw/images - 2020-10-18T171848.500.jpeg  \n",
            "  inflating: data_raw/images - 2020-10-18T171848.501.jpeg  \n",
            "  inflating: data_raw/images - 2020-10-18T171848.503.jpeg  \n",
            "  inflating: data_raw/images - 2020-10-18T171848.577.jpeg  \n",
            "  inflating: data_raw/images - 2020-10-18T171848.585.jpeg  \n",
            "  inflating: data_raw/images - 2020-10-18T171848.592.jpeg  \n",
            "  inflating: data_raw/images - 2020-10-18T171848.730.jpeg  \n",
            "  inflating: data_raw/images - 2020-10-18T171848.731.jpeg  \n",
            "  inflating: data_raw/images - 2020-10-18T171848.732.jpeg  \n",
            "  inflating: data_raw/images - 2020-10-18T171848.733.jpeg  \n",
            "  inflating: data_raw/images - 2020-10-18T171848.734.jpeg  \n",
            "  inflating: data_raw/images - 2020-10-18T171848.735.jpeg  \n",
            "  inflating: data_raw/images - 2020-10-18T171848.736.jpeg  \n",
            "  inflating: data_raw/images - 2020-10-18T171848.738.jpeg  \n",
            "  inflating: data_raw/images - 2020-10-18T171848.739.jpeg  \n",
            "  inflating: data_raw/images - 2020-10-18T171848.742.jpeg  \n",
            "  inflating: data_raw/images - 2020-10-18T171848.866.jpeg  \n",
            "  inflating: data_raw/images - 2020-10-18T171848.867.jpeg  \n",
            "  inflating: data_raw/images - 2020-10-18T171848.868.jpeg  \n",
            "  inflating: data_raw/images - 2020-10-18T171848.869.jpeg  \n",
            "  inflating: data_raw/images - 2020-10-18T171849.015.jpeg  \n",
            "  inflating: data_raw/images - 2020-10-18T171849.016.jpeg  \n",
            "  inflating: data_raw/images - 2020-10-18T171849.017.jpeg  \n",
            "  inflating: data_raw/images - 2020-10-18T171849.022.jpeg  \n",
            "  inflating: data_raw/images - 2020-10-18T171849.031.jpeg  \n",
            "  inflating: data_raw/images - 2020-10-18T171849.067.jpeg  \n",
            "  inflating: data_raw/images - 2020-10-18T171849.089.jpeg  \n",
            "  inflating: data_raw/images - 2020-10-18T171849.167.jpeg  \n",
            "  inflating: data_raw/images - 2020-10-18T171849.212.jpeg  \n",
            "  inflating: data_raw/images - 2020-10-18T171849.216.jpeg  \n",
            "  inflating: data_raw/images - 2020-10-18T171849.232.jpeg  \n",
            "  inflating: data_raw/images - 2020-10-18T171849.233.jpeg  \n",
            "  inflating: data_raw/images - 2020-10-18T171849.234.jpeg  \n",
            "  inflating: data_raw/images - 2020-10-18T171849.246.jpeg  \n",
            "  inflating: data_raw/images - 2020-10-18T171849.247.jpeg  \n",
            "  inflating: data_raw/images - 2020-10-18T171849.251.jpeg  \n",
            "  inflating: data_raw/images - 2020-10-18T171849.253.jpeg  \n",
            "  inflating: data_raw/images - 2020-10-18T171849.261.jpeg  \n",
            "  inflating: data_raw/images - 2020-10-18T171849.262.jpeg  \n",
            "  inflating: data_raw/images - 2020-10-18T171849.263.jpeg  \n",
            "  inflating: data_raw/images - 2020-10-18T171849.264.jpeg  \n",
            "  inflating: data_raw/images - 2020-10-18T171849.266.jpeg  \n",
            "  inflating: data_raw/images - 2020-10-18T171849.267.jpeg  \n",
            "  inflating: data_raw/images - 2020-10-18T171849.268.jpeg  \n",
            "  inflating: data_raw/images - 2020-10-18T171849.269.jpeg  \n",
            "  inflating: data_raw/images - 2020-10-18T171849.271.jpeg  \n",
            "  inflating: data_raw/images - 2020-10-18T171849.273.jpeg  \n",
            "  inflating: data_raw/images - 2020-10-18T171849.275.jpeg  \n",
            "  inflating: data_raw/images - 2020-10-18T171849.276.jpeg  \n",
            "  inflating: data_raw/images - 2020-10-18T171849.277.jpeg  \n",
            "  inflating: data_raw/images - 2020-10-18T171849.278.jpeg  \n",
            "  inflating: data_raw/images - 2020-10-18T171849.286.jpeg  \n",
            "  inflating: data_raw/images - 2020-10-18T171849.287.jpeg  \n",
            "  inflating: data_raw/images - 2020-10-18T171849.288.jpeg  \n",
            "  inflating: data_raw/images - 2020-10-18T171849.289.jpeg  \n",
            "  inflating: data_raw/images - 2020-10-18T171849.290.jpeg  \n",
            "  inflating: data_raw/images - 2020-10-18T171849.291.jpeg  \n",
            "  inflating: data_raw/images - 2020-10-18T171849.295.jpeg  \n",
            "  inflating: data_raw/images - 2020-10-18T171849.296.jpeg  \n",
            "  inflating: data_raw/images - 2020-10-18T171849.297.jpeg  \n",
            "  inflating: data_raw/images - 2020-10-18T171849.298.jpeg  \n",
            "  inflating: data_raw/images - 2020-10-18T171849.299.jpeg  \n",
            "  inflating: data_raw/images - 2020-10-18T171849.300.jpeg  \n",
            "  inflating: data_raw/images - 2020-10-18T171849.301.jpeg  \n",
            "  inflating: data_raw/images - 2020-10-18T171849.302.jpeg  \n",
            "  inflating: data_raw/images - 2020-10-18T171849.304.jpeg  \n",
            "  inflating: data_raw/images - 2020-10-18T171849.305.jpeg  \n",
            "  inflating: data_raw/images - 2020-10-18T171849.306.jpeg  \n",
            "  inflating: data_raw/images - 2020-10-18T171849.307.jpeg  \n",
            "  inflating: data_raw/images - 2020-10-18T171849.311.jpeg  \n",
            "  inflating: data_raw/images - 2020-10-18T171849.312.jpeg  \n",
            "  inflating: data_raw/images - 2020-10-18T171849.315.jpeg  \n",
            "  inflating: data_raw/images - 2020-10-18T171849.317.jpeg  \n",
            "  inflating: data_raw/images - 2020-10-18T171849.319.jpeg  \n",
            "  inflating: data_raw/images - 2020-10-18T171849.321.jpeg  \n",
            "  inflating: data_raw/images - 2020-10-18T171849.323.jpeg  \n",
            "  inflating: data_raw/images - 2020-10-18T171849.324.jpeg  \n",
            "  inflating: data_raw/images - 2020-10-18T171849.325.jpeg  \n",
            "  inflating: data_raw/images - 2020-10-18T171849.331.jpeg  \n",
            "  inflating: data_raw/images - 2020-10-18T171849.332.jpeg  \n",
            "  inflating: data_raw/images - 2020-10-18T171849.340.jpeg  \n",
            "  inflating: data_raw/images - 2020-10-18T171849.350.jpeg  \n",
            "  inflating: data_raw/images - 2020-10-18T171849.351.jpeg  \n",
            "  inflating: data_raw/images - 2020-10-18T171849.354.jpeg  \n",
            "  inflating: data_raw/images - 2020-10-18T171849.355.jpeg  \n",
            "  inflating: data_raw/images - 2020-10-18T171849.358.jpeg  \n",
            "  inflating: data_raw/images - 2020-10-18T171849.359.jpeg  \n",
            "  inflating: data_raw/images - 2020-10-18T171849.360.jpeg  \n",
            "  inflating: data_raw/images - 2020-10-18T171849.361.jpeg  \n",
            "  inflating: data_raw/images - 2020-10-18T171849.362.jpeg  \n",
            "  inflating: data_raw/images - 2020-10-18T171849.373.jpeg  \n",
            "  inflating: data_raw/images - 2020-10-18T171849.374.jpeg  \n",
            "  inflating: data_raw/images - 2020-10-18T171849.375.jpeg  \n",
            "  inflating: data_raw/images - 2020-10-18T171849.416.jpeg  \n",
            "  inflating: data_raw/images - 2020-10-18T171849.421.jpeg  \n",
            "  inflating: data_raw/images - 2020-10-18T171849.422.jpeg  \n",
            "  inflating: data_raw/images - 2020-10-18T171849.423.jpeg  \n",
            "  inflating: data_raw/images - 2020-10-18T171849.426.jpeg  \n",
            "  inflating: data_raw/images - 2020-10-18T171849.428.jpeg  \n",
            "  inflating: data_raw/images - 2020-10-18T171849.429.jpeg  \n",
            "  inflating: data_raw/images - 2020-10-18T171849.430.jpeg  \n",
            "  inflating: data_raw/images - 2020-10-18T171849.432.jpeg  \n",
            "  inflating: data_raw/images - 2020-10-18T171849.433.jpeg  \n",
            "  inflating: data_raw/images - 2020-10-18T171849.436.jpeg  \n",
            "  inflating: data_raw/images - 2020-10-18T171849.441.jpeg  \n",
            "  inflating: data_raw/images - 2020-10-18T171849.442.jpeg  \n",
            "  inflating: data_raw/images - 2020-10-18T171849.448.jpeg  \n",
            "  inflating: data_raw/images - 2020-10-18T171849.449.jpeg  \n",
            "  inflating: data_raw/images - 2020-10-18T171849.452.jpeg  \n",
            "  inflating: data_raw/images - 2020-10-18T171849.453.jpeg  \n",
            "  inflating: data_raw/images - 2020-10-18T171849.454.jpeg  \n",
            "  inflating: data_raw/images - 2020-10-18T171849.457.jpeg  \n",
            "  inflating: data_raw/images - 2020-10-18T171849.458.jpeg  \n",
            "  inflating: data_raw/images - 2020-10-18T171849.459.jpeg  \n",
            "  inflating: data_raw/images - 2020-10-18T171849.461.jpeg  \n",
            "  inflating: data_raw/images - 2020-10-18T171849.474.jpeg  \n",
            "  inflating: data_raw/images - 2020-10-18T171849.481.jpeg  \n",
            "  inflating: data_raw/images - 2020-10-18T171849.482.jpeg  \n",
            "  inflating: data_raw/images - 2020-10-18T171849.539.jpeg  \n",
            "  inflating: data_raw/images - 2020-10-18T171849.716.jpeg  \n",
            "  inflating: data_raw/images - 2020-10-18T171849.720.jpeg  \n",
            "  inflating: data_raw/images - 2020-10-18T171849.724.jpeg  \n",
            "  inflating: data_raw/images - 2020-10-18T171849.725.jpeg  \n",
            "  inflating: data_raw/images - 2020-10-18T171849.726.jpeg  \n",
            "  inflating: data_raw/images - 2020-10-18T171849.735.jpeg  \n",
            "  inflating: data_raw/images - 2020-10-18T171849.736.jpeg  \n",
            "  inflating: data_raw/images - 2020-10-18T171849.737.jpeg  \n",
            "  inflating: data_raw/images - 2020-10-18T171849.738.jpeg  \n",
            "  inflating: data_raw/images - 2020-10-18T171849.739.jpeg  \n",
            "  inflating: data_raw/images - 2020-10-18T171849.740.jpeg  \n",
            "  inflating: data_raw/images - 2020-10-18T171849.743.jpeg  \n",
            "  inflating: data_raw/images - 2020-10-18T171849.744.jpeg  \n",
            "  inflating: data_raw/images - 2020-10-18T171849.745.jpeg  \n",
            "  inflating: data_raw/images - 2020-10-18T171849.752.jpeg  \n",
            "  inflating: data_raw/images - 2020-10-18T171849.771.jpeg  \n",
            "  inflating: data_raw/images - 2020-10-18T171849.781.jpeg  \n",
            "  inflating: data_raw/images - 2020-10-18T171849.782.jpeg  \n",
            "  inflating: data_raw/images - 2020-10-18T171849.783.jpeg  \n",
            "  inflating: data_raw/images - 2020-10-18T171849.800.jpeg  \n",
            "  inflating: data_raw/images - 2020-10-18T171849.801.jpeg  \n",
            "  inflating: data_raw/images - 2020-10-18T171849.802.jpeg  \n",
            "  inflating: data_raw/images - 2020-10-18T171849.803.jpeg  \n",
            "  inflating: data_raw/images - 2020-10-18T171849.835.jpeg  \n",
            "  inflating: data_raw/images - 2020-10-18T171849.836.jpeg  \n",
            "  inflating: data_raw/images - 2020-10-18T171849.837.jpeg  \n",
            "  inflating: data_raw/images - 2020-10-18T171849.838.jpeg  \n",
            "  inflating: data_raw/images - 2020-10-18T171849.841.jpeg  \n",
            "  inflating: data_raw/images - 2020-10-18T171849.842.jpeg  \n",
            "  inflating: data_raw/images - 2020-10-18T171849.843.jpeg  \n",
            "  inflating: data_raw/images - 2020-10-18T171849.844.jpeg  \n",
            "  inflating: data_raw/images - 2020-10-18T171849.845.jpeg  \n",
            "  inflating: data_raw/images - 2020-10-18T171849.846.jpeg  \n",
            "  inflating: data_raw/images - 2020-10-18T171849.847.jpeg  \n",
            "  inflating: data_raw/images - 2020-10-18T171849.848.jpeg  \n",
            "  inflating: data_raw/images - 2020-10-18T171849.849.jpeg  \n",
            "  inflating: data_raw/images - 2020-10-18T171849.851.jpeg  \n",
            "  inflating: data_raw/images - 2020-10-18T171849.859.jpeg  \n",
            "  inflating: data_raw/images.jpeg    \n",
            "  inflating: data_raw/images.jpg     \n",
            "  inflating: data_raw/images.png     \n",
            "  inflating: data_raw/images1.jpeg   \n",
            "  inflating: data_raw/images10.jpeg  \n",
            "  inflating: data_raw/images11.jpeg  \n",
            "  inflating: data_raw/images12.jpeg  \n",
            "  inflating: data_raw/images13.jpeg  \n",
            "  inflating: data_raw/images14.jpeg  \n",
            "  inflating: data_raw/images15.jpeg  \n",
            "  inflating: data_raw/images16.jpeg  \n",
            "  inflating: data_raw/images17.jpeg  \n",
            "  inflating: data_raw/images18.jpeg  \n",
            "  inflating: data_raw/images19.jpeg  \n",
            "  inflating: data_raw/images2.jpeg   \n",
            "  inflating: data_raw/images2.jpg    \n",
            "  inflating: data_raw/images20.jpeg  \n",
            "  inflating: data_raw/images21.jpeg  \n",
            "  inflating: data_raw/images22.jpeg  \n",
            "  inflating: data_raw/images23.jpeg  \n",
            "  inflating: data_raw/images24.jpeg  \n",
            "  inflating: data_raw/images25.jpeg  \n",
            "  inflating: data_raw/images26.jpeg  \n",
            "  inflating: data_raw/images27.jpeg  \n",
            "  inflating: data_raw/images28.jpeg  \n",
            "  inflating: data_raw/images29.jpeg  \n",
            "  inflating: data_raw/images3.jpeg   \n",
            "  inflating: data_raw/images30.jpeg  \n",
            "  inflating: data_raw/images4.jpeg   \n",
            "  inflating: data_raw/images5.jpeg   \n",
            "  inflating: data_raw/images7.jpeg   \n",
            "  inflating: data_raw/images8.jpeg   \n",
            "  inflating: data_raw/images9.jpeg   \n",
            "  inflating: data_raw/imagesfqe.jpeg  \n",
            "  inflating: data_raw/imageswrf.jpeg  \n",
            "  inflating: data_raw/indigenouswarao.jpg  \n",
            "  inflating: data_raw/inpartsofasi.jpg  \n",
            "  inflating: data_raw/iuhknjl.jpeg   \n",
            "  inflating: data_raw/j564hgref.jpeg  \n",
            "  inflating: data_raw/jghfgd.jpeg    \n",
            "  inflating: data_raw/k11.jpeg       \n",
            "  inflating: data_raw/k7u6jyhtegrwfe.jpeg  \n",
            "  inflating: data_raw/kids-face-mask.jpg  \n",
            "  inflating: data_raw/kids-face-masks-kr-2x1-tease-200618_f348d9b4b078366777b7d72791bfe7ca.jpg  \n",
            "  inflating: data_raw/kids-face-masks-test-lowres.jpg  \n",
            "  inflating: data_raw/kids_going_to_school_with_masks.jpg  \n",
            "  inflating: data_raw/kjhbgvyhuij.jpeg  \n",
            "  inflating: data_raw/kjhg.jpeg      \n",
            "  inflating: data_raw/kju6yhfwe.jpeg  \n",
            "  inflating: data_raw/koikhuj.jpeg   \n",
            "  inflating: data_raw/korea-2-rt-er-200227_hpMain_16x9_992.jpg  \n",
            "  inflating: data_raw/large_3BhWCflLjjQ8eanEuzH8bJQJOUmidHATPLwkO71RjlA.jpg  \n",
            "  inflating: data_raw/lkjhgfd.jpeg   \n",
            "  inflating: data_raw/lkjhgfds.jpeg  \n",
            "  inflating: data_raw/llkj.jpeg      \n",
            "  inflating: data_raw/m.jpeg         \n",
            "  inflating: data_raw/man_worried.jpg  \n",
            "  inflating: data_raw/mask-q-and-a-820x440.jpg  \n",
            "  inflating: data_raw/mask_mvp.png   \n",
            "  inflating: data_raw/maxresdefault (1).jpg  \n",
            "  inflating: data_raw/maxresdefault.jpg  \n",
            "  inflating: data_raw/merlin_169038480_ebd20b36-1101-466c-bc6a-99cba69cdc58-articleLarge.jpg  \n",
            "  inflating: data_raw/merlin_169651932_5e1345b4-6c9b-4308-89fa-7294c4efaa04-mobileMasterAt3x.jpg  \n",
            "  inflating: data_raw/merlin_170835774_0d8a329d-c342-4d6b-bb52-4ce5201c28ee-articleLarge.jpg  \n",
            "  inflating: data_raw/merlin_173411355_b577aa50-cacf-4b76-9d68-c7dfb87f921b-articleLarge.jpg  \n",
            "  inflating: data_raw/mm.jpeg        \n",
            "  inflating: data_raw/mnb.jpeg       \n",
            "  inflating: data_raw/n_msnbc_brk_azar_coronavirus_expectation_200229_1920x1080.focal-760x428.jpg  \n",
            "  inflating: data_raw/n_msnbc_brk_trump_confirmed_death_200229_1920x1080.focal-760x428.jpg  \n",
            "  inflating: data_raw/nbc_trump_fda_orders_200319_1920x1080.focal-760x428.jpg  \n",
            "  inflating: data_raw/nejmc2001272_f1.jpeg  \n",
            "  inflating: data_raw/nn_kod_coronavirus_white_house_200229_1920x1080.jpg  \n",
            "  inflating: data_raw/oinjk.jpeg     \n",
            "  inflating: data_raw/p082g3qb.jpg   \n",
            "  inflating: data_raw/p084wpyy.jpg   \n",
            "  inflating: data_raw/p08bfb4x.jpg   \n",
            "  inflating: data_raw/people-wearing-face-mask-for-protection-3957986-1600x1071.jpg  \n",
            "  inflating: data_raw/people_wearing_masks.jpg  \n",
            "  inflating: data_raw/peter inline.jpg  \n",
            "  inflating: data_raw/photo_camera_grey600_24dp (1).png  \n",
            "  inflating: data_raw/photo_camera_grey600_24dp.png  \n",
            "  inflating: data_raw/qdwsf.jpeg     \n",
            "  inflating: data_raw/qewrt.jpeg     \n",
            "  inflating: data_raw/qwerf.jpeg     \n",
            "  inflating: data_raw/qwertyhj.jpeg  \n",
            "  inflating: data_raw/rally1-1.jpg   \n",
            "  inflating: data_raw/rg.jpeg        \n",
            "  inflating: data_raw/rte.jpeg       \n",
            "  inflating: data_raw/san-francisco-chinatown-masks-coronavirus-getty-20_hpMain_20200227-041603_16x9_1600.jpg  \n",
            "  inflating: data_raw/sdv.jpeg       \n",
            "  inflating: data_raw/sef.jpeg       \n",
            "  inflating: data_raw/shutterstock_1682039668-scaled.jpg  \n",
            "  inflating: data_raw/skynews-cardiff-coronavirus_4942620.jpg  \n",
            "  inflating: data_raw/skynews-coronavirus-covid-19_4963526.jpg  \n",
            "  inflating: data_raw/skynews-coronavirus-uk-shop-queue_5006330.jpg  \n",
            "  inflating: data_raw/skynews-face-masks_5076259.jpg  \n",
            "  inflating: data_raw/special-situations-children-medium.jpg  \n",
            "  inflating: data_raw/swfdgfh.jpeg   \n",
            "  inflating: data_raw/t_9dabd8ff47e441fabb1f8b67522acbda_name_20200229_Trump_WH_coronavirus_Still_1.jpg  \n",
            "  inflating: data_raw/tdy_news_gadi_coronavirus_200521_1920x1080.jpg  \n",
            "  inflating: data_raw/thumbs_b_c_4ec6a48224e41c251875f2acad28cd14.jpg  \n",
            "  inflating: data_raw/thumbs_b_c_96f9ae8ef52b5f48d99d107771c1d9c2.jpg  \n",
            "  inflating: data_raw/trump-3-gty-aa-200313_hpMain_16x9_992.jpg  \n",
            "  inflating: data_raw/uilk.jpeg      \n",
            "  inflating: data_raw/ujhnmk.jpeg    \n",
            "  inflating: data_raw/unnamed (1).png  \n",
            "  inflating: data_raw/unnamed (2).jpg  \n",
            "  inflating: data_raw/unnamed.png    \n",
            "  inflating: data_raw/ur3.jpeg       \n",
            "  inflating: data_raw/visible-mask.jpg  \n",
            "  inflating: data_raw/waersfhtgjhk.jpeg  \n",
            "  inflating: data_raw/weafsrgdthf.jpeg  \n",
            "  inflating: data_raw/wearing_masks_on_a_train.jpg  \n",
            "  inflating: data_raw/wefrg.jpeg     \n",
            "  inflating: data_raw/wererg.jpeg    \n",
            "  inflating: data_raw/wergt.jpeg     \n",
            "  inflating: data_raw/wertyujkgrfe.jpeg  \n",
            "  inflating: data_raw/who-coronavirus-gty-jc-200130_hpMain_16x9_1600.jpg  \n",
            "  inflating: data_raw/wretrg.jpeg    \n",
            "  inflating: data_raw/xJTm2McYHu6N4wF7ip9skU-320-80.jpg  \n",
            "  inflating: data_raw/ytre.jpeg      \n",
            "  inflating: data_with_masks/.DS_Store  \n",
            "  inflating: data_with_masks/004f.jpg  \n",
            "  inflating: data_with_masks/010-wuhan-coronavirus_1024.jpg  \n",
            "  inflating: data_with_masks/012120_jl_coronavirus_feat-1028x579.jpg  \n",
            "  inflating: data_with_masks/020420wuhanlife2_960x540.jpg  \n",
            "  inflating: data_with_masks/030220_tseg_coronavirus_feat-800x450.jpg  \n",
            "  inflating: data_with_masks/032820_ts_coronavirus_feat-1028x579.jpg  \n",
            "  inflating: data_with_masks/106424727-1583349204010gettyimages-1204957934.jpeg  \n",
            "  inflating: data_with_masks/1140-family-distanced-in-park.jpg  \n",
            "  inflating: data_with_masks/11921618-3x2-xlarge.jpg  \n",
            "  inflating: data_with_masks/200129205811-hong-kong-coronavirus-masks-exlarge-169.jpg  \n",
            "  inflating: data_with_masks/200130-Messer-Coronavirus-tease_ffi1jk.jpg  \n",
            "  inflating: data_with_masks/200130095104-coronavirus-wuhan-worker-full-169.jpg  \n",
            "  inflating: data_with_masks/200227-Coronavirus-and-the-potential-impact-on-Supply-Chains-1920x1280-1600x1067.jpg  \n",
            "  inflating: data_with_masks/200301171519-01-coronavirus-washington-state-0229-super-tease.jpg  \n",
            "  inflating: data_with_masks/200309-kirkland-washington-coronavirus-cs-1241p_23b6118983b42e3c7e3cb01f3d73eef9.fit-760w.jpg  \n",
            "  inflating: data_with_masks/2020-02-28T032620Z_1647176435_RC2F9F9ODNLT_RTRMADP_3_HEALTH-CORONAVIRUS-1200x800.jpg  \n",
            "  inflating: data_with_masks/34rgt.jpeg  \n",
            "  inflating: data_with_masks/38ae4a-20200418-north-mpls-free-masks-01.jpg  \n",
            "  inflating: data_with_masks/3hy42tg.jpeg  \n",
            "  inflating: data_with_masks/405f6404-14e6-4e9b-b725-a1ab813d3e4a-AFP_AFP_1RK01S.jpg  \n",
            "  inflating: data_with_masks/420x0.jpg  \n",
            "  inflating: data_with_masks/4aa6044a-4148-11ea-9fd9-ecfbb38a9743_image_hires_205902.jpg  \n",
            "  inflating: data_with_masks/4t.jpeg  \n",
            "  inflating: data_with_masks/51b56742-5874-11ea-b438-8452af50d521_image_hires_112142.jpg  \n",
            "  inflating: data_with_masks/5877213_012420-wtvd-coronavirus-docs-img.jpg  \n",
            "  inflating: data_with_masks/6543.jpeg  \n",
            "  inflating: data_with_masks/67e090550cb14d04b709ec3240ad0dfa_18.jpeg  \n",
            "  inflating: data_with_masks/6Q6FHIN7LZABPNJWA4FEJS4UC4.jpg  \n",
            "  inflating: data_with_masks/6tg.jpeg  \n",
            "  inflating: data_with_masks/8.jpg   \n",
            "  inflating: data_with_masks/860610607.jpg  \n",
            "  inflating: data_with_masks/920x920.jpg  \n",
            "  inflating: data_with_masks/97855f61-1328-4771-9aac-da52bb0c4ce3-VPC_CORONAVIRUS_EXPLAINER_DESK_THUMB.jpg  \n",
            "  inflating: data_with_masks/AP_20030201663763-1000x667.jpg  \n",
            "  inflating: data_with_masks/AP_20035327777691_BN.jpg  \n",
            "  inflating: data_with_masks/AP_20062717338676-1000x667.jpg  \n",
            "  inflating: data_with_masks/AP_20073116772407.jpg  \n",
            "  inflating: data_with_masks/AP_20193726454564-1000x667.jpg  \n",
            "  inflating: data_with_masks/BrightonPark_FILE_1_0.jpg  \n",
            "  inflating: data_with_masks/CLT_mondaycharlotte_306.jpeg  \n",
            "  inflating: data_with_masks/EBT-L-FRIPROTEST-0606-7.jpg  \n",
            "  inflating: data_with_masks/GFD.jpeg  \n",
            "  inflating: data_with_masks/GettyImages-1214886737_e4ebdc2f-6f02-44dc-9714-f55b850b58c9-prv.jpg  \n",
            "  inflating: data_with_masks/GettyImages-1218031592.jpg  \n",
            "  inflating: data_with_masks/HGFD.jpeg  \n",
            "  inflating: data_with_masks/London-face-masks-epidemic-1024x683.jpg  \n",
            "  inflating: data_with_masks/MW-HZ291_corona_20200130090852_ZH.jpg  \n",
            "  inflating: data_with_masks/MW-IC064_corona_20200311170341_ZQ.jpg  \n",
            "  inflating: data_with_masks/Masks.jpg  \n",
            "  inflating: data_with_masks/MedicalPersonnelCoronavirusTestDriver640.jpg  \n",
            "  inflating: data_with_masks/RTS32VNI-layout-comp-e1582813406825-732x419.jpg  \n",
            "  inflating: data_with_masks/Virus_Outbreak_Czech_Republic_Protest_94840.jpg  \n",
            "  inflating: data_with_masks/Woman-mask-grocery-store.jpg  \n",
            "  inflating: data_with_masks/_104224787_tv050424063.jpg  \n",
            "  inflating: data_with_masks/_110646338_mediaitem110646336.jpg  \n",
            "  inflating: data_with_masks/_110755695_gettyimages-1202072951.jpg  \n",
            "  inflating: data_with_masks/_111552161_mediaitem111552159.jpg  \n",
            "  inflating: data_with_masks/ap_france_face_masks_16May20.jpg  \n",
            "  inflating: data_with_masks/asdfghjkldfghjk.jpeg  \n",
            "  inflating: data_with_masks/asdfghjklll.jpeg  \n",
            "  inflating: data_with_masks/b0fe5a8e-47bb-11ea-befc-ef9687daaa85_image_hires_134422.jpg  \n",
            "  inflating: data_with_masks/c055bad6181d509d03e9d3b9c3261c38.jpg  \n",
            "  inflating: data_with_masks/c88f8073-febe-4aaf-9dff-e828a8adc215.jpg  \n",
            "  inflating: data_with_masks/c937abd8d9464b89990eb7140b840bb2_18.jpeg  \n",
            "  inflating: data_with_masks/coronavirus-predictions.jpg  \n",
            "  inflating: data_with_masks/coronavirus-today-main-200130_aef44d5313fc91e71e490fa62e718264.jpg  \n",
            "  inflating: data_with_masks/coronovirus-1-gty-er-200126_hpMain_16x9_1600.jpg  \n",
            "  inflating: data_with_masks/covid-masks-360.png  \n",
            "  inflating: data_with_masks/d41586-020-00502-w_18457516.jpg  \n",
            "  inflating: data_with_masks/d41586-020-00827-6_17822390.jpg  \n",
            "  inflating: data_with_masks/depositphotos_342791574_l-2015.jpg  \n",
            "  inflating: data_with_masks/dknbvjk.jpeg  \n",
            "  inflating: data_with_masks/download (1).jpg  \n",
            "  inflating: data_with_masks/download (10).jpg  \n",
            "  inflating: data_with_masks/download (11).jpg  \n",
            "  inflating: data_with_masks/download (12).jpeg  \n",
            "  inflating: data_with_masks/download (13).jpeg  \n",
            "  inflating: data_with_masks/download (14).jpeg  \n",
            "  inflating: data_with_masks/download (15).jpeg  \n",
            "  inflating: data_with_masks/download (15).jpg  \n",
            "  inflating: data_with_masks/download (16).jpeg  \n",
            "  inflating: data_with_masks/download (16).jpg  \n",
            "  inflating: data_with_masks/download (19).jpeg  \n",
            "  inflating: data_with_masks/download (26).jpg  \n",
            "  inflating: data_with_masks/download (3).jpeg  \n",
            "  inflating: data_with_masks/download (31).jpg  \n",
            "  inflating: data_with_masks/download (32).jpg  \n",
            "  inflating: data_with_masks/download (34).jpg  \n",
            "  inflating: data_with_masks/download (37).jpg  \n",
            "  inflating: data_with_masks/download (4).jpeg  \n",
            "  inflating: data_with_masks/download (5).jpeg  \n",
            "  inflating: data_with_masks/download (5).jpg  \n",
            "  inflating: data_with_masks/download (7).jpeg  \n",
            "  inflating: data_with_masks/download (8).jpg  \n",
            "  inflating: data_with_masks/download (9).jpeg  \n",
            "  inflating: data_with_masks/download (9).jpg  \n",
            "  inflating: data_with_masks/dsaa.jpeg  \n",
            "  inflating: data_with_masks/dtyujbcv.jpeg  \n",
            "  inflating: data_with_masks/egrwr.jpeg  \n",
            "  inflating: data_with_masks/erd.jpeg  \n",
            "  inflating: data_with_masks/ewf.jpeg  \n",
            "  inflating: data_with_masks/eyquwioswdcvn.jpeg  \n",
            "  inflating: data_with_masks/face-mask-woman.jpg  \n",
            "  inflating: data_with_masks/face-masks-Article-202005191632.jpg  \n",
            "  inflating: data_with_masks/face_masks.jpg  \n",
            "  inflating: data_with_masks/fc28399c-d955-49e9-a3f4-3fcf698a29e7.jpg  \n",
            "  inflating: data_with_masks/fghjkll.jpeg  \n",
            "  inflating: data_with_masks/file-20200408-44160-1qpyrm3.jpg  \n",
            "  inflating: data_with_masks/file-20200719-15-kqya1m.jpg  \n",
            "  inflating: data_with_masks/fjknqklfq.jpeg  \n",
            "  inflating: data_with_masks/g.jpeg  \n",
            "  inflating: data_with_masks/gettyimages-1220013438_wide-d5c386dcc4077fc04ac4ae9a1059994dcf1a29ae-s800-c85.jpg  \n",
            "  inflating: data_with_masks/gfrde.jpeg  \n",
            "  inflating: data_with_masks/ghjkllll.jpeg  \n",
            "  inflating: data_with_masks/ghjnbv.jpeg  \n",
            "  inflating: data_with_masks/health-coronavirus-southkorea.jpg  \n",
            "  inflating: data_with_masks/hypatia-h_1562a5deb45f8d72e0dd2eb8fb01b76b-h_05dac64f58736b2dab5f63d40ce8b01a-1024x576.jpg  \n",
            "  inflating: data_with_masks/ijm.jpeg  \n",
            "  inflating: data_with_masks/ikll.jpeg  \n",
            "  inflating: data_with_masks/image1440x560cropped.jpg  \n",
            "  inflating: data_with_masks/images (1).jpg  \n",
            "  inflating: data_with_masks/images (10).jpeg  \n",
            "  inflating: data_with_masks/images (10).jpg  \n",
            "  inflating: data_with_masks/images (100).jpg  \n",
            "  inflating: data_with_masks/images (11).jpg  \n",
            "  inflating: data_with_masks/images (14).jpeg  \n",
            "  inflating: data_with_masks/images (15).jpg  \n",
            "  inflating: data_with_masks/images (17).jpeg  \n",
            "  inflating: data_with_masks/images (18).jpg  \n",
            "  inflating: data_with_masks/images (19).jpg  \n",
            "  inflating: data_with_masks/images (2).jpeg  \n",
            "  inflating: data_with_masks/images (2).jpg  \n",
            "  inflating: data_with_masks/images (20).jpeg  \n",
            "  inflating: data_with_masks/images (21).jpeg  \n",
            "  inflating: data_with_masks/images (24).jpg  \n",
            "  inflating: data_with_masks/images (25).jpeg  \n",
            "  inflating: data_with_masks/images (26).jpeg  \n",
            "  inflating: data_with_masks/images (27).jpeg  \n",
            "  inflating: data_with_masks/images (28).jpg  \n",
            "  inflating: data_with_masks/images (29).jpg  \n",
            "  inflating: data_with_masks/images (3).jpeg  \n",
            "  inflating: data_with_masks/images (3).jpg  \n",
            "  inflating: data_with_masks/images (30).jpeg  \n",
            "  inflating: data_with_masks/images (30).jpg  \n",
            "  inflating: data_with_masks/images (31).jpeg  \n",
            "  inflating: data_with_masks/images (31).jpg  \n",
            "  inflating: data_with_masks/images (32).jpg  \n",
            "  inflating: data_with_masks/images (35).jpeg  \n",
            "  inflating: data_with_masks/images (35).jpg  \n",
            "  inflating: data_with_masks/images (36).jpg  \n",
            "  inflating: data_with_masks/images (37).jpeg  \n",
            "  inflating: data_with_masks/images (37).jpg  \n",
            "  inflating: data_with_masks/images (4).jpeg  \n",
            "  inflating: data_with_masks/images (4).jpg  \n",
            "  inflating: data_with_masks/images (40).jpg  \n",
            "  inflating: data_with_masks/images (41).jpg  \n",
            "  inflating: data_with_masks/images (43).jpg  \n",
            "  inflating: data_with_masks/images (44).jpeg  \n",
            "  inflating: data_with_masks/images (45).jpeg  \n",
            "  inflating: data_with_masks/images (45).jpg  \n",
            "  inflating: data_with_masks/images (47).jpeg  \n",
            "  inflating: data_with_masks/images (47).jpg  \n",
            "  inflating: data_with_masks/images (48).jpg  \n",
            "  inflating: data_with_masks/images (49).jpeg  \n",
            "  inflating: data_with_masks/images (49).jpg  \n",
            "  inflating: data_with_masks/images (5).jpeg  \n",
            "  inflating: data_with_masks/images (5).jpg  \n",
            "  inflating: data_with_masks/images (50).jpeg  \n",
            "  inflating: data_with_masks/images (50).jpg  \n",
            "  inflating: data_with_masks/images (51).jpg  \n",
            "  inflating: data_with_masks/images (53).jpeg  \n",
            "  inflating: data_with_masks/images (53).jpg  \n",
            "  inflating: data_with_masks/images (54).jpeg  \n",
            "  inflating: data_with_masks/images (54).jpg  \n",
            "  inflating: data_with_masks/images (56).jpeg  \n",
            "  inflating: data_with_masks/images (57).jpeg  \n",
            "  inflating: data_with_masks/images (59).jpg  \n",
            "  inflating: data_with_masks/images (61).jpg  \n",
            "  inflating: data_with_masks/images (62).jpg  \n",
            "  inflating: data_with_masks/images (65).jpg  \n",
            "  inflating: data_with_masks/images (67).jpg  \n",
            "  inflating: data_with_masks/images (68).jpg  \n",
            "  inflating: data_with_masks/images (69).jpg  \n",
            "  inflating: data_with_masks/images (7).jpeg  \n",
            "  inflating: data_with_masks/images (7).jpg  \n",
            "  inflating: data_with_masks/images (70).jpg  \n",
            "  inflating: data_with_masks/images (71).jpg  \n",
            "  inflating: data_with_masks/images (72).jpg  \n",
            "  inflating: data_with_masks/images (73).jpg  \n",
            "  inflating: data_with_masks/images (75).jpg  \n",
            "  inflating: data_with_masks/images (76).jpg  \n",
            "  inflating: data_with_masks/images (77).jpg  \n",
            "  inflating: data_with_masks/images (78).jpg  \n",
            "  inflating: data_with_masks/images (79).jpg  \n",
            "  inflating: data_with_masks/images (8).jpeg  \n",
            "  inflating: data_with_masks/images (8).jpg  \n",
            "  inflating: data_with_masks/images (8).png  \n",
            "  inflating: data_with_masks/images (80).jpg  \n",
            "  inflating: data_with_masks/images (81).jpg  \n",
            "  inflating: data_with_masks/images (83).jpg  \n",
            "  inflating: data_with_masks/images (84).jpg  \n",
            "  inflating: data_with_masks/images (88).jpg  \n",
            "  inflating: data_with_masks/images (9).jpeg  \n",
            "  inflating: data_with_masks/images (9).jpg  \n",
            "  inflating: data_with_masks/images (91).jpg  \n",
            "  inflating: data_with_masks/images (92).jpg  \n",
            "  inflating: data_with_masks/images (93).jpg  \n",
            "  inflating: data_with_masks/images (94).jpg  \n",
            "  inflating: data_with_masks/images (96).jpg  \n",
            "  inflating: data_with_masks/images (97).jpg  \n",
            "  inflating: data_with_masks/images (98).jpg  \n",
            "  inflating: data_with_masks/images (99).jpg  \n",
            "  inflating: data_with_masks/images - 2020-10-09T132616.669.jpg  \n",
            "  inflating: data_with_masks/images - 2020-10-09T132616.678.jpg  \n",
            "  inflating: data_with_masks/images - 2020-10-09T132616.913.jpg  \n",
            "  inflating: data_with_masks/images - 2020-10-09T132617.149.jpg  \n",
            "  inflating: data_with_masks/images - 2020-10-09T132617.151.jpg  \n",
            "  inflating: data_with_masks/images - 2020-10-09T132617.152.jpg  \n",
            "  inflating: data_with_masks/images - 2020-10-09T132617.206.jpg  \n",
            "  inflating: data_with_masks/images - 2020-10-09T132617.207.jpg  \n",
            "  inflating: data_with_masks/images - 2020-10-09T132617.208.jpg  \n",
            "  inflating: data_with_masks/images - 2020-10-09T132617.241.jpg  \n",
            "  inflating: data_with_masks/images - 2020-10-09T132617.242.jpg  \n",
            "  inflating: data_with_masks/images - 2020-10-09T132617.246.jpg  \n",
            "  inflating: data_with_masks/images - 2020-10-09T132617.259.jpg  \n",
            "  inflating: data_with_masks/images - 2020-10-09T132617.416.jpg  \n",
            "  inflating: data_with_masks/images - 2020-10-09T132617.417.jpg  \n",
            "  inflating: data_with_masks/images - 2020-10-09T132617.418.jpg  \n",
            "  inflating: data_with_masks/images - 2020-10-09T132618.446.jpg  \n",
            "  inflating: data_with_masks/images - 2020-10-09T132618.447.jpg  \n",
            "  inflating: data_with_masks/images - 2020-10-09T132618.448.jpg  \n",
            "  inflating: data_with_masks/images - 2020-10-09T132618.622.jpg  \n",
            "  inflating: data_with_masks/images - 2020-10-09T132618.623.jpg  \n",
            "  inflating: data_with_masks/images - 2020-10-09T132618.645.jpg  \n",
            "  inflating: data_with_masks/images - 2020-10-09T132618.646.jpg  \n",
            "  inflating: data_with_masks/images - 2020-10-09T132618.694.jpg  \n",
            "  inflating: data_with_masks/images - 2020-10-09T132618.695.jpg  \n",
            "  inflating: data_with_masks/images - 2020-10-09T132618.696.jpg  \n",
            "  inflating: data_with_masks/images - 2020-10-09T132618.698.jpg  \n",
            "  inflating: data_with_masks/images - 2020-10-09T132619.228.jpg  \n",
            "  inflating: data_with_masks/images - 2020-10-09T132619.232.jpg  \n",
            "  inflating: data_with_masks/images - 2020-10-09T132619.233.jpg  \n",
            "  inflating: data_with_masks/images - 2020-10-09T132619.241.jpg  \n",
            "  inflating: data_with_masks/images - 2020-10-09T132619.243.jpg  \n",
            "  inflating: data_with_masks/images - 2020-10-09T132619.245.jpg  \n",
            "  inflating: data_with_masks/images - 2020-10-09T132619.403.jpg  \n",
            "  inflating: data_with_masks/images - 2020-10-09T132619.404.jpg  \n",
            "  inflating: data_with_masks/images - 2020-10-09T132619.406.jpg  \n",
            "  inflating: data_with_masks/images - 2020-10-09T132619.408.jpg  \n",
            "  inflating: data_with_masks/images - 2020-10-09T132619.409.jpg  \n",
            "  inflating: data_with_masks/images - 2020-10-09T132619.447.jpg  \n",
            "  inflating: data_with_masks/images - 2020-10-09T132619.449.jpg  \n",
            "  inflating: data_with_masks/images - 2020-10-09T132619.451.jpg  \n",
            "  inflating: data_with_masks/images - 2020-10-09T132619.529.jpg  \n",
            "  inflating: data_with_masks/images - 2020-10-09T132619.530.jpg  \n",
            "  inflating: data_with_masks/images - 2020-10-09T132619.659.jpg  \n",
            "  inflating: data_with_masks/images - 2020-10-09T132619.667.jpg  \n",
            "  inflating: data_with_masks/images - 2020-10-09T132619.668.jpg  \n",
            "  inflating: data_with_masks/images - 2020-10-09T132619.670.jpg  \n",
            "  inflating: data_with_masks/images - 2020-10-09T132619.671.jpg  \n",
            "  inflating: data_with_masks/images - 2020-10-09T132619.673.jpg  \n",
            "  inflating: data_with_masks/images - 2020-10-09T132619.675.jpg  \n",
            "  inflating: data_with_masks/images - 2020-10-09T132619.676.jpg  \n",
            "  inflating: data_with_masks/images - 2020-10-09T132619.679.jpg  \n",
            "  inflating: data_with_masks/images - 2020-10-09T132620.357.jpg  \n",
            "  inflating: data_with_masks/images - 2020-10-09T132620.358.jpg  \n",
            "  inflating: data_with_masks/images - 2020-10-09T132620.359.jpg  \n",
            "  inflating: data_with_masks/images - 2020-10-09T132620.362.jpg  \n",
            "  inflating: data_with_masks/images - 2020-10-09T132620.363.jpg  \n",
            "  inflating: data_with_masks/images - 2020-10-09T132620.365.jpg  \n",
            "  inflating: data_with_masks/images - 2020-10-09T132620.366.jpg  \n",
            "  inflating: data_with_masks/images - 2020-10-09T132620.367.jpg  \n",
            "  inflating: data_with_masks/images - 2020-10-09T132620.368.jpg  \n",
            "  inflating: data_with_masks/images - 2020-10-09T132620.369.jpg  \n",
            "  inflating: data_with_masks/images - 2020-10-09T132620.370.jpg  \n",
            "  inflating: data_with_masks/images - 2020-10-09T132621.111.jpg  \n",
            "  inflating: data_with_masks/images - 2020-10-09T132621.388.jpg  \n",
            "  inflating: data_with_masks/images - 2020-10-09T132621.389.jpg  \n",
            "  inflating: data_with_masks/images - 2020-10-09T132622.342.jpg  \n",
            "  inflating: data_with_masks/images - 2020-10-09T132622.344.jpg  \n",
            "  inflating: data_with_masks/images - 2020-10-09T132622.346.jpg  \n",
            "  inflating: data_with_masks/images - 2020-10-09T132622.347.jpg  \n",
            "  inflating: data_with_masks/images - 2020-10-09T132622.351.jpg  \n",
            "  inflating: data_with_masks/images - 2020-10-09T132622.359.jpg  \n",
            "  inflating: data_with_masks/images - 2020-10-09T132622.361.jpg  \n",
            "  inflating: data_with_masks/images - 2020-10-09T132622.363.jpg  \n",
            "  inflating: data_with_masks/images - 2020-10-09T132622.364.jpg  \n",
            "  inflating: data_with_masks/images - 2020-10-09T132622.365.jpg  \n",
            "  inflating: data_with_masks/images - 2020-10-09T132622.610.jpg  \n",
            "  inflating: data_with_masks/images - 2020-10-09T132622.612.jpg  \n",
            "  inflating: data_with_masks/images - 2020-10-09T132622.613.jpg  \n",
            "  inflating: data_with_masks/images - 2020-10-09T132622.614.jpg  \n",
            "  inflating: data_with_masks/images - 2020-10-09T132622.618.jpg  \n",
            "  inflating: data_with_masks/images - 2020-10-09T132623.454.jpg  \n",
            "  inflating: data_with_masks/images - 2020-10-09T132623.455.jpg  \n",
            "  inflating: data_with_masks/images - 2020-10-09T132623.456.jpg  \n",
            "  inflating: data_with_masks/images - 2020-10-09T132623.457.jpg  \n",
            "  inflating: data_with_masks/images - 2020-10-09T132623.465.jpg  \n",
            "  inflating: data_with_masks/images - 2020-10-09T132623.475.jpg  \n",
            "  inflating: data_with_masks/images - 2020-10-09T132623.476.jpg  \n",
            "  inflating: data_with_masks/images - 2020-10-09T132623.477.jpg  \n",
            "  inflating: data_with_masks/images - 2020-10-09T132623.478.jpg  \n",
            "  inflating: data_with_masks/images - 2020-10-09T132623.480.jpg  \n",
            "  inflating: data_with_masks/images - 2020-10-09T132623.481.jpg  \n",
            "  inflating: data_with_masks/images - 2020-10-09T132623.482.jpg  \n",
            "  inflating: data_with_masks/images - 2020-10-09T132623.483.jpg  \n",
            "  inflating: data_with_masks/images - 2020-10-09T132623.484.jpg  \n",
            "  inflating: data_with_masks/images - 2020-10-09T132623.485.jpg  \n",
            "  inflating: data_with_masks/images - 2020-10-09T132623.486.jpg  \n",
            "  inflating: data_with_masks/images - 2020-10-09T132623.488.jpg  \n",
            "  inflating: data_with_masks/images - 2020-10-09T134307.031.jpg  \n",
            "  inflating: data_with_masks/images - 2020-10-09T134307.436.jpg  \n",
            "  inflating: data_with_masks/images - 2020-10-09T134308.443.jpg  \n",
            "  inflating: data_with_masks/images - 2020-10-09T134308.530.jpg  \n",
            "  inflating: data_with_masks/images - 2020-10-09T134308.943.jpg  \n",
            "  inflating: data_with_masks/images - 2020-10-09T134308.944.jpg  \n",
            "  inflating: data_with_masks/images - 2020-10-09T134308.949.jpg  \n",
            "  inflating: data_with_masks/images - 2020-10-09T134308.951.jpg  \n",
            "  inflating: data_with_masks/images - 2020-10-09T134308.991.jpg  \n",
            "  inflating: data_with_masks/images - 2020-10-09T134309.077.jpg  \n",
            "  inflating: data_with_masks/images - 2020-10-09T134309.087.jpg  \n",
            "  inflating: data_with_masks/images - 2020-10-09T134309.088.jpg  \n",
            "  inflating: data_with_masks/images - 2020-10-09T134309.115.jpg  \n",
            "  inflating: data_with_masks/images - 2020-10-09T134309.116.jpg  \n",
            "  inflating: data_with_masks/images - 2020-10-09T134309.119.jpg  \n",
            "  inflating: data_with_masks/images - 2020-10-09T134309.236.jpg  \n",
            "  inflating: data_with_masks/images - 2020-10-09T134309.282.jpg  \n",
            "  inflating: data_with_masks/images - 2020-10-09T134309.284.jpg  \n",
            "  inflating: data_with_masks/images - 2020-10-09T134309.285.jpg  \n",
            "  inflating: data_with_masks/images - 2020-10-09T134310.326.jpg  \n",
            "  inflating: data_with_masks/images - 2020-10-09T134310.978.jpg  \n",
            "  inflating: data_with_masks/images - 2020-10-09T134310.997.jpg  \n",
            "  inflating: data_with_masks/images - 2020-10-09T134310.999.jpg  \n",
            "  inflating: data_with_masks/images - 2020-10-09T134311.235.jpg  \n",
            "  inflating: data_with_masks/images - 2020-10-09T134311.244.jpg  \n",
            "  inflating: data_with_masks/images - 2020-10-09T134311.794.jpg  \n",
            "  inflating: data_with_masks/images - 2020-10-09T134311.795.jpg  \n",
            "  inflating: data_with_masks/images - 2020-10-09T134311.990.jpg  \n",
            "  inflating: data_with_masks/images - 2020-10-09T134312.294.jpg  \n",
            "  inflating: data_with_masks/images - 2020-10-09T134312.295.jpg  \n",
            "  inflating: data_with_masks/images - 2020-10-09T134313.062.jpg  \n",
            "  inflating: data_with_masks/images - 2020-10-09T134313.064.jpg  \n",
            "  inflating: data_with_masks/images - 2020-10-09T134313.236.jpg  \n",
            "  inflating: data_with_masks/images - 2020-10-09T134313.564.jpg  \n",
            "  inflating: data_with_masks/images - 2020-10-09T134313.683.jpg  \n",
            "  inflating: data_with_masks/images - 2020-10-09T134313.689.jpg  \n",
            "  inflating: data_with_masks/images - 2020-10-09T134313.690.jpg  \n",
            "  inflating: data_with_masks/images - 2020-10-09T134313.970.jpg  \n",
            "  inflating: data_with_masks/images - 2020-10-09T134313.971.jpg  \n",
            "  inflating: data_with_masks/images - 2020-10-09T134314.384.jpg  \n",
            "  inflating: data_with_masks/images - 2020-10-09T134314.430.jpg  \n",
            "  inflating: data_with_masks/images - 2020-10-09T134314.431.jpg  \n",
            "  inflating: data_with_masks/images - 2020-10-09T134314.732.jpg  \n",
            "  inflating: data_with_masks/images - 2020-10-09T134314.920.jpg  \n",
            "  inflating: data_with_masks/images - 2020-10-09T134314.922.jpg  \n",
            "  inflating: data_with_masks/images - 2020-10-09T134315.026.jpg  \n",
            "  inflating: data_with_masks/images - 2020-10-09T134315.160.jpg  \n",
            "  inflating: data_with_masks/images - 2020-10-09T134315.446.jpg  \n",
            "  inflating: data_with_masks/images - 2020-10-09T134315.447.jpg  \n",
            "  inflating: data_with_masks/images - 2020-10-09T134315.512.jpg  \n",
            "  inflating: data_with_masks/images - 2020-10-09T134315.987.jpg  \n",
            "  inflating: data_with_masks/images - 2020-10-09T134315.991.jpg  \n",
            "  inflating: data_with_masks/images - 2020-10-09T134315.992.jpg  \n",
            "  inflating: data_with_masks/images - 2020-10-09T134316.574.jpg  \n",
            "  inflating: data_with_masks/images - 2020-10-09T134316.580.jpg  \n",
            "  inflating: data_with_masks/images - 2020-10-09T134316.610.jpg  \n",
            "  inflating: data_with_masks/images - 2020-10-09T134316.612.jpg  \n",
            "  inflating: data_with_masks/images - 2020-10-09T134316.621.jpg  \n",
            "  inflating: data_with_masks/images - 2020-10-09T134316.622.jpg  \n",
            "  inflating: data_with_masks/images - 2020-10-09T134316.624.jpg  \n",
            "  inflating: data_with_masks/images - 2020-10-09T134316.626.jpg  \n",
            "  inflating: data_with_masks/images - 2020-10-09T134316.628.jpg  \n",
            "  inflating: data_with_masks/images - 2020-10-09T134316.629.jpg  \n",
            "  inflating: data_with_masks/images - 2020-10-09T134316.631.jpg  \n",
            "  inflating: data_with_masks/images - 2020-10-09T134316.632.jpg  \n",
            "  inflating: data_with_masks/images - 2020-10-09T134316.633.jpg  \n",
            "  inflating: data_with_masks/images - 2020-10-09T134316.635.jpg  \n",
            "  inflating: data_with_masks/images - 2020-10-09T134316.636.jpg  \n",
            "  inflating: data_with_masks/images - 2020-10-09T134316.841.jpg  \n",
            "  inflating: data_with_masks/images - 2020-10-09T134316.859.jpg  \n",
            "  inflating: data_with_masks/images - 2020-10-09T134316.860.jpg  \n",
            "  inflating: data_with_masks/images - 2020-10-09T134316.861.jpg  \n",
            "  inflating: data_with_masks/images - 2020-10-09T134316.862.jpg  \n",
            "  inflating: data_with_masks/images - 2020-10-09T134741.386.jpg  \n",
            "  inflating: data_with_masks/images - 2020-10-09T134741.391.jpg  \n",
            "  inflating: data_with_masks/images - 2020-10-09T134741.412.jpg  \n",
            "  inflating: data_with_masks/images - 2020-10-09T134741.413.jpg  \n",
            "  inflating: data_with_masks/images - 2020-10-09T134742.505.jpg  \n",
            "  inflating: data_with_masks/images - 2020-10-09T134742.514.jpg  \n",
            "  inflating: data_with_masks/images - 2020-10-09T134742.526.jpg  \n",
            "  inflating: data_with_masks/images - 2020-10-09T134742.563.jpg  \n",
            "  inflating: data_with_masks/images - 2020-10-09T134742.573.jpg  \n",
            "  inflating: data_with_masks/images - 2020-10-09T134742.574.jpg  \n",
            "  inflating: data_with_masks/images - 2020-10-09T134743.550.jpg  \n",
            "  inflating: data_with_masks/images - 2020-10-09T134743.551.jpg  \n",
            "  inflating: data_with_masks/images - 2020-10-09T134743.957.jpg  \n",
            "  inflating: data_with_masks/images - 2020-10-09T134744.763.jpg  \n",
            "  inflating: data_with_masks/images - 2020-10-09T134745.482.jpg  \n",
            "  inflating: data_with_masks/images - 2020-10-09T134745.952.jpg  \n",
            "  inflating: data_with_masks/images - 2020-10-09T134748.066.jpg  \n",
            "  inflating: data_with_masks/images - 2020-10-09T134748.658.jpg  \n",
            "  inflating: data_with_masks/images - 2020-10-09T134748.659.jpg  \n",
            "  inflating: data_with_masks/images - 2020-10-09T134748.664.jpg  \n",
            "  inflating: data_with_masks/images - 2020-10-09T134748.680.jpg  \n",
            "  inflating: data_with_masks/images - 2020-10-09T134748.683.jpg  \n",
            "  inflating: data_with_masks/images - 2020-10-09T134749.217.jpg  \n",
            "  inflating: data_with_masks/images - 2020-10-09T134749.699.jpg  \n",
            "  inflating: data_with_masks/images - 2020-10-09T134751.125.jpg  \n",
            "  inflating: data_with_masks/images - 2020-10-09T134751.244.jpg  \n",
            "  inflating: data_with_masks/images - 2020-10-09T134751.567.jpg  \n",
            "  inflating: data_with_masks/images - 2020-10-09T134752.315.jpg  \n",
            "  inflating: data_with_masks/images - 2020-10-09T134752.599.jpg  \n",
            "  inflating: data_with_masks/images - 2020-10-09T134752.601.jpg  \n",
            "  inflating: data_with_masks/images - 2020-10-09T134752.770.jpg  \n",
            "  inflating: data_with_masks/images - 2020-10-09T134753.080.jpg  \n",
            "  inflating: data_with_masks/images - 2020-10-12T140358.452.jpeg  \n",
            "  inflating: data_with_masks/images - 2020-10-12T140358.466.jpeg  \n",
            "  inflating: data_with_masks/images - 2020-10-12T140358.473.jpeg  \n",
            "  inflating: data_with_masks/images - 2020-10-12T140358.492.jpeg  \n",
            "  inflating: data_with_masks/images - 2020-10-12T140358.500.jpeg  \n",
            "  inflating: data_with_masks/images - 2020-10-12T140358.521.jpeg  \n",
            "  inflating: data_with_masks/images - 2020-10-12T140358.536.jpeg  \n",
            "  inflating: data_with_masks/images - 2020-10-12T140358.567.jpeg  \n",
            "  inflating: data_with_masks/images - 2020-10-12T140358.589.jpeg  \n",
            "  inflating: data_with_masks/images - 2020-10-12T140358.590.jpeg  \n",
            "  inflating: data_with_masks/images - 2020-10-12T140358.591.jpeg  \n",
            "  inflating: data_with_masks/images - 2020-10-12T140358.593.jpeg  \n",
            "  inflating: data_with_masks/images - 2020-10-12T140358.680.jpeg  \n",
            "  inflating: data_with_masks/images - 2020-10-12T140358.681.jpeg  \n",
            "  inflating: data_with_masks/images - 2020-10-12T140358.891.jpeg  \n",
            "  inflating: data_with_masks/images - 2020-10-12T140358.892.jpeg  \n",
            "  inflating: data_with_masks/images - 2020-10-12T140358.896.jpeg  \n",
            "  inflating: data_with_masks/images - 2020-10-12T140358.897.jpeg  \n",
            "  inflating: data_with_masks/images - 2020-10-12T140358.900.jpeg  \n",
            "  inflating: data_with_masks/images - 2020-10-12T140358.910.jpeg  \n",
            "  inflating: data_with_masks/images - 2020-10-12T140359.151.jpeg  \n",
            "  inflating: data_with_masks/images - 2020-10-12T140359.243.jpeg  \n",
            "  inflating: data_with_masks/images - 2020-10-12T140359.316.jpeg  \n",
            "  inflating: data_with_masks/images - 2020-10-12T140359.318.jpeg  \n",
            "  inflating: data_with_masks/images - 2020-10-12T140359.319.jpeg  \n",
            "  inflating: data_with_masks/images - 2020-10-12T140359.426.jpeg  \n",
            "  inflating: data_with_masks/images - 2020-10-12T140359.443.jpeg  \n",
            "  inflating: data_with_masks/images - 2020-10-12T140359.444.jpeg  \n",
            "  inflating: data_with_masks/images - 2020-10-12T140359.445.jpeg  \n",
            "  inflating: data_with_masks/images - 2020-10-12T140359.469.jpeg  \n",
            "  inflating: data_with_masks/images - 2020-10-12T140359.550.jpeg  \n",
            "  inflating: data_with_masks/images - 2020-10-12T140359.553.jpeg  \n",
            "  inflating: data_with_masks/images - 2020-10-12T140359.556.jpeg  \n",
            "  inflating: data_with_masks/images - 2020-10-12T140359.564.jpeg  \n",
            "  inflating: data_with_masks/images - 2020-10-12T140359.568.jpeg  \n",
            "  inflating: data_with_masks/images - 2020-10-12T140359.569.jpeg  \n",
            "  inflating: data_with_masks/images - 2020-10-12T140359.571.jpeg  \n",
            "  inflating: data_with_masks/images - 2020-10-12T140359.572.jpeg  \n",
            "  inflating: data_with_masks/images - 2020-10-12T140359.586.jpeg  \n",
            "  inflating: data_with_masks/images - 2020-10-12T140359.589.jpeg  \n",
            "  inflating: data_with_masks/images - 2020-10-12T140359.592.jpeg  \n",
            "  inflating: data_with_masks/images - 2020-10-12T140359.593.jpeg  \n",
            "  inflating: data_with_masks/images - 2020-10-12T140359.594.jpeg  \n",
            "  inflating: data_with_masks/images - 2020-10-12T140359.601.jpeg  \n",
            "  inflating: data_with_masks/images - 2020-10-12T140359.602.jpeg  \n",
            "  inflating: data_with_masks/images - 2020-10-12T140359.612.jpeg  \n",
            "  inflating: data_with_masks/images - 2020-10-12T140359.617.jpeg  \n",
            "  inflating: data_with_masks/images - 2020-10-12T140359.622.jpeg  \n",
            "  inflating: data_with_masks/images - 2020-10-12T140359.624.jpeg  \n",
            "  inflating: data_with_masks/images - 2020-10-12T140359.625.jpeg  \n",
            "  inflating: data_with_masks/images - 2020-10-12T140359.627.jpeg  \n",
            "  inflating: data_with_masks/images - 2020-10-12T140359.638.jpeg  \n",
            "  inflating: data_with_masks/images - 2020-10-12T140359.639.jpeg  \n",
            "  inflating: data_with_masks/images - 2020-10-12T140359.645.jpeg  \n",
            "  inflating: data_with_masks/images - 2020-10-12T140359.679.jpeg  \n",
            "  inflating: data_with_masks/images - 2020-10-12T140359.680.jpeg  \n",
            "  inflating: data_with_masks/images - 2020-10-12T140359.687.jpeg  \n",
            "  inflating: data_with_masks/images - 2020-10-12T140359.691.jpeg  \n",
            "  inflating: data_with_masks/images - 2020-10-12T140359.708.jpeg  \n",
            "  inflating: data_with_masks/images - 2020-10-12T140359.709.jpeg  \n",
            "  inflating: data_with_masks/images - 2020-10-12T140359.742.jpeg  \n",
            "  inflating: data_with_masks/images - 2020-10-12T140359.743.jpeg  \n",
            "  inflating: data_with_masks/images - 2020-10-12T140359.750.jpeg  \n",
            "  inflating: data_with_masks/images - 2020-10-12T140359.755.jpeg  \n",
            "  inflating: data_with_masks/images - 2020-10-12T140359.756.jpeg  \n",
            "  inflating: data_with_masks/images - 2020-10-12T140359.764.jpeg  \n",
            "  inflating: data_with_masks/images - 2020-10-12T140359.773.jpeg  \n",
            "  inflating: data_with_masks/images - 2020-10-12T140359.798.jpeg  \n",
            "  inflating: data_with_masks/images - 2020-10-12T140359.840.jpeg  \n",
            "  inflating: data_with_masks/images - 2020-10-12T140359.841.jpeg  \n",
            "  inflating: data_with_masks/images - 2020-10-12T140359.848.jpeg  \n",
            "  inflating: data_with_masks/images - 2020-10-12T140359.856.jpeg  \n",
            "  inflating: data_with_masks/images - 2020-10-12T140359.920.jpeg  \n",
            "  inflating: data_with_masks/images - 2020-10-12T140359.930.jpeg  \n",
            "  inflating: data_with_masks/images - 2020-10-12T140359.946.jpeg  \n",
            "  inflating: data_with_masks/images - 2020-10-12T140359.949.jpeg  \n",
            "  inflating: data_with_masks/images - 2020-10-12T140359.950.jpeg  \n",
            "  inflating: data_with_masks/images - 2020-10-12T140359.951.jpeg  \n",
            "  inflating: data_with_masks/images - 2020-10-12T140359.952.jpeg  \n",
            "  inflating: data_with_masks/images - 2020-10-12T140359.954.jpeg  \n",
            "  inflating: data_with_masks/images - 2020-10-12T140359.955.jpeg  \n",
            "  inflating: data_with_masks/images - 2020-10-12T140359.956.jpeg  \n",
            "  inflating: data_with_masks/images - 2020-10-12T140359.960.jpeg  \n",
            "  inflating: data_with_masks/images - 2020-10-12T140359.961.jpeg  \n",
            "  inflating: data_with_masks/images - 2020-10-12T140359.962.jpeg  \n",
            "  inflating: data_with_masks/images - 2020-10-12T140359.963.jpeg  \n",
            "  inflating: data_with_masks/images - 2020-10-12T140359.964.jpeg  \n",
            "  inflating: data_with_masks/images - 2020-10-12T140359.967.jpeg  \n",
            "  inflating: data_with_masks/images - 2020-10-12T140359.968.jpeg  \n",
            "  inflating: data_with_masks/images - 2020-10-12T140359.969.jpeg  \n",
            "  inflating: data_with_masks/images - 2020-10-12T140359.980.jpeg  \n",
            "  inflating: data_with_masks/images - 2020-10-12T140359.981.jpeg  \n",
            "  inflating: data_with_masks/images - 2020-10-12T140359.989.jpeg  \n",
            "  inflating: data_with_masks/images - 2020-10-12T140359.992.jpeg  \n",
            "  inflating: data_with_masks/images - 2020-10-12T140359.995.jpeg  \n",
            "  inflating: data_with_masks/images - 2020-10-12T140400.000.jpeg  \n",
            "  inflating: data_with_masks/images - 2020-10-12T140400.047.jpeg  \n",
            "  inflating: data_with_masks/images - 2020-10-12T140400.060.jpeg  \n",
            "  inflating: data_with_masks/images - 2020-10-12T140400.061.jpeg  \n",
            "  inflating: data_with_masks/images - 2020-10-12T140400.101.jpeg  \n",
            "  inflating: data_with_masks/images - 2020-10-12T140400.106.jpeg  \n",
            "  inflating: data_with_masks/images - 2020-10-12T140400.107.jpeg  \n",
            "  inflating: data_with_masks/images - 2020-10-12T140400.123.jpeg  \n",
            "  inflating: data_with_masks/images - 2020-10-12T140400.131.jpeg  \n",
            "  inflating: data_with_masks/images - 2020-10-12T140400.138.jpeg  \n",
            "  inflating: data_with_masks/images - 2020-10-12T140400.160.jpeg  \n",
            "  inflating: data_with_masks/images - 2020-10-12T140400.184.jpeg  \n",
            "  inflating: data_with_masks/images - 2020-10-12T140400.273.jpeg  \n",
            "  inflating: data_with_masks/images - 2020-10-12T140400.289.jpeg  \n",
            "  inflating: data_with_masks/images - 2020-10-12T140400.292.jpeg  \n",
            "  inflating: data_with_masks/images - 2020-10-12T140400.293.jpeg  \n",
            "  inflating: data_with_masks/images - 2020-10-12T140400.316.jpeg  \n",
            "  inflating: data_with_masks/images - 2020-10-12T140400.317.jpeg  \n",
            "  inflating: data_with_masks/images - 2020-10-12T140400.318.jpeg  \n",
            "  inflating: data_with_masks/images - 2020-10-12T140400.333.jpeg  \n",
            "  inflating: data_with_masks/images - 2020-10-12T140400.341.jpeg  \n",
            "  inflating: data_with_masks/images - 2020-10-12T140400.343.jpeg  \n",
            "  inflating: data_with_masks/images - 2020-10-12T140400.346.jpeg  \n",
            "  inflating: data_with_masks/images - 2020-10-12T140400.347.jpeg  \n",
            "  inflating: data_with_masks/images - 2020-10-12T140400.349.jpeg  \n",
            "  inflating: data_with_masks/images - 2020-10-12T140400.365.jpeg  \n",
            "  inflating: data_with_masks/images - 2020-10-12T140400.373.jpeg  \n",
            "  inflating: data_with_masks/images - 2020-10-12T140400.378.jpeg  \n",
            "  inflating: data_with_masks/images - 2020-10-12T140400.380.jpeg  \n",
            "  inflating: data_with_masks/images - 2020-10-12T140400.401.jpeg  \n",
            "  inflating: data_with_masks/images - 2020-10-12T140400.439.jpeg  \n",
            "  inflating: data_with_masks/images - 2020-10-12T140400.441.jpeg  \n",
            "  inflating: data_with_masks/images - 2020-10-12T140400.444.jpeg  \n",
            "  inflating: data_with_masks/images - 2020-10-12T140400.469.jpeg  \n",
            "  inflating: data_with_masks/images - 2020-10-12T140400.638.jpeg  \n",
            "  inflating: data_with_masks/images - 2020-10-12T140400.646.jpeg  \n",
            "  inflating: data_with_masks/images - 2020-10-12T140400.713.jpeg  \n",
            "  inflating: data_with_masks/images - 2020-10-12T140400.721.jpeg  \n",
            "  inflating: data_with_masks/images - 2020-10-12T140400.819.jpeg  \n",
            "  inflating: data_with_masks/images - 2020-10-12T140400.952.jpeg  \n",
            "  inflating: data_with_masks/images - 2020-10-12T140401.044.jpeg  \n",
            "  inflating: data_with_masks/images.jpeg  \n",
            "  inflating: data_with_masks/images.jpg  \n",
            "  inflating: data_with_masks/korea-2-rt-er-200227_hpMain_16x9_992.jpg  \n",
            "  inflating: data_with_masks/large_3BhWCflLjjQ8eanEuzH8bJQJOUmidHATPLwkO71RjlA.jpg  \n",
            "  inflating: data_with_masks/mask-q-and-a-820x440.jpg  \n",
            "  inflating: data_with_masks/merlin_169038480_ebd20b36-1101-466c-bc6a-99cba69cdc58-articleLarge.jpg  \n",
            "  inflating: data_with_masks/merlin_169651932_5e1345b4-6c9b-4308-89fa-7294c4efaa04-mobileMasterAt3x.jpg  \n",
            "  inflating: data_with_masks/merlin_170835774_0d8a329d-c342-4d6b-bb52-4ce5201c28ee-articleLarge.jpg  \n",
            "  inflating: data_with_masks/mnbvcxfghjk.jpeg  \n",
            "  inflating: data_with_masks/p082g3qb.jpg  \n",
            "  inflating: data_with_masks/people-wearing-face-mask-for-protection-3957986-1600x1071.jpg  \n",
            "  inflating: data_with_masks/people_wearing_masks.jpg  \n",
            "  inflating: data_with_masks/poilll.jpeg  \n",
            "  inflating: data_with_masks/san-francisco-chinatown-masks-coronavirus-getty-20_hpMain_20200227-041603_16x9_1600.jpg  \n",
            "  inflating: data_with_masks/skynews-coronavirus-uk-shop-queue_5006330.jpg  \n",
            "  inflating: data_with_masks/skynews-face-masks_5076259.jpg  \n",
            "  inflating: data_with_masks/tdy_news_gadi_coronavirus_200521_1920x1080.jpg  \n",
            "  inflating: data_with_masks/thumbs_b_c_4ec6a48224e41c251875f2acad28cd14.jpg  \n",
            "  inflating: data_with_masks/thumbs_b_c_96f9ae8ef52b5f48d99d107771c1d9c2.jpg  \n",
            "  inflating: data_with_masks/visible-mask.jpg  \n",
            "  inflating: data_with_masks/wearing_masks_on_a_train.jpg  \n",
            "  inflating: data_with_masks/xJTm2McYHu6N4wF7ip9skU-320-80.jpg  \n",
            "  inflating: data_with_without_masks/.DS_Store  \n",
            "  inflating: data_with_without_masks/090920_ls_covid-nose_feat-1028x579.jpg  \n",
            "  inflating: data_with_without_masks/106432200-15837577422942020-03-06t003519z_1773049675_rc20ef959m4r_rtrmadp_3_health-coronavirus-usa.jpg  \n",
            "  inflating: data_with_without_masks/11-mask.jpg  \n",
            "  inflating: data_with_without_masks/13Lynteris4-superJumbo.jpg  \n",
            "  inflating: data_with_without_masks/2wsx.jpeg  \n",
            "  inflating: data_with_without_masks/5rf.jpeg  \n",
            "  inflating: data_with_without_masks/5t.jpeg  \n",
            "  inflating: data_with_without_masks/7uh.jpeg  \n",
            "  inflating: data_with_without_masks/8bf388ac-8372-11ea-8863-2139a14b0dea_image_hires_182131.jpeg  \n",
            "  inflating: data_with_without_masks/AS20191207000954_comm.jpg  \n",
            "  inflating: data_with_without_masks/GettyImages-1198381294-800x512.jpg  \n",
            "  inflating: data_with_without_masks/GettyImages-1204916988.jpg  \n",
            "  inflating: data_with_without_masks/GettyImages-1209208162.jpg  \n",
            "  inflating: data_with_without_masks/WireAP_16b5008d867f4a01996b632301768f0d_16x9_384.jpg  \n",
            "  inflating: data_with_without_masks/Women-wearing-facemasks-while-walking-outdoors-Milan-Italy-February-2020-coronavirus-COVID-19.jpg  \n",
            "  inflating: data_with_without_masks/_111146219_coronavirus-london_index_virus.jpg  \n",
            "  inflating: data_with_without_masks/bvcx.jpeg  \n",
            "  inflating: data_with_without_masks/coronavirus-ss-jt-200120_hpMain_16x9_992.jpg  \n",
            "  inflating: data_with_without_masks/download (10).jpeg  \n",
            "  inflating: data_with_without_masks/download (14).jpg  \n",
            "  inflating: data_with_without_masks/download (17).jpg  \n",
            "  inflating: data_with_without_masks/download (18).jpeg  \n",
            "  inflating: data_with_without_masks/download (2).jpeg  \n",
            "  inflating: data_with_without_masks/download (2).jpg  \n",
            "  inflating: data_with_without_masks/download (23).jpg  \n",
            "  inflating: data_with_without_masks/download (33).jpg  \n",
            "  inflating: data_with_without_masks/download (36).jpg  \n",
            "  inflating: data_with_without_masks/download (6).jpeg  \n",
            "  inflating: data_with_without_masks/download.jpeg  \n",
            "  inflating: data_with_without_masks/edcvgy.jpeg  \n",
            "  inflating: data_with_without_masks/efrgwbtny.jpeg  \n",
            "  inflating: data_with_without_masks/f564473b-e77a-412d-b7de-2099b9d977b7.jpeg  \n",
            "  inflating: data_with_without_masks/fds.jpeg  \n",
            "  inflating: data_with_without_masks/fghjkl.jpeg  \n",
            "  inflating: data_with_without_masks/gallery_medium.jpg  \n",
            "  inflating: data_with_without_masks/gi.jpg  \n",
            "  inflating: data_with_without_masks/https___specials-images.forbesimg.com_imageserve_6edb4126639e4c1b970ba42a45a4c226_0x0.jpg  \n",
            "  inflating: data_with_without_masks/images (1).jpeg  \n",
            "  inflating: data_with_without_masks/images (12).jpg  \n",
            "  inflating: data_with_without_masks/images (14).jpg  \n",
            "  inflating: data_with_without_masks/images (16).jpg  \n",
            "  inflating: data_with_without_masks/images (17).jpg  \n",
            "  inflating: data_with_without_masks/images (23).jpg  \n",
            "  inflating: data_with_without_masks/images (26).jpg  \n",
            "  inflating: data_with_without_masks/images (34).jpg  \n",
            "  inflating: data_with_without_masks/images (38).jpg  \n",
            "  inflating: data_with_without_masks/images (39).jpeg  \n",
            "  inflating: data_with_without_masks/images (42).jpeg  \n",
            "  inflating: data_with_without_masks/images (42).jpg  \n",
            "  inflating: data_with_without_masks/images (46).jpg  \n",
            "  inflating: data_with_without_masks/images (48).jpeg  \n",
            "  inflating: data_with_without_masks/images (55).jpg  \n",
            "  inflating: data_with_without_masks/images (57).jpg  \n",
            "  inflating: data_with_without_masks/images (58).jpg  \n",
            "  inflating: data_with_without_masks/images (60).jpg  \n",
            "  inflating: data_with_without_masks/images (66).jpg  \n",
            "  inflating: data_with_without_masks/images (74).jpg  \n",
            "  inflating: data_with_without_masks/images (82).jpg  \n",
            "  inflating: data_with_without_masks/images (89).jpg  \n",
            "  inflating: data_with_without_masks/images (95).jpg  \n",
            "  inflating: data_with_without_masks/images - 2020-10-09T132617.136.jpg  \n",
            "  inflating: data_with_without_masks/images - 2020-10-09T132617.137.jpg  \n",
            "  inflating: data_with_without_masks/images - 2020-10-09T132617.238.jpg  \n",
            "  inflating: data_with_without_masks/images - 2020-10-09T132617.240.jpg  \n",
            "  inflating: data_with_without_masks/images - 2020-10-09T132617.243.jpg  \n",
            "  inflating: data_with_without_masks/images - 2020-10-09T132617.245.jpg  \n",
            "  inflating: data_with_without_masks/images - 2020-10-09T132617.262.jpg  \n",
            "  inflating: data_with_without_masks/images - 2020-10-09T132617.419.jpg  \n",
            "  inflating: data_with_without_masks/images - 2020-10-09T132618.450.jpg  \n",
            "  inflating: data_with_without_masks/images - 2020-10-09T132618.644.jpg  \n",
            "  inflating: data_with_without_masks/images - 2020-10-09T132619.230.jpg  \n",
            "  inflating: data_with_without_masks/images - 2020-10-09T132619.231.jpg  \n",
            "  inflating: data_with_without_masks/images - 2020-10-09T132619.242.jpg  \n",
            "  inflating: data_with_without_masks/images - 2020-10-09T132619.244.jpg  \n",
            "  inflating: data_with_without_masks/images - 2020-10-09T132619.405.jpg  \n",
            "  inflating: data_with_without_masks/images - 2020-10-09T132619.450.jpg  \n",
            "  inflating: data_with_without_masks/images - 2020-10-09T132619.677.jpg  \n",
            "  inflating: data_with_without_masks/images - 2020-10-09T132619.678.jpg  \n",
            "  inflating: data_with_without_masks/images - 2020-10-09T132620.360.jpg  \n",
            "  inflating: data_with_without_masks/images - 2020-10-09T132620.361.jpg  \n",
            "  inflating: data_with_without_masks/images - 2020-10-09T132621.110.jpg  \n",
            "  inflating: data_with_without_masks/images - 2020-10-09T132621.391.jpg  \n",
            "  inflating: data_with_without_masks/images - 2020-10-09T132622.343.jpg  \n",
            "  inflating: data_with_without_masks/images - 2020-10-09T132622.615.jpg  \n",
            "  inflating: data_with_without_masks/images - 2020-10-09T132622.616.jpg  \n",
            "  inflating: data_with_without_masks/images - 2020-10-09T132622.617.jpg  \n",
            "  inflating: data_with_without_masks/images - 2020-10-09T132623.458.jpg  \n",
            "  inflating: data_with_without_masks/images - 2020-10-09T132623.479.jpg  \n",
            "  inflating: data_with_without_masks/images - 2020-10-09T132623.487.jpg  \n",
            "  inflating: data_with_without_masks/images - 2020-10-09T134308.583.jpg  \n",
            "  inflating: data_with_without_masks/images - 2020-10-09T134308.928.jpg  \n",
            "  inflating: data_with_without_masks/images - 2020-10-09T134308.987.jpg  \n",
            "  inflating: data_with_without_masks/images - 2020-10-09T134309.076.jpg  \n",
            "  inflating: data_with_without_masks/images - 2020-10-09T134309.083.jpg  \n",
            "  inflating: data_with_without_masks/images - 2020-10-09T134309.232.jpg  \n",
            "  inflating: data_with_without_masks/images - 2020-10-09T134309.286.jpg  \n",
            "  inflating: data_with_without_masks/images - 2020-10-09T134310.980.jpg  \n",
            "  inflating: data_with_without_masks/images - 2020-10-09T134310.986.jpg  \n",
            "  inflating: data_with_without_masks/images - 2020-10-09T134311.236.jpg  \n",
            "  inflating: data_with_without_masks/images - 2020-10-09T134311.380.jpg  \n",
            "  inflating: data_with_without_masks/images - 2020-10-09T134312.009.jpg  \n",
            "  inflating: data_with_without_masks/images - 2020-10-09T134313.687.jpg  \n",
            "  inflating: data_with_without_masks/images - 2020-10-09T134314.921.jpg  \n",
            "  inflating: data_with_without_masks/images - 2020-10-09T134315.027.jpg  \n",
            "  inflating: data_with_without_masks/images - 2020-10-09T134315.989.jpg  \n",
            "  inflating: data_with_without_masks/images - 2020-10-09T134316.214.jpg  \n",
            "  inflating: data_with_without_masks/images - 2020-10-09T134316.608.jpg  \n",
            "  inflating: data_with_without_masks/images - 2020-10-09T134316.613.jpg  \n",
            "  inflating: data_with_without_masks/images - 2020-10-09T134316.614.jpg  \n",
            "  inflating: data_with_without_masks/images - 2020-10-09T134316.618.jpg  \n",
            "  inflating: data_with_without_masks/images - 2020-10-09T134316.623.jpg  \n",
            "  inflating: data_with_without_masks/images - 2020-10-09T134316.630.jpg  \n",
            "  inflating: data_with_without_masks/images - 2020-10-09T134741.387.jpg  \n",
            "  inflating: data_with_without_masks/images - 2020-10-09T134742.520.jpg  \n",
            "  inflating: data_with_without_masks/images - 2020-10-09T134742.530.jpg  \n",
            "  inflating: data_with_without_masks/images - 2020-10-09T134743.651.jpg  \n",
            "  inflating: data_with_without_masks/images - 2020-10-09T134744.768.jpg  \n",
            "  inflating: data_with_without_masks/images - 2020-10-09T134746.755.jpg  \n",
            "  inflating: data_with_without_masks/images - 2020-10-09T134749.952.jpg  \n",
            "  inflating: data_with_without_masks/images - 2020-10-09T134749.959.jpg  \n",
            "  inflating: data_with_without_masks/images - 2020-10-09T134752.892.jpg  \n",
            "  inflating: data_with_without_masks/images - 2020-10-09T134752.987.jpg  \n",
            "  inflating: data_with_without_masks/images - 2020-10-09T134753.078.jpg  \n",
            "  inflating: data_with_without_masks/images - 2020-10-12T140358.522.jpeg  \n",
            "  inflating: data_with_without_masks/images - 2020-10-12T140358.594.jpeg  \n",
            "  inflating: data_with_without_masks/images - 2020-10-12T140359.552.jpeg  \n",
            "  inflating: data_with_without_masks/images - 2020-10-12T140359.588.jpeg  \n",
            "  inflating: data_with_without_masks/images - 2020-10-12T140359.591.jpeg  \n",
            "  inflating: data_with_without_masks/images - 2020-10-12T140359.718.jpeg  \n",
            "  inflating: data_with_without_masks/images - 2020-10-12T140359.778.jpeg  \n",
            "  inflating: data_with_without_masks/images - 2020-10-12T140359.938.jpeg  \n",
            "  inflating: data_with_without_masks/images - 2020-10-12T140359.953.jpeg  \n",
            "  inflating: data_with_without_masks/images - 2020-10-12T140400.176.jpeg  \n",
            "  inflating: data_with_without_masks/skynews-cardiff-coronavirus_4942620.jpg  \n",
            "  inflating: data_without_mask/02-still-for-america-room-loop-superJumbo.jpg  \n",
            "  inflating: data_without_mask/10-Ways-to-Never-Let-Negative-People-Influence-You-1600x900.jpg  \n",
            "  inflating: data_without_mask/1200x0.jpg  \n",
            "  inflating: data_without_mask/12066960-3x2-xlarge.jpg  \n",
            "  inflating: data_without_mask/13-Habits-of-Exceptionally-Likeable-People.jpg  \n",
            "  inflating: data_without_mask/18virus-elite-superJumbo-v2.jpg  \n",
            "  inflating: data_without_mask/190324214125-02-octavia-spencer-2019-large-169.jpg  \n",
            "  inflating: data_without_mask/200724192251-02-coronavirus-victims-split-0724-large-169.jpg  \n",
            "  inflating: data_without_mask/2018-11-06t054310z-1334124005-rc1be15a8050-rtrmadp-3-people-sexiest-man.jpg  \n",
            "  inflating: data_without_mask/220px-People_Magazine_cover.png  \n",
            "  inflating: data_without_mask/4-Types-of-Difficult-People1.png  \n",
            "  inflating: data_without_mask/493ss_getty_rm_mariah_carey.jpg  \n",
            "  inflating: data_without_mask/61FkZligRxL._AC_SY445_.jpg  \n",
            "  inflating: data_without_mask/826869587.jpg  \n",
            "  inflating: data_without_mask/889464660_2058807104.jpg  \n",
            "  inflating: data_without_mask/91c5m53AI2L._AC_SL1500_.jpg  \n",
            "  inflating: data_without_mask/945x531_cmsv2_b5eeef82-3b6a-5879-b47f-8699155ff7a9-4224740.jpg  \n",
            "  inflating: data_without_mask/9c82c7a0-0963-4b57-a4a8-bc4a9cf5d0b0-large16x9_GettyImages1134307248.jpg  \n",
            "  inflating: data_without_mask/AP20190533038238-scaled.jpg  \n",
            "  inflating: data_without_mask/AP_20203474413963-1000x665.jpg  \n",
            "  inflating: data_without_mask/Bill-Foster_1280p.jpg  \n",
            "  inflating: data_without_mask/Binaural-Beats.jpg  \n",
            "  inflating: data_without_mask/CEJA-Intercambio-770x332.jpg  \n",
            "  inflating: data_without_mask/CELEB_LilySinghCulturalAppropriationAgain-767x431.jpg  \n",
            "  inflating: data_without_mask/Chris-Pratt.jpg  \n",
            "  inflating: data_without_mask/EZ5MMUCOF5E53POMHXXZX3SIFQ.jpg  \n",
            "  inflating: data_without_mask/EkSd83CXsAE58Ko.jpg  \n",
            "  inflating: data_without_mask/GroupPhoto-1071x1260.jpg  \n",
            "  inflating: data_without_mask/HQ-Ebola-Presser-UNOG-29MAY2018_0224.jpg  \n",
            "  inflating: data_without_mask/Home_Studio_BGTP002_1800_x_850_2000x.jpg  \n",
            "  inflating: data_without_mask/IHIStaff_2019_crop2.jpg  \n",
            "  inflating: data_without_mask/IMG_6151-1242x1200.jpg  \n",
            "  inflating: data_without_mask/Joel_Dixon_Headshot.jpg  \n",
            "  inflating: data_without_mask/Large-crowd_0.jpg  \n",
            "  inflating: data_without_mask/LletgetBeckyG.jpg  \n",
            "  inflating: data_without_mask/London-face-masks-epidemic-1024x683.jpg  \n",
            "  inflating: data_without_mask/MW-IN715_studen_20200902102915_ZQ.jpg  \n",
            "  inflating: data_without_mask/Names_10.jpeg  \n",
            "  inflating: data_without_mask/People-to-People-International-Student-Travel-Europe--2880x1600.jpg  \n",
            "  inflating: data_without_mask/Personal-Crowd-Silhouettes-Human-Group-Of-People-2045498.jpg  \n",
            "  inflating: data_without_mask/Policeman_Masks_COVID_1200x628-facebook-1200x628.jpg  \n",
            "  inflating: data_without_mask/Sand-Bar-Bash.jpg  \n",
            "  inflating: data_without_mask/_105882607_peoplerushing1.jpg  \n",
            "  inflating: data_without_mask/a5452d3c-e22c-4724-98ac-e1e04831c6ec_1920x1080.jpg  \n",
            "  inflating: data_without_mask/asdfghjk.jpeg  \n",
            "  inflating: data_without_mask/b18ba64e-3a31-42f2-aa45-e91b1927c03a-b18ba64e3a3142f2aa45e91b1927c03arendition_1_JimGrimesheadshotfinal.png  \n",
            "  inflating: data_without_mask/bannersize-new-72-dpi.jpg  \n",
            "  inflating: data_without_mask/bio-headers-groups-people-from-great-britain.jpg  \n",
            "  inflating: data_without_mask/business-people-organization-office-freelance-job-character_40876-1291.jpg  \n",
            "  inflating: data_without_mask/caeron+boyce.jpg  \n",
            "  inflating: data_without_mask/cast-singing-1920x967.jpg  \n",
            "  inflating: data_without_mask/datanomask (1).jpeg  \n",
            "  inflating: data_without_mask/datanomask (10).jpg  \n",
            "  inflating: data_without_mask/datanomask (100).jpg  \n",
            "  inflating: data_without_mask/datanomask (101).jpg  \n",
            "  inflating: data_without_mask/datanomask (102).jpg  \n",
            "  inflating: data_without_mask/datanomask (103).jpg  \n",
            "  inflating: data_without_mask/datanomask (104).jpg  \n",
            "  inflating: data_without_mask/datanomask (107).jpg  \n",
            "  inflating: data_without_mask/datanomask (11).jpg  \n",
            "  inflating: data_without_mask/datanomask (112).jpg  \n",
            "  inflating: data_without_mask/datanomask (115).jpg  \n",
            "  inflating: data_without_mask/datanomask (116).jpg  \n",
            "  inflating: data_without_mask/datanomask (118).jpg  \n",
            "  inflating: data_without_mask/datanomask (12).jpg  \n",
            "  inflating: data_without_mask/datanomask (120).jpg  \n",
            "  inflating: data_without_mask/datanomask (121).jpg  \n",
            "  inflating: data_without_mask/datanomask (122).jpg  \n",
            "  inflating: data_without_mask/datanomask (123).jpg  \n",
            "  inflating: data_without_mask/datanomask (124).jpg  \n",
            "  inflating: data_without_mask/datanomask (125).jpg  \n",
            "  inflating: data_without_mask/datanomask (126).jpg  \n",
            "  inflating: data_without_mask/datanomask (127).jpg  \n",
            "  inflating: data_without_mask/datanomask (128).jpg  \n",
            "  inflating: data_without_mask/datanomask (13).jpg  \n",
            "  inflating: data_without_mask/datanomask (132).jpg  \n",
            "  inflating: data_without_mask/datanomask (133).jpg  \n",
            "  inflating: data_without_mask/datanomask (134).jpg  \n",
            "  inflating: data_without_mask/datanomask (135).jpg  \n",
            "  inflating: data_without_mask/datanomask (137).jpg  \n",
            "  inflating: data_without_mask/datanomask (14).jpg  \n",
            "  inflating: data_without_mask/datanomask (140).jpg  \n",
            "  inflating: data_without_mask/datanomask (143).jpg  \n",
            "  inflating: data_without_mask/datanomask (146).jpg  \n",
            "  inflating: data_without_mask/datanomask (15).jpg  \n",
            "  inflating: data_without_mask/datanomask (153).jpg  \n",
            "  inflating: data_without_mask/datanomask (154).jpg  \n",
            "  inflating: data_without_mask/datanomask (156).jpg  \n",
            "  inflating: data_without_mask/datanomask (157).jpg  \n",
            "  inflating: data_without_mask/datanomask (159).jpg  \n",
            "  inflating: data_without_mask/datanomask (16).jpg  \n",
            "  inflating: data_without_mask/datanomask (160).jpg  \n",
            "  inflating: data_without_mask/datanomask (162).jpg  \n",
            "  inflating: data_without_mask/datanomask (163).jpg  \n",
            "  inflating: data_without_mask/datanomask (164).jpg  \n",
            "  inflating: data_without_mask/datanomask (165).jpg  \n",
            "  inflating: data_without_mask/datanomask (167).jpg  \n",
            "  inflating: data_without_mask/datanomask (168).jpg  \n",
            "  inflating: data_without_mask/datanomask (169).jpg  \n",
            "  inflating: data_without_mask/datanomask (17).jpg  \n",
            "  inflating: data_without_mask/datanomask (170).jpg  \n",
            "  inflating: data_without_mask/datanomask (171).jpg  \n",
            "  inflating: data_without_mask/datanomask (172).jpg  \n",
            "  inflating: data_without_mask/datanomask (173).jpg  \n",
            "  inflating: data_without_mask/datanomask (174).jpg  \n",
            "  inflating: data_without_mask/datanomask (175).jpg  \n",
            "  inflating: data_without_mask/datanomask (177).jpg  \n",
            "  inflating: data_without_mask/datanomask (179).jpg  \n",
            "  inflating: data_without_mask/datanomask (18).jpg  \n",
            "  inflating: data_without_mask/datanomask (182).jpg  \n",
            "  inflating: data_without_mask/datanomask (183).jpg  \n",
            "  inflating: data_without_mask/datanomask (188).jpg  \n",
            "  inflating: data_without_mask/datanomask (19).jpg  \n",
            "  inflating: data_without_mask/datanomask (190).jpg  \n",
            "  inflating: data_without_mask/datanomask (191).jpg  \n",
            "  inflating: data_without_mask/datanomask (192).jpg  \n",
            "  inflating: data_without_mask/datanomask (193).jpg  \n",
            "  inflating: data_without_mask/datanomask (194).jpg  \n",
            "  inflating: data_without_mask/datanomask (195).jpg  \n",
            "  inflating: data_without_mask/datanomask (197).jpg  \n",
            "  inflating: data_without_mask/datanomask (198).jpg  \n",
            "  inflating: data_without_mask/datanomask (199).jpg  \n",
            "  inflating: data_without_mask/datanomask (2).jpeg  \n",
            "  inflating: data_without_mask/datanomask (2).jpg  \n",
            "  inflating: data_without_mask/datanomask (2).png  \n",
            "  inflating: data_without_mask/datanomask (20).jpg  \n",
            "  inflating: data_without_mask/datanomask (200).jpg  \n",
            "  inflating: data_without_mask/datanomask (201).jpg  \n",
            "  inflating: data_without_mask/datanomask (202).jpg  \n",
            "  inflating: data_without_mask/datanomask (203).jpg  \n",
            "  inflating: data_without_mask/datanomask (206).jpg  \n",
            "  inflating: data_without_mask/datanomask (207).jpg  \n",
            "  inflating: data_without_mask/datanomask (208).jpg  \n",
            "  inflating: data_without_mask/datanomask (209).jpg  \n",
            "  inflating: data_without_mask/datanomask (21).jpg  \n",
            "  inflating: data_without_mask/datanomask (210).jpg  \n",
            "  inflating: data_without_mask/datanomask (212).jpg  \n",
            "  inflating: data_without_mask/datanomask (213).jpg  \n",
            "  inflating: data_without_mask/datanomask (214).jpg  \n",
            "  inflating: data_without_mask/datanomask (217).jpg  \n",
            "  inflating: data_without_mask/datanomask (218).jpg  \n",
            "  inflating: data_without_mask/datanomask (219).jpg  \n",
            "  inflating: data_without_mask/datanomask (22).jpg  \n",
            "  inflating: data_without_mask/datanomask (220).jpg  \n",
            "  inflating: data_without_mask/datanomask (221).jpg  \n",
            "  inflating: data_without_mask/datanomask (222).jpg  \n",
            "  inflating: data_without_mask/datanomask (223).jpg  \n",
            "  inflating: data_without_mask/datanomask (226).jpg  \n",
            "  inflating: data_without_mask/datanomask (229).jpg  \n",
            "  inflating: data_without_mask/datanomask (23).jpg  \n",
            "  inflating: data_without_mask/datanomask (230).jpg  \n",
            "  inflating: data_without_mask/datanomask (231).jpg  \n",
            "  inflating: data_without_mask/datanomask (232).jpg  \n",
            "  inflating: data_without_mask/datanomask (234).jpg  \n",
            "  inflating: data_without_mask/datanomask (235).jpg  \n",
            "  inflating: data_without_mask/datanomask (24).jpg  \n",
            "  inflating: data_without_mask/datanomask (241).jpg  \n",
            "  inflating: data_without_mask/datanomask (242).jpg  \n",
            "  inflating: data_without_mask/datanomask (243).jpg  \n",
            "  inflating: data_without_mask/datanomask (244).jpg  \n",
            "  inflating: data_without_mask/datanomask (245).jpg  \n",
            "  inflating: data_without_mask/datanomask (246).jpg  \n",
            "  inflating: data_without_mask/datanomask (248).jpg  \n",
            "  inflating: data_without_mask/datanomask (249).jpg  \n",
            "  inflating: data_without_mask/datanomask (25).jpg  \n",
            "  inflating: data_without_mask/datanomask (250).jpg  \n",
            "  inflating: data_without_mask/datanomask (252).jpg  \n",
            "  inflating: data_without_mask/datanomask (253).jpg  \n",
            "  inflating: data_without_mask/datanomask (255).jpg  \n",
            "  inflating: data_without_mask/datanomask (256).jpg  \n",
            "  inflating: data_without_mask/datanomask (257).jpg  \n",
            "  inflating: data_without_mask/datanomask (258).jpg  \n",
            "  inflating: data_without_mask/datanomask (259).jpg  \n",
            "  inflating: data_without_mask/datanomask (26).jpg  \n",
            "  inflating: data_without_mask/datanomask (260).jpg  \n",
            "  inflating: data_without_mask/datanomask (261).jpg  \n",
            "  inflating: data_without_mask/datanomask (263).jpg  \n",
            "  inflating: data_without_mask/datanomask (264).jpg  \n",
            "  inflating: data_without_mask/datanomask (265).jpg  \n",
            "  inflating: data_without_mask/datanomask (266).jpg  \n",
            "  inflating: data_without_mask/datanomask (27).jpg  \n",
            "  inflating: data_without_mask/datanomask (270).jpg  \n",
            "  inflating: data_without_mask/datanomask (271).jpg  \n",
            "  inflating: data_without_mask/datanomask (272).jpg  \n",
            "  inflating: data_without_mask/datanomask (276).jpg  \n",
            "  inflating: data_without_mask/datanomask (277).jpg  \n",
            "  inflating: data_without_mask/datanomask (28).jpg  \n",
            "  inflating: data_without_mask/datanomask (280).jpg  \n",
            "  inflating: data_without_mask/datanomask (281).jpg  \n",
            "  inflating: data_without_mask/datanomask (282).jpg  \n",
            "  inflating: data_without_mask/datanomask (285).jpg  \n",
            "  inflating: data_without_mask/datanomask (289).jpg  \n",
            "  inflating: data_without_mask/datanomask (29).jpg  \n",
            "  inflating: data_without_mask/datanomask (295).jpg  \n",
            "  inflating: data_without_mask/datanomask (297).jpg  \n",
            "  inflating: data_without_mask/datanomask (299).jpg  \n",
            "  inflating: data_without_mask/datanomask (3).jpg  \n",
            "  inflating: data_without_mask/datanomask (30).jpg  \n",
            "  inflating: data_without_mask/datanomask (303).jpg  \n",
            "  inflating: data_without_mask/datanomask (307).jpg  \n",
            "  inflating: data_without_mask/datanomask (308).jpg  \n",
            "  inflating: data_without_mask/datanomask (31).jpg  \n",
            "  inflating: data_without_mask/datanomask (312).jpg  \n",
            "  inflating: data_without_mask/datanomask (313).jpg  \n",
            "  inflating: data_without_mask/datanomask (315).jpg  \n",
            "  inflating: data_without_mask/datanomask (319).jpg  \n",
            "  inflating: data_without_mask/datanomask (32).jpg  \n",
            "  inflating: data_without_mask/datanomask (320).jpg  \n",
            "  inflating: data_without_mask/datanomask (321).jpg  \n",
            "  inflating: data_without_mask/datanomask (323).jpg  \n",
            "  inflating: data_without_mask/datanomask (324).jpg  \n",
            "  inflating: data_without_mask/datanomask (325).jpg  \n",
            "  inflating: data_without_mask/datanomask (327).jpg  \n",
            "  inflating: data_without_mask/datanomask (33).jpg  \n",
            "  inflating: data_without_mask/datanomask (331).jpg  \n",
            "  inflating: data_without_mask/datanomask (332).jpg  \n",
            "  inflating: data_without_mask/datanomask (333).jpg  \n",
            "  inflating: data_without_mask/datanomask (335).jpg  \n",
            "  inflating: data_without_mask/datanomask (337).jpg  \n",
            "  inflating: data_without_mask/datanomask (339).jpg  \n",
            "  inflating: data_without_mask/datanomask (34).jpg  \n",
            "  inflating: data_without_mask/datanomask (342).jpg  \n",
            "  inflating: data_without_mask/datanomask (344).jpg  \n",
            "  inflating: data_without_mask/datanomask (35).jpg  \n",
            "  inflating: data_without_mask/datanomask (350).jpg  \n",
            "  inflating: data_without_mask/datanomask (353).jpg  \n",
            "  inflating: data_without_mask/datanomask (354).jpg  \n",
            "  inflating: data_without_mask/datanomask (355).jpg  \n",
            "  inflating: data_without_mask/datanomask (356).jpg  \n",
            "  inflating: data_without_mask/datanomask (36).jpg  \n",
            "  inflating: data_without_mask/datanomask (361).jpg  \n",
            "  inflating: data_without_mask/datanomask (37).jpg  \n",
            "  inflating: data_without_mask/datanomask (38).jpg  \n",
            "  inflating: data_without_mask/datanomask (39).jpg  \n",
            "  inflating: data_without_mask/datanomask (4).png  \n",
            "  inflating: data_without_mask/datanomask (41).jpg  \n",
            "  inflating: data_without_mask/datanomask (42).jpg  \n",
            "  inflating: data_without_mask/datanomask (42).png  \n",
            "  inflating: data_without_mask/datanomask (43).jpg  \n",
            "  inflating: data_without_mask/datanomask (44).jpg  \n",
            "  inflating: data_without_mask/datanomask (45).jpg  \n",
            "  inflating: data_without_mask/datanomask (46).jpg  \n",
            "  inflating: data_without_mask/datanomask (47).jpg  \n",
            "  inflating: data_without_mask/datanomask (48).jpg  \n",
            "  inflating: data_without_mask/datanomask (5).jpg  \n",
            "  inflating: data_without_mask/datanomask (51).jpg  \n",
            "  inflating: data_without_mask/datanomask (52).jpg  \n",
            "  inflating: data_without_mask/datanomask (53).jpg  \n",
            "  inflating: data_without_mask/datanomask (55).jpg  \n",
            "  inflating: data_without_mask/datanomask (59).jpg  \n",
            "  inflating: data_without_mask/datanomask (6).jpg  \n",
            "  inflating: data_without_mask/datanomask (61).jpg  \n",
            "  inflating: data_without_mask/datanomask (63).jpg  \n",
            "  inflating: data_without_mask/datanomask (64).jpg  \n",
            "  inflating: data_without_mask/datanomask (65).jpg  \n",
            "  inflating: data_without_mask/datanomask (66).jpg  \n",
            "  inflating: data_without_mask/datanomask (68).jpg  \n",
            "  inflating: data_without_mask/datanomask (69).jpg  \n",
            "  inflating: data_without_mask/datanomask (7).jpg  \n",
            "  inflating: data_without_mask/datanomask (70).jpg  \n",
            "  inflating: data_without_mask/datanomask (72).jpg  \n",
            "  inflating: data_without_mask/datanomask (73).jpg  \n",
            "  inflating: data_without_mask/datanomask (74).jpg  \n",
            "  inflating: data_without_mask/datanomask (77).jpg  \n",
            "  inflating: data_without_mask/datanomask (79).jpg  \n",
            "  inflating: data_without_mask/datanomask (8).jpg  \n",
            "  inflating: data_without_mask/datanomask (81).jpg  \n",
            "  inflating: data_without_mask/datanomask (83).jpg  \n",
            "  inflating: data_without_mask/datanomask (84).jpg  \n",
            "  inflating: data_without_mask/datanomask (85).jpg  \n",
            "  inflating: data_without_mask/datanomask (86).jpg  \n",
            "  inflating: data_without_mask/datanomask (87).jpg  \n",
            "  inflating: data_without_mask/datanomask (88).jpg  \n",
            "  inflating: data_without_mask/datanomask (89).jpg  \n",
            "  inflating: data_without_mask/datanomask (9).jpg  \n",
            "  inflating: data_without_mask/datanomask (91).jpg  \n",
            "  inflating: data_without_mask/datanomask (92).jpg  \n",
            "  inflating: data_without_mask/datanomask (93).jpg  \n",
            "  inflating: data_without_mask/datanomask (95).jpg  \n",
            "  inflating: data_without_mask/datanomask (98).jpg  \n",
            "  inflating: data_without_mask/datanomask (99).jpg  \n",
            "  inflating: data_without_mask/dobrik-people.jpg  \n",
            "  inflating: data_without_mask/download (1).jpg  \n",
            "  inflating: data_without_mask/download (1).png  \n",
            "  inflating: data_without_mask/download (10).jpg  \n",
            "  inflating: data_without_mask/download (11).jpg  \n",
            "  inflating: data_without_mask/download (12).jpg  \n",
            "  inflating: data_without_mask/download (13).jpg  \n",
            "  inflating: data_without_mask/download (14).jpg  \n",
            "  inflating: data_without_mask/download (15).jpg  \n",
            "  inflating: data_without_mask/download (16).jpg  \n",
            "  inflating: data_without_mask/download (17).jpg  \n",
            "  inflating: data_without_mask/download (18).jpg  \n",
            "  inflating: data_without_mask/download (19).jpg  \n",
            "  inflating: data_without_mask/download (2).jpg  \n",
            "  inflating: data_without_mask/download (20).jpeg  \n",
            "  inflating: data_without_mask/download (20).jpg  \n",
            "  inflating: data_without_mask/download (21).jpg  \n",
            "  inflating: data_without_mask/download (22).jpg  \n",
            "  inflating: data_without_mask/download (23).jpg  \n",
            "  inflating: data_without_mask/download (24).jpg  \n",
            "  inflating: data_without_mask/download (25).jpg  \n",
            "  inflating: data_without_mask/download (26).jpeg  \n",
            "  inflating: data_without_mask/download (26).jpg  \n",
            "  inflating: data_without_mask/download (27).jpeg  \n",
            "  inflating: data_without_mask/download (27).jpg  \n",
            "  inflating: data_without_mask/download (28).jpg  \n",
            "  inflating: data_without_mask/download (29).jpeg  \n",
            "  inflating: data_without_mask/download (29).jpg  \n",
            "  inflating: data_without_mask/download (3).jpg  \n",
            "  inflating: data_without_mask/download (30).jpeg  \n",
            "  inflating: data_without_mask/download (36).jpeg  \n",
            "  inflating: data_without_mask/download (38).jpeg  \n",
            "  inflating: data_without_mask/download (4).jpg  \n",
            "  inflating: data_without_mask/download (5).jpg  \n",
            "  inflating: data_without_mask/download (6).jpg  \n",
            "  inflating: data_without_mask/download (7).jpg  \n",
            "  inflating: data_without_mask/download (8).jpg  \n",
            "  inflating: data_without_mask/download (9).jpg  \n",
            "  inflating: data_without_mask/download.jpg  \n",
            "  inflating: data_without_mask/download.png  \n",
            "  inflating: data_without_mask/dsf.jpg  \n",
            "  inflating: data_without_mask/dwfevf.jpeg  \n",
            "  inflating: data_without_mask/efs.jpeg  \n",
            "  inflating: data_without_mask/ey-staff-at-event.jpg  \n",
            "  inflating: data_without_mask/famous-people-with-anxiety-rm-kim-kardashian-722x406.jpg  \n",
            "  inflating: data_without_mask/famous-people-with-anxiety-rm-selena-gomez-722x406.jpg  \n",
            "  inflating: data_without_mask/friends_on-city-street-having-fun-732x549-thumbnail.jpg  \n",
            "  inflating: data_without_mask/fs.jpeg  \n",
            "  inflating: data_without_mask/getty_475085221_970581970450081_64301.jpg  \n",
            "  inflating: data_without_mask/group-people-illustration-set_52683-33806.jpg  \n",
            "  inflating: data_without_mask/happy-people-1050x600.jpg  \n",
            "  inflating: data_without_mask/image.jpg  \n",
            "  inflating: data_without_mask/images (1).jpg  \n",
            "  inflating: data_without_mask/images (12).jpg  \n",
            "  inflating: data_without_mask/images (13).jpg  \n",
            "  inflating: data_without_mask/images (14).jpg  \n",
            "  inflating: data_without_mask/images (15).jpg  \n",
            "  inflating: data_without_mask/images (16).jpg  \n",
            "  inflating: data_without_mask/images (17).jpg  \n",
            "  inflating: data_without_mask/images (19).jpg  \n",
            "  inflating: data_without_mask/images (2).jpg  \n",
            "  inflating: data_without_mask/images (20).jpg  \n",
            "  inflating: data_without_mask/images (21).jpg  \n",
            "  inflating: data_without_mask/images (23).jpg  \n",
            "  inflating: data_without_mask/images (24).jpg  \n",
            "  inflating: data_without_mask/images (26).jpg  \n",
            "  inflating: data_without_mask/images (27).jpg  \n",
            "  inflating: data_without_mask/images (28).jpg  \n",
            "  inflating: data_without_mask/images (29).jpg  \n",
            "  inflating: data_without_mask/images (3).jpg  \n",
            "  inflating: data_without_mask/images (30).jpg  \n",
            "  inflating: data_without_mask/images (31).jpg  \n",
            "  inflating: data_without_mask/images (32).jpg  \n",
            "  inflating: data_without_mask/images (34).jpg  \n",
            "  inflating: data_without_mask/images (35).jpg  \n",
            "  inflating: data_without_mask/images (36).jpg  \n",
            "  inflating: data_without_mask/images (37).jpg  \n",
            "  inflating: data_without_mask/images (38).jpg  \n",
            "  inflating: data_without_mask/images (4).jpg  \n",
            "  inflating: data_without_mask/images (41).jpg  \n",
            "  inflating: data_without_mask/images (42).jpg  \n",
            "  inflating: data_without_mask/images (43).jpg  \n",
            "  inflating: data_without_mask/images (45).jpg  \n",
            "  inflating: data_without_mask/images (46).jpg  \n",
            "  inflating: data_without_mask/images (47).jpg  \n",
            "  inflating: data_without_mask/images (48).jpg  \n",
            "  inflating: data_without_mask/images (49).jpg  \n",
            "  inflating: data_without_mask/images (5).jpg  \n",
            "  inflating: data_without_mask/images (50).jpg  \n",
            "  inflating: data_without_mask/images (51).jpg  \n",
            "  inflating: data_without_mask/images (52).jpg  \n",
            "  inflating: data_without_mask/images (53).jpg  \n",
            "  inflating: data_without_mask/images (54).jpg  \n",
            "  inflating: data_without_mask/images (56).jpg  \n",
            "  inflating: data_without_mask/images (57).jpg  \n",
            "  inflating: data_without_mask/images (58).jpg  \n",
            "  inflating: data_without_mask/images (59).jpg  \n",
            "  inflating: data_without_mask/images (6).jpg  \n",
            "  inflating: data_without_mask/images (60).jpg  \n",
            "  inflating: data_without_mask/images (61).jpg  \n",
            "  inflating: data_without_mask/images (65).jpg  \n",
            "  inflating: data_without_mask/images (66).jpg  \n",
            "  inflating: data_without_mask/images (67).jpg  \n",
            "  inflating: data_without_mask/images (68).jpg  \n",
            "  inflating: data_without_mask/images (69).jpg  \n",
            "  inflating: data_without_mask/images (7).jpg  \n",
            "  inflating: data_without_mask/images (70).jpg  \n",
            "  inflating: data_without_mask/images (73).jpg  \n",
            "  inflating: data_without_mask/images (74).jpg  \n",
            "  inflating: data_without_mask/images (75).jpg  \n",
            "  inflating: data_without_mask/images (77).jpg  \n",
            "  inflating: data_without_mask/images (78).jpg  \n",
            "  inflating: data_without_mask/images (79).jpg  \n",
            "  inflating: data_without_mask/images (8).jpg  \n",
            "  inflating: data_without_mask/images (80).jpg  \n",
            "  inflating: data_without_mask/images (82).jpg  \n",
            "  inflating: data_without_mask/images (83).jpg  \n",
            "  inflating: data_without_mask/images (84).jpg  \n",
            "  inflating: data_without_mask/images (85).jpg  \n",
            "  inflating: data_without_mask/images (88).jpg  \n",
            "  inflating: data_without_mask/images (89).jpg  \n",
            "  inflating: data_without_mask/images (9).jpg  \n",
            "  inflating: data_without_mask/images (90).jpg  \n",
            "  inflating: data_without_mask/images (91).jpg  \n",
            "  inflating: data_without_mask/images (92).jpg  \n",
            "  inflating: data_without_mask/images (94).jpg  \n",
            "  inflating: data_without_mask/images (95).jpg  \n",
            "  inflating: data_without_mask/images (96).jpg  \n",
            "  inflating: data_without_mask/images (97).jpg  \n",
            "  inflating: data_without_mask/images (98).jpg  \n",
            "  inflating: data_without_mask/images - 2020-10-09T134308.805.jpg  \n",
            "  inflating: data_without_mask/images - 2020-10-09T134309.120.jpg  \n",
            "  inflating: data_without_mask/images - 2020-10-09T134310.985.jpg  \n",
            "  inflating: data_without_mask/images - 2020-10-09T134312.008.jpg  \n",
            "  inflating: data_without_mask/images - 2020-10-09T134751.675.jpg  \n",
            "  inflating: data_without_mask/images - 2020-10-09T134752.764.jpg  \n",
            "  inflating: data_without_mask/images - 2020-10-17T102817.796.jpg  \n",
            "  inflating: data_without_mask/images - 2020-10-17T102817.797.jpg  \n",
            "  inflating: data_without_mask/images - 2020-10-17T102817.803.jpg  \n",
            "  inflating: data_without_mask/images - 2020-10-17T102817.806.jpg  \n",
            "  inflating: data_without_mask/images - 2020-10-17T102817.807.jpg  \n",
            "  inflating: data_without_mask/images - 2020-10-17T102817.808.jpg  \n",
            "  inflating: data_without_mask/images - 2020-10-17T102817.809.jpg  \n",
            "  inflating: data_without_mask/images - 2020-10-17T102817.810.jpg  \n",
            "  inflating: data_without_mask/images - 2020-10-17T102817.811.jpg  \n",
            "  inflating: data_without_mask/images - 2020-10-17T102817.815.jpg  \n",
            "  inflating: data_without_mask/images - 2020-10-17T102817.816.jpg  \n",
            "  inflating: data_without_mask/images - 2020-10-17T102817.817.jpg  \n",
            "  inflating: data_without_mask/images - 2020-10-17T102817.818.jpg  \n",
            "  inflating: data_without_mask/images - 2020-10-17T102817.819.jpg  \n",
            "  inflating: data_without_mask/images - 2020-10-17T102817.821.jpg  \n",
            "  inflating: data_without_mask/images - 2020-10-17T102817.822.jpg  \n",
            "  inflating: data_without_mask/images - 2020-10-17T102817.823.jpg  \n",
            "  inflating: data_without_mask/images - 2020-10-17T102817.826.jpg  \n",
            "  inflating: data_without_mask/images - 2020-10-17T102817.853.jpg  \n",
            "  inflating: data_without_mask/images - 2020-10-17T102817.855.jpg  \n",
            "  inflating: data_without_mask/images - 2020-10-17T102817.856.jpg  \n",
            "  inflating: data_without_mask/images - 2020-10-17T102817.889.jpg  \n",
            "  inflating: data_without_mask/images - 2020-10-17T102817.890.jpg  \n",
            "  inflating: data_without_mask/images - 2020-10-17T102817.891.jpg  \n",
            "  inflating: data_without_mask/images - 2020-10-17T102817.911.jpg  \n",
            "  inflating: data_without_mask/images - 2020-10-17T102817.912.jpg  \n",
            "  inflating: data_without_mask/images - 2020-10-17T102817.916.jpg  \n",
            "  inflating: data_without_mask/images - 2020-10-17T102817.917.jpg  \n",
            "  inflating: data_without_mask/images - 2020-10-17T102817.968.jpg  \n",
            "  inflating: data_without_mask/images - 2020-10-17T102817.969.jpg  \n",
            "  inflating: data_without_mask/images - 2020-10-17T102817.970.jpg  \n",
            "  inflating: data_without_mask/images - 2020-10-17T102817.971.jpg  \n",
            "  inflating: data_without_mask/images - 2020-10-17T102817.972.jpg  \n",
            "  inflating: data_without_mask/images - 2020-10-17T102817.973.jpg  \n",
            "  inflating: data_without_mask/images - 2020-10-17T102817.975.jpg  \n",
            "  inflating: data_without_mask/images - 2020-10-17T102817.976.jpg  \n",
            "  inflating: data_without_mask/images - 2020-10-17T102817.977.jpg  \n",
            "  inflating: data_without_mask/images - 2020-10-17T102817.978.jpg  \n",
            "  inflating: data_without_mask/images - 2020-10-17T102817.986.jpg  \n",
            "  inflating: data_without_mask/images - 2020-10-17T102817.987.jpg  \n",
            "  inflating: data_without_mask/images - 2020-10-17T102817.988.jpg  \n",
            "  inflating: data_without_mask/images - 2020-10-17T102817.989.jpg  \n",
            "  inflating: data_without_mask/images - 2020-10-17T102817.990.jpg  \n",
            "  inflating: data_without_mask/images - 2020-10-17T102817.991.jpg  \n",
            "  inflating: data_without_mask/images - 2020-10-17T102817.992.jpg  \n",
            "  inflating: data_without_mask/images - 2020-10-17T102817.993.jpg  \n",
            "  inflating: data_without_mask/images - 2020-10-17T102817.994.jpg  \n",
            "  inflating: data_without_mask/images - 2020-10-17T102817.995.jpg  \n",
            "  inflating: data_without_mask/images - 2020-10-17T102817.996.jpg  \n",
            "  inflating: data_without_mask/images - 2020-10-17T102817.998.jpg  \n",
            "  inflating: data_without_mask/images - 2020-10-17T102817.999.jpg  \n",
            "  inflating: data_without_mask/images - 2020-10-17T102818.001.jpg  \n",
            "  inflating: data_without_mask/images - 2020-10-17T102818.002.jpg  \n",
            "  inflating: data_without_mask/images - 2020-10-17T102818.004.jpg  \n",
            "  inflating: data_without_mask/images - 2020-10-17T102818.005.jpg  \n",
            "  inflating: data_without_mask/images - 2020-10-17T102818.006.jpg  \n",
            "  inflating: data_without_mask/images - 2020-10-17T102818.007.jpg  \n",
            "  inflating: data_without_mask/images - 2020-10-17T102818.016.jpg  \n",
            "  inflating: data_without_mask/images - 2020-10-17T102818.017.jpg  \n",
            "  inflating: data_without_mask/images - 2020-10-17T102818.018.jpg  \n",
            "  inflating: data_without_mask/images - 2020-10-17T102818.019.jpg  \n",
            "  inflating: data_without_mask/images - 2020-10-17T102818.020.jpg  \n",
            "  inflating: data_without_mask/images - 2020-10-17T102818.022.jpg  \n",
            "  inflating: data_without_mask/images - 2020-10-17T102818.023.jpg  \n",
            "  inflating: data_without_mask/images - 2020-10-17T102818.024.jpg  \n",
            "  inflating: data_without_mask/images - 2020-10-17T102818.025.jpg  \n",
            "  inflating: data_without_mask/images - 2020-10-17T102818.027.jpg  \n",
            "  inflating: data_without_mask/images - 2020-10-17T102818.030.jpg  \n",
            "  inflating: data_without_mask/images - 2020-10-17T102818.033.jpg  \n",
            "  inflating: data_without_mask/images - 2020-10-17T102818.035.jpg  \n",
            "  inflating: data_without_mask/images - 2020-10-17T102818.037.jpg  \n",
            "  inflating: data_without_mask/images - 2020-10-17T102818.038.jpg  \n",
            "  inflating: data_without_mask/images - 2020-10-17T102818.039.jpg  \n",
            "  inflating: data_without_mask/images - 2020-10-17T102818.084.jpg  \n",
            "  inflating: data_without_mask/images - 2020-10-17T102818.085.jpg  \n",
            "  inflating: data_without_mask/images - 2020-10-17T102818.088.jpg  \n",
            "  inflating: data_without_mask/images - 2020-10-17T102818.089.jpg  \n",
            "  inflating: data_without_mask/images - 2020-10-17T102818.092.jpg  \n",
            "  inflating: data_without_mask/images - 2020-10-17T102818.094.jpg  \n",
            "  inflating: data_without_mask/images - 2020-10-17T102818.145.jpg  \n",
            "  inflating: data_without_mask/images - 2020-10-17T102818.147.jpg  \n",
            "  inflating: data_without_mask/images - 2020-10-17T102818.154.jpg  \n",
            "  inflating: data_without_mask/images - 2020-10-17T102818.157.jpg  \n",
            "  inflating: data_without_mask/images - 2020-10-17T102818.159.jpg  \n",
            "  inflating: data_without_mask/images - 2020-10-17T102818.160.jpg  \n",
            "  inflating: data_without_mask/images - 2020-10-17T102818.161.jpg  \n",
            "  inflating: data_without_mask/images - 2020-10-17T102818.162.jpg  \n",
            "  inflating: data_without_mask/images - 2020-10-17T102818.168.jpg  \n",
            "  inflating: data_without_mask/images - 2020-10-17T102818.173.jpg  \n",
            "  inflating: data_without_mask/images - 2020-10-17T102818.179.jpg  \n",
            "  inflating: data_without_mask/images - 2020-10-17T102818.180.jpg  \n",
            "  inflating: data_without_mask/images - 2020-10-17T102818.181.jpg  \n",
            "  inflating: data_without_mask/images - 2020-10-17T102818.183.jpg  \n",
            "  inflating: data_without_mask/images - 2020-10-17T102818.188.jpg  \n",
            "  inflating: data_without_mask/images - 2020-10-17T102818.190.jpg  \n",
            "  inflating: data_without_mask/images - 2020-10-17T102818.192.jpg  \n",
            "  inflating: data_without_mask/images - 2020-10-17T102818.193.jpg  \n",
            "  inflating: data_without_mask/images - 2020-10-17T102818.195.jpg  \n",
            "  inflating: data_without_mask/images - 2020-10-17T102818.196.jpg  \n",
            "  inflating: data_without_mask/images - 2020-10-17T102818.206.jpg  \n",
            "  inflating: data_without_mask/images - 2020-10-17T102818.207.jpg  \n",
            "  inflating: data_without_mask/images - 2020-10-17T102818.209.jpg  \n",
            "  inflating: data_without_mask/images - 2020-10-17T102818.210.jpg  \n",
            "  inflating: data_without_mask/images - 2020-10-17T102818.212.jpg  \n",
            "  inflating: data_without_mask/images - 2020-10-17T102818.213.jpg  \n",
            "  inflating: data_without_mask/images - 2020-10-17T102818.214.jpg  \n",
            "  inflating: data_without_mask/images - 2020-10-17T102818.215.jpg  \n",
            "  inflating: data_without_mask/images - 2020-10-17T102818.216.jpg  \n",
            "  inflating: data_without_mask/images - 2020-10-17T102818.218.jpg  \n",
            "  inflating: data_without_mask/images - 2020-10-17T102818.222.jpg  \n",
            "  inflating: data_without_mask/images - 2020-10-17T102818.223.jpg  \n",
            "  inflating: data_without_mask/images - 2020-10-17T102818.224.jpg  \n",
            "  inflating: data_without_mask/images - 2020-10-17T102818.225.jpg  \n",
            "  inflating: data_without_mask/images - 2020-10-17T102818.226.jpg  \n",
            "  inflating: data_without_mask/images - 2020-10-17T102818.227.jpg  \n",
            "  inflating: data_without_mask/images - 2020-10-17T102818.228.jpg  \n",
            "  inflating: data_without_mask/images - 2020-10-17T102818.229.jpg  \n",
            "  inflating: data_without_mask/images - 2020-10-17T102818.231.jpg  \n",
            "  inflating: data_without_mask/images - 2020-10-17T102818.245.jpg  \n",
            "  inflating: data_without_mask/images - 2020-10-17T102818.246.jpg  \n",
            "  inflating: data_without_mask/images - 2020-10-17T102818.248.jpg  \n",
            "  inflating: data_without_mask/images - 2020-10-17T102818.249.jpg  \n",
            "  inflating: data_without_mask/images - 2020-10-17T102818.250.jpg  \n",
            "  inflating: data_without_mask/images - 2020-10-17T102818.252.jpg  \n",
            "  inflating: data_without_mask/images - 2020-10-17T102818.253.jpg  \n",
            "  inflating: data_without_mask/images - 2020-10-17T102818.254.jpg  \n",
            "  inflating: data_without_mask/images - 2020-10-17T102818.255.jpg  \n",
            "  inflating: data_without_mask/images - 2020-10-17T102818.256.jpg  \n",
            "  inflating: data_without_mask/images - 2020-10-17T102818.257.jpg  \n",
            "  inflating: data_without_mask/images - 2020-10-17T102818.258.jpg  \n",
            "  inflating: data_without_mask/images - 2020-10-17T102818.269.jpg  \n",
            "  inflating: data_without_mask/images - 2020-10-18T171847.790.jpeg  \n",
            "  inflating: data_without_mask/images - 2020-10-18T171847.806.jpeg  \n",
            "  inflating: data_without_mask/images - 2020-10-18T171847.979.jpeg  \n",
            "  inflating: data_without_mask/images - 2020-10-18T171847.980.jpeg  \n",
            "  inflating: data_without_mask/images - 2020-10-18T171848.019.jpeg  \n",
            "  inflating: data_without_mask/images - 2020-10-18T171848.022.jpeg  \n",
            "  inflating: data_without_mask/images - 2020-10-18T171848.027.jpeg  \n",
            "  inflating: data_without_mask/images - 2020-10-18T171848.030.jpeg  \n",
            "  inflating: data_without_mask/images - 2020-10-18T171848.032.jpeg  \n",
            "  inflating: data_without_mask/images - 2020-10-18T171848.036.jpeg  \n",
            "  inflating: data_without_mask/images - 2020-10-18T171848.038.jpeg  \n",
            "  inflating: data_without_mask/images - 2020-10-18T171848.045.jpeg  \n",
            "  inflating: data_without_mask/images - 2020-10-18T171848.138.jpeg  \n",
            "  inflating: data_without_mask/images - 2020-10-18T171848.156.jpeg  \n",
            "  inflating: data_without_mask/images - 2020-10-18T171848.394.jpeg  \n",
            "  inflating: data_without_mask/images - 2020-10-18T171848.503.jpeg  \n",
            "  inflating: data_without_mask/images - 2020-10-18T171848.730.jpeg  \n",
            "  inflating: data_without_mask/images - 2020-10-18T171848.869.jpeg  \n",
            "  inflating: data_without_mask/images - 2020-10-18T171849.015.jpeg  \n",
            "  inflating: data_without_mask/images - 2020-10-18T171849.017.jpeg  \n",
            "  inflating: data_without_mask/images - 2020-10-18T171849.089.jpeg  \n",
            "  inflating: data_without_mask/images - 2020-10-18T171849.212.jpeg  \n",
            "  inflating: data_without_mask/images - 2020-10-18T171849.234.jpeg  \n",
            "  inflating: data_without_mask/images - 2020-10-18T171849.264.jpeg  \n",
            "  inflating: data_without_mask/images - 2020-10-18T171849.273.jpeg  \n",
            "  inflating: data_without_mask/images - 2020-10-18T171849.286.jpeg  \n",
            "  inflating: data_without_mask/images - 2020-10-18T171849.287.jpeg  \n",
            "  inflating: data_without_mask/images - 2020-10-18T171849.291.jpeg  \n",
            "  inflating: data_without_mask/images - 2020-10-18T171849.295.jpeg  \n",
            "  inflating: data_without_mask/images - 2020-10-18T171849.300.jpeg  \n",
            "  inflating: data_without_mask/images - 2020-10-18T171849.301.jpeg  \n",
            "  inflating: data_without_mask/images - 2020-10-18T171849.302.jpeg  \n",
            "  inflating: data_without_mask/images - 2020-10-18T171849.304.jpeg  \n",
            "  inflating: data_without_mask/images - 2020-10-18T171849.305.jpeg  \n",
            "  inflating: data_without_mask/images - 2020-10-18T171849.307.jpeg  \n",
            "  inflating: data_without_mask/images - 2020-10-18T171849.311.jpeg  \n",
            "  inflating: data_without_mask/images - 2020-10-18T171849.312.jpeg  \n",
            "  inflating: data_without_mask/images - 2020-10-18T171849.321.jpeg  \n",
            "  inflating: data_without_mask/images - 2020-10-18T171849.331.jpeg  \n",
            "  inflating: data_without_mask/images - 2020-10-18T171849.355.jpeg  \n",
            "  inflating: data_without_mask/images - 2020-10-18T171849.359.jpeg  \n",
            "  inflating: data_without_mask/images - 2020-10-18T171849.423.jpeg  \n",
            "  inflating: data_without_mask/images - 2020-10-18T171849.432.jpeg  \n",
            "  inflating: data_without_mask/images - 2020-10-18T171849.436.jpeg  \n",
            "  inflating: data_without_mask/images - 2020-10-18T171849.448.jpeg  \n",
            "  inflating: data_without_mask/images - 2020-10-18T171849.452.jpeg  \n",
            "  inflating: data_without_mask/images - 2020-10-18T171849.725.jpeg  \n",
            "  inflating: data_without_mask/images - 2020-10-18T171849.726.jpeg  \n",
            "  inflating: data_without_mask/images - 2020-10-18T171849.739.jpeg  \n",
            "  inflating: data_without_mask/images - 2020-10-18T171849.743.jpeg  \n",
            "  inflating: data_without_mask/images - 2020-10-18T171849.752.jpeg  \n",
            "  inflating: data_without_mask/images - 2020-10-18T171849.781.jpeg  \n",
            "  inflating: data_without_mask/images - 2020-10-18T171849.782.jpeg  \n",
            "  inflating: data_without_mask/images - 2020-10-18T171849.800.jpeg  \n",
            "  inflating: data_without_mask/images - 2020-10-18T171849.838.jpeg  \n",
            "  inflating: data_without_mask/images - 2020-10-18T171849.845.jpeg  \n",
            "  inflating: data_without_mask/images - 2020-10-18T171849.851.jpeg  \n",
            "  inflating: data_without_mask/images - 2020-10-18T171849.859.jpeg  \n",
            "  inflating: data_without_mask/images.jpg  \n",
            "  inflating: data_without_mask/images1.jpeg  \n",
            "  inflating: data_without_mask/imagesk.jpg  \n",
            "  inflating: data_without_mask/jghfgd.jpeg  \n",
            "  inflating: data_without_mask/kids_going_to_school_with_masks.jpg  \n",
            "  inflating: data_without_mask/markus-winkler-zmimazD-GIU-unsplash_web.jpg  \n",
            "  inflating: data_without_mask/mnb.jpeg  \n",
            "  inflating: data_without_mask/most-influential-people-in-tech2.jpg  \n",
            "  inflating: data_without_mask/n_mtpd_clip_trumpfacemasks_200403_1585954891257.focal-760x428.jpg  \n",
            "  inflating: data_without_mask/nov16-10-55948705.jpg  \n",
            "  inflating: data_without_mask/oinjk.jpeg  \n",
            "  inflating: data_without_mask/people-on-the-move_620x372.jpg  \n",
            "  inflating: data_without_mask/people-waving-hand-illustration-concept_52683-29825.jpg  \n",
            "  inflating: data_without_mask/people123.jpg  \n",
            "  inflating: data_without_mask/peoples-pregnancy-resources.jpg  \n",
            "  inflating: data_without_mask/places-for-people-golf-tournament-002-1200x800.jpg  \n",
            "  inflating: data_without_mask/publisherassettemplate_bio_people_sectionheader_large.jpg  \n",
            "  inflating: data_without_mask/qdwsf.jpeg  \n",
            "  inflating: data_without_mask/qewrt.jpeg  \n",
            "  inflating: data_without_mask/qwertyhj.jpeg  \n",
            "  inflating: data_without_mask/rally1-1.jpg  \n",
            "  inflating: data_without_mask/rg.jpeg  \n",
            "  inflating: data_without_mask/rte.jpeg  \n",
            "  inflating: data_without_mask/shutterstock_editorial_10205085ag.jpg  \n",
            "  inflating: data_without_mask/skynews-coronavirus-covid-19_4963526.jpg  \n",
            "  inflating: data_without_mask/story-of-royals.jpg  \n",
            "  inflating: data_without_mask/studio_esinam_cut_out_people_7.jpg  \n",
            "  inflating: data_without_mask/we-the-people-web-header-scaled-600x314-c-default.jpg  \n",
            "  inflating: data_without_mask/weafsrgdthf.jpeg  \n",
            "  inflating: data_without_mask/wefrg.jpeg  \n",
            "  inflating: data_without_mask/wererg.jpeg  \n",
            "  inflating: data_without_mask/wergt.jpeg  \n",
            "  inflating: data_without_mask/what-makes-people-happy.jpeg  \n",
            "  inflating: data_without_mask/world-leprosy-day_1024px.jpg  \n",
            "  inflating: dataset.ipynb           \n",
            "  inflating: index.html              \n"
          ],
          "name": "stdout"
        }
      ]
    },
    {
      "cell_type": "code",
      "metadata": {
        "id": "zJcppL8t724R",
        "outputId": "2450f688-a162-4465-c150-3734ccc31f13",
        "colab": {
          "base_uri": "https://localhost:8080/",
          "height": 269
        }
      },
      "source": [
        "####testing\n",
        "import pandas as pd\n",
        "import numpy as np\n",
        "import matplotlib.pyplot as plt\n",
        "\n",
        "im = plt.imread('/content/data_with_masks/AP_20193726454564-1000x667.jpg')\n",
        "plt.imshow(im)\n",
        "plt.show()"
      ],
      "execution_count": null,
      "outputs": [
        {
          "output_type": "display_data",
          "data": {
            "image/png": "[encoded data removed]",
            "text/plain": [
              "<Figure size 432x288 with 1 Axes>"
            ]
          },
          "metadata": {
            "tags": [],
            "needs_background": "light"
          }
        }
      ]
    },
    {
      "cell_type": "code",
      "metadata": {
        "id": "FcH0YMaLYm5Z"
      },
      "source": [
        "import glob\n",
        "import os\n",
        "DIRECTORY = \"./data_raw\"\n",
        "# Percentage of images to be used for the valid set\n",
        "percentage_test = 20;\n",
        "# Create train.txt and valid.txt\n",
        "file_train = open('train.txt', 'w')  \n",
        "file_test = open('valid.txt', 'w')\n",
        "# Populate train.txt and valid.txt\n",
        "var = \"/content/data_raw\"\n",
        "counter = 1  \n",
        "index_test = round(100 / percentage_test)  \n",
        "#for file in glob.iglob(os.path.join(current_dir, '*.jpg')):  \n",
        "for f in os.listdir(DIRECTORY):\n",
        "    if os.path.splitext(f)[1].lower() in ('.jpg', '.jpeg'):\n",
        "      if counter == index_test:\n",
        "        counter = 1\n",
        "        file_test.write(os.path.join(var,f)+\"\\n\")\n",
        "      else:\n",
        "        file_train.write(os.path.join(var,f)+\"\\n\")\n",
        "        counter = counter + 1"
      ],
      "execution_count": null,
      "outputs": []
    },
    {
      "cell_type": "markdown",
      "metadata": {
        "id": "9dssMcEdfZkD"
      },
      "source": [
        "**Connect the Colab notebook to Google Drive**"
      ]
    },
    {
      "cell_type": "code",
      "metadata": {
        "id": "dxbH1GT1ffWC",
        "outputId": "f04da229-2b13-4a62-f796-e49a232e3eaf",
        "colab": {
          "base_uri": "https://localhost:8080/"
        }
      },
      "source": [
        "# This cell imports the drive library and mounts your Google Drive as a VM local drive. You can access to your Drive files \n",
        "# using this path \"/content/gdrive/My Drive/\"\n",
        "# This is the only step you need to do every time you run your notebook#\n",
        "\n",
        "from google.colab import drive\n",
        "drive.mount('/content/gdrive')"
      ],
      "execution_count": null,
      "outputs": [
        {
          "output_type": "stream",
          "text": [
            "Drive already mounted at /content/gdrive; to attempt to forcibly remount, call drive.mount(\"/content/gdrive\", force_remount=True).\n"
          ],
          "name": "stdout"
        }
      ]
    },
    {
      "cell_type": "code",
      "metadata": {
        "id": "3UUU5oGAffTB",
        "outputId": "a33efa1c-f139-469b-b7f0-a9a8daa0c824",
        "colab": {
          "base_uri": "https://localhost:8080/"
        }
      },
      "source": [
        "# Not Necessary cell\n",
        "# List the content of your local computer folder \n",
        "!ls -la \"/content/gdrive/My Drive/CS 4641/Implementation/darknet\""
      ],
      "execution_count": null,
      "outputs": [
        {
          "output_type": "stream",
          "text": [
            "ls: cannot access '/content/gdrive/My Drive/CS 4641/Implementation/darknet': No such file or directory\n"
          ],
          "name": "stdout"
        }
      ]
    },
    {
      "cell_type": "code",
      "metadata": {
        "id": "xmXP_CvSf8bN",
        "outputId": "e0da5936-9e4b-4142-850b-3a14c60b0b89",
        "colab": {
          "base_uri": "https://localhost:8080/"
        }
      },
      "source": [
        "!sudo apt-get install tree"
      ],
      "execution_count": null,
      "outputs": [
        {
          "output_type": "stream",
          "text": [
            "Reading package lists... Done\n",
            "Building dependency tree       \n",
            "Reading state information... Done\n",
            "The following NEW packages will be installed:\n",
            "  tree\n",
            "0 upgraded, 1 newly installed, 0 to remove and 11 not upgraded.\n",
            "Need to get 40.7 kB of archives.\n",
            "After this operation, 105 kB of additional disk space will be used.\n",
            "Get:1 http://archive.ubuntu.com/ubuntu bionic/universe amd64 tree amd64 1.7.0-5 [40.7 kB]\n",
            "Fetched 40.7 kB in 0s (165 kB/s)\n",
            "debconf: unable to initialize frontend: Dialog\n",
            "debconf: (No usable dialog-like program is installed, so the dialog based frontend cannot be used. at /usr/share/perl5/Debconf/FrontEnd/Dialog.pm line 76, <> line 1.)\n",
            "debconf: falling back to frontend: Readline\n",
            "debconf: unable to initialize frontend: Readline\n",
            "debconf: (This frontend requires a controlling tty.)\n",
            "debconf: falling back to frontend: Teletype\n",
            "dpkg-preconfigure: unable to re-open stdin: \n",
            "Selecting previously unselected package tree.\n",
            "(Reading database ... 144628 files and directories currently installed.)\n",
            "Preparing to unpack .../tree_1.7.0-5_amd64.deb ...\n",
            "Unpacking tree (1.7.0-5) ...\n",
            "Setting up tree (1.7.0-5) ...\n",
            "Processing triggers for man-db (2.8.3-2ubuntu0.1) ...\n"
          ],
          "name": "stdout"
        }
      ]
    },
    {
      "cell_type": "code",
      "metadata": {
        "id": "mSbEo41LgAz3",
        "outputId": "9417715a-fcc8-4572-ebb7-460f474bb989",
        "colab": {
          "base_uri": "https://localhost:8080/"
        }
      },
      "source": [
        "!tree /content/gdrive/My\\ Drive/CS\\ 4641/Implementation/darknet/"
      ],
      "execution_count": null,
      "outputs": [
        {
          "output_type": "stream",
          "text": [
            "/content/gdrive/My Drive/CS 4641/Implementation/darknet/ [error opening dir]\n",
            "\n",
            "0 directories, 0 files\n"
          ],
          "name": "stdout"
        }
      ]
    },
    {
      "cell_type": "markdown",
      "metadata": {
        "id": "8tRn-VX9gska"
      },
      "source": [
        "**Check CUDA release version**"
      ]
    },
    {
      "cell_type": "code",
      "metadata": {
        "id": "2_9DQhmVgtvI",
        "outputId": "f3b5bb1e-ba7e-4d29-86ff-9c7e2c274f80",
        "colab": {
          "base_uri": "https://localhost:8080/"
        }
      },
      "source": [
        "# This cell can be commented once you checked the current CUDA version\n",
        "# CUDA: Let's check that Nvidia CUDA is already pre-installed and which version is it. In some time from now maybe you \n",
        "!/usr/local/cuda/bin/nvcc --version"
      ],
      "execution_count": null,
      "outputs": [
        {
          "output_type": "stream",
          "text": [
            "nvcc: NVIDIA (R) Cuda compiler driver\n",
            "Copyright (c) 2005-2019 NVIDIA Corporation\n",
            "Built on Sun_Jul_28_19:07:16_PDT_2019\n",
            "Cuda compilation tools, release 10.1, V10.1.243\n"
          ],
          "name": "stdout"
        }
      ]
    },
    {
      "cell_type": "markdown",
      "metadata": {
        "id": "zCQWsH9bj6ln"
      },
      "source": [
        "**Install cuDNN according to the current CUDA version**"
      ]
    },
    {
      "cell_type": "code",
      "metadata": {
        "id": "slSnjG2Jj9Ly",
        "outputId": "8e042a0b-a7c1-4c6f-9b2d-30ff1168190f",
        "colab": {
          "base_uri": "https://localhost:8080/"
        }
      },
      "source": [
        "# We're unzipping the cuDNN files from your Drive folder directly to the VM CUDA folders\n",
        "!tar -xzvf gdrive/My\\ Drive/CS\\ 4641/Implementation/darknet/cuDNN/cudnn-10.0-linux-x64-v7.5.0.56.tgz -C /usr/local/\n",
        "!chmod a+r /usr/local/cuda/include/cudnn.h\n",
        "\n",
        "# Now we check the version we already installed. Can comment this line on future runs\n",
        "!cat /usr/local/cuda/include/cudnn.h | grep CUDNN_MAJOR -A 2"
      ],
      "execution_count": null,
      "outputs": [
        {
          "output_type": "stream",
          "text": [
            "tar (child): gdrive/My Drive/CS 4641/Implementation/darknet/cuDNN/cudnn-10.0-linux-x64-v7.5.0.56.tgz: Cannot open: No such file or directory\n",
            "tar (child): Error is not recoverable: exiting now\n",
            "tar: Child returned status 2\n",
            "tar: Error is not recoverable: exiting now\n",
            "chmod: cannot access '/usr/local/cuda/include/cudnn.h': No such file or directory\n",
            "cat: /usr/local/cuda/include/cudnn.h: No such file or directory\n"
          ],
          "name": "stdout"
        }
      ]
    },
    {
      "cell_type": "markdown",
      "metadata": {
        "id": "iIMHgnVNlk8G"
      },
      "source": [
        "**Installing Darknet**"
      ]
    },
    {
      "cell_type": "markdown",
      "metadata": {
        "id": "QMAWbsUelsnz"
      },
      "source": [
        "*Cloning and compiling Darkent. ONLY NEEDS TO BE RUN ON THE FIRST EXECUTION!!*"
      ]
    },
    {
      "cell_type": "code",
      "metadata": {
        "id": "Pe1OknrKlvYj",
        "outputId": "13765c01-abaf-429f-ee06-8209123eb52f",
        "colab": {
          "base_uri": "https://localhost:8080/"
        }
      },
      "source": [
        "# Leave this code uncommented on the very first run of your notebook or if you ever need to recompile darknet again.\n",
        "# Comment this code on the future runs.\n",
        "!git clone https://github.com/maskify/darknet/\n",
        "%cd darknet"
      ],
      "execution_count": null,
      "outputs": [
        {
          "output_type": "stream",
          "text": [
            "Cloning into 'darknet'...\n",
            "remote: Enumerating objects: 10055, done.\u001b[K\n",
            "remote: Counting objects: 100% (10055/10055), done.\u001b[K\n",
            "remote: Compressing objects: 100% (3120/3120), done.\u001b[K\n",
            "remote: Total 10055 (delta 6734), reused 10055 (delta 6734), pack-reused 0\u001b[K\n",
            "Receiving objects: 100% (10055/10055), 10.12 MiB | 22.39 MiB/s, done.\n",
            "Resolving deltas: 100% (6734/6734), done.\n",
            "/content/darknet\n"
          ],
          "name": "stdout"
        }
      ]
    },
    {
      "cell_type": "code",
      "metadata": {
        "id": "WejFh0wGnLVI",
        "outputId": "2de29f6e-66a7-4c25-ae2c-e13aefca3b2e",
        "colab": {
          "base_uri": "https://localhost:8080/"
        }
      },
      "source": [
        "# Check the folder\n",
        "!ls\n",
        "\n",
        "# I have a branch where I have done the changes commented above\n",
        "!git checkout feature/google-colab"
      ],
      "execution_count": null,
      "outputs": [
        {
          "output_type": "stream",
          "text": [
            "3rdparty      CMakeLists.txt\t      image_yolov3.sh\t     scripts\n",
            "appveyor.yml  CMakeSettings.json      include\t\t     src\n",
            "build\t      DarknetConfig.cmake.in  json_mjpeg_streams.sh  video_v2.sh\n",
            "build.ps1     darknet.py\t      LICENSE\t\t     video_yolov3.sh\n",
            "build.sh      darknet_video.py\t      Makefile\n",
            "cfg\t      data\t\t      net_cam_v3.sh\n",
            "cmake\t      image_yolov2.sh\t      README.md\n",
            "error: pathspec 'feature/google-colab' did not match any file(s) known to git.\n"
          ],
          "name": "stdout"
        }
      ]
    },
    {
      "cell_type": "code",
      "metadata": {
        "id": "V7xUBYMLnOiw",
        "outputId": "b154c47b-fbf6-485d-bf5b-87b510be640a",
        "colab": {
          "base_uri": "https://localhost:8080/"
        }
      },
      "source": [
        "#Compile Darknet\n",
        "!make\n",
        "\n",
        "# this code lets you see your current directory\n",
        "#!chmod +x ./darknet"
      ],
      "execution_count": null,
      "outputs": [
        {
          "output_type": "stream",
          "text": [
            "mkdir -p obj\n",
            "mkdir -p backup\n",
            "mkdir -p results\n",
            "chmod +x *.sh\n",
            "g++ -std=c++11 -Iinclude/ -I3rdparty/stb/include -Wall -Wfatal-errors -Wno-unused-result -Wno-unknown-pragmas -fPIC -Ofast -c ./src/image_opencv.cpp -o obj/image_opencv.o\n",
            "g++ -std=c++11 -Iinclude/ -I3rdparty/stb/include -Wall -Wfatal-errors -Wno-unused-result -Wno-unknown-pragmas -fPIC -Ofast -c ./src/http_stream.cpp -o obj/http_stream.o\n",
            "\u001b[01m\u001b[K./src/http_stream.cpp:\u001b[m\u001b[K In member function ‘\u001b[01m\u001b[Kbool JSON_sender::write(const char*)\u001b[m\u001b[K’:\n",
            "\u001b[01m\u001b[K./src/http_stream.cpp:228:21:\u001b[m\u001b[K \u001b[01;35m\u001b[Kwarning: \u001b[m\u001b[Kunused variable ‘\u001b[01m\u001b[Kn\u001b[m\u001b[K’ [\u001b[01;35m\u001b[K-Wunused-variable\u001b[m\u001b[K]\n",
            "                 int \u001b[01;35m\u001b[Kn\u001b[m\u001b[K = _write(client, outputbuf, outlen);\n",
            "                     \u001b[01;35m\u001b[K^\u001b[m\u001b[K\n",
            "gcc -Iinclude/ -I3rdparty/stb/include -Wall -Wfatal-errors -Wno-unused-result -Wno-unknown-pragmas -fPIC -Ofast -c ./src/gemm.c -o obj/gemm.o\n",
            "\u001b[01m\u001b[K./src/gemm.c:\u001b[m\u001b[K In function ‘\u001b[01m\u001b[Kconvolution_2d\u001b[m\u001b[K’:\n",
            "\u001b[01m\u001b[K./src/gemm.c:2016:15:\u001b[m\u001b[K \u001b[01;35m\u001b[Kwarning: \u001b[m\u001b[Kunused variable ‘\u001b[01m\u001b[Kout_w\u001b[m\u001b[K’ [\u001b[01;35m\u001b[K-Wunused-variable\u001b[m\u001b[K]\n",
            "     const int \u001b[01;35m\u001b[Kout_w\u001b[m\u001b[K = (w + 2 * pad - ksize) / stride + 1;    // output_width=input_width for stride=1 and pad=1\n",
            "               \u001b[01;35m\u001b[K^~~~~\u001b[m\u001b[K\n",
            "\u001b[01m\u001b[K./src/gemm.c:2015:15:\u001b[m\u001b[K \u001b[01;35m\u001b[Kwarning: \u001b[m\u001b[Kunused variable ‘\u001b[01m\u001b[Kout_h\u001b[m\u001b[K’ [\u001b[01;35m\u001b[K-Wunused-variable\u001b[m\u001b[K]\n",
            "     const int \u001b[01;35m\u001b[Kout_h\u001b[m\u001b[K = (h + 2 * pad - ksize) / stride + 1;    // output_height=input_height for stride=1 and pad=1\n",
            "               \u001b[01;35m\u001b[K^~~~~\u001b[m\u001b[K\n",
            "gcc -Iinclude/ -I3rdparty/stb/include -Wall -Wfatal-errors -Wno-unused-result -Wno-unknown-pragmas -fPIC -Ofast -c ./src/utils.c -o obj/utils.o\n",
            "gcc -Iinclude/ -I3rdparty/stb/include -Wall -Wfatal-errors -Wno-unused-result -Wno-unknown-pragmas -fPIC -Ofast -c ./src/dark_cuda.c -o obj/dark_cuda.o\n",
            "gcc -Iinclude/ -I3rdparty/stb/include -Wall -Wfatal-errors -Wno-unused-result -Wno-unknown-pragmas -fPIC -Ofast -c ./src/convolutional_layer.c -o obj/convolutional_layer.o\n",
            "\u001b[01m\u001b[K./src/convolutional_layer.c:\u001b[m\u001b[K In function ‘\u001b[01m\u001b[Kresize_convolutional_layer\u001b[m\u001b[K’:\n",
            "\u001b[01m\u001b[K./src/convolutional_layer.c:545:9:\u001b[m\u001b[K \u001b[01;35m\u001b[Kwarning: \u001b[m\u001b[Kunused variable ‘\u001b[01m\u001b[Kold_h\u001b[m\u001b[K’ [\u001b[01;35m\u001b[K-Wunused-variable\u001b[m\u001b[K]\n",
            "     int \u001b[01;35m\u001b[Kold_h\u001b[m\u001b[K = l->h;\n",
            "         \u001b[01;35m\u001b[K^~~~~\u001b[m\u001b[K\n",
            "\u001b[01m\u001b[K./src/convolutional_layer.c:544:9:\u001b[m\u001b[K \u001b[01;35m\u001b[Kwarning: \u001b[m\u001b[Kunused variable ‘\u001b[01m\u001b[Kold_w\u001b[m\u001b[K’ [\u001b[01;35m\u001b[K-Wunused-variable\u001b[m\u001b[K]\n",
            "     int \u001b[01;35m\u001b[Kold_w\u001b[m\u001b[K = l->w;\n",
            "         \u001b[01;35m\u001b[K^~~~~\u001b[m\u001b[K\n",
            "\u001b[01m\u001b[K./src/convolutional_layer.c:\u001b[m\u001b[K In function ‘\u001b[01m\u001b[Kforward_convolutional_layer\u001b[m\u001b[K’:\n",
            "\u001b[01m\u001b[K./src/convolutional_layer.c:951:28:\u001b[m\u001b[K \u001b[01;35m\u001b[Kwarning: \u001b[m\u001b[Kunused variable ‘\u001b[01m\u001b[Kt_intput_size\u001b[m\u001b[K’ [\u001b[01;35m\u001b[K-Wunused-variable\u001b[m\u001b[K]\n",
            "                     size_t \u001b[01;35m\u001b[Kt_intput_size\u001b[m\u001b[K = binary_transpose_align_input(k, n, state.workspace, &l.t_bit_input, ldb_align, l.bit_align);\n",
            "                            \u001b[01;35m\u001b[K^~~~~~~~~~~~~\u001b[m\u001b[K\n",
            "gcc -Iinclude/ -I3rdparty/stb/include -Wall -Wfatal-errors -Wno-unused-result -Wno-unknown-pragmas -fPIC -Ofast -c ./src/list.c -o obj/list.o\n",
            "gcc -Iinclude/ -I3rdparty/stb/include -Wall -Wfatal-errors -Wno-unused-result -Wno-unknown-pragmas -fPIC -Ofast -c ./src/image.c -o obj/image.o\n",
            "gcc -Iinclude/ -I3rdparty/stb/include -Wall -Wfatal-errors -Wno-unused-result -Wno-unknown-pragmas -fPIC -Ofast -c ./src/activations.c -o obj/activations.o\n",
            "gcc -Iinclude/ -I3rdparty/stb/include -Wall -Wfatal-errors -Wno-unused-result -Wno-unknown-pragmas -fPIC -Ofast -c ./src/im2col.c -o obj/im2col.o\n",
            "gcc -Iinclude/ -I3rdparty/stb/include -Wall -Wfatal-errors -Wno-unused-result -Wno-unknown-pragmas -fPIC -Ofast -c ./src/col2im.c -o obj/col2im.o\n",
            "gcc -Iinclude/ -I3rdparty/stb/include -Wall -Wfatal-errors -Wno-unused-result -Wno-unknown-pragmas -fPIC -Ofast -c ./src/blas.c -o obj/blas.o\n",
            "gcc -Iinclude/ -I3rdparty/stb/include -Wall -Wfatal-errors -Wno-unused-result -Wno-unknown-pragmas -fPIC -Ofast -c ./src/crop_layer.c -o obj/crop_layer.o\n",
            "gcc -Iinclude/ -I3rdparty/stb/include -Wall -Wfatal-errors -Wno-unused-result -Wno-unknown-pragmas -fPIC -Ofast -c ./src/dropout_layer.c -o obj/dropout_layer.o\n",
            "gcc -Iinclude/ -I3rdparty/stb/include -Wall -Wfatal-errors -Wno-unused-result -Wno-unknown-pragmas -fPIC -Ofast -c ./src/maxpool_layer.c -o obj/maxpool_layer.o\n",
            "gcc -Iinclude/ -I3rdparty/stb/include -Wall -Wfatal-errors -Wno-unused-result -Wno-unknown-pragmas -fPIC -Ofast -c ./src/softmax_layer.c -o obj/softmax_layer.o\n",
            "gcc -Iinclude/ -I3rdparty/stb/include -Wall -Wfatal-errors -Wno-unused-result -Wno-unknown-pragmas -fPIC -Ofast -c ./src/data.c -o obj/data.o\n",
            "gcc -Iinclude/ -I3rdparty/stb/include -Wall -Wfatal-errors -Wno-unused-result -Wno-unknown-pragmas -fPIC -Ofast -c ./src/matrix.c -o obj/matrix.o\n",
            "gcc -Iinclude/ -I3rdparty/stb/include -Wall -Wfatal-errors -Wno-unused-result -Wno-unknown-pragmas -fPIC -Ofast -c ./src/network.c -o obj/network.o\n",
            "gcc -Iinclude/ -I3rdparty/stb/include -Wall -Wfatal-errors -Wno-unused-result -Wno-unknown-pragmas -fPIC -Ofast -c ./src/connected_layer.c -o obj/connected_layer.o\n",
            "gcc -Iinclude/ -I3rdparty/stb/include -Wall -Wfatal-errors -Wno-unused-result -Wno-unknown-pragmas -fPIC -Ofast -c ./src/cost_layer.c -o obj/cost_layer.o\n",
            "gcc -Iinclude/ -I3rdparty/stb/include -Wall -Wfatal-errors -Wno-unused-result -Wno-unknown-pragmas -fPIC -Ofast -c ./src/parser.c -o obj/parser.o\n",
            "gcc -Iinclude/ -I3rdparty/stb/include -Wall -Wfatal-errors -Wno-unused-result -Wno-unknown-pragmas -fPIC -Ofast -c ./src/option_list.c -o obj/option_list.o\n",
            "gcc -Iinclude/ -I3rdparty/stb/include -Wall -Wfatal-errors -Wno-unused-result -Wno-unknown-pragmas -fPIC -Ofast -c ./src/darknet.c -o obj/darknet.o\n",
            "gcc -Iinclude/ -I3rdparty/stb/include -Wall -Wfatal-errors -Wno-unused-result -Wno-unknown-pragmas -fPIC -Ofast -c ./src/detection_layer.c -o obj/detection_layer.o\n",
            "gcc -Iinclude/ -I3rdparty/stb/include -Wall -Wfatal-errors -Wno-unused-result -Wno-unknown-pragmas -fPIC -Ofast -c ./src/captcha.c -o obj/captcha.o\n",
            "gcc -Iinclude/ -I3rdparty/stb/include -Wall -Wfatal-errors -Wno-unused-result -Wno-unknown-pragmas -fPIC -Ofast -c ./src/route_layer.c -o obj/route_layer.o\n",
            "gcc -Iinclude/ -I3rdparty/stb/include -Wall -Wfatal-errors -Wno-unused-result -Wno-unknown-pragmas -fPIC -Ofast -c ./src/writing.c -o obj/writing.o\n",
            "gcc -Iinclude/ -I3rdparty/stb/include -Wall -Wfatal-errors -Wno-unused-result -Wno-unknown-pragmas -fPIC -Ofast -c ./src/box.c -o obj/box.o\n",
            "gcc -Iinclude/ -I3rdparty/stb/include -Wall -Wfatal-errors -Wno-unused-result -Wno-unknown-pragmas -fPIC -Ofast -c ./src/nightmare.c -o obj/nightmare.o\n",
            "gcc -Iinclude/ -I3rdparty/stb/include -Wall -Wfatal-errors -Wno-unused-result -Wno-unknown-pragmas -fPIC -Ofast -c ./src/normalization_layer.c -o obj/normalization_layer.o\n",
            "gcc -Iinclude/ -I3rdparty/stb/include -Wall -Wfatal-errors -Wno-unused-result -Wno-unknown-pragmas -fPIC -Ofast -c ./src/avgpool_layer.c -o obj/avgpool_layer.o\n",
            "gcc -Iinclude/ -I3rdparty/stb/include -Wall -Wfatal-errors -Wno-unused-result -Wno-unknown-pragmas -fPIC -Ofast -c ./src/coco.c -o obj/coco.o\n",
            "gcc -Iinclude/ -I3rdparty/stb/include -Wall -Wfatal-errors -Wno-unused-result -Wno-unknown-pragmas -fPIC -Ofast -c ./src/dice.c -o obj/dice.o\n",
            "gcc -Iinclude/ -I3rdparty/stb/include -Wall -Wfatal-errors -Wno-unused-result -Wno-unknown-pragmas -fPIC -Ofast -c ./src/yolo.c -o obj/yolo.o\n",
            "gcc -Iinclude/ -I3rdparty/stb/include -Wall -Wfatal-errors -Wno-unused-result -Wno-unknown-pragmas -fPIC -Ofast -c ./src/detector.c -o obj/detector.o\n",
            "\u001b[01m\u001b[K./src/detector.c:\u001b[m\u001b[K In function ‘\u001b[01m\u001b[Ktrain_detector\u001b[m\u001b[K’:\n",
            "\u001b[01m\u001b[K./src/detector.c:238:13:\u001b[m\u001b[K \u001b[01;35m\u001b[Kwarning: \u001b[m\u001b[Kvariable ‘\u001b[01m\u001b[Kdraw_precision\u001b[m\u001b[K’ set but not used [\u001b[01;35m\u001b[K-Wunused-but-set-variable\u001b[m\u001b[K]\n",
            "         int \u001b[01;35m\u001b[Kdraw_precision\u001b[m\u001b[K = 0;\n",
            "             \u001b[01;35m\u001b[K^~~~~~~~~~~~~~\u001b[m\u001b[K\n",
            "\u001b[01m\u001b[K./src/detector.c:\u001b[m\u001b[K In function ‘\u001b[01m\u001b[Kvalidate_detector_map\u001b[m\u001b[K’:\n",
            "\u001b[01m\u001b[K./src/detector.c:1008:15:\u001b[m\u001b[K \u001b[01;35m\u001b[Kwarning: \u001b[m\u001b[Kunused variable ‘\u001b[01m\u001b[Kclass_recall\u001b[m\u001b[K’ [\u001b[01;35m\u001b[K-Wunused-variable\u001b[m\u001b[K]\n",
            "         float \u001b[01;35m\u001b[Kclass_recall\u001b[m\u001b[K = (float)tp_for_thresh_per_class[i] / ((float)tp_for_thresh_per_class[i] + (float)(truth_classes_count[i] - tp_for_thresh_per_class[i]));\n",
            "               \u001b[01;35m\u001b[K^~~~~~~~~~~~\u001b[m\u001b[K\n",
            "\u001b[01m\u001b[K./src/detector.c:1007:15:\u001b[m\u001b[K \u001b[01;35m\u001b[Kwarning: \u001b[m\u001b[Kunused variable ‘\u001b[01m\u001b[Kclass_precision\u001b[m\u001b[K’ [\u001b[01;35m\u001b[K-Wunused-variable\u001b[m\u001b[K]\n",
            "         float \u001b[01;35m\u001b[Kclass_precision\u001b[m\u001b[K = (float)tp_for_thresh_per_class[i] / ((float)tp_for_thresh_per_class[i] + (float)fp_for_thresh_per_class[i]);\n",
            "               \u001b[01;35m\u001b[K^~~~~~~~~~~~~~~\u001b[m\u001b[K\n",
            "gcc -Iinclude/ -I3rdparty/stb/include -Wall -Wfatal-errors -Wno-unused-result -Wno-unknown-pragmas -fPIC -Ofast -c ./src/layer.c -o obj/layer.o\n",
            "gcc -Iinclude/ -I3rdparty/stb/include -Wall -Wfatal-errors -Wno-unused-result -Wno-unknown-pragmas -fPIC -Ofast -c ./src/compare.c -o obj/compare.o\n",
            "gcc -Iinclude/ -I3rdparty/stb/include -Wall -Wfatal-errors -Wno-unused-result -Wno-unknown-pragmas -fPIC -Ofast -c ./src/classifier.c -o obj/classifier.o\n",
            "\u001b[01m\u001b[K./src/classifier.c:\u001b[m\u001b[K In function ‘\u001b[01m\u001b[Ktrain_classifier\u001b[m\u001b[K’:\n",
            "\u001b[01m\u001b[K./src/classifier.c:157:13:\u001b[m\u001b[K \u001b[01;35m\u001b[Kwarning: \u001b[m\u001b[Kvariable ‘\u001b[01m\u001b[Kdraw_precision\u001b[m\u001b[K’ set but not used [\u001b[01;35m\u001b[K-Wunused-but-set-variable\u001b[m\u001b[K]\n",
            "         int \u001b[01;35m\u001b[Kdraw_precision\u001b[m\u001b[K = 0;\n",
            "             \u001b[01;35m\u001b[K^~~~~~~~~~~~~~\u001b[m\u001b[K\n",
            "gcc -Iinclude/ -I3rdparty/stb/include -Wall -Wfatal-errors -Wno-unused-result -Wno-unknown-pragmas -fPIC -Ofast -c ./src/local_layer.c -o obj/local_layer.o\n",
            "gcc -Iinclude/ -I3rdparty/stb/include -Wall -Wfatal-errors -Wno-unused-result -Wno-unknown-pragmas -fPIC -Ofast -c ./src/swag.c -o obj/swag.o\n",
            "gcc -Iinclude/ -I3rdparty/stb/include -Wall -Wfatal-errors -Wno-unused-result -Wno-unknown-pragmas -fPIC -Ofast -c ./src/shortcut_layer.c -o obj/shortcut_layer.o\n",
            "gcc -Iinclude/ -I3rdparty/stb/include -Wall -Wfatal-errors -Wno-unused-result -Wno-unknown-pragmas -fPIC -Ofast -c ./src/activation_layer.c -o obj/activation_layer.o\n",
            "gcc -Iinclude/ -I3rdparty/stb/include -Wall -Wfatal-errors -Wno-unused-result -Wno-unknown-pragmas -fPIC -Ofast -c ./src/rnn_layer.c -o obj/rnn_layer.o\n",
            "gcc -Iinclude/ -I3rdparty/stb/include -Wall -Wfatal-errors -Wno-unused-result -Wno-unknown-pragmas -fPIC -Ofast -c ./src/gru_layer.c -o obj/gru_layer.o\n",
            "gcc -Iinclude/ -I3rdparty/stb/include -Wall -Wfatal-errors -Wno-unused-result -Wno-unknown-pragmas -fPIC -Ofast -c ./src/rnn.c -o obj/rnn.o\n",
            "gcc -Iinclude/ -I3rdparty/stb/include -Wall -Wfatal-errors -Wno-unused-result -Wno-unknown-pragmas -fPIC -Ofast -c ./src/rnn_vid.c -o obj/rnn_vid.o\n",
            "gcc -Iinclude/ -I3rdparty/stb/include -Wall -Wfatal-errors -Wno-unused-result -Wno-unknown-pragmas -fPIC -Ofast -c ./src/crnn_layer.c -o obj/crnn_layer.o\n",
            "gcc -Iinclude/ -I3rdparty/stb/include -Wall -Wfatal-errors -Wno-unused-result -Wno-unknown-pragmas -fPIC -Ofast -c ./src/demo.c -o obj/demo.o\n",
            "gcc -Iinclude/ -I3rdparty/stb/include -Wall -Wfatal-errors -Wno-unused-result -Wno-unknown-pragmas -fPIC -Ofast -c ./src/tag.c -o obj/tag.o\n",
            "gcc -Iinclude/ -I3rdparty/stb/include -Wall -Wfatal-errors -Wno-unused-result -Wno-unknown-pragmas -fPIC -Ofast -c ./src/cifar.c -o obj/cifar.o\n",
            "gcc -Iinclude/ -I3rdparty/stb/include -Wall -Wfatal-errors -Wno-unused-result -Wno-unknown-pragmas -fPIC -Ofast -c ./src/go.c -o obj/go.o\n",
            "gcc -Iinclude/ -I3rdparty/stb/include -Wall -Wfatal-errors -Wno-unused-result -Wno-unknown-pragmas -fPIC -Ofast -c ./src/batchnorm_layer.c -o obj/batchnorm_layer.o\n",
            "gcc -Iinclude/ -I3rdparty/stb/include -Wall -Wfatal-errors -Wno-unused-result -Wno-unknown-pragmas -fPIC -Ofast -c ./src/art.c -o obj/art.o\n",
            "gcc -Iinclude/ -I3rdparty/stb/include -Wall -Wfatal-errors -Wno-unused-result -Wno-unknown-pragmas -fPIC -Ofast -c ./src/region_layer.c -o obj/region_layer.o\n",
            "gcc -Iinclude/ -I3rdparty/stb/include -Wall -Wfatal-errors -Wno-unused-result -Wno-unknown-pragmas -fPIC -Ofast -c ./src/reorg_layer.c -o obj/reorg_layer.o\n",
            "gcc -Iinclude/ -I3rdparty/stb/include -Wall -Wfatal-errors -Wno-unused-result -Wno-unknown-pragmas -fPIC -Ofast -c ./src/reorg_old_layer.c -o obj/reorg_old_layer.o\n",
            "gcc -Iinclude/ -I3rdparty/stb/include -Wall -Wfatal-errors -Wno-unused-result -Wno-unknown-pragmas -fPIC -Ofast -c ./src/super.c -o obj/super.o\n",
            "gcc -Iinclude/ -I3rdparty/stb/include -Wall -Wfatal-errors -Wno-unused-result -Wno-unknown-pragmas -fPIC -Ofast -c ./src/voxel.c -o obj/voxel.o\n",
            "gcc -Iinclude/ -I3rdparty/stb/include -Wall -Wfatal-errors -Wno-unused-result -Wno-unknown-pragmas -fPIC -Ofast -c ./src/tree.c -o obj/tree.o\n",
            "gcc -Iinclude/ -I3rdparty/stb/include -Wall -Wfatal-errors -Wno-unused-result -Wno-unknown-pragmas -fPIC -Ofast -c ./src/yolo_layer.c -o obj/yolo_layer.o\n",
            "gcc -Iinclude/ -I3rdparty/stb/include -Wall -Wfatal-errors -Wno-unused-result -Wno-unknown-pragmas -fPIC -Ofast -c ./src/upsample_layer.c -o obj/upsample_layer.o\n",
            "gcc -Iinclude/ -I3rdparty/stb/include -Wall -Wfatal-errors -Wno-unused-result -Wno-unknown-pragmas -fPIC -Ofast -c ./src/lstm_layer.c -o obj/lstm_layer.o\n",
            "g++ -std=c++11 -Iinclude/ -I3rdparty/stb/include -Wall -Wfatal-errors -Wno-unused-result -Wno-unknown-pragmas -fPIC -Ofast obj/image_opencv.o obj/http_stream.o obj/gemm.o obj/utils.o obj/dark_cuda.o obj/convolutional_layer.o obj/list.o obj/image.o obj/activations.o obj/im2col.o obj/col2im.o obj/blas.o obj/crop_layer.o obj/dropout_layer.o obj/maxpool_layer.o obj/softmax_layer.o obj/data.o obj/matrix.o obj/network.o obj/connected_layer.o obj/cost_layer.o obj/parser.o obj/option_list.o obj/darknet.o obj/detection_layer.o obj/captcha.o obj/route_layer.o obj/writing.o obj/box.o obj/nightmare.o obj/normalization_layer.o obj/avgpool_layer.o obj/coco.o obj/dice.o obj/yolo.o obj/detector.o obj/layer.o obj/compare.o obj/classifier.o obj/local_layer.o obj/swag.o obj/shortcut_layer.o obj/activation_layer.o obj/rnn_layer.o obj/gru_layer.o obj/rnn.o obj/rnn_vid.o obj/crnn_layer.o obj/demo.o obj/tag.o obj/cifar.o obj/go.o obj/batchnorm_layer.o obj/art.o obj/region_layer.o obj/reorg_layer.o obj/reorg_old_layer.o obj/super.o obj/voxel.o obj/tree.o obj/yolo_layer.o obj/upsample_layer.o obj/lstm_layer.o -o darknet -lm -pthread\n"
          ],
          "name": "stdout"
        }
      ]
    },
    {
      "cell_type": "code",
      "metadata": {
        "id": "Lv5rJVOCpVSW",
        "outputId": "64a45809-f341-4fc5-cacc-cbb235802e46",
        "colab": {
          "base_uri": "https://localhost:8080/"
        }
      },
      "source": [
        "#Copies the Darknet compiled version to Google drive\n",
        "!cp ./darknet /content/gdrive/My\\ Drive/CS\\ 4641/Implementation/darknet/bin/darknet"
      ],
      "execution_count": null,
      "outputs": [
        {
          "output_type": "stream",
          "text": [
            "cp: cannot create regular file '/content/gdrive/My Drive/CS 4641/Implementation/darknet/bin/darknet': No such file or directory\n"
          ],
          "name": "stdout"
        }
      ]
    },
    {
      "cell_type": "code",
      "metadata": {
        "id": "tZiWMDbDnrJ_"
      },
      "source": [
        "# Uncomment after the first run, when you have a copy of compiled darkent in your Google Drive\n",
        "\n",
        "# Makes a dir for darknets and move there\n",
        "!mkdir darknets"
      ],
      "execution_count": null,
      "outputs": []
    },
    {
      "cell_type": "code",
      "metadata": {
        "id": "Vp27wavXnssW",
        "outputId": "4fa7d17c-5ef9-4ef7-d817-220bde27b73d",
        "colab": {
          "base_uri": "https://localhost:8080/"
        }
      },
      "source": [
        "%cd darknets\n",
        "#!ls"
      ],
      "execution_count": null,
      "outputs": [
        {
          "output_type": "stream",
          "text": [
            "/content/darknet/darknets\n"
          ],
          "name": "stdout"
        }
      ]
    },
    {
      "cell_type": "code",
      "metadata": {
        "id": "baNVqzlOnzhY",
        "outputId": "12b45428-8f45-44e0-aa69-c621c093d1fa",
        "colab": {
          "base_uri": "https://localhost:8080/"
        }
      },
      "source": [
        "# Copy the Darkent compiled version to the VM local drive\n",
        "!cp /content/gdrive/My\\ Drive/CS\\ 4641/Implementation/darknet/bin/darknet ./darknets -r"
      ],
      "execution_count": null,
      "outputs": [
        {
          "output_type": "stream",
          "text": [
            "cp: cannot stat '/content/gdrive/My Drive/CS 4641/Implementation/darknet/bin/darknet': No such file or directory\n"
          ],
          "name": "stdout"
        }
      ]
    },
    {
      "cell_type": "code",
      "metadata": {
        "id": "9UvJZAETn1Q1",
        "outputId": "12916de7-7083-42de-82e3-93ba4258bd0e",
        "colab": {
          "base_uri": "https://localhost:8080/"
        }
      },
      "source": [
        "# Set execution permissions to Darknets\n",
        "!chmod +x ./darknets/darknet"
      ],
      "execution_count": null,
      "outputs": [
        {
          "output_type": "stream",
          "text": [
            "chmod: cannot access './darknets/darknet': No such file or directory\n"
          ],
          "name": "stdout"
        }
      ]
    },
    {
      "cell_type": "markdown",
      "metadata": {
        "id": "8KbHMsVKoXJK"
      },
      "source": [
        "**Runtime configuration finished!**   *Run the following cells in order to check if everything goes as expected!*"
      ]
    },
    {
      "cell_type": "code",
      "metadata": {
        "id": "sh2Y70vkocl9"
      },
      "source": [
        "#download files\n",
        "def imShow(path):\n",
        "  import cv2\n",
        "  import matplotlib.pyplot as plt\n",
        "  %matplotlib inline\n",
        "\n",
        "  image = cv2.imread(path)\n",
        "  height, width = image.shape[:2]\n",
        "  resized_image = cv2.resize(image,(3*width, 3*height), interpolation = cv2.INTER_CUBIC)\n",
        "\n",
        "  fig = plt.gcf()\n",
        "  fig.set_size_inches(18, 10)\n",
        "  plt.axis(\"off\")\n",
        "  #plt.rcParams['figure.figsize'] = [10, 5]\n",
        "  plt.imshow(cv2.cvtColor(resized_image, cv2.COLOR_BGR2RGB))\n",
        "  plt.show()\n",
        "  \n",
        "  \n",
        "def upload():\n",
        "  from google.colab import files\n",
        "  uploaded = files.upload() \n",
        "  for name, data in uploaded.items():\n",
        "    with open(name, 'wb') as f:\n",
        "      f.write(data)\n",
        "      print ('saved file', name)\n",
        "def download(path):\n",
        "  from google.colab import files\n",
        "  files.download(path)"
      ],
      "execution_count": null,
      "outputs": []
    },
    {
      "cell_type": "code",
      "metadata": {
        "id": "RFVdtDqvT2Dj"
      },
      "source": [
        ""
      ],
      "execution_count": null,
      "outputs": []
    },
    {
      "cell_type": "code",
      "metadata": {
        "id": "ImZ9NJ7CohI7",
        "outputId": "a6270ce0-f497-4efc-bf38-f2d41341352e",
        "colab": {
          "base_uri": "https://localhost:8080/"
        }
      },
      "source": [
        "# Not necessary cell\n",
        "# Get yolov3 weights\n",
        "!wget https://pjreddie.com/media/files/yolov3.weights"
      ],
      "execution_count": null,
      "outputs": [
        {
          "output_type": "stream",
          "text": [
            "--2020-11-01 15:35:27--  https://pjreddie.com/media/files/yolov3.weights\n",
            "Resolving pjreddie.com (pjreddie.com)... 128.208.4.108\n",
            "Connecting to pjreddie.com (pjreddie.com)|128.208.4.108|:443... connected.\n",
            "HTTP request sent, awaiting response... 200 OK\n",
            "Length: 248007048 (237M) [application/octet-stream]\n",
            "Saving to: ‘yolov3.weights’\n",
            "\n",
            "yolov3.weights       14%[=>                  ]  35.04M  1.69MB/s    eta 1m 51s ^C\n"
          ],
          "name": "stdout"
        }
      ]
    },
    {
      "cell_type": "code",
      "metadata": {
        "id": "trYivG-F-OVL",
        "outputId": "f88b8254-6345-4073-ddf0-beac23b8efc7",
        "colab": {
          "base_uri": "https://localhost:8080/"
        }
      },
      "source": [
        "%cd .."
      ],
      "execution_count": null,
      "outputs": [
        {
          "output_type": "stream",
          "text": [
            "/content/darknet\n"
          ],
          "name": "stdout"
        }
      ]
    },
    {
      "cell_type": "code",
      "metadata": {
        "id": "BxOAiP-wB_fJ",
        "outputId": "11c50286-12e3-4b42-e455-8037db9b3138",
        "colab": {
          "base_uri": "https://localhost:8080/"
        }
      },
      "source": [
        "!ls"
      ],
      "execution_count": null,
      "outputs": [
        {
          "output_type": "stream",
          "text": [
            "3rdparty      CMakeLists.txt\t      image_yolov2.sh\t     README.md\n",
            "appveyor.yml  CMakeSettings.json      image_yolov3.sh\t     results\n",
            "backup\t      darknet\t\t      include\t\t     scripts\n",
            "build\t      DarknetConfig.cmake.in  json_mjpeg_streams.sh  src\n",
            "build.ps1     darknet.py\t      LICENSE\t\t     video_v2.sh\n",
            "build.sh      darknets\t\t      Makefile\t\t     video_yolov3.sh\n",
            "cfg\t      darknet_video.py\t      net_cam_v3.sh\n",
            "cmake\t      data\t\t      obj\n"
          ],
          "name": "stdout"
        }
      ]
    },
    {
      "cell_type": "code",
      "metadata": {
        "id": "BZM-nggqpFBp",
        "outputId": "905ee4e9-067a-49ca-b75b-f4929963d277",
        "colab": {
          "base_uri": "https://localhost:8080/",
          "height": 387
        }
      },
      "source": [
        "# Not necessary cell\n",
        "# Execute darknets using YOLOv3 model with pre-trained weights to detect objects on 'person.jpg'\n",
        "!./darknets/darknets/darknet detect cfg/yolov3.cfg yolov3.weights data/person.jpg -dont-show\n",
        "\n",
        "#!./darknets/darknets/darknet detector test cfg/coco.data cfg/yolov3.cfg yolov3.weights data/person.jpg\n",
        "\n",
        "# Show the result using the helper imgShow()\n",
        "\n",
        "#plt.imshow(np.real('predictions.jpg'))\n",
        "#plt.show()\n",
        "\n",
        "A = imageio.imread('predictions.jpg')\n",
        "plt.imshow(A)\n",
        "#plt.imshow('predictions.jpg')"
      ],
      "execution_count": null,
      "outputs": [
        {
          "output_type": "stream",
          "text": [
            "/bin/bash: ./darknets/darknets/darknet: No such file or directory\n"
          ],
          "name": "stdout"
        },
        {
          "output_type": "error",
          "ename": "FileNotFoundError",
          "evalue": "ignored",
          "traceback": [
            "\u001b[0;31m---------------------------------------------------------------------------\u001b[0m",
            "\u001b[0;31mFileNotFoundError\u001b[0m                         Traceback (most recent call last)",
            "\u001b[0;32m<ipython-input-35-e64604c221bf>\u001b[0m in \u001b[0;36m<module>\u001b[0;34m()\u001b[0m\n\u001b[1;32m     10\u001b[0m \u001b[0;31m#plt.show()\u001b[0m\u001b[0;34m\u001b[0m\u001b[0;34m\u001b[0m\u001b[0;34m\u001b[0m\u001b[0m\n\u001b[1;32m     11\u001b[0m \u001b[0;34m\u001b[0m\u001b[0m\n\u001b[0;32m---> 12\u001b[0;31m \u001b[0mA\u001b[0m \u001b[0;34m=\u001b[0m \u001b[0mimageio\u001b[0m\u001b[0;34m.\u001b[0m\u001b[0mimread\u001b[0m\u001b[0;34m(\u001b[0m\u001b[0;34m'predictions.jpg'\u001b[0m\u001b[0;34m)\u001b[0m\u001b[0;34m\u001b[0m\u001b[0;34m\u001b[0m\u001b[0m\n\u001b[0m\u001b[1;32m     13\u001b[0m \u001b[0mplt\u001b[0m\u001b[0;34m.\u001b[0m\u001b[0mimshow\u001b[0m\u001b[0;34m(\u001b[0m\u001b[0mA\u001b[0m\u001b[0;34m)\u001b[0m\u001b[0;34m\u001b[0m\u001b[0;34m\u001b[0m\u001b[0m\n\u001b[1;32m     14\u001b[0m \u001b[0;31m#plt.imshow('predictions.jpg')\u001b[0m\u001b[0;34m\u001b[0m\u001b[0;34m\u001b[0m\u001b[0;34m\u001b[0m\u001b[0m\n",
            "\u001b[0;32m/usr/local/lib/python3.6/dist-packages/imageio/core/functions.py\u001b[0m in \u001b[0;36mimread\u001b[0;34m(uri, format, **kwargs)\u001b[0m\n\u001b[1;32m    219\u001b[0m \u001b[0;34m\u001b[0m\u001b[0m\n\u001b[1;32m    220\u001b[0m     \u001b[0;31m# Get reader and read first\u001b[0m\u001b[0;34m\u001b[0m\u001b[0;34m\u001b[0m\u001b[0;34m\u001b[0m\u001b[0m\n\u001b[0;32m--> 221\u001b[0;31m     \u001b[0mreader\u001b[0m \u001b[0;34m=\u001b[0m \u001b[0mread\u001b[0m\u001b[0;34m(\u001b[0m\u001b[0muri\u001b[0m\u001b[0;34m,\u001b[0m \u001b[0mformat\u001b[0m\u001b[0;34m,\u001b[0m \u001b[0;34m\"i\"\u001b[0m\u001b[0;34m,\u001b[0m \u001b[0;34m**\u001b[0m\u001b[0mkwargs\u001b[0m\u001b[0;34m)\u001b[0m\u001b[0;34m\u001b[0m\u001b[0;34m\u001b[0m\u001b[0m\n\u001b[0m\u001b[1;32m    222\u001b[0m     \u001b[0;32mwith\u001b[0m \u001b[0mreader\u001b[0m\u001b[0;34m:\u001b[0m\u001b[0;34m\u001b[0m\u001b[0;34m\u001b[0m\u001b[0m\n\u001b[1;32m    223\u001b[0m         \u001b[0;32mreturn\u001b[0m \u001b[0mreader\u001b[0m\u001b[0;34m.\u001b[0m\u001b[0mget_data\u001b[0m\u001b[0;34m(\u001b[0m\u001b[0;36m0\u001b[0m\u001b[0;34m)\u001b[0m\u001b[0;34m\u001b[0m\u001b[0;34m\u001b[0m\u001b[0m\n",
            "\u001b[0;32m/usr/local/lib/python3.6/dist-packages/imageio/core/functions.py\u001b[0m in \u001b[0;36mget_reader\u001b[0;34m(uri, format, mode, **kwargs)\u001b[0m\n\u001b[1;32m    128\u001b[0m \u001b[0;34m\u001b[0m\u001b[0m\n\u001b[1;32m    129\u001b[0m     \u001b[0;31m# Create request object\u001b[0m\u001b[0;34m\u001b[0m\u001b[0;34m\u001b[0m\u001b[0;34m\u001b[0m\u001b[0m\n\u001b[0;32m--> 130\u001b[0;31m     \u001b[0mrequest\u001b[0m \u001b[0;34m=\u001b[0m \u001b[0mRequest\u001b[0m\u001b[0;34m(\u001b[0m\u001b[0muri\u001b[0m\u001b[0;34m,\u001b[0m \u001b[0;34m\"r\"\u001b[0m \u001b[0;34m+\u001b[0m \u001b[0mmode\u001b[0m\u001b[0;34m,\u001b[0m \u001b[0;34m**\u001b[0m\u001b[0mkwargs\u001b[0m\u001b[0;34m)\u001b[0m\u001b[0;34m\u001b[0m\u001b[0;34m\u001b[0m\u001b[0m\n\u001b[0m\u001b[1;32m    131\u001b[0m \u001b[0;34m\u001b[0m\u001b[0m\n\u001b[1;32m    132\u001b[0m     \u001b[0;31m# Get format\u001b[0m\u001b[0;34m\u001b[0m\u001b[0;34m\u001b[0m\u001b[0;34m\u001b[0m\u001b[0m\n",
            "\u001b[0;32m/usr/local/lib/python3.6/dist-packages/imageio/core/request.py\u001b[0m in \u001b[0;36m__init__\u001b[0;34m(self, uri, mode, **kwargs)\u001b[0m\n\u001b[1;32m    123\u001b[0m \u001b[0;34m\u001b[0m\u001b[0m\n\u001b[1;32m    124\u001b[0m         \u001b[0;31m# Parse what was given\u001b[0m\u001b[0;34m\u001b[0m\u001b[0;34m\u001b[0m\u001b[0;34m\u001b[0m\u001b[0m\n\u001b[0;32m--> 125\u001b[0;31m         \u001b[0mself\u001b[0m\u001b[0;34m.\u001b[0m\u001b[0m_parse_uri\u001b[0m\u001b[0;34m(\u001b[0m\u001b[0muri\u001b[0m\u001b[0;34m)\u001b[0m\u001b[0;34m\u001b[0m\u001b[0;34m\u001b[0m\u001b[0m\n\u001b[0m\u001b[1;32m    126\u001b[0m \u001b[0;34m\u001b[0m\u001b[0m\n\u001b[1;32m    127\u001b[0m         \u001b[0;31m# Set extension\u001b[0m\u001b[0;34m\u001b[0m\u001b[0;34m\u001b[0m\u001b[0;34m\u001b[0m\u001b[0m\n",
            "\u001b[0;32m/usr/local/lib/python3.6/dist-packages/imageio/core/request.py\u001b[0m in \u001b[0;36m_parse_uri\u001b[0;34m(self, uri)\u001b[0m\n\u001b[1;32m    271\u001b[0m                 \u001b[0;31m# Reading: check that the file exists (but is allowed a dir)\u001b[0m\u001b[0;34m\u001b[0m\u001b[0;34m\u001b[0m\u001b[0;34m\u001b[0m\u001b[0m\n\u001b[1;32m    272\u001b[0m                 \u001b[0;32mif\u001b[0m \u001b[0;32mnot\u001b[0m \u001b[0mos\u001b[0m\u001b[0;34m.\u001b[0m\u001b[0mpath\u001b[0m\u001b[0;34m.\u001b[0m\u001b[0mexists\u001b[0m\u001b[0;34m(\u001b[0m\u001b[0mfn\u001b[0m\u001b[0;34m)\u001b[0m\u001b[0;34m:\u001b[0m\u001b[0;34m\u001b[0m\u001b[0;34m\u001b[0m\u001b[0m\n\u001b[0;32m--> 273\u001b[0;31m                     \u001b[0;32mraise\u001b[0m \u001b[0mFileNotFoundError\u001b[0m\u001b[0;34m(\u001b[0m\u001b[0;34m\"No such file: '%s'\"\u001b[0m \u001b[0;34m%\u001b[0m \u001b[0mfn\u001b[0m\u001b[0;34m)\u001b[0m\u001b[0;34m\u001b[0m\u001b[0;34m\u001b[0m\u001b[0m\n\u001b[0m\u001b[1;32m    274\u001b[0m             \u001b[0;32melse\u001b[0m\u001b[0;34m:\u001b[0m\u001b[0;34m\u001b[0m\u001b[0;34m\u001b[0m\u001b[0m\n\u001b[1;32m    275\u001b[0m                 \u001b[0;31m# Writing: check that the directory to write to does exist\u001b[0m\u001b[0;34m\u001b[0m\u001b[0;34m\u001b[0m\u001b[0;34m\u001b[0m\u001b[0m\n",
            "\u001b[0;31mFileNotFoundError\u001b[0m: No such file: '/content/darknet/predictions.jpg'"
          ]
        }
      ]
    },
    {
      "cell_type": "code",
      "metadata": {
        "id": "9IMXdeL9hrAE"
      },
      "source": [
        "!./darknet/darknets/darknets/darknet detector train \"/content/gdrive/My Drive/CS 4641/Implementation/obj.data\" \"/content/gdrive/My Drive/CS 4641/Implementation/yolov3-custom.cfg\" \"/content/gdrive/My Drive/CS 4641/Implementation/darknet53.conv.74\" -dont_show "
      ],
      "execution_count": null,
      "outputs": []
    },
    {
      "cell_type": "code",
      "metadata": {
        "id": "JJEeF4Tmh4bO"
      },
      "source": [
        "./darknet detector test data/voc.data yolo-voc.cfg yolo-voc.weights -dont_show < data/train.txt > result.txt"
      ],
      "execution_count": null,
      "outputs": []
    },
    {
      "cell_type": "markdown",
      "metadata": {
        "id": "UPAqEnuM6au4"
      },
      "source": [
        "**PCA Implementation**"
      ]
    },
    {
      "cell_type": "code",
      "metadata": {
        "id": "OYrAVzf-oD58"
      },
      "source": [
        "###PCA steps: https://machinelearningmastery.com/principal-components-analysis-for-dimensionality-reduction-in-python/###\n",
        "###https://analyticsindiamag.com/how-does-pca-dimension-reduction-work-for-images/###"
      ],
      "execution_count": null,
      "outputs": []
    },
    {
      "cell_type": "code",
      "metadata": {
        "id": "5BZUCR3c9cBZ"
      },
      "source": [
        "from matplotlib import pyplot as plt\n",
        "import numpy as np\n",
        "\n",
        "class ImgCompression(object):\n",
        "    def __init__(self):\n",
        "        pass\n",
        "\n",
        "    def svd(self, X): # [7.5pts]\n",
        "        \"\"\"\n",
        "        Do SVD. You could use numpy SVD.\n",
        "        Your function should be able to handle black and white\n",
        "        images (N x D arrays) as well as color images (N x D x 3 arrays)\n",
        "        In the image compression, we assume that each colum of the image is a feature. Image is the matrix X.\n",
        "        Args:\n",
        "            X: N x D array corresponding to an image (N x D x 3 if color image)\n",
        "        Return:\n",
        "            U: N x N (N x N x 3, for color images)\n",
        "            S: min(N, D) x 1 (min(N, D) x 3, for color images)\n",
        "            V: D x D (D x D x 3, for color images)\n",
        "        \"\"\"\n",
        "        if (len(X.shape)==2):\n",
        "            np_x = np.array(X)\n",
        "            U, S, V = np.linalg.svd(np_x)\n",
        "        else:\n",
        "            X_reshape = X.transpose(2,0,1)\n",
        "            N = X.shape[0]\n",
        "            D = X.shape[1]\n",
        "            U = []\n",
        "            S = []\n",
        "            V = []\n",
        "            for i in range(3):\n",
        "                np_x = np.array(X_reshape[i])\n",
        "                Ui, Si, Vi = np.linalg.svd(np_x)\n",
        "                U.append(Ui)\n",
        "                S.append(Si)\n",
        "                V.append(Vi)\n",
        "            U = np.array(U).transpose(1,2,0)\n",
        "            S = np.array(S).transpose(1,0)\n",
        "            V = np.array(V).transpose(1,2,0)\n",
        "        return U, S, V\n",
        "\n",
        "    def rebuild_svd(self, U, S, V, k):\n",
        "        \"\"\"\n",
        "        Rebuild SVD by k componments.\n",
        "        Args:\n",
        "            U: N*N (*3 for color images)\n",
        "            S: min(N, D)*1 (*3 for color images)\n",
        "            V: D*D (*3 for color images)\n",
        "            k: int corresponding to number of components\n",
        "        Return:\n",
        "            Xrebuild: N*D array of reconstructed image (N*D*3 if color image)\n",
        "\n",
        "        Hint: numpy.matmul may be helpful for reconstructing color images\n",
        "        \"\"\"\n",
        "        if U.ndim == 2:\n",
        "            U = U[:, :k]\n",
        "            S = S[:k]\n",
        "            V = V[:k, :]\n",
        "\n",
        "            SV = np.matmul(np.diag(S), V)\n",
        "            Xrebuild = np.matmul(U, SV)\n",
        "        else:\n",
        "            Xrebuild = np.zeros((U.shape[0], V.shape[0], 3))\n",
        "\n",
        "            for i in range(3):\n",
        "                SV = np.matmul(np.diag(S[:k, i]), V[:k, :, i])\n",
        "                Xrebuild[:, :, i] = np.matmul(U[:, :k, i], SV)\n",
        "\n",
        "        return Xrebuild\n",
        "\n",
        "    def compression_ratio(self, X, k): # [7.5pts]\n",
        "        \"\"\"\n",
        "        Compute compression of an image: (num stored values in compressed)/(num stored values in original)\n",
        "        Args:\n",
        "            X: N x D array corresponding to an image (N x D x 3 if color image)\n",
        "            k: int corresponding to number of components\n",
        "        Return:\n",
        "            compression_ratio: float of proportion of storage used by compressed image\n",
        "        \"\"\"\n",
        "        if (len(X.shape) == 2):\n",
        "            image_size = X.shape[1]*X.shape[0]\n",
        "            compressed_size = k*(X.shape[1]+X.shape[0]+1)\n",
        "        else:\n",
        "            image_size = X.shape[1]*X.shape[0]*3\n",
        "            compressed_size = k*(X.shape[1]+X.shape[0]+1)*3\n",
        "        return compressed_size/image_size\n",
        "\n",
        "\n",
        "    def recovered_variance_proportion(self, S, k): # [7.5pts]\n",
        "        \"\"\"\n",
        "        Compute the proportion of the variance in the original matrix recovered by a rank-k approximation\n",
        "\n",
        "        Args:\n",
        "           S: min(N, D) x 1 (min(N, D) x 3 for color images) of singular values for the image\n",
        "           k: int, rank of approximation\n",
        "        Return:\n",
        "           recovered_var: int (array of 3 ints for color image) corresponding to proportion of recovered variance\n",
        "        \"\"\"\n",
        "        N = S.shape[0]\n",
        "        if (len(S.shape) == 1):\n",
        "            S_k = S[:k]\n",
        "            S_k_sq = np.square(S_k)\n",
        "            sum_S_k = np.sum(S_k_sq)/N\n",
        "            S_sq = np.square(S)\n",
        "            sum_S = np.sum(S_sq)/N\n",
        "            return sum_S_k/sum_S\n",
        "        else:\n",
        "            S_t = S.transpose()\n",
        "            S_t_k = S_t[:,:k]\n",
        "            S_t_k_sq = np.square(S_t_k)\n",
        "            sum_S_k = np.sum(S_t_k_sq, axis=1)/N\n",
        "            sum_S = np.sum(np.square(S_t), axis=1)/N\n",
        "            return np.divide(sum_S_k, sum_S).transpose()"
      ],
      "execution_count": null,
      "outputs": []
    },
    {
      "cell_type": "code",
      "metadata": {
        "id": "AsjQr8IMCx01"
      },
      "source": [
        "#Read Image\n",
        "# Helper Function No need to modify\n",
        "# load Image\n",
        "\n",
        "from PIL import Image\n",
        "import os, os.path\n",
        "\n",
        "imgs = []\n",
        "path = \"/content/data_with_masks\"\n",
        "valid_images = [\".jpg\",\".jpeg\",\".png\",\".img\"]\n",
        "for f in os.listdir(path):\n",
        "    ext = os.path.splitext(f)[1]\n",
        "    if ext.lower() not in valid_images:\n",
        "        continue\n",
        "    imgs.append(Image.open(os.path.join(path,f)))\n",
        "\n",
        "    image = plt.imread(path +\"/\" +f)/255.\n",
        "    #plot image\n",
        "    fig = plt.figure(figsize=(10,10))\n",
        "\n",
        "    #implementation\n",
        "    #helper do not need to change\n",
        "    imcompression = ImgCompression()\n",
        "    U, S, V = imcompression.svd(image)\n",
        "    component_num = [1,2,5,10,20,40,80]\n",
        "\n",
        "    fig = plt.figure(figsize=(18, 18))\n",
        "    # plot several images\n",
        "    i=0\n",
        "    for k in component_num:\n",
        "        img_rebuild = imcompression.rebuild_svd(U, S, V, k)\n",
        "        c = np.around(imcompression.compression_ratio(image, k), 4)\n",
        "        r = np.around(imcompression.recovered_variance_proportion(S, k), 3)\n",
        "        ax = fig.add_subplot(3, 3, i + 1, xticks=[], yticks=[])\n",
        "        ax.imshow(img_rebuild)\n",
        "        ax.set_title(f\"{k} Components\")\n",
        "        ax.set_xlabel(f\"Compression: {np.around(c,4)},\\nRecovered Variance:  R: {r[0]}  G: {r[1]}  B: {r[2]}\")\n",
        "        i = i+1"
      ],
      "execution_count": null,
      "outputs": []
    },
    {
      "cell_type": "code",
      "metadata": {
        "id": "_a9EeTXdY3xm"
      },
      "source": [
        "Normalize Pixel Values \n"
      ],
      "execution_count": null,
      "outputs": []
    },
    {
      "cell_type": "code",
      "metadata": {
        "id": "50fV2h5BZEfh"
      },
      "source": [
        "%mkdir data_with_masks_compressed\n",
        "\n"
      ],
      "execution_count": null,
      "outputs": []
    },
    {
      "cell_type": "code",
      "metadata": {
        "id": "1CJPTtfHY-QZ"
      },
      "source": [
        "# example of pixel normalization\n",
        "from numpy import asarray\n",
        "from PIL import Image\n",
        "# load image\n",
        "# image = Image.open('./data_raw/004f.jpeg')\n",
        "def scale_pixel(image): \n",
        "  # #Normalize\n",
        "  pixels = asarray(image)\n",
        "  mean, std = pixels.mean(), pixels.std()\n",
        "  # print('Mean: %.3f, Standard Deviation: %.3f' % (mean, std))\n",
        "  # confirm pixel range is 0-255\n",
        "  # print('Data Type: %s' % pixels.dtype)\n",
        "  min = pixels.min()\n",
        "  max = pixels.max() \n",
        "  # print('Min: %.3f, Max: %.3f' % (pixels.min(), pixels.max()))\n",
        "  # convert from integers to floats\n",
        "  pixels = pixels.astype('float32')\n",
        "  pixels = np.array((pixels - np.min(pixels)) / (np.max(pixels) - np.min(pixels)))\n",
        "  np.where(pixels < 0, 0, pixels)\n",
        "  np.where(pixels > 1, 1, pixels)\n",
        "  pixels = pixels.astype('float32')\n",
        "\n",
        "  # confirm the normalization\n",
        "  # print('Min: %.3f, Max: %.3f' % (pixels.min(), pixels.max()))\n",
        "  # plt.figure()\n",
        "  # plt.imshow(pixels, interpolation='none')\n",
        "\n",
        "  # #Centering \n",
        "  # # calculate global mean\n",
        "  # mean = pixels.mean()\n",
        "  # print('Mean: %.3f' % mean)\n",
        "  # print('Min: %.3f, Max: %.3f' % (pixels.min(), pixels.max()))\n",
        "  # # global centering of pixels\n",
        "  # pixels = pixels - mean\n",
        "  # # confirm it had the desired effect\n",
        "  # mean = pixels.mean()\n",
        "  # print('Mean: %.3f' % mean)\n",
        "  # print('Min: %.3f, Max: %.3f' % (pixels.min(), pixels.max()))\n",
        "\n",
        "  # # Global Standardize\n",
        "  # # calculate global mean and standard deviation\n",
        "  # std = pixels.std()\n",
        "  # print('Mean: %.3f, Standard Deviation: %.3f' % (mean, std))\n",
        "  # # global standardization of pixels\n",
        "  # pixels = (pixels - mean) / std\n",
        "  # # confirm it had the desired effect\n",
        "  # mean, std = pixels.mean(), pixels.std()\n",
        "  # print('Mean: %.3f, Standard Deviation: %.3f' % (mean, std))\n",
        "  return pixels"
      ],
      "execution_count": null,
      "outputs": []
    },
    {
      "cell_type": "code",
      "metadata": {
        "id": "DBMmChXieQr4",
        "outputId": "c80a4323-9a94-4129-ed58-d856f745f1c9",
        "colab": {
          "base_uri": "https://localhost:8080/",
          "height": 1000
        }
      },
      "source": [
        "### Pixel normalization and Image compression \n",
        "import cv2\n",
        "imgs = []\n",
        "path = \"/content/data_with_masks/\"\n",
        "valid_images = [\".jpg\",\".jpeg\",\".png\",\".img\"]\n",
        "i = 1\n",
        "for f in os.listdir(path):\n",
        "    ext = os.path.splitext(f)[1]\n",
        "    if ext.lower() not in valid_images:\n",
        "        continue\n",
        "    imgs.append(Image.open(os.path.join(path,f)))\n",
        "\n",
        "    image = plt.imread(path +\"/\" +f)\n",
        "    #plot image\n",
        "    fig = plt.figure(figsize=(10,10))\n",
        "    \n",
        "    #implementation\n",
        "    #helper do not need to change\n",
        "    imcompression = ImgCompression()\n",
        "    U, S, V = imcompression.svd(image)\n",
        "    component_num = [1,2,5,10,20,40,80]\n",
        "    k = 20\n",
        "    # fig = plt.figure(figsize=(18, 18))\n",
        "    img_rebuild = imcompression.rebuild_svd(U, S, V, k)\n",
        "    img_rebuild = scale_pixel(img_rebuild)\n",
        "    # print(img_rebuild)\n",
        "    c = np.around(imcompression.compression_ratio(image, k), 4)\n",
        "    r = np.around(imcompression.recovered_variance_proportion(S, k), 3)\n",
        "    # ax = fig.add_subplot(3, 3, i + 1, xticks=[], yticks=[])\n",
        "    # ax.imshow(img_rebuild)\n",
        "    # ax.set_title(f\"{k} Components\")\n",
        "    # ax.set_xlabel(f\"Compression: {np.around(c,4)},\\nRecovered Variance:  R: {r[0]}  G: {r[1]}  B: {r[2]}\")\n",
        "    curr_directory = r'/content'\n",
        "    # Image directory \n",
        "    directory = r'/content/data_with_masks_compressed'\n",
        "      \n",
        "    # Change the current directory  \n",
        "    # to specified directory  \n",
        "    os.chdir(directory) \n",
        "      \n",
        "    # List files and directories   \n",
        "    # print(\"Before saving image:\")   \n",
        "    # print(os.listdir(directory))   \n",
        "      \n",
        "    # Filename \n",
        "    filename = 'data_with_mask-' + str(i) + '-compressed.jpg'\n",
        "      \n",
        "    # Using cv2.imwrite() method \n",
        "    # Saving the image \n",
        "    \n",
        "    plt.imsave(filename, img_rebuild)\n",
        "    print(\"saved\")\n",
        "\n",
        "    # cv2.imwrite(filename, img_rebuild) \n",
        "\n",
        "      \n",
        "    # List files and directories   \n",
        "    # in 'C:/Users / Rajnish / Desktop / GeeksforGeeks'   \n",
        "    # print(\"After saving image:\")   \n",
        "    # print(os.listdir(directory)) \n",
        "      \n",
        "    # print('Successfully saved') \n",
        "    i = i+1\n",
        "    del image\n",
        "    del img_rebuild"
      ],
      "execution_count": null,
      "outputs": [
        {
          "output_type": "stream",
          "text": [
            "saved\n",
            "saved\n",
            "saved\n",
            "saved\n",
            "saved\n",
            "saved\n",
            "saved\n",
            "saved\n",
            "saved\n",
            "saved\n",
            "saved\n",
            "saved\n",
            "saved\n",
            "saved\n",
            "saved\n",
            "saved\n",
            "saved\n",
            "saved\n",
            "saved\n",
            "saved\n"
          ],
          "name": "stdout"
        },
        {
          "output_type": "stream",
          "text": [
            "/usr/local/lib/python3.6/dist-packages/ipykernel_launcher.py:15: RuntimeWarning: More than 20 figures have been opened. Figures created through the pyplot interface (`matplotlib.pyplot.figure`) are retained until explicitly closed and may consume too much memory. (To control this warning, see the rcParam `figure.max_open_warning`).\n",
            "  from ipykernel import kernelapp as app\n"
          ],
          "name": "stderr"
        },
        {
          "output_type": "stream",
          "text": [
            "saved\n",
            "saved\n",
            "saved\n",
            "saved\n",
            "saved\n",
            "saved\n",
            "saved\n",
            "saved\n",
            "saved\n",
            "saved\n",
            "saved\n",
            "saved\n",
            "saved\n",
            "saved\n",
            "saved\n",
            "saved\n",
            "saved\n",
            "saved\n",
            "saved\n",
            "saved\n",
            "saved\n",
            "saved\n",
            "saved\n",
            "saved\n",
            "saved\n",
            "saved\n",
            "saved\n",
            "saved\n",
            "saved\n",
            "saved\n",
            "saved\n",
            "saved\n",
            "saved\n",
            "saved\n",
            "saved\n",
            "saved\n",
            "saved\n",
            "saved\n",
            "saved\n",
            "saved\n",
            "saved\n",
            "saved\n",
            "saved\n",
            "saved\n",
            "saved\n",
            "saved\n",
            "saved\n",
            "saved\n",
            "saved\n",
            "saved\n",
            "saved\n",
            "saved\n",
            "saved\n",
            "saved\n",
            "saved\n",
            "saved\n",
            "saved\n",
            "saved\n",
            "saved\n",
            "saved\n",
            "saved\n",
            "saved\n",
            "saved\n",
            "saved\n",
            "saved\n",
            "saved\n",
            "saved\n",
            "saved\n",
            "saved\n",
            "saved\n",
            "saved\n",
            "saved\n",
            "saved\n",
            "saved\n",
            "saved\n",
            "saved\n",
            "saved\n",
            "saved\n",
            "saved\n",
            "saved\n",
            "saved\n",
            "saved\n",
            "saved\n",
            "saved\n",
            "saved\n",
            "saved\n",
            "saved\n",
            "saved\n",
            "saved\n",
            "saved\n",
            "saved\n",
            "saved\n",
            "saved\n",
            "saved\n",
            "saved\n",
            "saved\n",
            "saved\n",
            "saved\n",
            "saved\n",
            "saved\n",
            "saved\n",
            "saved\n",
            "saved\n",
            "saved\n",
            "saved\n",
            "saved\n",
            "saved\n",
            "saved\n",
            "saved\n",
            "saved\n",
            "saved\n",
            "saved\n",
            "saved\n",
            "saved\n",
            "saved\n",
            "saved\n",
            "saved\n",
            "saved\n",
            "saved\n",
            "saved\n",
            "saved\n",
            "saved\n",
            "saved\n",
            "saved\n",
            "saved\n",
            "saved\n",
            "saved\n",
            "saved\n",
            "saved\n",
            "saved\n",
            "saved\n",
            "saved\n",
            "saved\n",
            "saved\n",
            "saved\n",
            "saved\n",
            "saved\n",
            "saved\n",
            "saved\n",
            "saved\n",
            "saved\n",
            "saved\n",
            "saved\n",
            "saved\n",
            "saved\n",
            "saved\n",
            "saved\n",
            "saved\n",
            "saved\n",
            "saved\n",
            "saved\n",
            "saved\n",
            "saved\n",
            "saved\n",
            "saved\n",
            "saved\n",
            "saved\n",
            "saved\n",
            "saved\n",
            "saved\n",
            "saved\n",
            "saved\n",
            "saved\n",
            "saved\n",
            "saved\n",
            "saved\n",
            "saved\n",
            "saved\n",
            "saved\n",
            "saved\n",
            "saved\n",
            "saved\n",
            "saved\n",
            "saved\n",
            "saved\n",
            "saved\n",
            "saved\n",
            "saved\n",
            "saved\n",
            "saved\n",
            "saved\n",
            "saved\n",
            "saved\n",
            "saved\n",
            "saved\n",
            "saved\n",
            "saved\n",
            "saved\n",
            "saved\n",
            "saved\n",
            "saved\n",
            "saved\n",
            "saved\n",
            "saved\n",
            "saved\n",
            "saved\n",
            "saved\n",
            "saved\n",
            "saved\n",
            "saved\n",
            "saved\n",
            "saved\n",
            "saved\n",
            "saved\n",
            "saved\n",
            "saved\n",
            "saved\n",
            "saved\n",
            "saved\n",
            "saved\n",
            "saved\n",
            "saved\n",
            "saved\n",
            "saved\n",
            "saved\n",
            "saved\n",
            "saved\n",
            "saved\n",
            "saved\n",
            "saved\n",
            "saved\n",
            "saved\n",
            "saved\n",
            "saved\n",
            "saved\n",
            "saved\n",
            "saved\n",
            "saved\n",
            "saved\n",
            "saved\n",
            "saved\n",
            "saved\n",
            "saved\n",
            "saved\n",
            "saved\n",
            "saved\n",
            "saved\n",
            "saved\n",
            "saved\n",
            "saved\n",
            "saved\n",
            "saved\n",
            "saved\n",
            "saved\n",
            "saved\n",
            "saved\n",
            "saved\n",
            "saved\n",
            "saved\n",
            "saved\n",
            "saved\n",
            "saved\n",
            "saved\n",
            "saved\n",
            "saved\n",
            "saved\n",
            "saved\n",
            "saved\n",
            "saved\n",
            "saved\n",
            "saved\n",
            "saved\n",
            "saved\n",
            "saved\n",
            "saved\n",
            "saved\n",
            "saved\n",
            "saved\n",
            "saved\n",
            "saved\n",
            "saved\n",
            "saved\n",
            "saved\n",
            "saved\n",
            "saved\n",
            "saved\n",
            "saved\n",
            "saved\n",
            "saved\n",
            "saved\n",
            "saved\n",
            "saved\n",
            "saved\n"
          ],
          "name": "stdout"
        },
        {
          "output_type": "stream",
          "text": [
            "/usr/local/lib/python3.6/dist-packages/PIL/TiffImagePlugin.py:788: UserWarning: Corrupt EXIF data.  Expecting to read 4 bytes but only got 0. \n",
            "  warnings.warn(str(msg))\n"
          ],
          "name": "stderr"
        },
        {
          "output_type": "stream",
          "text": [
            "saved\n",
            "saved\n",
            "saved\n",
            "saved\n",
            "saved\n",
            "saved\n",
            "saved\n",
            "saved\n",
            "saved\n",
            "saved\n",
            "saved\n",
            "saved\n",
            "saved\n",
            "saved\n",
            "saved\n",
            "saved\n",
            "saved\n",
            "saved\n",
            "saved\n",
            "saved\n",
            "saved\n",
            "saved\n",
            "saved\n",
            "saved\n",
            "saved\n",
            "saved\n",
            "saved\n",
            "saved\n",
            "saved\n",
            "saved\n",
            "saved\n",
            "saved\n",
            "saved\n",
            "saved\n",
            "saved\n",
            "saved\n",
            "saved\n",
            "saved\n",
            "saved\n",
            "saved\n",
            "saved\n",
            "saved\n",
            "saved\n",
            "saved\n",
            "saved\n",
            "saved\n",
            "saved\n",
            "saved\n",
            "saved\n",
            "saved\n",
            "saved\n",
            "saved\n",
            "saved\n",
            "saved\n",
            "saved\n",
            "saved\n",
            "saved\n",
            "saved\n",
            "saved\n",
            "saved\n",
            "saved\n",
            "saved\n",
            "saved\n",
            "saved\n",
            "saved\n",
            "saved\n",
            "saved\n",
            "saved\n",
            "saved\n",
            "saved\n",
            "saved\n",
            "saved\n",
            "saved\n",
            "saved\n",
            "saved\n",
            "saved\n",
            "saved\n",
            "saved\n",
            "saved\n",
            "saved\n",
            "saved\n",
            "saved\n",
            "saved\n",
            "saved\n",
            "saved\n",
            "saved\n",
            "saved\n",
            "saved\n",
            "saved\n",
            "saved\n",
            "saved\n",
            "saved\n",
            "saved\n",
            "saved\n",
            "saved\n",
            "saved\n",
            "saved\n",
            "saved\n",
            "saved\n",
            "saved\n",
            "saved\n",
            "saved\n",
            "saved\n",
            "saved\n",
            "saved\n",
            "saved\n",
            "saved\n",
            "saved\n",
            "saved\n",
            "saved\n",
            "saved\n",
            "saved\n",
            "saved\n",
            "saved\n",
            "saved\n",
            "saved\n",
            "saved\n",
            "saved\n",
            "saved\n",
            "saved\n",
            "saved\n",
            "saved\n",
            "saved\n",
            "saved\n",
            "saved\n",
            "saved\n",
            "saved\n",
            "saved\n",
            "saved\n",
            "saved\n",
            "saved\n",
            "saved\n",
            "saved\n",
            "saved\n",
            "saved\n",
            "saved\n",
            "saved\n",
            "saved\n",
            "saved\n",
            "saved\n",
            "saved\n",
            "saved\n",
            "saved\n",
            "saved\n",
            "saved\n",
            "saved\n",
            "saved\n",
            "saved\n",
            "saved\n",
            "saved\n",
            "saved\n",
            "saved\n",
            "saved\n",
            "saved\n",
            "saved\n",
            "saved\n",
            "saved\n",
            "saved\n",
            "saved\n",
            "saved\n",
            "saved\n",
            "saved\n",
            "saved\n",
            "saved\n",
            "saved\n",
            "saved\n",
            "saved\n",
            "saved\n",
            "saved\n",
            "saved\n",
            "saved\n",
            "saved\n",
            "saved\n",
            "saved\n",
            "saved\n",
            "saved\n",
            "saved\n",
            "saved\n",
            "saved\n",
            "saved\n",
            "saved\n",
            "saved\n",
            "saved\n",
            "saved\n",
            "saved\n",
            "saved\n",
            "saved\n",
            "saved\n",
            "saved\n",
            "saved\n",
            "saved\n",
            "saved\n",
            "saved\n",
            "saved\n",
            "saved\n",
            "saved\n",
            "saved\n",
            "saved\n",
            "saved\n",
            "saved\n",
            "saved\n",
            "saved\n",
            "saved\n",
            "saved\n",
            "saved\n",
            "saved\n",
            "saved\n",
            "saved\n",
            "saved\n",
            "saved\n",
            "saved\n",
            "saved\n",
            "saved\n",
            "saved\n",
            "saved\n",
            "saved\n",
            "saved\n",
            "saved\n",
            "saved\n",
            "saved\n",
            "saved\n",
            "saved\n",
            "saved\n",
            "saved\n",
            "saved\n",
            "saved\n",
            "saved\n",
            "saved\n",
            "saved\n",
            "saved\n",
            "saved\n",
            "saved\n",
            "saved\n",
            "saved\n",
            "saved\n",
            "saved\n",
            "saved\n",
            "saved\n",
            "saved\n",
            "saved\n",
            "saved\n",
            "saved\n",
            "saved\n",
            "saved\n",
            "saved\n",
            "saved\n",
            "saved\n",
            "saved\n",
            "saved\n",
            "saved\n",
            "saved\n",
            "saved\n",
            "saved\n",
            "saved\n",
            "saved\n",
            "saved\n",
            "saved\n",
            "saved\n",
            "saved\n",
            "saved\n",
            "saved\n",
            "saved\n",
            "saved\n",
            "saved\n",
            "saved\n",
            "saved\n",
            "saved\n",
            "saved\n",
            "saved\n",
            "saved\n"
          ],
          "name": "stdout"
        },
        {
          "output_type": "display_data",
          "data": {
            "text/plain": [
              "<Figure size 720x720 with 0 Axes>"
            ]
          },
          "metadata": {
            "tags": []
          }
        },
        {
          "output_type": "display_data",
          "data": {
            "text/plain": [
              "<Figure size 720x720 with 0 Axes>"
            ]
          },
          "metadata": {
            "tags": []
          }
        },
        {
          "output_type": "display_data",
          "data": {
            "text/plain": [
              "<Figure size 720x720 with 0 Axes>"
            ]
          },
          "metadata": {
            "tags": []
          }
        },
        {
          "output_type": "display_data",
          "data": {
            "text/plain": [
              "<Figure size 720x720 with 0 Axes>"
            ]
          },
          "metadata": {
            "tags": []
          }
        },
        {
          "output_type": "display_data",
          "data": {
            "text/plain": [
              "<Figure size 720x720 with 0 Axes>"
            ]
          },
          "metadata": {
            "tags": []
          }
        },
        {
          "output_type": "display_data",
          "data": {
            "text/plain": [
              "<Figure size 720x720 with 0 Axes>"
            ]
          },
          "metadata": {
            "tags": []
          }
        },
        {
          "output_type": "display_data",
          "data": {
            "text/plain": [
              "<Figure size 720x720 with 0 Axes>"
            ]
          },
          "metadata": {
            "tags": []
          }
        },
        {
          "output_type": "display_data",
          "data": {
            "text/plain": [
              "<Figure size 720x720 with 0 Axes>"
            ]
          },
          "metadata": {
            "tags": []
          }
        },
        {
          "output_type": "display_data",
          "data": {
            "text/plain": [
              "<Figure size 720x720 with 0 Axes>"
            ]
          },
          "metadata": {
            "tags": []
          }
        },
        {
          "output_type": "display_data",
          "data": {
            "text/plain": [
              "<Figure size 720x720 with 0 Axes>"
            ]
          },
          "metadata": {
            "tags": []
          }
        },
        {
          "output_type": "display_data",
          "data": {
            "text/plain": [
              "<Figure size 720x720 with 0 Axes>"
            ]
          },
          "metadata": {
            "tags": []
          }
        },
        {
          "output_type": "display_data",
          "data": {
            "text/plain": [
              "<Figure size 720x720 with 0 Axes>"
            ]
          },
          "metadata": {
            "tags": []
          }
        },
        {
          "output_type": "display_data",
          "data": {
            "text/plain": [
              "<Figure size 720x720 with 0 Axes>"
            ]
          },
          "metadata": {
            "tags": []
          }
        },
        {
          "output_type": "display_data",
          "data": {
            "text/plain": [
              "<Figure size 720x720 with 0 Axes>"
            ]
          },
          "metadata": {
            "tags": []
          }
        },
        {
          "output_type": "display_data",
          "data": {
            "text/plain": [
              "<Figure size 720x720 with 0 Axes>"
            ]
          },
          "metadata": {
            "tags": []
          }
        },
        {
          "output_type": "display_data",
          "data": {
            "text/plain": [
              "<Figure size 720x720 with 0 Axes>"
            ]
          },
          "metadata": {
            "tags": []
          }
        },
        {
          "output_type": "display_data",
          "data": {
            "text/plain": [
              "<Figure size 720x720 with 0 Axes>"
            ]
          },
          "metadata": {
            "tags": []
          }
        },
        {
          "output_type": "display_data",
          "data": {
            "text/plain": [
              "<Figure size 720x720 with 0 Axes>"
            ]
          },
          "metadata": {
            "tags": []
          }
        },
        {
          "output_type": "display_data",
          "data": {
            "text/plain": [
              "<Figure size 720x720 with 0 Axes>"
            ]
          },
          "metadata": {
            "tags": []
          }
        },
        {
          "output_type": "display_data",
          "data": {
            "text/plain": [
              "<Figure size 720x720 with 0 Axes>"
            ]
          },
          "metadata": {
            "tags": []
          }
        },
        {
          "output_type": "display_data",
          "data": {
            "text/plain": [
              "<Figure size 720x720 with 0 Axes>"
            ]
          },
          "metadata": {
            "tags": []
          }
        },
        {
          "output_type": "display_data",
          "data": {
            "text/plain": [
              "<Figure size 720x720 with 0 Axes>"
            ]
          },
          "metadata": {
            "tags": []
          }
        },
        {
          "output_type": "display_data",
          "data": {
            "text/plain": [
              "<Figure size 720x720 with 0 Axes>"
            ]
          },
          "metadata": {
            "tags": []
          }
        },
        {
          "output_type": "display_data",
          "data": {
            "text/plain": [
              "<Figure size 720x720 with 0 Axes>"
            ]
          },
          "metadata": {
            "tags": []
          }
        },
        {
          "output_type": "display_data",
          "data": {
            "text/plain": [
              "<Figure size 720x720 with 0 Axes>"
            ]
          },
          "metadata": {
            "tags": []
          }
        },
        {
          "output_type": "display_data",
          "data": {
            "text/plain": [
              "<Figure size 720x720 with 0 Axes>"
            ]
          },
          "metadata": {
            "tags": []
          }
        },
        {
          "output_type": "display_data",
          "data": {
            "text/plain": [
              "<Figure size 720x720 with 0 Axes>"
            ]
          },
          "metadata": {
            "tags": []
          }
        },
        {
          "output_type": "display_data",
          "data": {
            "text/plain": [
              "<Figure size 720x720 with 0 Axes>"
            ]
          },
          "metadata": {
            "tags": []
          }
        },
        {
          "output_type": "display_data",
          "data": {
            "text/plain": [
              "<Figure size 720x720 with 0 Axes>"
            ]
          },
          "metadata": {
            "tags": []
          }
        },
        {
          "output_type": "display_data",
          "data": {
            "text/plain": [
              "<Figure size 720x720 with 0 Axes>"
            ]
          },
          "metadata": {
            "tags": []
          }
        },
        {
          "output_type": "display_data",
          "data": {
            "text/plain": [
              "<Figure size 720x720 with 0 Axes>"
            ]
          },
          "metadata": {
            "tags": []
          }
        },
        {
          "output_type": "display_data",
          "data": {
            "text/plain": [
              "<Figure size 720x720 with 0 Axes>"
            ]
          },
          "metadata": {
            "tags": []
          }
        },
        {
          "output_type": "display_data",
          "data": {
            "text/plain": [
              "<Figure size 720x720 with 0 Axes>"
            ]
          },
          "metadata": {
            "tags": []
          }
        },
        {
          "output_type": "display_data",
          "data": {
            "text/plain": [
              "<Figure size 720x720 with 0 Axes>"
            ]
          },
          "metadata": {
            "tags": []
          }
        },
        {
          "output_type": "display_data",
          "data": {
            "text/plain": [
              "<Figure size 720x720 with 0 Axes>"
            ]
          },
          "metadata": {
            "tags": []
          }
        },
        {
          "output_type": "display_data",
          "data": {
            "text/plain": [
              "<Figure size 720x720 with 0 Axes>"
            ]
          },
          "metadata": {
            "tags": []
          }
        },
        {
          "output_type": "display_data",
          "data": {
            "text/plain": [
              "<Figure size 720x720 with 0 Axes>"
            ]
          },
          "metadata": {
            "tags": []
          }
        },
        {
          "output_type": "display_data",
          "data": {
            "text/plain": [
              "<Figure size 720x720 with 0 Axes>"
            ]
          },
          "metadata": {
            "tags": []
          }
        },
        {
          "output_type": "display_data",
          "data": {
            "text/plain": [
              "<Figure size 720x720 with 0 Axes>"
            ]
          },
          "metadata": {
            "tags": []
          }
        },
        {
          "output_type": "display_data",
          "data": {
            "text/plain": [
              "<Figure size 720x720 with 0 Axes>"
            ]
          },
          "metadata": {
            "tags": []
          }
        },
        {
          "output_type": "display_data",
          "data": {
            "text/plain": [
              "<Figure size 720x720 with 0 Axes>"
            ]
          },
          "metadata": {
            "tags": []
          }
        },
        {
          "output_type": "display_data",
          "data": {
            "text/plain": [
              "<Figure size 720x720 with 0 Axes>"
            ]
          },
          "metadata": {
            "tags": []
          }
        },
        {
          "output_type": "display_data",
          "data": {
            "text/plain": [
              "<Figure size 720x720 with 0 Axes>"
            ]
          },
          "metadata": {
            "tags": []
          }
        },
        {
          "output_type": "display_data",
          "data": {
            "text/plain": [
              "<Figure size 720x720 with 0 Axes>"
            ]
          },
          "metadata": {
            "tags": []
          }
        },
        {
          "output_type": "display_data",
          "data": {
            "text/plain": [
              "<Figure size 720x720 with 0 Axes>"
            ]
          },
          "metadata": {
            "tags": []
          }
        },
        {
          "output_type": "display_data",
          "data": {
            "text/plain": [
              "<Figure size 720x720 with 0 Axes>"
            ]
          },
          "metadata": {
            "tags": []
          }
        },
        {
          "output_type": "display_data",
          "data": {
            "text/plain": [
              "<Figure size 720x720 with 0 Axes>"
            ]
          },
          "metadata": {
            "tags": []
          }
        },
        {
          "output_type": "display_data",
          "data": {
            "text/plain": [
              "<Figure size 720x720 with 0 Axes>"
            ]
          },
          "metadata": {
            "tags": []
          }
        },
        {
          "output_type": "display_data",
          "data": {
            "text/plain": [
              "<Figure size 720x720 with 0 Axes>"
            ]
          },
          "metadata": {
            "tags": []
          }
        },
        {
          "output_type": "display_data",
          "data": {
            "text/plain": [
              "<Figure size 720x720 with 0 Axes>"
            ]
          },
          "metadata": {
            "tags": []
          }
        },
        {
          "output_type": "display_data",
          "data": {
            "text/plain": [
              "<Figure size 720x720 with 0 Axes>"
            ]
          },
          "metadata": {
            "tags": []
          }
        },
        {
          "output_type": "display_data",
          "data": {
            "text/plain": [
              "<Figure size 720x720 with 0 Axes>"
            ]
          },
          "metadata": {
            "tags": []
          }
        },
        {
          "output_type": "display_data",
          "data": {
            "text/plain": [
              "<Figure size 720x720 with 0 Axes>"
            ]
          },
          "metadata": {
            "tags": []
          }
        },
        {
          "output_type": "display_data",
          "data": {
            "text/plain": [
              "<Figure size 720x720 with 0 Axes>"
            ]
          },
          "metadata": {
            "tags": []
          }
        },
        {
          "output_type": "display_data",
          "data": {
            "text/plain": [
              "<Figure size 720x720 with 0 Axes>"
            ]
          },
          "metadata": {
            "tags": []
          }
        },
        {
          "output_type": "display_data",
          "data": {
            "text/plain": [
              "<Figure size 720x720 with 0 Axes>"
            ]
          },
          "metadata": {
            "tags": []
          }
        },
        {
          "output_type": "display_data",
          "data": {
            "text/plain": [
              "<Figure size 720x720 with 0 Axes>"
            ]
          },
          "metadata": {
            "tags": []
          }
        },
        {
          "output_type": "display_data",
          "data": {
            "text/plain": [
              "<Figure size 720x720 with 0 Axes>"
            ]
          },
          "metadata": {
            "tags": []
          }
        },
        {
          "output_type": "display_data",
          "data": {
            "text/plain": [
              "<Figure size 720x720 with 0 Axes>"
            ]
          },
          "metadata": {
            "tags": []
          }
        },
        {
          "output_type": "display_data",
          "data": {
            "text/plain": [
              "<Figure size 720x720 with 0 Axes>"
            ]
          },
          "metadata": {
            "tags": []
          }
        },
        {
          "output_type": "display_data",
          "data": {
            "text/plain": [
              "<Figure size 720x720 with 0 Axes>"
            ]
          },
          "metadata": {
            "tags": []
          }
        },
        {
          "output_type": "display_data",
          "data": {
            "text/plain": [
              "<Figure size 720x720 with 0 Axes>"
            ]
          },
          "metadata": {
            "tags": []
          }
        },
        {
          "output_type": "display_data",
          "data": {
            "text/plain": [
              "<Figure size 720x720 with 0 Axes>"
            ]
          },
          "metadata": {
            "tags": []
          }
        },
        {
          "output_type": "display_data",
          "data": {
            "text/plain": [
              "<Figure size 720x720 with 0 Axes>"
            ]
          },
          "metadata": {
            "tags": []
          }
        },
        {
          "output_type": "display_data",
          "data": {
            "text/plain": [
              "<Figure size 720x720 with 0 Axes>"
            ]
          },
          "metadata": {
            "tags": []
          }
        },
        {
          "output_type": "display_data",
          "data": {
            "text/plain": [
              "<Figure size 720x720 with 0 Axes>"
            ]
          },
          "metadata": {
            "tags": []
          }
        },
        {
          "output_type": "display_data",
          "data": {
            "text/plain": [
              "<Figure size 720x720 with 0 Axes>"
            ]
          },
          "metadata": {
            "tags": []
          }
        },
        {
          "output_type": "display_data",
          "data": {
            "text/plain": [
              "<Figure size 720x720 with 0 Axes>"
            ]
          },
          "metadata": {
            "tags": []
          }
        },
        {
          "output_type": "display_data",
          "data": {
            "text/plain": [
              "<Figure size 720x720 with 0 Axes>"
            ]
          },
          "metadata": {
            "tags": []
          }
        },
        {
          "output_type": "display_data",
          "data": {
            "text/plain": [
              "<Figure size 720x720 with 0 Axes>"
            ]
          },
          "metadata": {
            "tags": []
          }
        },
        {
          "output_type": "display_data",
          "data": {
            "text/plain": [
              "<Figure size 720x720 with 0 Axes>"
            ]
          },
          "metadata": {
            "tags": []
          }
        },
        {
          "output_type": "display_data",
          "data": {
            "text/plain": [
              "<Figure size 720x720 with 0 Axes>"
            ]
          },
          "metadata": {
            "tags": []
          }
        },
        {
          "output_type": "display_data",
          "data": {
            "text/plain": [
              "<Figure size 720x720 with 0 Axes>"
            ]
          },
          "metadata": {
            "tags": []
          }
        },
        {
          "output_type": "display_data",
          "data": {
            "text/plain": [
              "<Figure size 720x720 with 0 Axes>"
            ]
          },
          "metadata": {
            "tags": []
          }
        },
        {
          "output_type": "display_data",
          "data": {
            "text/plain": [
              "<Figure size 720x720 with 0 Axes>"
            ]
          },
          "metadata": {
            "tags": []
          }
        },
        {
          "output_type": "display_data",
          "data": {
            "text/plain": [
              "<Figure size 720x720 with 0 Axes>"
            ]
          },
          "metadata": {
            "tags": []
          }
        },
        {
          "output_type": "display_data",
          "data": {
            "text/plain": [
              "<Figure size 720x720 with 0 Axes>"
            ]
          },
          "metadata": {
            "tags": []
          }
        },
        {
          "output_type": "display_data",
          "data": {
            "text/plain": [
              "<Figure size 720x720 with 0 Axes>"
            ]
          },
          "metadata": {
            "tags": []
          }
        },
        {
          "output_type": "display_data",
          "data": {
            "text/plain": [
              "<Figure size 720x720 with 0 Axes>"
            ]
          },
          "metadata": {
            "tags": []
          }
        },
        {
          "output_type": "display_data",
          "data": {
            "text/plain": [
              "<Figure size 720x720 with 0 Axes>"
            ]
          },
          "metadata": {
            "tags": []
          }
        },
        {
          "output_type": "display_data",
          "data": {
            "text/plain": [
              "<Figure size 720x720 with 0 Axes>"
            ]
          },
          "metadata": {
            "tags": []
          }
        },
        {
          "output_type": "display_data",
          "data": {
            "text/plain": [
              "<Figure size 720x720 with 0 Axes>"
            ]
          },
          "metadata": {
            "tags": []
          }
        },
        {
          "output_type": "display_data",
          "data": {
            "text/plain": [
              "<Figure size 720x720 with 0 Axes>"
            ]
          },
          "metadata": {
            "tags": []
          }
        },
        {
          "output_type": "display_data",
          "data": {
            "text/plain": [
              "<Figure size 720x720 with 0 Axes>"
            ]
          },
          "metadata": {
            "tags": []
          }
        },
        {
          "output_type": "display_data",
          "data": {
            "text/plain": [
              "<Figure size 720x720 with 0 Axes>"
            ]
          },
          "metadata": {
            "tags": []
          }
        },
        {
          "output_type": "display_data",
          "data": {
            "text/plain": [
              "<Figure size 720x720 with 0 Axes>"
            ]
          },
          "metadata": {
            "tags": []
          }
        },
        {
          "output_type": "display_data",
          "data": {
            "text/plain": [
              "<Figure size 720x720 with 0 Axes>"
            ]
          },
          "metadata": {
            "tags": []
          }
        },
        {
          "output_type": "display_data",
          "data": {
            "text/plain": [
              "<Figure size 720x720 with 0 Axes>"
            ]
          },
          "metadata": {
            "tags": []
          }
        },
        {
          "output_type": "display_data",
          "data": {
            "text/plain": [
              "<Figure size 720x720 with 0 Axes>"
            ]
          },
          "metadata": {
            "tags": []
          }
        },
        {
          "output_type": "display_data",
          "data": {
            "text/plain": [
              "<Figure size 720x720 with 0 Axes>"
            ]
          },
          "metadata": {
            "tags": []
          }
        },
        {
          "output_type": "display_data",
          "data": {
            "text/plain": [
              "<Figure size 720x720 with 0 Axes>"
            ]
          },
          "metadata": {
            "tags": []
          }
        },
        {
          "output_type": "display_data",
          "data": {
            "text/plain": [
              "<Figure size 720x720 with 0 Axes>"
            ]
          },
          "metadata": {
            "tags": []
          }
        },
        {
          "output_type": "display_data",
          "data": {
            "text/plain": [
              "<Figure size 720x720 with 0 Axes>"
            ]
          },
          "metadata": {
            "tags": []
          }
        },
        {
          "output_type": "display_data",
          "data": {
            "text/plain": [
              "<Figure size 720x720 with 0 Axes>"
            ]
          },
          "metadata": {
            "tags": []
          }
        },
        {
          "output_type": "display_data",
          "data": {
            "text/plain": [
              "<Figure size 720x720 with 0 Axes>"
            ]
          },
          "metadata": {
            "tags": []
          }
        },
        {
          "output_type": "display_data",
          "data": {
            "text/plain": [
              "<Figure size 720x720 with 0 Axes>"
            ]
          },
          "metadata": {
            "tags": []
          }
        },
        {
          "output_type": "display_data",
          "data": {
            "text/plain": [
              "<Figure size 720x720 with 0 Axes>"
            ]
          },
          "metadata": {
            "tags": []
          }
        },
        {
          "output_type": "display_data",
          "data": {
            "text/plain": [
              "<Figure size 720x720 with 0 Axes>"
            ]
          },
          "metadata": {
            "tags": []
          }
        },
        {
          "output_type": "display_data",
          "data": {
            "text/plain": [
              "<Figure size 720x720 with 0 Axes>"
            ]
          },
          "metadata": {
            "tags": []
          }
        },
        {
          "output_type": "display_data",
          "data": {
            "text/plain": [
              "<Figure size 720x720 with 0 Axes>"
            ]
          },
          "metadata": {
            "tags": []
          }
        },
        {
          "output_type": "display_data",
          "data": {
            "text/plain": [
              "<Figure size 720x720 with 0 Axes>"
            ]
          },
          "metadata": {
            "tags": []
          }
        },
        {
          "output_type": "display_data",
          "data": {
            "text/plain": [
              "<Figure size 720x720 with 0 Axes>"
            ]
          },
          "metadata": {
            "tags": []
          }
        },
        {
          "output_type": "display_data",
          "data": {
            "text/plain": [
              "<Figure size 720x720 with 0 Axes>"
            ]
          },
          "metadata": {
            "tags": []
          }
        },
        {
          "output_type": "display_data",
          "data": {
            "text/plain": [
              "<Figure size 720x720 with 0 Axes>"
            ]
          },
          "metadata": {
            "tags": []
          }
        },
        {
          "output_type": "display_data",
          "data": {
            "text/plain": [
              "<Figure size 720x720 with 0 Axes>"
            ]
          },
          "metadata": {
            "tags": []
          }
        },
        {
          "output_type": "display_data",
          "data": {
            "text/plain": [
              "<Figure size 720x720 with 0 Axes>"
            ]
          },
          "metadata": {
            "tags": []
          }
        },
        {
          "output_type": "display_data",
          "data": {
            "text/plain": [
              "<Figure size 720x720 with 0 Axes>"
            ]
          },
          "metadata": {
            "tags": []
          }
        },
        {
          "output_type": "display_data",
          "data": {
            "text/plain": [
              "<Figure size 720x720 with 0 Axes>"
            ]
          },
          "metadata": {
            "tags": []
          }
        },
        {
          "output_type": "display_data",
          "data": {
            "text/plain": [
              "<Figure size 720x720 with 0 Axes>"
            ]
          },
          "metadata": {
            "tags": []
          }
        },
        {
          "output_type": "display_data",
          "data": {
            "text/plain": [
              "<Figure size 720x720 with 0 Axes>"
            ]
          },
          "metadata": {
            "tags": []
          }
        },
        {
          "output_type": "display_data",
          "data": {
            "text/plain": [
              "<Figure size 720x720 with 0 Axes>"
            ]
          },
          "metadata": {
            "tags": []
          }
        },
        {
          "output_type": "display_data",
          "data": {
            "text/plain": [
              "<Figure size 720x720 with 0 Axes>"
            ]
          },
          "metadata": {
            "tags": []
          }
        },
        {
          "output_type": "display_data",
          "data": {
            "text/plain": [
              "<Figure size 720x720 with 0 Axes>"
            ]
          },
          "metadata": {
            "tags": []
          }
        },
        {
          "output_type": "display_data",
          "data": {
            "text/plain": [
              "<Figure size 720x720 with 0 Axes>"
            ]
          },
          "metadata": {
            "tags": []
          }
        },
        {
          "output_type": "display_data",
          "data": {
            "text/plain": [
              "<Figure size 720x720 with 0 Axes>"
            ]
          },
          "metadata": {
            "tags": []
          }
        },
        {
          "output_type": "display_data",
          "data": {
            "text/plain": [
              "<Figure size 720x720 with 0 Axes>"
            ]
          },
          "metadata": {
            "tags": []
          }
        },
        {
          "output_type": "display_data",
          "data": {
            "text/plain": [
              "<Figure size 720x720 with 0 Axes>"
            ]
          },
          "metadata": {
            "tags": []
          }
        },
        {
          "output_type": "display_data",
          "data": {
            "text/plain": [
              "<Figure size 720x720 with 0 Axes>"
            ]
          },
          "metadata": {
            "tags": []
          }
        },
        {
          "output_type": "display_data",
          "data": {
            "text/plain": [
              "<Figure size 720x720 with 0 Axes>"
            ]
          },
          "metadata": {
            "tags": []
          }
        },
        {
          "output_type": "display_data",
          "data": {
            "text/plain": [
              "<Figure size 720x720 with 0 Axes>"
            ]
          },
          "metadata": {
            "tags": []
          }
        },
        {
          "output_type": "display_data",
          "data": {
            "text/plain": [
              "<Figure size 720x720 with 0 Axes>"
            ]
          },
          "metadata": {
            "tags": []
          }
        },
        {
          "output_type": "display_data",
          "data": {
            "text/plain": [
              "<Figure size 720x720 with 0 Axes>"
            ]
          },
          "metadata": {
            "tags": []
          }
        },
        {
          "output_type": "display_data",
          "data": {
            "text/plain": [
              "<Figure size 720x720 with 0 Axes>"
            ]
          },
          "metadata": {
            "tags": []
          }
        },
        {
          "output_type": "display_data",
          "data": {
            "text/plain": [
              "<Figure size 720x720 with 0 Axes>"
            ]
          },
          "metadata": {
            "tags": []
          }
        },
        {
          "output_type": "display_data",
          "data": {
            "text/plain": [
              "<Figure size 720x720 with 0 Axes>"
            ]
          },
          "metadata": {
            "tags": []
          }
        },
        {
          "output_type": "display_data",
          "data": {
            "text/plain": [
              "<Figure size 720x720 with 0 Axes>"
            ]
          },
          "metadata": {
            "tags": []
          }
        },
        {
          "output_type": "display_data",
          "data": {
            "text/plain": [
              "<Figure size 720x720 with 0 Axes>"
            ]
          },
          "metadata": {
            "tags": []
          }
        },
        {
          "output_type": "display_data",
          "data": {
            "text/plain": [
              "<Figure size 720x720 with 0 Axes>"
            ]
          },
          "metadata": {
            "tags": []
          }
        },
        {
          "output_type": "display_data",
          "data": {
            "text/plain": [
              "<Figure size 720x720 with 0 Axes>"
            ]
          },
          "metadata": {
            "tags": []
          }
        },
        {
          "output_type": "display_data",
          "data": {
            "text/plain": [
              "<Figure size 720x720 with 0 Axes>"
            ]
          },
          "metadata": {
            "tags": []
          }
        },
        {
          "output_type": "display_data",
          "data": {
            "text/plain": [
              "<Figure size 720x720 with 0 Axes>"
            ]
          },
          "metadata": {
            "tags": []
          }
        },
        {
          "output_type": "display_data",
          "data": {
            "text/plain": [
              "<Figure size 720x720 with 0 Axes>"
            ]
          },
          "metadata": {
            "tags": []
          }
        },
        {
          "output_type": "display_data",
          "data": {
            "text/plain": [
              "<Figure size 720x720 with 0 Axes>"
            ]
          },
          "metadata": {
            "tags": []
          }
        },
        {
          "output_type": "display_data",
          "data": {
            "text/plain": [
              "<Figure size 720x720 with 0 Axes>"
            ]
          },
          "metadata": {
            "tags": []
          }
        },
        {
          "output_type": "display_data",
          "data": {
            "text/plain": [
              "<Figure size 720x720 with 0 Axes>"
            ]
          },
          "metadata": {
            "tags": []
          }
        },
        {
          "output_type": "display_data",
          "data": {
            "text/plain": [
              "<Figure size 720x720 with 0 Axes>"
            ]
          },
          "metadata": {
            "tags": []
          }
        },
        {
          "output_type": "display_data",
          "data": {
            "text/plain": [
              "<Figure size 720x720 with 0 Axes>"
            ]
          },
          "metadata": {
            "tags": []
          }
        },
        {
          "output_type": "display_data",
          "data": {
            "text/plain": [
              "<Figure size 720x720 with 0 Axes>"
            ]
          },
          "metadata": {
            "tags": []
          }
        },
        {
          "output_type": "display_data",
          "data": {
            "text/plain": [
              "<Figure size 720x720 with 0 Axes>"
            ]
          },
          "metadata": {
            "tags": []
          }
        },
        {
          "output_type": "display_data",
          "data": {
            "text/plain": [
              "<Figure size 720x720 with 0 Axes>"
            ]
          },
          "metadata": {
            "tags": []
          }
        },
        {
          "output_type": "display_data",
          "data": {
            "text/plain": [
              "<Figure size 720x720 with 0 Axes>"
            ]
          },
          "metadata": {
            "tags": []
          }
        },
        {
          "output_type": "display_data",
          "data": {
            "text/plain": [
              "<Figure size 720x720 with 0 Axes>"
            ]
          },
          "metadata": {
            "tags": []
          }
        },
        {
          "output_type": "display_data",
          "data": {
            "text/plain": [
              "<Figure size 720x720 with 0 Axes>"
            ]
          },
          "metadata": {
            "tags": []
          }
        },
        {
          "output_type": "display_data",
          "data": {
            "text/plain": [
              "<Figure size 720x720 with 0 Axes>"
            ]
          },
          "metadata": {
            "tags": []
          }
        },
        {
          "output_type": "display_data",
          "data": {
            "text/plain": [
              "<Figure size 720x720 with 0 Axes>"
            ]
          },
          "metadata": {
            "tags": []
          }
        },
        {
          "output_type": "display_data",
          "data": {
            "text/plain": [
              "<Figure size 720x720 with 0 Axes>"
            ]
          },
          "metadata": {
            "tags": []
          }
        },
        {
          "output_type": "display_data",
          "data": {
            "text/plain": [
              "<Figure size 720x720 with 0 Axes>"
            ]
          },
          "metadata": {
            "tags": []
          }
        },
        {
          "output_type": "display_data",
          "data": {
            "text/plain": [
              "<Figure size 720x720 with 0 Axes>"
            ]
          },
          "metadata": {
            "tags": []
          }
        },
        {
          "output_type": "display_data",
          "data": {
            "text/plain": [
              "<Figure size 720x720 with 0 Axes>"
            ]
          },
          "metadata": {
            "tags": []
          }
        },
        {
          "output_type": "display_data",
          "data": {
            "text/plain": [
              "<Figure size 720x720 with 0 Axes>"
            ]
          },
          "metadata": {
            "tags": []
          }
        },
        {
          "output_type": "display_data",
          "data": {
            "text/plain": [
              "<Figure size 720x720 with 0 Axes>"
            ]
          },
          "metadata": {
            "tags": []
          }
        },
        {
          "output_type": "display_data",
          "data": {
            "text/plain": [
              "<Figure size 720x720 with 0 Axes>"
            ]
          },
          "metadata": {
            "tags": []
          }
        },
        {
          "output_type": "display_data",
          "data": {
            "text/plain": [
              "<Figure size 720x720 with 0 Axes>"
            ]
          },
          "metadata": {
            "tags": []
          }
        },
        {
          "output_type": "display_data",
          "data": {
            "text/plain": [
              "<Figure size 720x720 with 0 Axes>"
            ]
          },
          "metadata": {
            "tags": []
          }
        },
        {
          "output_type": "display_data",
          "data": {
            "text/plain": [
              "<Figure size 720x720 with 0 Axes>"
            ]
          },
          "metadata": {
            "tags": []
          }
        },
        {
          "output_type": "display_data",
          "data": {
            "text/plain": [
              "<Figure size 720x720 with 0 Axes>"
            ]
          },
          "metadata": {
            "tags": []
          }
        },
        {
          "output_type": "display_data",
          "data": {
            "text/plain": [
              "<Figure size 720x720 with 0 Axes>"
            ]
          },
          "metadata": {
            "tags": []
          }
        },
        {
          "output_type": "display_data",
          "data": {
            "text/plain": [
              "<Figure size 720x720 with 0 Axes>"
            ]
          },
          "metadata": {
            "tags": []
          }
        },
        {
          "output_type": "display_data",
          "data": {
            "text/plain": [
              "<Figure size 720x720 with 0 Axes>"
            ]
          },
          "metadata": {
            "tags": []
          }
        },
        {
          "output_type": "display_data",
          "data": {
            "text/plain": [
              "<Figure size 720x720 with 0 Axes>"
            ]
          },
          "metadata": {
            "tags": []
          }
        },
        {
          "output_type": "display_data",
          "data": {
            "text/plain": [
              "<Figure size 720x720 with 0 Axes>"
            ]
          },
          "metadata": {
            "tags": []
          }
        },
        {
          "output_type": "display_data",
          "data": {
            "text/plain": [
              "<Figure size 720x720 with 0 Axes>"
            ]
          },
          "metadata": {
            "tags": []
          }
        },
        {
          "output_type": "display_data",
          "data": {
            "text/plain": [
              "<Figure size 720x720 with 0 Axes>"
            ]
          },
          "metadata": {
            "tags": []
          }
        },
        {
          "output_type": "display_data",
          "data": {
            "text/plain": [
              "<Figure size 720x720 with 0 Axes>"
            ]
          },
          "metadata": {
            "tags": []
          }
        },
        {
          "output_type": "display_data",
          "data": {
            "text/plain": [
              "<Figure size 720x720 with 0 Axes>"
            ]
          },
          "metadata": {
            "tags": []
          }
        },
        {
          "output_type": "display_data",
          "data": {
            "text/plain": [
              "<Figure size 720x720 with 0 Axes>"
            ]
          },
          "metadata": {
            "tags": []
          }
        },
        {
          "output_type": "display_data",
          "data": {
            "text/plain": [
              "<Figure size 720x720 with 0 Axes>"
            ]
          },
          "metadata": {
            "tags": []
          }
        },
        {
          "output_type": "display_data",
          "data": {
            "text/plain": [
              "<Figure size 720x720 with 0 Axes>"
            ]
          },
          "metadata": {
            "tags": []
          }
        },
        {
          "output_type": "display_data",
          "data": {
            "text/plain": [
              "<Figure size 720x720 with 0 Axes>"
            ]
          },
          "metadata": {
            "tags": []
          }
        },
        {
          "output_type": "display_data",
          "data": {
            "text/plain": [
              "<Figure size 720x720 with 0 Axes>"
            ]
          },
          "metadata": {
            "tags": []
          }
        },
        {
          "output_type": "display_data",
          "data": {
            "text/plain": [
              "<Figure size 720x720 with 0 Axes>"
            ]
          },
          "metadata": {
            "tags": []
          }
        },
        {
          "output_type": "display_data",
          "data": {
            "text/plain": [
              "<Figure size 720x720 with 0 Axes>"
            ]
          },
          "metadata": {
            "tags": []
          }
        },
        {
          "output_type": "display_data",
          "data": {
            "text/plain": [
              "<Figure size 720x720 with 0 Axes>"
            ]
          },
          "metadata": {
            "tags": []
          }
        },
        {
          "output_type": "display_data",
          "data": {
            "text/plain": [
              "<Figure size 720x720 with 0 Axes>"
            ]
          },
          "metadata": {
            "tags": []
          }
        },
        {
          "output_type": "display_data",
          "data": {
            "text/plain": [
              "<Figure size 720x720 with 0 Axes>"
            ]
          },
          "metadata": {
            "tags": []
          }
        },
        {
          "output_type": "display_data",
          "data": {
            "text/plain": [
              "<Figure size 720x720 with 0 Axes>"
            ]
          },
          "metadata": {
            "tags": []
          }
        },
        {
          "output_type": "display_data",
          "data": {
            "text/plain": [
              "<Figure size 720x720 with 0 Axes>"
            ]
          },
          "metadata": {
            "tags": []
          }
        },
        {
          "output_type": "display_data",
          "data": {
            "text/plain": [
              "<Figure size 720x720 with 0 Axes>"
            ]
          },
          "metadata": {
            "tags": []
          }
        },
        {
          "output_type": "display_data",
          "data": {
            "text/plain": [
              "<Figure size 720x720 with 0 Axes>"
            ]
          },
          "metadata": {
            "tags": []
          }
        },
        {
          "output_type": "display_data",
          "data": {
            "text/plain": [
              "<Figure size 720x720 with 0 Axes>"
            ]
          },
          "metadata": {
            "tags": []
          }
        },
        {
          "output_type": "display_data",
          "data": {
            "text/plain": [
              "<Figure size 720x720 with 0 Axes>"
            ]
          },
          "metadata": {
            "tags": []
          }
        },
        {
          "output_type": "display_data",
          "data": {
            "text/plain": [
              "<Figure size 720x720 with 0 Axes>"
            ]
          },
          "metadata": {
            "tags": []
          }
        },
        {
          "output_type": "display_data",
          "data": {
            "text/plain": [
              "<Figure size 720x720 with 0 Axes>"
            ]
          },
          "metadata": {
            "tags": []
          }
        },
        {
          "output_type": "display_data",
          "data": {
            "text/plain": [
              "<Figure size 720x720 with 0 Axes>"
            ]
          },
          "metadata": {
            "tags": []
          }
        },
        {
          "output_type": "display_data",
          "data": {
            "text/plain": [
              "<Figure size 720x720 with 0 Axes>"
            ]
          },
          "metadata": {
            "tags": []
          }
        },
        {
          "output_type": "display_data",
          "data": {
            "text/plain": [
              "<Figure size 720x720 with 0 Axes>"
            ]
          },
          "metadata": {
            "tags": []
          }
        },
        {
          "output_type": "display_data",
          "data": {
            "text/plain": [
              "<Figure size 720x720 with 0 Axes>"
            ]
          },
          "metadata": {
            "tags": []
          }
        },
        {
          "output_type": "display_data",
          "data": {
            "text/plain": [
              "<Figure size 720x720 with 0 Axes>"
            ]
          },
          "metadata": {
            "tags": []
          }
        },
        {
          "output_type": "display_data",
          "data": {
            "text/plain": [
              "<Figure size 720x720 with 0 Axes>"
            ]
          },
          "metadata": {
            "tags": []
          }
        },
        {
          "output_type": "display_data",
          "data": {
            "text/plain": [
              "<Figure size 720x720 with 0 Axes>"
            ]
          },
          "metadata": {
            "tags": []
          }
        },
        {
          "output_type": "display_data",
          "data": {
            "text/plain": [
              "<Figure size 720x720 with 0 Axes>"
            ]
          },
          "metadata": {
            "tags": []
          }
        },
        {
          "output_type": "display_data",
          "data": {
            "text/plain": [
              "<Figure size 720x720 with 0 Axes>"
            ]
          },
          "metadata": {
            "tags": []
          }
        },
        {
          "output_type": "display_data",
          "data": {
            "text/plain": [
              "<Figure size 720x720 with 0 Axes>"
            ]
          },
          "metadata": {
            "tags": []
          }
        },
        {
          "output_type": "display_data",
          "data": {
            "text/plain": [
              "<Figure size 720x720 with 0 Axes>"
            ]
          },
          "metadata": {
            "tags": []
          }
        },
        {
          "output_type": "display_data",
          "data": {
            "text/plain": [
              "<Figure size 720x720 with 0 Axes>"
            ]
          },
          "metadata": {
            "tags": []
          }
        },
        {
          "output_type": "display_data",
          "data": {
            "text/plain": [
              "<Figure size 720x720 with 0 Axes>"
            ]
          },
          "metadata": {
            "tags": []
          }
        },
        {
          "output_type": "display_data",
          "data": {
            "text/plain": [
              "<Figure size 720x720 with 0 Axes>"
            ]
          },
          "metadata": {
            "tags": []
          }
        },
        {
          "output_type": "display_data",
          "data": {
            "text/plain": [
              "<Figure size 720x720 with 0 Axes>"
            ]
          },
          "metadata": {
            "tags": []
          }
        },
        {
          "output_type": "display_data",
          "data": {
            "text/plain": [
              "<Figure size 720x720 with 0 Axes>"
            ]
          },
          "metadata": {
            "tags": []
          }
        },
        {
          "output_type": "display_data",
          "data": {
            "text/plain": [
              "<Figure size 720x720 with 0 Axes>"
            ]
          },
          "metadata": {
            "tags": []
          }
        },
        {
          "output_type": "display_data",
          "data": {
            "text/plain": [
              "<Figure size 720x720 with 0 Axes>"
            ]
          },
          "metadata": {
            "tags": []
          }
        },
        {
          "output_type": "display_data",
          "data": {
            "text/plain": [
              "<Figure size 720x720 with 0 Axes>"
            ]
          },
          "metadata": {
            "tags": []
          }
        },
        {
          "output_type": "display_data",
          "data": {
            "text/plain": [
              "<Figure size 720x720 with 0 Axes>"
            ]
          },
          "metadata": {
            "tags": []
          }
        },
        {
          "output_type": "display_data",
          "data": {
            "text/plain": [
              "<Figure size 720x720 with 0 Axes>"
            ]
          },
          "metadata": {
            "tags": []
          }
        },
        {
          "output_type": "display_data",
          "data": {
            "text/plain": [
              "<Figure size 720x720 with 0 Axes>"
            ]
          },
          "metadata": {
            "tags": []
          }
        },
        {
          "output_type": "display_data",
          "data": {
            "text/plain": [
              "<Figure size 720x720 with 0 Axes>"
            ]
          },
          "metadata": {
            "tags": []
          }
        },
        {
          "output_type": "display_data",
          "data": {
            "text/plain": [
              "<Figure size 720x720 with 0 Axes>"
            ]
          },
          "metadata": {
            "tags": []
          }
        },
        {
          "output_type": "display_data",
          "data": {
            "text/plain": [
              "<Figure size 720x720 with 0 Axes>"
            ]
          },
          "metadata": {
            "tags": []
          }
        },
        {
          "output_type": "display_data",
          "data": {
            "text/plain": [
              "<Figure size 720x720 with 0 Axes>"
            ]
          },
          "metadata": {
            "tags": []
          }
        },
        {
          "output_type": "display_data",
          "data": {
            "text/plain": [
              "<Figure size 720x720 with 0 Axes>"
            ]
          },
          "metadata": {
            "tags": []
          }
        },
        {
          "output_type": "display_data",
          "data": {
            "text/plain": [
              "<Figure size 720x720 with 0 Axes>"
            ]
          },
          "metadata": {
            "tags": []
          }
        },
        {
          "output_type": "display_data",
          "data": {
            "text/plain": [
              "<Figure size 720x720 with 0 Axes>"
            ]
          },
          "metadata": {
            "tags": []
          }
        },
        {
          "output_type": "display_data",
          "data": {
            "text/plain": [
              "<Figure size 720x720 with 0 Axes>"
            ]
          },
          "metadata": {
            "tags": []
          }
        },
        {
          "output_type": "display_data",
          "data": {
            "text/plain": [
              "<Figure size 720x720 with 0 Axes>"
            ]
          },
          "metadata": {
            "tags": []
          }
        },
        {
          "output_type": "display_data",
          "data": {
            "text/plain": [
              "<Figure size 720x720 with 0 Axes>"
            ]
          },
          "metadata": {
            "tags": []
          }
        },
        {
          "output_type": "display_data",
          "data": {
            "text/plain": [
              "<Figure size 720x720 with 0 Axes>"
            ]
          },
          "metadata": {
            "tags": []
          }
        },
        {
          "output_type": "display_data",
          "data": {
            "text/plain": [
              "<Figure size 720x720 with 0 Axes>"
            ]
          },
          "metadata": {
            "tags": []
          }
        },
        {
          "output_type": "display_data",
          "data": {
            "text/plain": [
              "<Figure size 720x720 with 0 Axes>"
            ]
          },
          "metadata": {
            "tags": []
          }
        },
        {
          "output_type": "display_data",
          "data": {
            "text/plain": [
              "<Figure size 720x720 with 0 Axes>"
            ]
          },
          "metadata": {
            "tags": []
          }
        },
        {
          "output_type": "display_data",
          "data": {
            "text/plain": [
              "<Figure size 720x720 with 0 Axes>"
            ]
          },
          "metadata": {
            "tags": []
          }
        },
        {
          "output_type": "display_data",
          "data": {
            "text/plain": [
              "<Figure size 720x720 with 0 Axes>"
            ]
          },
          "metadata": {
            "tags": []
          }
        },
        {
          "output_type": "display_data",
          "data": {
            "text/plain": [
              "<Figure size 720x720 with 0 Axes>"
            ]
          },
          "metadata": {
            "tags": []
          }
        },
        {
          "output_type": "display_data",
          "data": {
            "text/plain": [
              "<Figure size 720x720 with 0 Axes>"
            ]
          },
          "metadata": {
            "tags": []
          }
        },
        {
          "output_type": "display_data",
          "data": {
            "text/plain": [
              "<Figure size 720x720 with 0 Axes>"
            ]
          },
          "metadata": {
            "tags": []
          }
        },
        {
          "output_type": "display_data",
          "data": {
            "text/plain": [
              "<Figure size 720x720 with 0 Axes>"
            ]
          },
          "metadata": {
            "tags": []
          }
        },
        {
          "output_type": "display_data",
          "data": {
            "text/plain": [
              "<Figure size 720x720 with 0 Axes>"
            ]
          },
          "metadata": {
            "tags": []
          }
        },
        {
          "output_type": "display_data",
          "data": {
            "text/plain": [
              "<Figure size 720x720 with 0 Axes>"
            ]
          },
          "metadata": {
            "tags": []
          }
        },
        {
          "output_type": "display_data",
          "data": {
            "text/plain": [
              "<Figure size 720x720 with 0 Axes>"
            ]
          },
          "metadata": {
            "tags": []
          }
        },
        {
          "output_type": "display_data",
          "data": {
            "text/plain": [
              "<Figure size 720x720 with 0 Axes>"
            ]
          },
          "metadata": {
            "tags": []
          }
        },
        {
          "output_type": "display_data",
          "data": {
            "text/plain": [
              "<Figure size 720x720 with 0 Axes>"
            ]
          },
          "metadata": {
            "tags": []
          }
        },
        {
          "output_type": "display_data",
          "data": {
            "text/plain": [
              "<Figure size 720x720 with 0 Axes>"
            ]
          },
          "metadata": {
            "tags": []
          }
        },
        {
          "output_type": "display_data",
          "data": {
            "text/plain": [
              "<Figure size 720x720 with 0 Axes>"
            ]
          },
          "metadata": {
            "tags": []
          }
        },
        {
          "output_type": "display_data",
          "data": {
            "text/plain": [
              "<Figure size 720x720 with 0 Axes>"
            ]
          },
          "metadata": {
            "tags": []
          }
        },
        {
          "output_type": "display_data",
          "data": {
            "text/plain": [
              "<Figure size 720x720 with 0 Axes>"
            ]
          },
          "metadata": {
            "tags": []
          }
        },
        {
          "output_type": "display_data",
          "data": {
            "text/plain": [
              "<Figure size 720x720 with 0 Axes>"
            ]
          },
          "metadata": {
            "tags": []
          }
        },
        {
          "output_type": "display_data",
          "data": {
            "text/plain": [
              "<Figure size 720x720 with 0 Axes>"
            ]
          },
          "metadata": {
            "tags": []
          }
        },
        {
          "output_type": "display_data",
          "data": {
            "text/plain": [
              "<Figure size 720x720 with 0 Axes>"
            ]
          },
          "metadata": {
            "tags": []
          }
        },
        {
          "output_type": "display_data",
          "data": {
            "text/plain": [
              "<Figure size 720x720 with 0 Axes>"
            ]
          },
          "metadata": {
            "tags": []
          }
        },
        {
          "output_type": "display_data",
          "data": {
            "text/plain": [
              "<Figure size 720x720 with 0 Axes>"
            ]
          },
          "metadata": {
            "tags": []
          }
        },
        {
          "output_type": "display_data",
          "data": {
            "text/plain": [
              "<Figure size 720x720 with 0 Axes>"
            ]
          },
          "metadata": {
            "tags": []
          }
        },
        {
          "output_type": "display_data",
          "data": {
            "text/plain": [
              "<Figure size 720x720 with 0 Axes>"
            ]
          },
          "metadata": {
            "tags": []
          }
        },
        {
          "output_type": "display_data",
          "data": {
            "text/plain": [
              "<Figure size 720x720 with 0 Axes>"
            ]
          },
          "metadata": {
            "tags": []
          }
        },
        {
          "output_type": "display_data",
          "data": {
            "text/plain": [
              "<Figure size 720x720 with 0 Axes>"
            ]
          },
          "metadata": {
            "tags": []
          }
        },
        {
          "output_type": "display_data",
          "data": {
            "text/plain": [
              "<Figure size 720x720 with 0 Axes>"
            ]
          },
          "metadata": {
            "tags": []
          }
        },
        {
          "output_type": "display_data",
          "data": {
            "text/plain": [
              "<Figure size 720x720 with 0 Axes>"
            ]
          },
          "metadata": {
            "tags": []
          }
        },
        {
          "output_type": "display_data",
          "data": {
            "text/plain": [
              "<Figure size 720x720 with 0 Axes>"
            ]
          },
          "metadata": {
            "tags": []
          }
        },
        {
          "output_type": "display_data",
          "data": {
            "text/plain": [
              "<Figure size 720x720 with 0 Axes>"
            ]
          },
          "metadata": {
            "tags": []
          }
        },
        {
          "output_type": "display_data",
          "data": {
            "text/plain": [
              "<Figure size 720x720 with 0 Axes>"
            ]
          },
          "metadata": {
            "tags": []
          }
        },
        {
          "output_type": "display_data",
          "data": {
            "text/plain": [
              "<Figure size 720x720 with 0 Axes>"
            ]
          },
          "metadata": {
            "tags": []
          }
        },
        {
          "output_type": "display_data",
          "data": {
            "text/plain": [
              "<Figure size 720x720 with 0 Axes>"
            ]
          },
          "metadata": {
            "tags": []
          }
        },
        {
          "output_type": "display_data",
          "data": {
            "text/plain": [
              "<Figure size 720x720 with 0 Axes>"
            ]
          },
          "metadata": {
            "tags": []
          }
        },
        {
          "output_type": "display_data",
          "data": {
            "text/plain": [
              "<Figure size 720x720 with 0 Axes>"
            ]
          },
          "metadata": {
            "tags": []
          }
        },
        {
          "output_type": "display_data",
          "data": {
            "text/plain": [
              "<Figure size 720x720 with 0 Axes>"
            ]
          },
          "metadata": {
            "tags": []
          }
        },
        {
          "output_type": "display_data",
          "data": {
            "text/plain": [
              "<Figure size 720x720 with 0 Axes>"
            ]
          },
          "metadata": {
            "tags": []
          }
        },
        {
          "output_type": "display_data",
          "data": {
            "text/plain": [
              "<Figure size 720x720 with 0 Axes>"
            ]
          },
          "metadata": {
            "tags": []
          }
        },
        {
          "output_type": "display_data",
          "data": {
            "text/plain": [
              "<Figure size 720x720 with 0 Axes>"
            ]
          },
          "metadata": {
            "tags": []
          }
        },
        {
          "output_type": "display_data",
          "data": {
            "text/plain": [
              "<Figure size 720x720 with 0 Axes>"
            ]
          },
          "metadata": {
            "tags": []
          }
        },
        {
          "output_type": "display_data",
          "data": {
            "text/plain": [
              "<Figure size 720x720 with 0 Axes>"
            ]
          },
          "metadata": {
            "tags": []
          }
        },
        {
          "output_type": "display_data",
          "data": {
            "text/plain": [
              "<Figure size 720x720 with 0 Axes>"
            ]
          },
          "metadata": {
            "tags": []
          }
        },
        {
          "output_type": "display_data",
          "data": {
            "text/plain": [
              "<Figure size 720x720 with 0 Axes>"
            ]
          },
          "metadata": {
            "tags": []
          }
        },
        {
          "output_type": "display_data",
          "data": {
            "text/plain": [
              "<Figure size 720x720 with 0 Axes>"
            ]
          },
          "metadata": {
            "tags": []
          }
        },
        {
          "output_type": "display_data",
          "data": {
            "text/plain": [
              "<Figure size 720x720 with 0 Axes>"
            ]
          },
          "metadata": {
            "tags": []
          }
        },
        {
          "output_type": "display_data",
          "data": {
            "text/plain": [
              "<Figure size 720x720 with 0 Axes>"
            ]
          },
          "metadata": {
            "tags": []
          }
        },
        {
          "output_type": "display_data",
          "data": {
            "text/plain": [
              "<Figure size 720x720 with 0 Axes>"
            ]
          },
          "metadata": {
            "tags": []
          }
        },
        {
          "output_type": "display_data",
          "data": {
            "text/plain": [
              "<Figure size 720x720 with 0 Axes>"
            ]
          },
          "metadata": {
            "tags": []
          }
        },
        {
          "output_type": "display_data",
          "data": {
            "text/plain": [
              "<Figure size 720x720 with 0 Axes>"
            ]
          },
          "metadata": {
            "tags": []
          }
        },
        {
          "output_type": "display_data",
          "data": {
            "text/plain": [
              "<Figure size 720x720 with 0 Axes>"
            ]
          },
          "metadata": {
            "tags": []
          }
        },
        {
          "output_type": "display_data",
          "data": {
            "text/plain": [
              "<Figure size 720x720 with 0 Axes>"
            ]
          },
          "metadata": {
            "tags": []
          }
        },
        {
          "output_type": "display_data",
          "data": {
            "text/plain": [
              "<Figure size 720x720 with 0 Axes>"
            ]
          },
          "metadata": {
            "tags": []
          }
        },
        {
          "output_type": "display_data",
          "data": {
            "text/plain": [
              "<Figure size 720x720 with 0 Axes>"
            ]
          },
          "metadata": {
            "tags": []
          }
        },
        {
          "output_type": "display_data",
          "data": {
            "text/plain": [
              "<Figure size 720x720 with 0 Axes>"
            ]
          },
          "metadata": {
            "tags": []
          }
        },
        {
          "output_type": "display_data",
          "data": {
            "text/plain": [
              "<Figure size 720x720 with 0 Axes>"
            ]
          },
          "metadata": {
            "tags": []
          }
        },
        {
          "output_type": "display_data",
          "data": {
            "text/plain": [
              "<Figure size 720x720 with 0 Axes>"
            ]
          },
          "metadata": {
            "tags": []
          }
        },
        {
          "output_type": "display_data",
          "data": {
            "text/plain": [
              "<Figure size 720x720 with 0 Axes>"
            ]
          },
          "metadata": {
            "tags": []
          }
        },
        {
          "output_type": "display_data",
          "data": {
            "text/plain": [
              "<Figure size 720x720 with 0 Axes>"
            ]
          },
          "metadata": {
            "tags": []
          }
        },
        {
          "output_type": "display_data",
          "data": {
            "text/plain": [
              "<Figure size 720x720 with 0 Axes>"
            ]
          },
          "metadata": {
            "tags": []
          }
        },
        {
          "output_type": "display_data",
          "data": {
            "text/plain": [
              "<Figure size 720x720 with 0 Axes>"
            ]
          },
          "metadata": {
            "tags": []
          }
        },
        {
          "output_type": "display_data",
          "data": {
            "text/plain": [
              "<Figure size 720x720 with 0 Axes>"
            ]
          },
          "metadata": {
            "tags": []
          }
        },
        {
          "output_type": "display_data",
          "data": {
            "text/plain": [
              "<Figure size 720x720 with 0 Axes>"
            ]
          },
          "metadata": {
            "tags": []
          }
        },
        {
          "output_type": "display_data",
          "data": {
            "text/plain": [
              "<Figure size 720x720 with 0 Axes>"
            ]
          },
          "metadata": {
            "tags": []
          }
        },
        {
          "output_type": "display_data",
          "data": {
            "text/plain": [
              "<Figure size 720x720 with 0 Axes>"
            ]
          },
          "metadata": {
            "tags": []
          }
        },
        {
          "output_type": "display_data",
          "data": {
            "text/plain": [
              "<Figure size 720x720 with 0 Axes>"
            ]
          },
          "metadata": {
            "tags": []
          }
        },
        {
          "output_type": "display_data",
          "data": {
            "text/plain": [
              "<Figure size 720x720 with 0 Axes>"
            ]
          },
          "metadata": {
            "tags": []
          }
        },
        {
          "output_type": "display_data",
          "data": {
            "text/plain": [
              "<Figure size 720x720 with 0 Axes>"
            ]
          },
          "metadata": {
            "tags": []
          }
        },
        {
          "output_type": "display_data",
          "data": {
            "text/plain": [
              "<Figure size 720x720 with 0 Axes>"
            ]
          },
          "metadata": {
            "tags": []
          }
        },
        {
          "output_type": "display_data",
          "data": {
            "text/plain": [
              "<Figure size 720x720 with 0 Axes>"
            ]
          },
          "metadata": {
            "tags": []
          }
        },
        {
          "output_type": "display_data",
          "data": {
            "text/plain": [
              "<Figure size 720x720 with 0 Axes>"
            ]
          },
          "metadata": {
            "tags": []
          }
        },
        {
          "output_type": "display_data",
          "data": {
            "text/plain": [
              "<Figure size 720x720 with 0 Axes>"
            ]
          },
          "metadata": {
            "tags": []
          }
        },
        {
          "output_type": "display_data",
          "data": {
            "text/plain": [
              "<Figure size 720x720 with 0 Axes>"
            ]
          },
          "metadata": {
            "tags": []
          }
        },
        {
          "output_type": "display_data",
          "data": {
            "text/plain": [
              "<Figure size 720x720 with 0 Axes>"
            ]
          },
          "metadata": {
            "tags": []
          }
        },
        {
          "output_type": "display_data",
          "data": {
            "text/plain": [
              "<Figure size 720x720 with 0 Axes>"
            ]
          },
          "metadata": {
            "tags": []
          }
        },
        {
          "output_type": "display_data",
          "data": {
            "text/plain": [
              "<Figure size 720x720 with 0 Axes>"
            ]
          },
          "metadata": {
            "tags": []
          }
        },
        {
          "output_type": "display_data",
          "data": {
            "text/plain": [
              "<Figure size 720x720 with 0 Axes>"
            ]
          },
          "metadata": {
            "tags": []
          }
        },
        {
          "output_type": "display_data",
          "data": {
            "text/plain": [
              "<Figure size 720x720 with 0 Axes>"
            ]
          },
          "metadata": {
            "tags": []
          }
        },
        {
          "output_type": "display_data",
          "data": {
            "text/plain": [
              "<Figure size 720x720 with 0 Axes>"
            ]
          },
          "metadata": {
            "tags": []
          }
        },
        {
          "output_type": "display_data",
          "data": {
            "text/plain": [
              "<Figure size 720x720 with 0 Axes>"
            ]
          },
          "metadata": {
            "tags": []
          }
        },
        {
          "output_type": "display_data",
          "data": {
            "text/plain": [
              "<Figure size 720x720 with 0 Axes>"
            ]
          },
          "metadata": {
            "tags": []
          }
        },
        {
          "output_type": "display_data",
          "data": {
            "text/plain": [
              "<Figure size 720x720 with 0 Axes>"
            ]
          },
          "metadata": {
            "tags": []
          }
        },
        {
          "output_type": "display_data",
          "data": {
            "text/plain": [
              "<Figure size 720x720 with 0 Axes>"
            ]
          },
          "metadata": {
            "tags": []
          }
        },
        {
          "output_type": "display_data",
          "data": {
            "text/plain": [
              "<Figure size 720x720 with 0 Axes>"
            ]
          },
          "metadata": {
            "tags": []
          }
        },
        {
          "output_type": "display_data",
          "data": {
            "text/plain": [
              "<Figure size 720x720 with 0 Axes>"
            ]
          },
          "metadata": {
            "tags": []
          }
        },
        {
          "output_type": "display_data",
          "data": {
            "text/plain": [
              "<Figure size 720x720 with 0 Axes>"
            ]
          },
          "metadata": {
            "tags": []
          }
        },
        {
          "output_type": "display_data",
          "data": {
            "text/plain": [
              "<Figure size 720x720 with 0 Axes>"
            ]
          },
          "metadata": {
            "tags": []
          }
        },
        {
          "output_type": "display_data",
          "data": {
            "text/plain": [
              "<Figure size 720x720 with 0 Axes>"
            ]
          },
          "metadata": {
            "tags": []
          }
        },
        {
          "output_type": "display_data",
          "data": {
            "text/plain": [
              "<Figure size 720x720 with 0 Axes>"
            ]
          },
          "metadata": {
            "tags": []
          }
        },
        {
          "output_type": "display_data",
          "data": {
            "text/plain": [
              "<Figure size 720x720 with 0 Axes>"
            ]
          },
          "metadata": {
            "tags": []
          }
        },
        {
          "output_type": "display_data",
          "data": {
            "text/plain": [
              "<Figure size 720x720 with 0 Axes>"
            ]
          },
          "metadata": {
            "tags": []
          }
        },
        {
          "output_type": "display_data",
          "data": {
            "text/plain": [
              "<Figure size 720x720 with 0 Axes>"
            ]
          },
          "metadata": {
            "tags": []
          }
        },
        {
          "output_type": "display_data",
          "data": {
            "text/plain": [
              "<Figure size 720x720 with 0 Axes>"
            ]
          },
          "metadata": {
            "tags": []
          }
        },
        {
          "output_type": "display_data",
          "data": {
            "text/plain": [
              "<Figure size 720x720 with 0 Axes>"
            ]
          },
          "metadata": {
            "tags": []
          }
        },
        {
          "output_type": "display_data",
          "data": {
            "text/plain": [
              "<Figure size 720x720 with 0 Axes>"
            ]
          },
          "metadata": {
            "tags": []
          }
        },
        {
          "output_type": "display_data",
          "data": {
            "text/plain": [
              "<Figure size 720x720 with 0 Axes>"
            ]
          },
          "metadata": {
            "tags": []
          }
        },
        {
          "output_type": "display_data",
          "data": {
            "text/plain": [
              "<Figure size 720x720 with 0 Axes>"
            ]
          },
          "metadata": {
            "tags": []
          }
        },
        {
          "output_type": "display_data",
          "data": {
            "text/plain": [
              "<Figure size 720x720 with 0 Axes>"
            ]
          },
          "metadata": {
            "tags": []
          }
        },
        {
          "output_type": "display_data",
          "data": {
            "text/plain": [
              "<Figure size 720x720 with 0 Axes>"
            ]
          },
          "metadata": {
            "tags": []
          }
        },
        {
          "output_type": "display_data",
          "data": {
            "text/plain": [
              "<Figure size 720x720 with 0 Axes>"
            ]
          },
          "metadata": {
            "tags": []
          }
        },
        {
          "output_type": "display_data",
          "data": {
            "text/plain": [
              "<Figure size 720x720 with 0 Axes>"
            ]
          },
          "metadata": {
            "tags": []
          }
        },
        {
          "output_type": "display_data",
          "data": {
            "text/plain": [
              "<Figure size 720x720 with 0 Axes>"
            ]
          },
          "metadata": {
            "tags": []
          }
        },
        {
          "output_type": "display_data",
          "data": {
            "text/plain": [
              "<Figure size 720x720 with 0 Axes>"
            ]
          },
          "metadata": {
            "tags": []
          }
        },
        {
          "output_type": "display_data",
          "data": {
            "text/plain": [
              "<Figure size 720x720 with 0 Axes>"
            ]
          },
          "metadata": {
            "tags": []
          }
        },
        {
          "output_type": "display_data",
          "data": {
            "text/plain": [
              "<Figure size 720x720 with 0 Axes>"
            ]
          },
          "metadata": {
            "tags": []
          }
        },
        {
          "output_type": "display_data",
          "data": {
            "text/plain": [
              "<Figure size 720x720 with 0 Axes>"
            ]
          },
          "metadata": {
            "tags": []
          }
        },
        {
          "output_type": "display_data",
          "data": {
            "text/plain": [
              "<Figure size 720x720 with 0 Axes>"
            ]
          },
          "metadata": {
            "tags": []
          }
        },
        {
          "output_type": "display_data",
          "data": {
            "text/plain": [
              "<Figure size 720x720 with 0 Axes>"
            ]
          },
          "metadata": {
            "tags": []
          }
        },
        {
          "output_type": "display_data",
          "data": {
            "text/plain": [
              "<Figure size 720x720 with 0 Axes>"
            ]
          },
          "metadata": {
            "tags": []
          }
        },
        {
          "output_type": "display_data",
          "data": {
            "text/plain": [
              "<Figure size 720x720 with 0 Axes>"
            ]
          },
          "metadata": {
            "tags": []
          }
        },
        {
          "output_type": "display_data",
          "data": {
            "text/plain": [
              "<Figure size 720x720 with 0 Axes>"
            ]
          },
          "metadata": {
            "tags": []
          }
        },
        {
          "output_type": "display_data",
          "data": {
            "text/plain": [
              "<Figure size 720x720 with 0 Axes>"
            ]
          },
          "metadata": {
            "tags": []
          }
        },
        {
          "output_type": "display_data",
          "data": {
            "text/plain": [
              "<Figure size 720x720 with 0 Axes>"
            ]
          },
          "metadata": {
            "tags": []
          }
        },
        {
          "output_type": "display_data",
          "data": {
            "text/plain": [
              "<Figure size 720x720 with 0 Axes>"
            ]
          },
          "metadata": {
            "tags": []
          }
        },
        {
          "output_type": "display_data",
          "data": {
            "text/plain": [
              "<Figure size 720x720 with 0 Axes>"
            ]
          },
          "metadata": {
            "tags": []
          }
        },
        {
          "output_type": "display_data",
          "data": {
            "text/plain": [
              "<Figure size 720x720 with 0 Axes>"
            ]
          },
          "metadata": {
            "tags": []
          }
        },
        {
          "output_type": "display_data",
          "data": {
            "text/plain": [
              "<Figure size 720x720 with 0 Axes>"
            ]
          },
          "metadata": {
            "tags": []
          }
        },
        {
          "output_type": "display_data",
          "data": {
            "text/plain": [
              "<Figure size 720x720 with 0 Axes>"
            ]
          },
          "metadata": {
            "tags": []
          }
        },
        {
          "output_type": "display_data",
          "data": {
            "text/plain": [
              "<Figure size 720x720 with 0 Axes>"
            ]
          },
          "metadata": {
            "tags": []
          }
        },
        {
          "output_type": "display_data",
          "data": {
            "text/plain": [
              "<Figure size 720x720 with 0 Axes>"
            ]
          },
          "metadata": {
            "tags": []
          }
        },
        {
          "output_type": "display_data",
          "data": {
            "text/plain": [
              "<Figure size 720x720 with 0 Axes>"
            ]
          },
          "metadata": {
            "tags": []
          }
        },
        {
          "output_type": "display_data",
          "data": {
            "text/plain": [
              "<Figure size 720x720 with 0 Axes>"
            ]
          },
          "metadata": {
            "tags": []
          }
        },
        {
          "output_type": "display_data",
          "data": {
            "text/plain": [
              "<Figure size 720x720 with 0 Axes>"
            ]
          },
          "metadata": {
            "tags": []
          }
        },
        {
          "output_type": "display_data",
          "data": {
            "text/plain": [
              "<Figure size 720x720 with 0 Axes>"
            ]
          },
          "metadata": {
            "tags": []
          }
        },
        {
          "output_type": "display_data",
          "data": {
            "text/plain": [
              "<Figure size 720x720 with 0 Axes>"
            ]
          },
          "metadata": {
            "tags": []
          }
        },
        {
          "output_type": "display_data",
          "data": {
            "text/plain": [
              "<Figure size 720x720 with 0 Axes>"
            ]
          },
          "metadata": {
            "tags": []
          }
        },
        {
          "output_type": "display_data",
          "data": {
            "text/plain": [
              "<Figure size 720x720 with 0 Axes>"
            ]
          },
          "metadata": {
            "tags": []
          }
        },
        {
          "output_type": "display_data",
          "data": {
            "text/plain": [
              "<Figure size 720x720 with 0 Axes>"
            ]
          },
          "metadata": {
            "tags": []
          }
        },
        {
          "output_type": "display_data",
          "data": {
            "text/plain": [
              "<Figure size 720x720 with 0 Axes>"
            ]
          },
          "metadata": {
            "tags": []
          }
        },
        {
          "output_type": "display_data",
          "data": {
            "text/plain": [
              "<Figure size 720x720 with 0 Axes>"
            ]
          },
          "metadata": {
            "tags": []
          }
        },
        {
          "output_type": "display_data",
          "data": {
            "text/plain": [
              "<Figure size 720x720 with 0 Axes>"
            ]
          },
          "metadata": {
            "tags": []
          }
        },
        {
          "output_type": "display_data",
          "data": {
            "text/plain": [
              "<Figure size 720x720 with 0 Axes>"
            ]
          },
          "metadata": {
            "tags": []
          }
        },
        {
          "output_type": "display_data",
          "data": {
            "text/plain": [
              "<Figure size 720x720 with 0 Axes>"
            ]
          },
          "metadata": {
            "tags": []
          }
        },
        {
          "output_type": "display_data",
          "data": {
            "text/plain": [
              "<Figure size 720x720 with 0 Axes>"
            ]
          },
          "metadata": {
            "tags": []
          }
        },
        {
          "output_type": "display_data",
          "data": {
            "text/plain": [
              "<Figure size 720x720 with 0 Axes>"
            ]
          },
          "metadata": {
            "tags": []
          }
        },
        {
          "output_type": "display_data",
          "data": {
            "text/plain": [
              "<Figure size 720x720 with 0 Axes>"
            ]
          },
          "metadata": {
            "tags": []
          }
        },
        {
          "output_type": "display_data",
          "data": {
            "text/plain": [
              "<Figure size 720x720 with 0 Axes>"
            ]
          },
          "metadata": {
            "tags": []
          }
        },
        {
          "output_type": "display_data",
          "data": {
            "text/plain": [
              "<Figure size 720x720 with 0 Axes>"
            ]
          },
          "metadata": {
            "tags": []
          }
        },
        {
          "output_type": "display_data",
          "data": {
            "text/plain": [
              "<Figure size 720x720 with 0 Axes>"
            ]
          },
          "metadata": {
            "tags": []
          }
        },
        {
          "output_type": "display_data",
          "data": {
            "text/plain": [
              "<Figure size 720x720 with 0 Axes>"
            ]
          },
          "metadata": {
            "tags": []
          }
        },
        {
          "output_type": "display_data",
          "data": {
            "text/plain": [
              "<Figure size 720x720 with 0 Axes>"
            ]
          },
          "metadata": {
            "tags": []
          }
        },
        {
          "output_type": "display_data",
          "data": {
            "text/plain": [
              "<Figure size 720x720 with 0 Axes>"
            ]
          },
          "metadata": {
            "tags": []
          }
        },
        {
          "output_type": "display_data",
          "data": {
            "text/plain": [
              "<Figure size 720x720 with 0 Axes>"
            ]
          },
          "metadata": {
            "tags": []
          }
        },
        {
          "output_type": "display_data",
          "data": {
            "text/plain": [
              "<Figure size 720x720 with 0 Axes>"
            ]
          },
          "metadata": {
            "tags": []
          }
        },
        {
          "output_type": "display_data",
          "data": {
            "text/plain": [
              "<Figure size 720x720 with 0 Axes>"
            ]
          },
          "metadata": {
            "tags": []
          }
        },
        {
          "output_type": "display_data",
          "data": {
            "text/plain": [
              "<Figure size 720x720 with 0 Axes>"
            ]
          },
          "metadata": {
            "tags": []
          }
        },
        {
          "output_type": "display_data",
          "data": {
            "text/plain": [
              "<Figure size 720x720 with 0 Axes>"
            ]
          },
          "metadata": {
            "tags": []
          }
        },
        {
          "output_type": "display_data",
          "data": {
            "text/plain": [
              "<Figure size 720x720 with 0 Axes>"
            ]
          },
          "metadata": {
            "tags": []
          }
        },
        {
          "output_type": "display_data",
          "data": {
            "text/plain": [
              "<Figure size 720x720 with 0 Axes>"
            ]
          },
          "metadata": {
            "tags": []
          }
        },
        {
          "output_type": "display_data",
          "data": {
            "text/plain": [
              "<Figure size 720x720 with 0 Axes>"
            ]
          },
          "metadata": {
            "tags": []
          }
        },
        {
          "output_type": "display_data",
          "data": {
            "text/plain": [
              "<Figure size 720x720 with 0 Axes>"
            ]
          },
          "metadata": {
            "tags": []
          }
        },
        {
          "output_type": "display_data",
          "data": {
            "text/plain": [
              "<Figure size 720x720 with 0 Axes>"
            ]
          },
          "metadata": {
            "tags": []
          }
        },
        {
          "output_type": "display_data",
          "data": {
            "text/plain": [
              "<Figure size 720x720 with 0 Axes>"
            ]
          },
          "metadata": {
            "tags": []
          }
        },
        {
          "output_type": "display_data",
          "data": {
            "text/plain": [
              "<Figure size 720x720 with 0 Axes>"
            ]
          },
          "metadata": {
            "tags": []
          }
        },
        {
          "output_type": "display_data",
          "data": {
            "text/plain": [
              "<Figure size 720x720 with 0 Axes>"
            ]
          },
          "metadata": {
            "tags": []
          }
        },
        {
          "output_type": "display_data",
          "data": {
            "text/plain": [
              "<Figure size 720x720 with 0 Axes>"
            ]
          },
          "metadata": {
            "tags": []
          }
        },
        {
          "output_type": "display_data",
          "data": {
            "text/plain": [
              "<Figure size 720x720 with 0 Axes>"
            ]
          },
          "metadata": {
            "tags": []
          }
        },
        {
          "output_type": "display_data",
          "data": {
            "text/plain": [
              "<Figure size 720x720 with 0 Axes>"
            ]
          },
          "metadata": {
            "tags": []
          }
        },
        {
          "output_type": "display_data",
          "data": {
            "text/plain": [
              "<Figure size 720x720 with 0 Axes>"
            ]
          },
          "metadata": {
            "tags": []
          }
        },
        {
          "output_type": "display_data",
          "data": {
            "text/plain": [
              "<Figure size 720x720 with 0 Axes>"
            ]
          },
          "metadata": {
            "tags": []
          }
        },
        {
          "output_type": "display_data",
          "data": {
            "text/plain": [
              "<Figure size 720x720 with 0 Axes>"
            ]
          },
          "metadata": {
            "tags": []
          }
        },
        {
          "output_type": "display_data",
          "data": {
            "text/plain": [
              "<Figure size 720x720 with 0 Axes>"
            ]
          },
          "metadata": {
            "tags": []
          }
        },
        {
          "output_type": "display_data",
          "data": {
            "text/plain": [
              "<Figure size 720x720 with 0 Axes>"
            ]
          },
          "metadata": {
            "tags": []
          }
        },
        {
          "output_type": "display_data",
          "data": {
            "text/plain": [
              "<Figure size 720x720 with 0 Axes>"
            ]
          },
          "metadata": {
            "tags": []
          }
        },
        {
          "output_type": "display_data",
          "data": {
            "text/plain": [
              "<Figure size 720x720 with 0 Axes>"
            ]
          },
          "metadata": {
            "tags": []
          }
        },
        {
          "output_type": "display_data",
          "data": {
            "text/plain": [
              "<Figure size 720x720 with 0 Axes>"
            ]
          },
          "metadata": {
            "tags": []
          }
        },
        {
          "output_type": "display_data",
          "data": {
            "text/plain": [
              "<Figure size 720x720 with 0 Axes>"
            ]
          },
          "metadata": {
            "tags": []
          }
        },
        {
          "output_type": "display_data",
          "data": {
            "text/plain": [
              "<Figure size 720x720 with 0 Axes>"
            ]
          },
          "metadata": {
            "tags": []
          }
        },
        {
          "output_type": "display_data",
          "data": {
            "text/plain": [
              "<Figure size 720x720 with 0 Axes>"
            ]
          },
          "metadata": {
            "tags": []
          }
        },
        {
          "output_type": "display_data",
          "data": {
            "text/plain": [
              "<Figure size 720x720 with 0 Axes>"
            ]
          },
          "metadata": {
            "tags": []
          }
        },
        {
          "output_type": "display_data",
          "data": {
            "text/plain": [
              "<Figure size 720x720 with 0 Axes>"
            ]
          },
          "metadata": {
            "tags": []
          }
        },
        {
          "output_type": "display_data",
          "data": {
            "text/plain": [
              "<Figure size 720x720 with 0 Axes>"
            ]
          },
          "metadata": {
            "tags": []
          }
        },
        {
          "output_type": "display_data",
          "data": {
            "text/plain": [
              "<Figure size 720x720 with 0 Axes>"
            ]
          },
          "metadata": {
            "tags": []
          }
        },
        {
          "output_type": "display_data",
          "data": {
            "text/plain": [
              "<Figure size 720x720 with 0 Axes>"
            ]
          },
          "metadata": {
            "tags": []
          }
        },
        {
          "output_type": "display_data",
          "data": {
            "text/plain": [
              "<Figure size 720x720 with 0 Axes>"
            ]
          },
          "metadata": {
            "tags": []
          }
        },
        {
          "output_type": "display_data",
          "data": {
            "text/plain": [
              "<Figure size 720x720 with 0 Axes>"
            ]
          },
          "metadata": {
            "tags": []
          }
        },
        {
          "output_type": "display_data",
          "data": {
            "text/plain": [
              "<Figure size 720x720 with 0 Axes>"
            ]
          },
          "metadata": {
            "tags": []
          }
        },
        {
          "output_type": "display_data",
          "data": {
            "text/plain": [
              "<Figure size 720x720 with 0 Axes>"
            ]
          },
          "metadata": {
            "tags": []
          }
        },
        {
          "output_type": "display_data",
          "data": {
            "text/plain": [
              "<Figure size 720x720 with 0 Axes>"
            ]
          },
          "metadata": {
            "tags": []
          }
        },
        {
          "output_type": "display_data",
          "data": {
            "text/plain": [
              "<Figure size 720x720 with 0 Axes>"
            ]
          },
          "metadata": {
            "tags": []
          }
        },
        {
          "output_type": "display_data",
          "data": {
            "text/plain": [
              "<Figure size 720x720 with 0 Axes>"
            ]
          },
          "metadata": {
            "tags": []
          }
        },
        {
          "output_type": "display_data",
          "data": {
            "text/plain": [
              "<Figure size 720x720 with 0 Axes>"
            ]
          },
          "metadata": {
            "tags": []
          }
        },
        {
          "output_type": "display_data",
          "data": {
            "text/plain": [
              "<Figure size 720x720 with 0 Axes>"
            ]
          },
          "metadata": {
            "tags": []
          }
        },
        {
          "output_type": "display_data",
          "data": {
            "text/plain": [
              "<Figure size 720x720 with 0 Axes>"
            ]
          },
          "metadata": {
            "tags": []
          }
        },
        {
          "output_type": "display_data",
          "data": {
            "text/plain": [
              "<Figure size 720x720 with 0 Axes>"
            ]
          },
          "metadata": {
            "tags": []
          }
        },
        {
          "output_type": "display_data",
          "data": {
            "text/plain": [
              "<Figure size 720x720 with 0 Axes>"
            ]
          },
          "metadata": {
            "tags": []
          }
        },
        {
          "output_type": "display_data",
          "data": {
            "text/plain": [
              "<Figure size 720x720 with 0 Axes>"
            ]
          },
          "metadata": {
            "tags": []
          }
        },
        {
          "output_type": "display_data",
          "data": {
            "text/plain": [
              "<Figure size 720x720 with 0 Axes>"
            ]
          },
          "metadata": {
            "tags": []
          }
        },
        {
          "output_type": "display_data",
          "data": {
            "text/plain": [
              "<Figure size 720x720 with 0 Axes>"
            ]
          },
          "metadata": {
            "tags": []
          }
        },
        {
          "output_type": "display_data",
          "data": {
            "text/plain": [
              "<Figure size 720x720 with 0 Axes>"
            ]
          },
          "metadata": {
            "tags": []
          }
        },
        {
          "output_type": "display_data",
          "data": {
            "text/plain": [
              "<Figure size 720x720 with 0 Axes>"
            ]
          },
          "metadata": {
            "tags": []
          }
        },
        {
          "output_type": "display_data",
          "data": {
            "text/plain": [
              "<Figure size 720x720 with 0 Axes>"
            ]
          },
          "metadata": {
            "tags": []
          }
        },
        {
          "output_type": "display_data",
          "data": {
            "text/plain": [
              "<Figure size 720x720 with 0 Axes>"
            ]
          },
          "metadata": {
            "tags": []
          }
        },
        {
          "output_type": "display_data",
          "data": {
            "text/plain": [
              "<Figure size 720x720 with 0 Axes>"
            ]
          },
          "metadata": {
            "tags": []
          }
        },
        {
          "output_type": "display_data",
          "data": {
            "text/plain": [
              "<Figure size 720x720 with 0 Axes>"
            ]
          },
          "metadata": {
            "tags": []
          }
        },
        {
          "output_type": "display_data",
          "data": {
            "text/plain": [
              "<Figure size 720x720 with 0 Axes>"
            ]
          },
          "metadata": {
            "tags": []
          }
        },
        {
          "output_type": "display_data",
          "data": {
            "text/plain": [
              "<Figure size 720x720 with 0 Axes>"
            ]
          },
          "metadata": {
            "tags": []
          }
        },
        {
          "output_type": "display_data",
          "data": {
            "text/plain": [
              "<Figure size 720x720 with 0 Axes>"
            ]
          },
          "metadata": {
            "tags": []
          }
        },
        {
          "output_type": "display_data",
          "data": {
            "text/plain": [
              "<Figure size 720x720 with 0 Axes>"
            ]
          },
          "metadata": {
            "tags": []
          }
        },
        {
          "output_type": "display_data",
          "data": {
            "text/plain": [
              "<Figure size 720x720 with 0 Axes>"
            ]
          },
          "metadata": {
            "tags": []
          }
        },
        {
          "output_type": "display_data",
          "data": {
            "text/plain": [
              "<Figure size 720x720 with 0 Axes>"
            ]
          },
          "metadata": {
            "tags": []
          }
        },
        {
          "output_type": "display_data",
          "data": {
            "text/plain": [
              "<Figure size 720x720 with 0 Axes>"
            ]
          },
          "metadata": {
            "tags": []
          }
        },
        {
          "output_type": "display_data",
          "data": {
            "text/plain": [
              "<Figure size 720x720 with 0 Axes>"
            ]
          },
          "metadata": {
            "tags": []
          }
        },
        {
          "output_type": "display_data",
          "data": {
            "text/plain": [
              "<Figure size 720x720 with 0 Axes>"
            ]
          },
          "metadata": {
            "tags": []
          }
        },
        {
          "output_type": "display_data",
          "data": {
            "text/plain": [
              "<Figure size 720x720 with 0 Axes>"
            ]
          },
          "metadata": {
            "tags": []
          }
        },
        {
          "output_type": "display_data",
          "data": {
            "text/plain": [
              "<Figure size 720x720 with 0 Axes>"
            ]
          },
          "metadata": {
            "tags": []
          }
        },
        {
          "output_type": "display_data",
          "data": {
            "text/plain": [
              "<Figure size 720x720 with 0 Axes>"
            ]
          },
          "metadata": {
            "tags": []
          }
        },
        {
          "output_type": "display_data",
          "data": {
            "text/plain": [
              "<Figure size 720x720 with 0 Axes>"
            ]
          },
          "metadata": {
            "tags": []
          }
        },
        {
          "output_type": "display_data",
          "data": {
            "text/plain": [
              "<Figure size 720x720 with 0 Axes>"
            ]
          },
          "metadata": {
            "tags": []
          }
        },
        {
          "output_type": "display_data",
          "data": {
            "text/plain": [
              "<Figure size 720x720 with 0 Axes>"
            ]
          },
          "metadata": {
            "tags": []
          }
        },
        {
          "output_type": "display_data",
          "data": {
            "text/plain": [
              "<Figure size 720x720 with 0 Axes>"
            ]
          },
          "metadata": {
            "tags": []
          }
        },
        {
          "output_type": "display_data",
          "data": {
            "text/plain": [
              "<Figure size 720x720 with 0 Axes>"
            ]
          },
          "metadata": {
            "tags": []
          }
        },
        {
          "output_type": "display_data",
          "data": {
            "text/plain": [
              "<Figure size 720x720 with 0 Axes>"
            ]
          },
          "metadata": {
            "tags": []
          }
        },
        {
          "output_type": "display_data",
          "data": {
            "text/plain": [
              "<Figure size 720x720 with 0 Axes>"
            ]
          },
          "metadata": {
            "tags": []
          }
        },
        {
          "output_type": "display_data",
          "data": {
            "text/plain": [
              "<Figure size 720x720 with 0 Axes>"
            ]
          },
          "metadata": {
            "tags": []
          }
        },
        {
          "output_type": "display_data",
          "data": {
            "text/plain": [
              "<Figure size 720x720 with 0 Axes>"
            ]
          },
          "metadata": {
            "tags": []
          }
        },
        {
          "output_type": "display_data",
          "data": {
            "text/plain": [
              "<Figure size 720x720 with 0 Axes>"
            ]
          },
          "metadata": {
            "tags": []
          }
        },
        {
          "output_type": "display_data",
          "data": {
            "text/plain": [
              "<Figure size 720x720 with 0 Axes>"
            ]
          },
          "metadata": {
            "tags": []
          }
        },
        {
          "output_type": "display_data",
          "data": {
            "text/plain": [
              "<Figure size 720x720 with 0 Axes>"
            ]
          },
          "metadata": {
            "tags": []
          }
        },
        {
          "output_type": "display_data",
          "data": {
            "text/plain": [
              "<Figure size 720x720 with 0 Axes>"
            ]
          },
          "metadata": {
            "tags": []
          }
        },
        {
          "output_type": "display_data",
          "data": {
            "text/plain": [
              "<Figure size 720x720 with 0 Axes>"
            ]
          },
          "metadata": {
            "tags": []
          }
        },
        {
          "output_type": "display_data",
          "data": {
            "text/plain": [
              "<Figure size 720x720 with 0 Axes>"
            ]
          },
          "metadata": {
            "tags": []
          }
        },
        {
          "output_type": "display_data",
          "data": {
            "text/plain": [
              "<Figure size 720x720 with 0 Axes>"
            ]
          },
          "metadata": {
            "tags": []
          }
        },
        {
          "output_type": "display_data",
          "data": {
            "text/plain": [
              "<Figure size 720x720 with 0 Axes>"
            ]
          },
          "metadata": {
            "tags": []
          }
        },
        {
          "output_type": "display_data",
          "data": {
            "text/plain": [
              "<Figure size 720x720 with 0 Axes>"
            ]
          },
          "metadata": {
            "tags": []
          }
        },
        {
          "output_type": "display_data",
          "data": {
            "text/plain": [
              "<Figure size 720x720 with 0 Axes>"
            ]
          },
          "metadata": {
            "tags": []
          }
        },
        {
          "output_type": "display_data",
          "data": {
            "text/plain": [
              "<Figure size 720x720 with 0 Axes>"
            ]
          },
          "metadata": {
            "tags": []
          }
        },
        {
          "output_type": "display_data",
          "data": {
            "text/plain": [
              "<Figure size 720x720 with 0 Axes>"
            ]
          },
          "metadata": {
            "tags": []
          }
        },
        {
          "output_type": "display_data",
          "data": {
            "text/plain": [
              "<Figure size 720x720 with 0 Axes>"
            ]
          },
          "metadata": {
            "tags": []
          }
        },
        {
          "output_type": "display_data",
          "data": {
            "text/plain": [
              "<Figure size 720x720 with 0 Axes>"
            ]
          },
          "metadata": {
            "tags": []
          }
        },
        {
          "output_type": "display_data",
          "data": {
            "text/plain": [
              "<Figure size 720x720 with 0 Axes>"
            ]
          },
          "metadata": {
            "tags": []
          }
        },
        {
          "output_type": "display_data",
          "data": {
            "text/plain": [
              "<Figure size 720x720 with 0 Axes>"
            ]
          },
          "metadata": {
            "tags": []
          }
        },
        {
          "output_type": "display_data",
          "data": {
            "text/plain": [
              "<Figure size 720x720 with 0 Axes>"
            ]
          },
          "metadata": {
            "tags": []
          }
        },
        {
          "output_type": "display_data",
          "data": {
            "text/plain": [
              "<Figure size 720x720 with 0 Axes>"
            ]
          },
          "metadata": {
            "tags": []
          }
        },
        {
          "output_type": "display_data",
          "data": {
            "text/plain": [
              "<Figure size 720x720 with 0 Axes>"
            ]
          },
          "metadata": {
            "tags": []
          }
        },
        {
          "output_type": "display_data",
          "data": {
            "text/plain": [
              "<Figure size 720x720 with 0 Axes>"
            ]
          },
          "metadata": {
            "tags": []
          }
        },
        {
          "output_type": "display_data",
          "data": {
            "text/plain": [
              "<Figure size 720x720 with 0 Axes>"
            ]
          },
          "metadata": {
            "tags": []
          }
        },
        {
          "output_type": "display_data",
          "data": {
            "text/plain": [
              "<Figure size 720x720 with 0 Axes>"
            ]
          },
          "metadata": {
            "tags": []
          }
        },
        {
          "output_type": "display_data",
          "data": {
            "text/plain": [
              "<Figure size 720x720 with 0 Axes>"
            ]
          },
          "metadata": {
            "tags": []
          }
        },
        {
          "output_type": "display_data",
          "data": {
            "text/plain": [
              "<Figure size 720x720 with 0 Axes>"
            ]
          },
          "metadata": {
            "tags": []
          }
        },
        {
          "output_type": "display_data",
          "data": {
            "text/plain": [
              "<Figure size 720x720 with 0 Axes>"
            ]
          },
          "metadata": {
            "tags": []
          }
        },
        {
          "output_type": "display_data",
          "data": {
            "text/plain": [
              "<Figure size 720x720 with 0 Axes>"
            ]
          },
          "metadata": {
            "tags": []
          }
        },
        {
          "output_type": "display_data",
          "data": {
            "text/plain": [
              "<Figure size 720x720 with 0 Axes>"
            ]
          },
          "metadata": {
            "tags": []
          }
        },
        {
          "output_type": "display_data",
          "data": {
            "text/plain": [
              "<Figure size 720x720 with 0 Axes>"
            ]
          },
          "metadata": {
            "tags": []
          }
        },
        {
          "output_type": "display_data",
          "data": {
            "text/plain": [
              "<Figure size 720x720 with 0 Axes>"
            ]
          },
          "metadata": {
            "tags": []
          }
        },
        {
          "output_type": "display_data",
          "data": {
            "text/plain": [
              "<Figure size 720x720 with 0 Axes>"
            ]
          },
          "metadata": {
            "tags": []
          }
        },
        {
          "output_type": "display_data",
          "data": {
            "text/plain": [
              "<Figure size 720x720 with 0 Axes>"
            ]
          },
          "metadata": {
            "tags": []
          }
        },
        {
          "output_type": "display_data",
          "data": {
            "text/plain": [
              "<Figure size 720x720 with 0 Axes>"
            ]
          },
          "metadata": {
            "tags": []
          }
        },
        {
          "output_type": "display_data",
          "data": {
            "text/plain": [
              "<Figure size 720x720 with 0 Axes>"
            ]
          },
          "metadata": {
            "tags": []
          }
        },
        {
          "output_type": "display_data",
          "data": {
            "text/plain": [
              "<Figure size 720x720 with 0 Axes>"
            ]
          },
          "metadata": {
            "tags": []
          }
        },
        {
          "output_type": "display_data",
          "data": {
            "text/plain": [
              "<Figure size 720x720 with 0 Axes>"
            ]
          },
          "metadata": {
            "tags": []
          }
        },
        {
          "output_type": "display_data",
          "data": {
            "text/plain": [
              "<Figure size 720x720 with 0 Axes>"
            ]
          },
          "metadata": {
            "tags": []
          }
        },
        {
          "output_type": "display_data",
          "data": {
            "text/plain": [
              "<Figure size 720x720 with 0 Axes>"
            ]
          },
          "metadata": {
            "tags": []
          }
        },
        {
          "output_type": "display_data",
          "data": {
            "text/plain": [
              "<Figure size 720x720 with 0 Axes>"
            ]
          },
          "metadata": {
            "tags": []
          }
        },
        {
          "output_type": "display_data",
          "data": {
            "text/plain": [
              "<Figure size 720x720 with 0 Axes>"
            ]
          },
          "metadata": {
            "tags": []
          }
        },
        {
          "output_type": "display_data",
          "data": {
            "text/plain": [
              "<Figure size 720x720 with 0 Axes>"
            ]
          },
          "metadata": {
            "tags": []
          }
        },
        {
          "output_type": "display_data",
          "data": {
            "text/plain": [
              "<Figure size 720x720 with 0 Axes>"
            ]
          },
          "metadata": {
            "tags": []
          }
        },
        {
          "output_type": "display_data",
          "data": {
            "text/plain": [
              "<Figure size 720x720 with 0 Axes>"
            ]
          },
          "metadata": {
            "tags": []
          }
        },
        {
          "output_type": "display_data",
          "data": {
            "text/plain": [
              "<Figure size 720x720 with 0 Axes>"
            ]
          },
          "metadata": {
            "tags": []
          }
        },
        {
          "output_type": "display_data",
          "data": {
            "text/plain": [
              "<Figure size 720x720 with 0 Axes>"
            ]
          },
          "metadata": {
            "tags": []
          }
        },
        {
          "output_type": "display_data",
          "data": {
            "text/plain": [
              "<Figure size 720x720 with 0 Axes>"
            ]
          },
          "metadata": {
            "tags": []
          }
        },
        {
          "output_type": "display_data",
          "data": {
            "text/plain": [
              "<Figure size 720x720 with 0 Axes>"
            ]
          },
          "metadata": {
            "tags": []
          }
        },
        {
          "output_type": "display_data",
          "data": {
            "text/plain": [
              "<Figure size 720x720 with 0 Axes>"
            ]
          },
          "metadata": {
            "tags": []
          }
        },
        {
          "output_type": "display_data",
          "data": {
            "text/plain": [
              "<Figure size 720x720 with 0 Axes>"
            ]
          },
          "metadata": {
            "tags": []
          }
        },
        {
          "output_type": "display_data",
          "data": {
            "text/plain": [
              "<Figure size 720x720 with 0 Axes>"
            ]
          },
          "metadata": {
            "tags": []
          }
        },
        {
          "output_type": "display_data",
          "data": {
            "text/plain": [
              "<Figure size 720x720 with 0 Axes>"
            ]
          },
          "metadata": {
            "tags": []
          }
        },
        {
          "output_type": "display_data",
          "data": {
            "text/plain": [
              "<Figure size 720x720 with 0 Axes>"
            ]
          },
          "metadata": {
            "tags": []
          }
        },
        {
          "output_type": "display_data",
          "data": {
            "text/plain": [
              "<Figure size 720x720 with 0 Axes>"
            ]
          },
          "metadata": {
            "tags": []
          }
        },
        {
          "output_type": "display_data",
          "data": {
            "text/plain": [
              "<Figure size 720x720 with 0 Axes>"
            ]
          },
          "metadata": {
            "tags": []
          }
        },
        {
          "output_type": "display_data",
          "data": {
            "text/plain": [
              "<Figure size 720x720 with 0 Axes>"
            ]
          },
          "metadata": {
            "tags": []
          }
        },
        {
          "output_type": "display_data",
          "data": {
            "text/plain": [
              "<Figure size 720x720 with 0 Axes>"
            ]
          },
          "metadata": {
            "tags": []
          }
        },
        {
          "output_type": "display_data",
          "data": {
            "text/plain": [
              "<Figure size 720x720 with 0 Axes>"
            ]
          },
          "metadata": {
            "tags": []
          }
        },
        {
          "output_type": "display_data",
          "data": {
            "text/plain": [
              "<Figure size 720x720 with 0 Axes>"
            ]
          },
          "metadata": {
            "tags": []
          }
        },
        {
          "output_type": "display_data",
          "data": {
            "text/plain": [
              "<Figure size 720x720 with 0 Axes>"
            ]
          },
          "metadata": {
            "tags": []
          }
        },
        {
          "output_type": "display_data",
          "data": {
            "text/plain": [
              "<Figure size 720x720 with 0 Axes>"
            ]
          },
          "metadata": {
            "tags": []
          }
        },
        {
          "output_type": "display_data",
          "data": {
            "text/plain": [
              "<Figure size 720x720 with 0 Axes>"
            ]
          },
          "metadata": {
            "tags": []
          }
        },
        {
          "output_type": "display_data",
          "data": {
            "text/plain": [
              "<Figure size 720x720 with 0 Axes>"
            ]
          },
          "metadata": {
            "tags": []
          }
        },
        {
          "output_type": "display_data",
          "data": {
            "text/plain": [
              "<Figure size 720x720 with 0 Axes>"
            ]
          },
          "metadata": {
            "tags": []
          }
        },
        {
          "output_type": "display_data",
          "data": {
            "text/plain": [
              "<Figure size 720x720 with 0 Axes>"
            ]
          },
          "metadata": {
            "tags": []
          }
        },
        {
          "output_type": "display_data",
          "data": {
            "text/plain": [
              "<Figure size 720x720 with 0 Axes>"
            ]
          },
          "metadata": {
            "tags": []
          }
        },
        {
          "output_type": "display_data",
          "data": {
            "text/plain": [
              "<Figure size 720x720 with 0 Axes>"
            ]
          },
          "metadata": {
            "tags": []
          }
        },
        {
          "output_type": "display_data",
          "data": {
            "text/plain": [
              "<Figure size 720x720 with 0 Axes>"
            ]
          },
          "metadata": {
            "tags": []
          }
        },
        {
          "output_type": "display_data",
          "data": {
            "text/plain": [
              "<Figure size 720x720 with 0 Axes>"
            ]
          },
          "metadata": {
            "tags": []
          }
        },
        {
          "output_type": "display_data",
          "data": {
            "text/plain": [
              "<Figure size 720x720 with 0 Axes>"
            ]
          },
          "metadata": {
            "tags": []
          }
        },
        {
          "output_type": "display_data",
          "data": {
            "text/plain": [
              "<Figure size 720x720 with 0 Axes>"
            ]
          },
          "metadata": {
            "tags": []
          }
        },
        {
          "output_type": "display_data",
          "data": {
            "text/plain": [
              "<Figure size 720x720 with 0 Axes>"
            ]
          },
          "metadata": {
            "tags": []
          }
        },
        {
          "output_type": "display_data",
          "data": {
            "text/plain": [
              "<Figure size 720x720 with 0 Axes>"
            ]
          },
          "metadata": {
            "tags": []
          }
        },
        {
          "output_type": "display_data",
          "data": {
            "text/plain": [
              "<Figure size 720x720 with 0 Axes>"
            ]
          },
          "metadata": {
            "tags": []
          }
        },
        {
          "output_type": "display_data",
          "data": {
            "text/plain": [
              "<Figure size 720x720 with 0 Axes>"
            ]
          },
          "metadata": {
            "tags": []
          }
        },
        {
          "output_type": "display_data",
          "data": {
            "text/plain": [
              "<Figure size 720x720 with 0 Axes>"
            ]
          },
          "metadata": {
            "tags": []
          }
        },
        {
          "output_type": "display_data",
          "data": {
            "text/plain": [
              "<Figure size 720x720 with 0 Axes>"
            ]
          },
          "metadata": {
            "tags": []
          }
        },
        {
          "output_type": "display_data",
          "data": {
            "text/plain": [
              "<Figure size 720x720 with 0 Axes>"
            ]
          },
          "metadata": {
            "tags": []
          }
        },
        {
          "output_type": "display_data",
          "data": {
            "text/plain": [
              "<Figure size 720x720 with 0 Axes>"
            ]
          },
          "metadata": {
            "tags": []
          }
        },
        {
          "output_type": "display_data",
          "data": {
            "text/plain": [
              "<Figure size 720x720 with 0 Axes>"
            ]
          },
          "metadata": {
            "tags": []
          }
        },
        {
          "output_type": "display_data",
          "data": {
            "text/plain": [
              "<Figure size 720x720 with 0 Axes>"
            ]
          },
          "metadata": {
            "tags": []
          }
        },
        {
          "output_type": "display_data",
          "data": {
            "text/plain": [
              "<Figure size 720x720 with 0 Axes>"
            ]
          },
          "metadata": {
            "tags": []
          }
        },
        {
          "output_type": "display_data",
          "data": {
            "text/plain": [
              "<Figure size 720x720 with 0 Axes>"
            ]
          },
          "metadata": {
            "tags": []
          }
        },
        {
          "output_type": "display_data",
          "data": {
            "text/plain": [
              "<Figure size 720x720 with 0 Axes>"
            ]
          },
          "metadata": {
            "tags": []
          }
        },
        {
          "output_type": "display_data",
          "data": {
            "text/plain": [
              "<Figure size 720x720 with 0 Axes>"
            ]
          },
          "metadata": {
            "tags": []
          }
        },
        {
          "output_type": "display_data",
          "data": {
            "text/plain": [
              "<Figure size 720x720 with 0 Axes>"
            ]
          },
          "metadata": {
            "tags": []
          }
        },
        {
          "output_type": "display_data",
          "data": {
            "text/plain": [
              "<Figure size 720x720 with 0 Axes>"
            ]
          },
          "metadata": {
            "tags": []
          }
        },
        {
          "output_type": "display_data",
          "data": {
            "text/plain": [
              "<Figure size 720x720 with 0 Axes>"
            ]
          },
          "metadata": {
            "tags": []
          }
        },
        {
          "output_type": "display_data",
          "data": {
            "text/plain": [
              "<Figure size 720x720 with 0 Axes>"
            ]
          },
          "metadata": {
            "tags": []
          }
        },
        {
          "output_type": "display_data",
          "data": {
            "text/plain": [
              "<Figure size 720x720 with 0 Axes>"
            ]
          },
          "metadata": {
            "tags": []
          }
        },
        {
          "output_type": "display_data",
          "data": {
            "text/plain": [
              "<Figure size 720x720 with 0 Axes>"
            ]
          },
          "metadata": {
            "tags": []
          }
        },
        {
          "output_type": "display_data",
          "data": {
            "text/plain": [
              "<Figure size 720x720 with 0 Axes>"
            ]
          },
          "metadata": {
            "tags": []
          }
        },
        {
          "output_type": "display_data",
          "data": {
            "text/plain": [
              "<Figure size 720x720 with 0 Axes>"
            ]
          },
          "metadata": {
            "tags": []
          }
        },
        {
          "output_type": "display_data",
          "data": {
            "text/plain": [
              "<Figure size 720x720 with 0 Axes>"
            ]
          },
          "metadata": {
            "tags": []
          }
        },
        {
          "output_type": "display_data",
          "data": {
            "text/plain": [
              "<Figure size 720x720 with 0 Axes>"
            ]
          },
          "metadata": {
            "tags": []
          }
        },
        {
          "output_type": "display_data",
          "data": {
            "text/plain": [
              "<Figure size 720x720 with 0 Axes>"
            ]
          },
          "metadata": {
            "tags": []
          }
        },
        {
          "output_type": "display_data",
          "data": {
            "text/plain": [
              "<Figure size 720x720 with 0 Axes>"
            ]
          },
          "metadata": {
            "tags": []
          }
        },
        {
          "output_type": "display_data",
          "data": {
            "text/plain": [
              "<Figure size 720x720 with 0 Axes>"
            ]
          },
          "metadata": {
            "tags": []
          }
        },
        {
          "output_type": "display_data",
          "data": {
            "text/plain": [
              "<Figure size 720x720 with 0 Axes>"
            ]
          },
          "metadata": {
            "tags": []
          }
        },
        {
          "output_type": "display_data",
          "data": {
            "text/plain": [
              "<Figure size 720x720 with 0 Axes>"
            ]
          },
          "metadata": {
            "tags": []
          }
        },
        {
          "output_type": "display_data",
          "data": {
            "text/plain": [
              "<Figure size 720x720 with 0 Axes>"
            ]
          },
          "metadata": {
            "tags": []
          }
        },
        {
          "output_type": "display_data",
          "data": {
            "text/plain": [
              "<Figure size 720x720 with 0 Axes>"
            ]
          },
          "metadata": {
            "tags": []
          }
        },
        {
          "output_type": "display_data",
          "data": {
            "text/plain": [
              "<Figure size 720x720 with 0 Axes>"
            ]
          },
          "metadata": {
            "tags": []
          }
        },
        {
          "output_type": "display_data",
          "data": {
            "text/plain": [
              "<Figure size 720x720 with 0 Axes>"
            ]
          },
          "metadata": {
            "tags": []
          }
        },
        {
          "output_type": "display_data",
          "data": {
            "text/plain": [
              "<Figure size 720x720 with 0 Axes>"
            ]
          },
          "metadata": {
            "tags": []
          }
        },
        {
          "output_type": "display_data",
          "data": {
            "text/plain": [
              "<Figure size 720x720 with 0 Axes>"
            ]
          },
          "metadata": {
            "tags": []
          }
        },
        {
          "output_type": "display_data",
          "data": {
            "text/plain": [
              "<Figure size 720x720 with 0 Axes>"
            ]
          },
          "metadata": {
            "tags": []
          }
        },
        {
          "output_type": "display_data",
          "data": {
            "text/plain": [
              "<Figure size 720x720 with 0 Axes>"
            ]
          },
          "metadata": {
            "tags": []
          }
        },
        {
          "output_type": "display_data",
          "data": {
            "text/plain": [
              "<Figure size 720x720 with 0 Axes>"
            ]
          },
          "metadata": {
            "tags": []
          }
        },
        {
          "output_type": "display_data",
          "data": {
            "text/plain": [
              "<Figure size 720x720 with 0 Axes>"
            ]
          },
          "metadata": {
            "tags": []
          }
        },
        {
          "output_type": "display_data",
          "data": {
            "text/plain": [
              "<Figure size 720x720 with 0 Axes>"
            ]
          },
          "metadata": {
            "tags": []
          }
        },
        {
          "output_type": "display_data",
          "data": {
            "text/plain": [
              "<Figure size 720x720 with 0 Axes>"
            ]
          },
          "metadata": {
            "tags": []
          }
        },
        {
          "output_type": "display_data",
          "data": {
            "text/plain": [
              "<Figure size 720x720 with 0 Axes>"
            ]
          },
          "metadata": {
            "tags": []
          }
        },
        {
          "output_type": "display_data",
          "data": {
            "text/plain": [
              "<Figure size 720x720 with 0 Axes>"
            ]
          },
          "metadata": {
            "tags": []
          }
        },
        {
          "output_type": "display_data",
          "data": {
            "text/plain": [
              "<Figure size 720x720 with 0 Axes>"
            ]
          },
          "metadata": {
            "tags": []
          }
        },
        {
          "output_type": "display_data",
          "data": {
            "text/plain": [
              "<Figure size 720x720 with 0 Axes>"
            ]
          },
          "metadata": {
            "tags": []
          }
        },
        {
          "output_type": "display_data",
          "data": {
            "text/plain": [
              "<Figure size 720x720 with 0 Axes>"
            ]
          },
          "metadata": {
            "tags": []
          }
        },
        {
          "output_type": "display_data",
          "data": {
            "text/plain": [
              "<Figure size 720x720 with 0 Axes>"
            ]
          },
          "metadata": {
            "tags": []
          }
        },
        {
          "output_type": "display_data",
          "data": {
            "text/plain": [
              "<Figure size 720x720 with 0 Axes>"
            ]
          },
          "metadata": {
            "tags": []
          }
        },
        {
          "output_type": "display_data",
          "data": {
            "text/plain": [
              "<Figure size 720x720 with 0 Axes>"
            ]
          },
          "metadata": {
            "tags": []
          }
        },
        {
          "output_type": "display_data",
          "data": {
            "text/plain": [
              "<Figure size 720x720 with 0 Axes>"
            ]
          },
          "metadata": {
            "tags": []
          }
        },
        {
          "output_type": "display_data",
          "data": {
            "text/plain": [
              "<Figure size 720x720 with 0 Axes>"
            ]
          },
          "metadata": {
            "tags": []
          }
        },
        {
          "output_type": "display_data",
          "data": {
            "text/plain": [
              "<Figure size 720x720 with 0 Axes>"
            ]
          },
          "metadata": {
            "tags": []
          }
        },
        {
          "output_type": "display_data",
          "data": {
            "text/plain": [
              "<Figure size 720x720 with 0 Axes>"
            ]
          },
          "metadata": {
            "tags": []
          }
        },
        {
          "output_type": "display_data",
          "data": {
            "text/plain": [
              "<Figure size 720x720 with 0 Axes>"
            ]
          },
          "metadata": {
            "tags": []
          }
        },
        {
          "output_type": "display_data",
          "data": {
            "text/plain": [
              "<Figure size 720x720 with 0 Axes>"
            ]
          },
          "metadata": {
            "tags": []
          }
        },
        {
          "output_type": "display_data",
          "data": {
            "text/plain": [
              "<Figure size 720x720 with 0 Axes>"
            ]
          },
          "metadata": {
            "tags": []
          }
        },
        {
          "output_type": "display_data",
          "data": {
            "text/plain": [
              "<Figure size 720x720 with 0 Axes>"
            ]
          },
          "metadata": {
            "tags": []
          }
        },
        {
          "output_type": "display_data",
          "data": {
            "text/plain": [
              "<Figure size 720x720 with 0 Axes>"
            ]
          },
          "metadata": {
            "tags": []
          }
        },
        {
          "output_type": "display_data",
          "data": {
            "text/plain": [
              "<Figure size 720x720 with 0 Axes>"
            ]
          },
          "metadata": {
            "tags": []
          }
        },
        {
          "output_type": "display_data",
          "data": {
            "text/plain": [
              "<Figure size 720x720 with 0 Axes>"
            ]
          },
          "metadata": {
            "tags": []
          }
        },
        {
          "output_type": "display_data",
          "data": {
            "text/plain": [
              "<Figure size 720x720 with 0 Axes>"
            ]
          },
          "metadata": {
            "tags": []
          }
        },
        {
          "output_type": "display_data",
          "data": {
            "text/plain": [
              "<Figure size 720x720 with 0 Axes>"
            ]
          },
          "metadata": {
            "tags": []
          }
        },
        {
          "output_type": "display_data",
          "data": {
            "text/plain": [
              "<Figure size 720x720 with 0 Axes>"
            ]
          },
          "metadata": {
            "tags": []
          }
        },
        {
          "output_type": "display_data",
          "data": {
            "text/plain": [
              "<Figure size 720x720 with 0 Axes>"
            ]
          },
          "metadata": {
            "tags": []
          }
        },
        {
          "output_type": "display_data",
          "data": {
            "text/plain": [
              "<Figure size 720x720 with 0 Axes>"
            ]
          },
          "metadata": {
            "tags": []
          }
        },
        {
          "output_type": "display_data",
          "data": {
            "text/plain": [
              "<Figure size 720x720 with 0 Axes>"
            ]
          },
          "metadata": {
            "tags": []
          }
        },
        {
          "output_type": "display_data",
          "data": {
            "text/plain": [
              "<Figure size 720x720 with 0 Axes>"
            ]
          },
          "metadata": {
            "tags": []
          }
        },
        {
          "output_type": "display_data",
          "data": {
            "text/plain": [
              "<Figure size 720x720 with 0 Axes>"
            ]
          },
          "metadata": {
            "tags": []
          }
        },
        {
          "output_type": "display_data",
          "data": {
            "text/plain": [
              "<Figure size 720x720 with 0 Axes>"
            ]
          },
          "metadata": {
            "tags": []
          }
        },
        {
          "output_type": "display_data",
          "data": {
            "text/plain": [
              "<Figure size 720x720 with 0 Axes>"
            ]
          },
          "metadata": {
            "tags": []
          }
        },
        {
          "output_type": "display_data",
          "data": {
            "text/plain": [
              "<Figure size 720x720 with 0 Axes>"
            ]
          },
          "metadata": {
            "tags": []
          }
        },
        {
          "output_type": "display_data",
          "data": {
            "text/plain": [
              "<Figure size 720x720 with 0 Axes>"
            ]
          },
          "metadata": {
            "tags": []
          }
        }
      ]
    },
    {
      "cell_type": "code",
      "metadata": {
        "id": "XSFLLAaXr_MQ",
        "outputId": "7ebf84c3-08cc-4609-cd8f-1d44551d10e7",
        "colab": {
          "base_uri": "https://localhost:8080/"
        }
      },
      "source": [
        "%cd ..\n",
        "%mkdir data_with_masks_compressed\n",
        "# !rm -rf data_raw\n",
        "# !ls\n"
      ],
      "execution_count": null,
      "outputs": [
        {
          "output_type": "stream",
          "text": [
            "/content\n"
          ],
          "name": "stdout"
        }
      ]
    },
    {
      "cell_type": "code",
      "metadata": {
        "id": "ebXH7V6m3gZA",
        "outputId": "ff59c5fb-1775-45df-f5d5-a863e5f4015b",
        "colab": {
          "base_uri": "https://localhost:8080/",
          "height": 1000
        }
      },
      "source": [
        "from google.colab import files\n",
        "!zip -r /content/data_with_masks_compressed.zip /content/data_with_masks_compressed/\n",
        "files.download(\"/content/data_with_masks_compressed.zip\")\n"
      ],
      "execution_count": null,
      "outputs": [
        {
          "output_type": "stream",
          "text": [
            "  adding: content/data_with_masks_compressed/ (stored 0%)\n",
            "  adding: content/data_with_masks_compressed/data_with_mask-163-compressed.jpg (deflated 1%)\n",
            "  adding: content/data_with_masks_compressed/data_with_mask-202-compressed.jpg (deflated 2%)\n",
            "  adding: content/data_with_masks_compressed/data_with_mask-100-compressed.jpg (deflated 3%)\n",
            "  adding: content/data_with_masks_compressed/data_with_mask-289-compressed.jpg (deflated 1%)\n",
            "  adding: content/data_with_masks_compressed/data_with_mask-12-compressed.jpg (deflated 1%)\n",
            "  adding: content/data_with_masks_compressed/data_with_mask-256-compressed.jpg (deflated 1%)\n",
            "  adding: content/data_with_masks_compressed/data_with_mask-248-compressed.jpg (deflated 1%)\n",
            "  adding: content/data_with_masks_compressed/data_with_mask-288-compressed.jpg (deflated 1%)\n",
            "  adding: content/data_with_masks_compressed/data_with_mask-535-compressed.jpg (deflated 1%)\n",
            "  adding: content/data_with_masks_compressed/data_with_mask-414-compressed.jpg (deflated 1%)\n",
            "  adding: content/data_with_masks_compressed/data_with_mask-58-compressed.jpg (deflated 2%)\n",
            "  adding: content/data_with_masks_compressed/data_with_mask-328-compressed.jpg (deflated 1%)\n",
            "  adding: content/data_with_masks_compressed/data_with_mask-88-compressed.jpg (deflated 2%)\n",
            "  adding: content/data_with_masks_compressed/data_with_mask-280-compressed.jpg (deflated 1%)\n",
            "  adding: content/data_with_masks_compressed/data_with_mask-323-compressed.jpg (deflated 1%)\n",
            "  adding: content/data_with_masks_compressed/data_with_mask-497-compressed.jpg (deflated 1%)\n",
            "  adding: content/data_with_masks_compressed/data_with_mask-474-compressed.jpg (deflated 1%)\n",
            "  adding: content/data_with_masks_compressed/data_with_mask-393-compressed.jpg (deflated 1%)\n",
            "  adding: content/data_with_masks_compressed/data_with_mask-570-compressed.jpg (deflated 2%)\n",
            "  adding: content/data_with_masks_compressed/data_with_mask-69-compressed.jpg (deflated 1%)\n",
            "  adding: content/data_with_masks_compressed/data_with_mask-492-compressed.jpg (deflated 1%)\n",
            "  adding: content/data_with_masks_compressed/data_with_mask-10-compressed.jpg (deflated 1%)\n",
            "  adding: content/data_with_masks_compressed/data_with_mask-454-compressed.jpg (deflated 1%)\n",
            "  adding: content/data_with_masks_compressed/data_with_mask-488-compressed.jpg (deflated 1%)\n",
            "  adding: content/data_with_masks_compressed/data_with_mask-94-compressed.jpg (deflated 2%)\n",
            "  adding: content/data_with_masks_compressed/data_with_mask-273-compressed.jpg (deflated 1%)\n",
            "  adding: content/data_with_masks_compressed/data_with_mask-531-compressed.jpg (deflated 2%)\n",
            "  adding: content/data_with_masks_compressed/data_with_mask-446-compressed.jpg (deflated 1%)\n",
            "  adding: content/data_with_masks_compressed/data_with_mask-41-compressed.jpg (deflated 2%)\n",
            "  adding: content/data_with_masks_compressed/data_with_mask-360-compressed.jpg (deflated 1%)\n",
            "  adding: content/data_with_masks_compressed/data_with_mask-559-compressed.jpg (deflated 1%)\n",
            "  adding: content/data_with_masks_compressed/data_with_mask-98-compressed.jpg (deflated 2%)\n",
            "  adding: content/data_with_masks_compressed/data_with_mask-528-compressed.jpg (deflated 2%)\n",
            "  adding: content/data_with_masks_compressed/data_with_mask-281-compressed.jpg (deflated 1%)\n",
            "  adding: content/data_with_masks_compressed/data_with_mask-148-compressed.jpg (deflated 1%)\n",
            "  adding: content/data_with_masks_compressed/data_with_mask-350-compressed.jpg (deflated 2%)\n",
            "  adding: content/data_with_masks_compressed/data_with_mask-505-compressed.jpg (deflated 2%)\n",
            "  adding: content/data_with_masks_compressed/data_with_mask-514-compressed.jpg (deflated 1%)\n",
            "  adding: content/data_with_masks_compressed/data_with_mask-227-compressed.jpg (deflated 2%)\n",
            "  adding: content/data_with_masks_compressed/data_with_mask-230-compressed.jpg (deflated 1%)\n",
            "  adding: content/data_with_masks_compressed/data_with_mask-182-compressed.jpg (deflated 2%)\n",
            "  adding: content/data_with_masks_compressed/data_with_mask-507-compressed.jpg (deflated 0%)\n",
            "  adding: content/data_with_masks_compressed/data_with_mask-363-compressed.jpg (deflated 1%)\n",
            "  adding: content/data_with_masks_compressed/data_with_mask-444-compressed.jpg (deflated 1%)\n",
            "  adding: content/data_with_masks_compressed/data_with_mask-470-compressed.jpg (deflated 1%)\n",
            "  adding: content/data_with_masks_compressed/data_with_mask-498-compressed.jpg (deflated 2%)\n",
            "  adding: content/data_with_masks_compressed/data_with_mask-86-compressed.jpg (deflated 2%)\n",
            "  adding: content/data_with_masks_compressed/data_with_mask-292-compressed.jpg (deflated 1%)\n",
            "  adding: content/data_with_masks_compressed/data_with_mask-340-compressed.jpg (deflated 1%)\n",
            "  adding: content/data_with_masks_compressed/data_with_mask-166-compressed.jpg (deflated 1%)\n",
            "  adding: content/data_with_masks_compressed/data_with_mask-23-compressed.jpg (deflated 1%)\n",
            "  adding: content/data_with_masks_compressed/data_with_mask-486-compressed.jpg (deflated 1%)\n",
            "  adding: content/data_with_masks_compressed/data_with_mask-17-compressed.jpg (deflated 1%)\n",
            "  adding: content/data_with_masks_compressed/data_with_mask-463-compressed.jpg (deflated 1%)\n",
            "  adding: content/data_with_masks_compressed/data_with_mask-59-compressed.jpg (deflated 2%)\n",
            "  adding: content/data_with_masks_compressed/data_with_mask-92-compressed.jpg (deflated 2%)\n",
            "  adding: content/data_with_masks_compressed/data_with_mask-184-compressed.jpg (deflated 2%)\n",
            "  adding: content/data_with_masks_compressed/data_with_mask-186-compressed.jpg (deflated 1%)\n",
            "  adding: content/data_with_masks_compressed/data_with_mask-499-compressed.jpg (deflated 2%)\n",
            "  adding: content/data_with_masks_compressed/data_with_mask-518-compressed.jpg (deflated 1%)\n",
            "  adding: content/data_with_masks_compressed/data_with_mask-170-compressed.jpg (deflated 2%)\n",
            "  adding: content/data_with_masks_compressed/data_with_mask-113-compressed.jpg (deflated 1%)\n",
            "  adding: content/data_with_masks_compressed/data_with_mask-171-compressed.jpg (deflated 2%)\n",
            "  adding: content/data_with_masks_compressed/data_with_mask-431-compressed.jpg (deflated 4%)\n",
            "  adding: content/data_with_masks_compressed/data_with_mask-165-compressed.jpg (deflated 1%)\n",
            "  adding: content/data_with_masks_compressed/data_with_mask-133-compressed.jpg (deflated 2%)\n",
            "  adding: content/data_with_masks_compressed/data_with_mask-102-compressed.jpg (deflated 1%)\n",
            "  adding: content/data_with_masks_compressed/data_with_mask-568-compressed.jpg (deflated 2%)\n",
            "  adding: content/data_with_masks_compressed/data_with_mask-141-compressed.jpg (deflated 2%)\n",
            "  adding: content/data_with_masks_compressed/data_with_mask-500-compressed.jpg (deflated 1%)\n",
            "  adding: content/data_with_masks_compressed/data_with_mask-374-compressed.jpg (deflated 1%)\n",
            "  adding: content/data_with_masks_compressed/data_with_mask-572-compressed.jpg (deflated 1%)\n",
            "  adding: content/data_with_masks_compressed/data_with_mask-144-compressed.jpg (deflated 2%)\n",
            "  adding: content/data_with_masks_compressed/data_with_mask-187-compressed.jpg (deflated 2%)\n",
            "  adding: content/data_with_masks_compressed/data_with_mask-269-compressed.jpg (deflated 1%)\n",
            "  adding: content/data_with_masks_compressed/data_with_mask-548-compressed.jpg (deflated 1%)\n",
            "  adding: content/data_with_masks_compressed/data_with_mask-83-compressed.jpg (deflated 1%)\n",
            "  adding: content/data_with_masks_compressed/data_with_mask-362-compressed.jpg (deflated 1%)\n",
            "  adding: content/data_with_masks_compressed/data_with_mask-35-compressed.jpg (deflated 2%)\n",
            "  adding: content/data_with_masks_compressed/data_with_mask-275-compressed.jpg (deflated 2%)\n",
            "  adding: content/data_with_masks_compressed/data_with_mask-373-compressed.jpg (deflated 1%)\n",
            "  adding: content/data_with_masks_compressed/data_with_mask-156-compressed.jpg (deflated 0%)\n",
            "  adding: content/data_with_masks_compressed/data_with_mask-432-compressed.jpg (deflated 1%)\n",
            "  adding: content/data_with_masks_compressed/data_with_mask-117-compressed.jpg (deflated 2%)\n",
            "  adding: content/data_with_masks_compressed/data_with_mask-259-compressed.jpg (deflated 1%)\n",
            "  adding: content/data_with_masks_compressed/data_with_mask-71-compressed.jpg (deflated 0%)\n",
            "  adding: content/data_with_masks_compressed/data_with_mask-457-compressed.jpg (deflated 2%)\n",
            "  adding: content/data_with_masks_compressed/data_with_mask-234-compressed.jpg (deflated 1%)\n",
            "  adding: content/data_with_masks_compressed/data_with_mask-326-compressed.jpg (deflated 2%)\n",
            "  adding: content/data_with_masks_compressed/data_with_mask-127-compressed.jpg (deflated 2%)\n",
            "  adding: content/data_with_masks_compressed/data_with_mask-82-compressed.jpg (deflated 2%)\n",
            "  adding: content/data_with_masks_compressed/data_with_mask-319-compressed.jpg (deflated 2%)\n",
            "  adding: content/data_with_masks_compressed/data_with_mask-79-compressed.jpg (deflated 0%)\n",
            "  adding: content/data_with_masks_compressed/data_with_mask-400-compressed.jpg (deflated 1%)\n",
            "  adding: content/data_with_masks_compressed/data_with_mask-176-compressed.jpg (deflated 1%)\n",
            "  adding: content/data_with_masks_compressed/data_with_mask-274-compressed.jpg (deflated 1%)\n",
            "  adding: content/data_with_masks_compressed/data_with_mask-540-compressed.jpg (deflated 2%)\n",
            "  adding: content/data_with_masks_compressed/data_with_mask-146-compressed.jpg (deflated 1%)\n",
            "  adding: content/data_with_masks_compressed/data_with_mask-179-compressed.jpg (deflated 1%)\n",
            "  adding: content/data_with_masks_compressed/data_with_mask-15-compressed.jpg (deflated 9%)\n",
            "  adding: content/data_with_masks_compressed/data_with_mask-336-compressed.jpg (deflated 1%)\n",
            "  adding: content/data_with_masks_compressed/data_with_mask-242-compressed.jpg (deflated 1%)\n",
            "  adding: content/data_with_masks_compressed/data_with_mask-558-compressed.jpg (deflated 1%)\n",
            "  adding: content/data_with_masks_compressed/data_with_mask-63-compressed.jpg (deflated 5%)\n",
            "  adding: content/data_with_masks_compressed/data_with_mask-154-compressed.jpg (deflated 2%)\n",
            "  adding: content/data_with_masks_compressed/data_with_mask-520-compressed.jpg (deflated 1%)\n",
            "  adding: content/data_with_masks_compressed/data_with_mask-109-compressed.jpg (deflated 1%)\n",
            "  adding: content/data_with_masks_compressed/data_with_mask-451-compressed.jpg (deflated 1%)\n",
            "  adding: content/data_with_masks_compressed/data_with_mask-96-compressed.jpg (deflated 1%)\n",
            "  adding: content/data_with_masks_compressed/data_with_mask-484-compressed.jpg (deflated 1%)\n",
            "  adding: content/data_with_masks_compressed/data_with_mask-416-compressed.jpg (deflated 2%)\n",
            "  adding: content/data_with_masks_compressed/data_with_mask-14-compressed.jpg (deflated 2%)\n",
            "  adding: content/data_with_masks_compressed/data_with_mask-129-compressed.jpg (deflated 2%)\n",
            "  adding: content/data_with_masks_compressed/data_with_mask-313-compressed.jpg (deflated 1%)\n",
            "  adding: content/data_with_masks_compressed/data_with_mask-381-compressed.jpg (deflated 2%)\n",
            "  adding: content/data_with_masks_compressed/data_with_mask-433-compressed.jpg (deflated 1%)\n",
            "  adding: content/data_with_masks_compressed/data_with_mask-232-compressed.jpg (deflated 1%)\n",
            "  adding: content/data_with_masks_compressed/data_with_mask-220-compressed.jpg (deflated 1%)\n",
            "  adding: content/data_with_masks_compressed/data_with_mask-287-compressed.jpg (deflated 1%)\n",
            "  adding: content/data_with_masks_compressed/data_with_mask-569-compressed.jpg (deflated 2%)\n",
            "  adding: content/data_with_masks_compressed/data_with_mask-343-compressed.jpg (deflated 1%)\n",
            "  adding: content/data_with_masks_compressed/data_with_mask-226-compressed.jpg (deflated 1%)\n",
            "  adding: content/data_with_masks_compressed/data_with_mask-308-compressed.jpg (deflated 1%)\n",
            "  adding: content/data_with_masks_compressed/data_with_mask-241-compressed.jpg (deflated 1%)\n",
            "  adding: content/data_with_masks_compressed/data_with_mask-409-compressed.jpg (deflated 2%)\n",
            "  adding: content/data_with_masks_compressed/data_with_mask-185-compressed.jpg (deflated 1%)\n",
            "  adding: content/data_with_masks_compressed/data_with_mask-395-compressed.jpg (deflated 1%)\n",
            "  adding: content/data_with_masks_compressed/data_with_mask-489-compressed.jpg (deflated 1%)\n",
            "  adding: content/data_with_masks_compressed/data_with_mask-3-compressed.jpg (deflated 2%)\n",
            "  adding: content/data_with_masks_compressed/data_with_mask-76-compressed.jpg (deflated 1%)\n",
            "  adding: content/data_with_masks_compressed/data_with_mask-78-compressed.jpg (deflated 1%)\n",
            "  adding: content/data_with_masks_compressed/data_with_mask-351-compressed.jpg (deflated 2%)\n",
            "  adding: content/data_with_masks_compressed/data_with_mask-422-compressed.jpg (deflated 2%)\n",
            "  adding: content/data_with_masks_compressed/data_with_mask-335-compressed.jpg (deflated 1%)\n",
            "  adding: content/data_with_masks_compressed/data_with_mask-539-compressed.jpg (deflated 2%)\n",
            "  adding: content/data_with_masks_compressed/data_with_mask-426-compressed.jpg (deflated 1%)\n",
            "  adding: content/data_with_masks_compressed/data_with_mask-541-compressed.jpg (deflated 1%)\n",
            "  adding: content/data_with_masks_compressed/data_with_mask-533-compressed.jpg (deflated 1%)\n",
            "  adding: content/data_with_masks_compressed/data_with_mask-56-compressed.jpg (deflated 1%)\n",
            "  adding: content/data_with_masks_compressed/data_with_mask-257-compressed.jpg (deflated 0%)\n",
            "  adding: content/data_with_masks_compressed/data_with_mask-425-compressed.jpg (deflated 1%)\n",
            "  adding: content/data_with_masks_compressed/data_with_mask-25-compressed.jpg (deflated 1%)\n",
            "  adding: content/data_with_masks_compressed/data_with_mask-490-compressed.jpg (deflated 1%)\n",
            "  adding: content/data_with_masks_compressed/data_with_mask-267-compressed.jpg (deflated 1%)\n",
            "  adding: content/data_with_masks_compressed/data_with_mask-424-compressed.jpg (deflated 1%)\n",
            "  adding: content/data_with_masks_compressed/data_with_mask-352-compressed.jpg (deflated 2%)\n",
            "  adding: content/data_with_masks_compressed/data_with_mask-301-compressed.jpg (deflated 1%)\n",
            "  adding: content/data_with_masks_compressed/data_with_mask-255-compressed.jpg (deflated 8%)\n",
            "  adding: content/data_with_masks_compressed/data_with_mask-175-compressed.jpg (deflated 1%)\n",
            "  adding: content/data_with_masks_compressed/data_with_mask-332-compressed.jpg (deflated 0%)\n",
            "  adding: content/data_with_masks_compressed/data_with_mask-297-compressed.jpg (deflated 1%)\n",
            "  adding: content/data_with_masks_compressed/data_with_mask-192-compressed.jpg (deflated 0%)\n",
            "  adding: content/data_with_masks_compressed/data_with_mask-89-compressed.jpg (deflated 0%)\n",
            "  adding: content/data_with_masks_compressed/data_with_mask-472-compressed.jpg (deflated 1%)\n",
            "  adding: content/data_with_masks_compressed/data_with_mask-64-compressed.jpg (deflated 2%)\n",
            "  adding: content/data_with_masks_compressed/data_with_mask-566-compressed.jpg (deflated 1%)\n",
            "  adding: content/data_with_masks_compressed/data_with_mask-28-compressed.jpg (deflated 1%)\n",
            "  adding: content/data_with_masks_compressed/data_with_mask-172-compressed.jpg (deflated 1%)\n",
            "  adding: content/data_with_masks_compressed/data_with_mask-311-compressed.jpg (deflated 1%)\n",
            "  adding: content/data_with_masks_compressed/data_with_mask-111-compressed.jpg (deflated 2%)\n",
            "  adding: content/data_with_masks_compressed/data_with_mask-312-compressed.jpg (deflated 2%)\n",
            "  adding: content/data_with_masks_compressed/data_with_mask-254-compressed.jpg (deflated 2%)\n",
            "  adding: content/data_with_masks_compressed/data_with_mask-285-compressed.jpg (deflated 1%)\n",
            "  adding: content/data_with_masks_compressed/data_with_mask-557-compressed.jpg (deflated 2%)\n",
            "  adding: content/data_with_masks_compressed/data_with_mask-283-compressed.jpg (deflated 1%)\n",
            "  adding: content/data_with_masks_compressed/data_with_mask-73-compressed.jpg (deflated 2%)\n",
            "  adding: content/data_with_masks_compressed/data_with_mask-169-compressed.jpg (deflated 1%)\n",
            "  adding: content/data_with_masks_compressed/data_with_mask-436-compressed.jpg (deflated 1%)\n",
            "  adding: content/data_with_masks_compressed/data_with_mask-121-compressed.jpg (deflated 2%)\n",
            "  adding: content/data_with_masks_compressed/data_with_mask-565-compressed.jpg (deflated 2%)\n",
            "  adding: content/data_with_masks_compressed/data_with_mask-91-compressed.jpg (deflated 1%)\n",
            "  adding: content/data_with_masks_compressed/data_with_mask-93-compressed.jpg (deflated 1%)\n",
            "  adding: content/data_with_masks_compressed/data_with_mask-445-compressed.jpg (deflated 1%)\n",
            "  adding: content/data_with_masks_compressed/data_with_mask-158-compressed.jpg (deflated 1%)\n",
            "  adding: content/data_with_masks_compressed/data_with_mask-142-compressed.jpg (deflated 1%)\n",
            "  adding: content/data_with_masks_compressed/data_with_mask-510-compressed.jpg (deflated 2%)\n",
            "  adding: content/data_with_masks_compressed/data_with_mask-49-compressed.jpg (deflated 1%)\n",
            "  adding: content/data_with_masks_compressed/data_with_mask-68-compressed.jpg (deflated 1%)\n",
            "  adding: content/data_with_masks_compressed/data_with_mask-61-compressed.jpg (deflated 1%)\n",
            "  adding: content/data_with_masks_compressed/data_with_mask-543-compressed.jpg (deflated 1%)\n",
            "  adding: content/data_with_masks_compressed/data_with_mask-330-compressed.jpg (deflated 1%)\n",
            "  adding: content/data_with_masks_compressed/data_with_mask-143-compressed.jpg (deflated 3%)\n",
            "  adding: content/data_with_masks_compressed/data_with_mask-279-compressed.jpg (deflated 1%)\n",
            "  adding: content/data_with_masks_compressed/data_with_mask-410-compressed.jpg (deflated 2%)\n",
            "  adding: content/data_with_masks_compressed/data_with_mask-327-compressed.jpg (deflated 2%)\n",
            "  adding: content/data_with_masks_compressed/data_with_mask-190-compressed.jpg (deflated 2%)\n",
            "  adding: content/data_with_masks_compressed/data_with_mask-460-compressed.jpg (deflated 2%)\n",
            "  adding: content/data_with_masks_compressed/data_with_mask-452-compressed.jpg (deflated 1%)\n",
            "  adding: content/data_with_masks_compressed/data_with_mask-6-compressed.jpg (deflated 1%)\n",
            "  adding: content/data_with_masks_compressed/data_with_mask-402-compressed.jpg (deflated 1%)\n",
            "  adding: content/data_with_masks_compressed/data_with_mask-24-compressed.jpg (deflated 2%)\n",
            "  adding: content/data_with_masks_compressed/data_with_mask-4-compressed.jpg (deflated 1%)\n",
            "  adding: content/data_with_masks_compressed/data_with_mask-60-compressed.jpg (deflated 2%)\n",
            "  adding: content/data_with_masks_compressed/data_with_mask-521-compressed.jpg (deflated 1%)\n",
            "  adding: content/data_with_masks_compressed/data_with_mask-119-compressed.jpg (deflated 2%)\n",
            "  adding: content/data_with_masks_compressed/data_with_mask-453-compressed.jpg (deflated 2%)\n",
            "  adding: content/data_with_masks_compressed/data_with_mask-300-compressed.jpg (deflated 1%)\n",
            "  adding: content/data_with_masks_compressed/data_with_mask-200-compressed.jpg (deflated 1%)\n",
            "  adding: content/data_with_masks_compressed/data_with_mask-188-compressed.jpg (deflated 1%)\n",
            "  adding: content/data_with_masks_compressed/data_with_mask-236-compressed.jpg (deflated 0%)\n",
            "  adding: content/data_with_masks_compressed/data_with_mask-477-compressed.jpg (deflated 2%)\n",
            "  adding: content/data_with_masks_compressed/data_with_mask-251-compressed.jpg (deflated 1%)\n",
            "  adding: content/data_with_masks_compressed/data_with_mask-201-compressed.jpg (deflated 1%)\n",
            "  adding: content/data_with_masks_compressed/data_with_mask-50-compressed.jpg (deflated 2%)\n",
            "  adding: content/data_with_masks_compressed/data_with_mask-487-compressed.jpg (deflated 1%)\n",
            "  adding: content/data_with_masks_compressed/data_with_mask-314-compressed.jpg (deflated 2%)\n",
            "  adding: content/data_with_masks_compressed/data_with_mask-423-compressed.jpg (deflated 1%)\n",
            "  adding: content/data_with_masks_compressed/data_with_mask-11-compressed.jpg (deflated 1%)\n",
            "  adding: content/data_with_masks_compressed/data_with_mask-455-compressed.jpg (deflated 1%)\n",
            "  adding: content/data_with_masks_compressed/data_with_mask-512-compressed.jpg (deflated 1%)\n",
            "  adding: content/data_with_masks_compressed/data_with_mask-307-compressed.jpg (deflated 2%)\n",
            "  adding: content/data_with_masks_compressed/data_with_mask-309-compressed.jpg (deflated 1%)\n",
            "  adding: content/data_with_masks_compressed/data_with_mask-208-compressed.jpg (deflated 1%)\n",
            "  adding: content/data_with_masks_compressed/data_with_mask-384-compressed.jpg (deflated 2%)\n",
            "  adding: content/data_with_masks_compressed/data_with_mask-361-compressed.jpg (deflated 2%)\n",
            "  adding: content/data_with_masks_compressed/data_with_mask-441-compressed.jpg (deflated 2%)\n",
            "  adding: content/data_with_masks_compressed/data_with_mask-246-compressed.jpg (deflated 2%)\n",
            "  adding: content/data_with_masks_compressed/data_with_mask-561-compressed.jpg (deflated 1%)\n",
            "  adding: content/data_with_masks_compressed/data_with_mask-135-compressed.jpg (deflated 2%)\n",
            "  adding: content/data_with_masks_compressed/data_with_mask-560-compressed.jpg (deflated 1%)\n",
            "  adding: content/data_with_masks_compressed/data_with_mask-222-compressed.jpg (deflated 2%)\n",
            "  adding: content/data_with_masks_compressed/data_with_mask-479-compressed.jpg (deflated 2%)\n",
            "  adding: content/data_with_masks_compressed/data_with_mask-493-compressed.jpg (deflated 1%)\n",
            "  adding: content/data_with_masks_compressed/data_with_mask-476-compressed.jpg (deflated 1%)\n",
            "  adding: content/data_with_masks_compressed/data_with_mask-37-compressed.jpg (deflated 2%)\n",
            "  adding: content/data_with_masks_compressed/data_with_mask-364-compressed.jpg (deflated 1%)\n",
            "  adding: content/data_with_masks_compressed/data_with_mask-124-compressed.jpg (deflated 2%)\n",
            "  adding: content/data_with_masks_compressed/data_with_mask-157-compressed.jpg (deflated 1%)\n",
            "  adding: content/data_with_masks_compressed/data_with_mask-329-compressed.jpg (deflated 1%)\n",
            "  adding: content/data_with_masks_compressed/data_with_mask-532-compressed.jpg (deflated 1%)\n",
            "  adding: content/data_with_masks_compressed/data_with_mask-153-compressed.jpg (deflated 1%)\n",
            "  adding: content/data_with_masks_compressed/data_with_mask-434-compressed.jpg (deflated 1%)\n",
            "  adding: content/data_with_masks_compressed/data_with_mask-468-compressed.jpg (deflated 2%)\n",
            "  adding: content/data_with_masks_compressed/data_with_mask-33-compressed.jpg (deflated 1%)\n",
            "  adding: content/data_with_masks_compressed/data_with_mask-228-compressed.jpg (deflated 2%)\n",
            "  adding: content/data_with_masks_compressed/data_with_mask-118-compressed.jpg (deflated 4%)\n",
            "  adding: content/data_with_masks_compressed/data_with_mask-244-compressed.jpg (deflated 1%)\n",
            "  adding: content/data_with_masks_compressed/data_with_mask-45-compressed.jpg (deflated 1%)\n",
            "  adding: content/data_with_masks_compressed/data_with_mask-136-compressed.jpg (deflated 1%)\n",
            "  adding: content/data_with_masks_compressed/data_with_mask-81-compressed.jpg (deflated 1%)\n",
            "  adding: content/data_with_masks_compressed/data_with_mask-112-compressed.jpg (deflated 2%)\n",
            "  adding: content/data_with_masks_compressed/data_with_mask-299-compressed.jpg (deflated 2%)\n",
            "  adding: content/data_with_masks_compressed/data_with_mask-205-compressed.jpg (deflated 1%)\n",
            "  adding: content/data_with_masks_compressed/data_with_mask-523-compressed.jpg (deflated 2%)\n",
            "  adding: content/data_with_masks_compressed/data_with_mask-8-compressed.jpg (deflated 1%)\n",
            "  adding: content/data_with_masks_compressed/data_with_mask-44-compressed.jpg (deflated 1%)\n",
            "  adding: content/data_with_masks_compressed/data_with_mask-376-compressed.jpg (deflated 1%)\n",
            "  adding: content/data_with_masks_compressed/data_with_mask-443-compressed.jpg (deflated 1%)\n",
            "  adding: content/data_with_masks_compressed/data_with_mask-571-compressed.jpg (deflated 1%)\n",
            "  adding: content/data_with_masks_compressed/data_with_mask-334-compressed.jpg (deflated 2%)\n",
            "  adding: content/data_with_masks_compressed/data_with_mask-114-compressed.jpg (deflated 2%)\n",
            "  adding: content/data_with_masks_compressed/data_with_mask-116-compressed.jpg (deflated 1%)\n",
            "  adding: content/data_with_masks_compressed/data_with_mask-420-compressed.jpg (deflated 2%)\n",
            "  adding: content/data_with_masks_compressed/data_with_mask-30-compressed.jpg (deflated 2%)\n",
            "  adding: content/data_with_masks_compressed/data_with_mask-375-compressed.jpg (deflated 2%)\n",
            "  adding: content/data_with_masks_compressed/data_with_mask-284-compressed.jpg (deflated 2%)\n",
            "  adding: content/data_with_masks_compressed/data_with_mask-524-compressed.jpg (deflated 2%)\n",
            "  adding: content/data_with_masks_compressed/data_with_mask-553-compressed.jpg (deflated 1%)\n",
            "  adding: content/data_with_masks_compressed/data_with_mask-519-compressed.jpg (deflated 0%)\n",
            "  adding: content/data_with_masks_compressed/data_with_mask-125-compressed.jpg (deflated 2%)\n",
            "  adding: content/data_with_masks_compressed/data_with_mask-304-compressed.jpg (deflated 22%)\n",
            "  adding: content/data_with_masks_compressed/data_with_mask-249-compressed.jpg (deflated 2%)\n",
            "  adding: content/data_with_masks_compressed/data_with_mask-538-compressed.jpg (deflated 1%)\n",
            "  adding: content/data_with_masks_compressed/data_with_mask-401-compressed.jpg (deflated 2%)\n",
            "  adding: content/data_with_masks_compressed/data_with_mask-219-compressed.jpg (deflated 2%)\n",
            "  adding: content/data_with_masks_compressed/data_with_mask-459-compressed.jpg (deflated 2%)\n",
            "  adding: content/data_with_masks_compressed/data_with_mask-213-compressed.jpg (deflated 1%)\n",
            "  adding: content/data_with_masks_compressed/data_with_mask-191-compressed.jpg (deflated 0%)\n",
            "  adding: content/data_with_masks_compressed/data_with_mask-2-compressed.jpg (deflated 5%)\n",
            "  adding: content/data_with_masks_compressed/data_with_mask-428-compressed.jpg (deflated 1%)\n",
            "  adding: content/data_with_masks_compressed/data_with_mask-189-compressed.jpg (deflated 1%)\n",
            "  adding: content/data_with_masks_compressed/data_with_mask-385-compressed.jpg (deflated 1%)\n",
            "  adding: content/data_with_masks_compressed/data_with_mask-365-compressed.jpg (deflated 1%)\n",
            "  adding: content/data_with_masks_compressed/data_with_mask-247-compressed.jpg (deflated 1%)\n",
            "  adding: content/data_with_masks_compressed/data_with_mask-147-compressed.jpg (deflated 0%)\n",
            "  adding: content/data_with_masks_compressed/data_with_mask-55-compressed.jpg (deflated 1%)\n",
            "  adding: content/data_with_masks_compressed/data_with_mask-162-compressed.jpg (deflated 2%)\n",
            "  adding: content/data_with_masks_compressed/data_with_mask-46-compressed.jpg (deflated 1%)\n",
            "  adding: content/data_with_masks_compressed/data_with_mask-87-compressed.jpg (deflated 1%)\n",
            "  adding: content/data_with_masks_compressed/data_with_mask-130-compressed.jpg (deflated 2%)\n",
            "  adding: content/data_with_masks_compressed/data_with_mask-282-compressed.jpg (deflated 1%)\n",
            "  adding: content/data_with_masks_compressed/data_with_mask-261-compressed.jpg (deflated 2%)\n",
            "  adding: content/data_with_masks_compressed/data_with_mask-372-compressed.jpg (deflated 2%)\n",
            "  adding: content/data_with_masks_compressed/data_with_mask-123-compressed.jpg (deflated 2%)\n",
            "  adding: content/data_with_masks_compressed/data_with_mask-406-compressed.jpg (deflated 1%)\n",
            "  adding: content/data_with_masks_compressed/data_with_mask-546-compressed.jpg (deflated 2%)\n",
            "  adding: content/data_with_masks_compressed/data_with_mask-321-compressed.jpg (deflated 1%)\n",
            "  adding: content/data_with_masks_compressed/data_with_mask-357-compressed.jpg (deflated 2%)\n",
            "  adding: content/data_with_masks_compressed/data_with_mask-84-compressed.jpg (deflated 1%)\n",
            "  adding: content/data_with_masks_compressed/data_with_mask-155-compressed.jpg (deflated 0%)\n",
            "  adding: content/data_with_masks_compressed/data_with_mask-90-compressed.jpg (deflated 1%)\n",
            "  adding: content/data_with_masks_compressed/data_with_mask-429-compressed.jpg (deflated 2%)\n",
            "  adding: content/data_with_masks_compressed/data_with_mask-290-compressed.jpg (deflated 2%)\n",
            "  adding: content/data_with_masks_compressed/data_with_mask-294-compressed.jpg (deflated 0%)\n",
            "  adding: content/data_with_masks_compressed/data_with_mask-438-compressed.jpg (deflated 1%)\n",
            "  adding: content/data_with_masks_compressed/data_with_mask-110-compressed.jpg (deflated 1%)\n",
            "  adding: content/data_with_masks_compressed/data_with_mask-180-compressed.jpg (deflated 2%)\n",
            "  adding: content/data_with_masks_compressed/data_with_mask-341-compressed.jpg (deflated 1%)\n",
            "  adding: content/data_with_masks_compressed/data_with_mask-108-compressed.jpg (deflated 1%)\n",
            "  adding: content/data_with_masks_compressed/data_with_mask-178-compressed.jpg (deflated 1%)\n",
            "  adding: content/data_with_masks_compressed/data_with_mask-555-compressed.jpg (deflated 2%)\n",
            "  adding: content/data_with_masks_compressed/data_with_mask-501-compressed.jpg (deflated 1%)\n",
            "  adding: content/data_with_masks_compressed/data_with_mask-529-compressed.jpg (deflated 1%)\n",
            "  adding: content/data_with_masks_compressed/data_with_mask-418-compressed.jpg (deflated 1%)\n",
            "  adding: content/data_with_masks_compressed/data_with_mask-39-compressed.jpg (deflated 2%)\n",
            "  adding: content/data_with_masks_compressed/data_with_mask-370-compressed.jpg (deflated 2%)\n",
            "  adding: content/data_with_masks_compressed/data_with_mask-411-compressed.jpg (deflated 2%)\n",
            "  adding: content/data_with_masks_compressed/data_with_mask-105-compressed.jpg (deflated 0%)\n",
            "  adding: content/data_with_masks_compressed/data_with_mask-270-compressed.jpg (deflated 1%)\n",
            "  adding: content/data_with_masks_compressed/data_with_mask-225-compressed.jpg (deflated 1%)\n",
            "  adding: content/data_with_masks_compressed/data_with_mask-354-compressed.jpg (deflated 1%)\n",
            "  adding: content/data_with_masks_compressed/data_with_mask-276-compressed.jpg (deflated 2%)\n",
            "  adding: content/data_with_masks_compressed/data_with_mask-139-compressed.jpg (deflated 1%)\n",
            "  adding: content/data_with_masks_compressed/data_with_mask-52-compressed.jpg (deflated 1%)\n",
            "  adding: content/data_with_masks_compressed/data_with_mask-21-compressed.jpg (deflated 2%)\n",
            "  adding: content/data_with_masks_compressed/data_with_mask-417-compressed.jpg (deflated 0%)\n",
            "  adding: content/data_with_masks_compressed/data_with_mask-260-compressed.jpg (deflated 2%)\n",
            "  adding: content/data_with_masks_compressed/data_with_mask-245-compressed.jpg (deflated 1%)\n",
            "  adding: content/data_with_masks_compressed/data_with_mask-22-compressed.jpg (deflated 2%)\n",
            "  adding: content/data_with_masks_compressed/data_with_mask-137-compressed.jpg (deflated 2%)\n",
            "  adding: content/data_with_masks_compressed/data_with_mask-342-compressed.jpg (deflated 2%)\n",
            "  adding: content/data_with_masks_compressed/data_with_mask-7-compressed.jpg (deflated 2%)\n",
            "  adding: content/data_with_masks_compressed/data_with_mask-27-compressed.jpg (deflated 1%)\n",
            "  adding: content/data_with_masks_compressed/data_with_mask-235-compressed.jpg (deflated 1%)\n",
            "  adding: content/data_with_masks_compressed/data_with_mask-430-compressed.jpg (deflated 1%)\n",
            "  adding: content/data_with_masks_compressed/data_with_mask-164-compressed.jpg (deflated 1%)\n",
            "  adding: content/data_with_masks_compressed/data_with_mask-502-compressed.jpg (deflated 1%)\n",
            "  adding: content/data_with_masks_compressed/data_with_mask-29-compressed.jpg (deflated 1%)\n",
            "  adding: content/data_with_masks_compressed/data_with_mask-377-compressed.jpg (deflated 2%)\n",
            "  adding: content/data_with_masks_compressed/data_with_mask-380-compressed.jpg (deflated 1%)\n",
            "  adding: content/data_with_masks_compressed/data_with_mask-465-compressed.jpg (deflated 2%)\n",
            "  adding: content/data_with_masks_compressed/data_with_mask-101-compressed.jpg (deflated 2%)\n",
            "  adding: content/data_with_masks_compressed/data_with_mask-435-compressed.jpg (deflated 2%)\n",
            "  adding: content/data_with_masks_compressed/data_with_mask-264-compressed.jpg (deflated 1%)\n",
            "  adding: content/data_with_masks_compressed/data_with_mask-513-compressed.jpg (deflated 1%)\n",
            "  adding: content/data_with_masks_compressed/data_with_mask-240-compressed.jpg (deflated 1%)\n",
            "  adding: content/data_with_masks_compressed/data_with_mask-458-compressed.jpg (deflated 2%)\n",
            "  adding: content/data_with_masks_compressed/data_with_mask-181-compressed.jpg (deflated 1%)\n",
            "  adding: content/data_with_masks_compressed/data_with_mask-271-compressed.jpg (deflated 1%)\n",
            "  adding: content/data_with_masks_compressed/data_with_mask-272-compressed.jpg (deflated 1%)\n",
            "  adding: content/data_with_masks_compressed/data_with_mask-47-compressed.jpg (deflated 1%)\n",
            "  adding: content/data_with_masks_compressed/data_with_mask-537-compressed.jpg (deflated 1%)\n",
            "  adding: content/data_with_masks_compressed/data_with_mask-324-compressed.jpg (deflated 3%)\n",
            "  adding: content/data_with_masks_compressed/data_with_mask-442-compressed.jpg (deflated 1%)\n",
            "  adding: content/data_with_masks_compressed/data_with_mask-67-compressed.jpg (deflated 2%)\n",
            "  adding: content/data_with_masks_compressed/data_with_mask-296-compressed.jpg (deflated 1%)\n",
            "  adding: content/data_with_masks_compressed/data_with_mask-126-compressed.jpg (deflated 1%)\n",
            "  adding: content/data_with_masks_compressed/data_with_mask-31-compressed.jpg (deflated 2%)\n",
            "  adding: content/data_with_masks_compressed/data_with_mask-229-compressed.jpg (deflated 2%)\n",
            "  adding: content/data_with_masks_compressed/data_with_mask-345-compressed.jpg (deflated 2%)\n",
            "  adding: content/data_with_masks_compressed/data_with_mask-253-compressed.jpg (deflated 1%)\n",
            "  adding: content/data_with_masks_compressed/data_with_mask-160-compressed.jpg (deflated 1%)\n",
            "  adding: content/data_with_masks_compressed/data_with_mask-554-compressed.jpg (deflated 1%)\n",
            "  adding: content/data_with_masks_compressed/data_with_mask-97-compressed.jpg (deflated 1%)\n",
            "  adding: content/data_with_masks_compressed/data_with_mask-320-compressed.jpg (deflated 1%)\n",
            "  adding: content/data_with_masks_compressed/data_with_mask-9-compressed.jpg (deflated 2%)\n",
            "  adding: content/data_with_masks_compressed/data_with_mask-526-compressed.jpg (deflated 1%)\n",
            "  adding: content/data_with_masks_compressed/data_with_mask-494-compressed.jpg (deflated 2%)\n",
            "  adding: content/data_with_masks_compressed/data_with_mask-405-compressed.jpg (deflated 2%)\n",
            "  adding: content/data_with_masks_compressed/data_with_mask-265-compressed.jpg (deflated 1%)\n",
            "  adding: content/data_with_masks_compressed/data_with_mask-359-compressed.jpg (deflated 2%)\n",
            "  adding: content/data_with_masks_compressed/data_with_mask-103-compressed.jpg (deflated 1%)\n",
            "  adding: content/data_with_masks_compressed/data_with_mask-398-compressed.jpg (deflated 1%)\n",
            "  adding: content/data_with_masks_compressed/data_with_mask-65-compressed.jpg (deflated 2%)\n",
            "  adding: content/data_with_masks_compressed/data_with_mask-174-compressed.jpg (deflated 1%)\n",
            "  adding: content/data_with_masks_compressed/data_with_mask-333-compressed.jpg (deflated 1%)\n",
            "  adding: content/data_with_masks_compressed/data_with_mask-542-compressed.jpg (deflated 2%)\n",
            "  adding: content/data_with_masks_compressed/data_with_mask-316-compressed.jpg (deflated 2%)\n",
            "  adding: content/data_with_masks_compressed/data_with_mask-216-compressed.jpg (deflated 2%)\n",
            "  adding: content/data_with_masks_compressed/data_with_mask-413-compressed.jpg (deflated 1%)\n",
            "  adding: content/data_with_masks_compressed/data_with_mask-337-compressed.jpg (deflated 2%)\n",
            "  adding: content/data_with_masks_compressed/data_with_mask-51-compressed.jpg (deflated 2%)\n",
            "  adding: content/data_with_masks_compressed/data_with_mask-266-compressed.jpg (deflated 1%)\n",
            "  adding: content/data_with_masks_compressed/data_with_mask-485-compressed.jpg (deflated 2%)\n",
            "  adding: content/data_with_masks_compressed/data_with_mask-439-compressed.jpg (deflated 1%)\n",
            "  adding: content/data_with_masks_compressed/data_with_mask-448-compressed.jpg (deflated 2%)\n",
            "  adding: content/data_with_masks_compressed/data_with_mask-388-compressed.jpg (deflated 2%)\n",
            "  adding: content/data_with_masks_compressed/data_with_mask-75-compressed.jpg (deflated 1%)\n",
            "  adding: content/data_with_masks_compressed/data_with_mask-99-compressed.jpg (deflated 1%)\n",
            "  adding: content/data_with_masks_compressed/data_with_mask-547-compressed.jpg (deflated 2%)\n",
            "  adding: content/data_with_masks_compressed/data_with_mask-525-compressed.jpg (deflated 2%)\n",
            "  adding: content/data_with_masks_compressed/data_with_mask-199-compressed.jpg (deflated 2%)\n",
            "  adding: content/data_with_masks_compressed/data_with_mask-13-compressed.jpg (deflated 2%)\n",
            "  adding: content/data_with_masks_compressed/data_with_mask-462-compressed.jpg (deflated 1%)\n",
            "  adding: content/data_with_masks_compressed/data_with_mask-215-compressed.jpg (deflated 1%)\n",
            "  adding: content/data_with_masks_compressed/data_with_mask-19-compressed.jpg (deflated 2%)\n",
            "  adding: content/data_with_masks_compressed/data_with_mask-504-compressed.jpg (deflated 2%)\n",
            "  adding: content/data_with_masks_compressed/data_with_mask-522-compressed.jpg (deflated 1%)\n",
            "  adding: content/data_with_masks_compressed/data_with_mask-203-compressed.jpg (deflated 2%)\n",
            "  adding: content/data_with_masks_compressed/data_with_mask-367-compressed.jpg (deflated 2%)\n",
            "  adding: content/data_with_masks_compressed/data_with_mask-198-compressed.jpg (deflated 1%)\n",
            "  adding: content/data_with_masks_compressed/data_with_mask-527-compressed.jpg (deflated 2%)\n",
            "  adding: content/data_with_masks_compressed/data_with_mask-310-compressed.jpg (deflated 1%)\n",
            "  adding: content/data_with_masks_compressed/data_with_mask-238-compressed.jpg (deflated 1%)\n",
            "  adding: content/data_with_masks_compressed/data_with_mask-302-compressed.jpg (deflated 2%)\n",
            "  adding: content/data_with_masks_compressed/data_with_mask-258-compressed.jpg (deflated 1%)\n",
            "  adding: content/data_with_masks_compressed/data_with_mask-496-compressed.jpg (deflated 2%)\n",
            "  adding: content/data_with_masks_compressed/data_with_mask-481-compressed.jpg (deflated 1%)\n",
            "  adding: content/data_with_masks_compressed/data_with_mask-491-compressed.jpg (deflated 4%)\n",
            "  adding: content/data_with_masks_compressed/data_with_mask-371-compressed.jpg (deflated 1%)\n",
            "  adding: content/data_with_masks_compressed/data_with_mask-268-compressed.jpg (deflated 1%)\n",
            "  adding: content/data_with_masks_compressed/data_with_mask-440-compressed.jpg (deflated 2%)\n",
            "  adding: content/data_with_masks_compressed/data_with_mask-449-compressed.jpg (deflated 1%)\n",
            "  adding: content/data_with_masks_compressed/data_with_mask-378-compressed.jpg (deflated 2%)\n",
            "  adding: content/data_with_masks_compressed/data_with_mask-26-compressed.jpg (deflated 1%)\n",
            "  adding: content/data_with_masks_compressed/data_with_mask-62-compressed.jpg (deflated 12%)\n",
            "  adding: content/data_with_masks_compressed/data_with_mask-104-compressed.jpg (deflated 2%)\n",
            "  adding: content/data_with_masks_compressed/data_with_mask-286-compressed.jpg (deflated 2%)\n",
            "  adding: content/data_with_masks_compressed/data_with_mask-183-compressed.jpg (deflated 1%)\n",
            "  adding: content/data_with_masks_compressed/data_with_mask-239-compressed.jpg (deflated 1%)\n",
            "  adding: content/data_with_masks_compressed/data_with_mask-396-compressed.jpg (deflated 1%)\n",
            "  adding: content/data_with_masks_compressed/data_with_mask-233-compressed.jpg (deflated 1%)\n",
            "  adding: content/data_with_masks_compressed/data_with_mask-545-compressed.jpg (deflated 1%)\n",
            "  adding: content/data_with_masks_compressed/data_with_mask-196-compressed.jpg (deflated 3%)\n",
            "  adding: content/data_with_masks_compressed/data_with_mask-209-compressed.jpg (deflated 1%)\n",
            "  adding: content/data_with_masks_compressed/data_with_mask-237-compressed.jpg (deflated 1%)\n",
            "  adding: content/data_with_masks_compressed/data_with_mask-536-compressed.jpg (deflated 1%)\n",
            "  adding: content/data_with_masks_compressed/data_with_mask-298-compressed.jpg (deflated 2%)\n",
            "  adding: content/data_with_masks_compressed/data_with_mask-5-compressed.jpg (deflated 1%)\n",
            "  adding: content/data_with_masks_compressed/data_with_mask-397-compressed.jpg (deflated 1%)\n",
            "  adding: content/data_with_masks_compressed/data_with_mask-48-compressed.jpg (deflated 1%)\n",
            "  adding: content/data_with_masks_compressed/data_with_mask-211-compressed.jpg (deflated 1%)\n",
            "  adding: content/data_with_masks_compressed/data_with_mask-379-compressed.jpg (deflated 2%)\n",
            "  adding: content/data_with_masks_compressed/data_with_mask-473-compressed.jpg (deflated 2%)\n",
            "  adding: content/data_with_masks_compressed/data_with_mask-331-compressed.jpg (deflated 2%)\n",
            "  adding: content/data_with_masks_compressed/data_with_mask-252-compressed.jpg (deflated 1%)\n",
            "  adding: content/data_with_masks_compressed/data_with_mask-132-compressed.jpg (deflated 1%)\n",
            "  adding: content/data_with_masks_compressed/data_with_mask-140-compressed.jpg (deflated 1%)\n",
            "  adding: content/data_with_masks_compressed/data_with_mask-231-compressed.jpg (deflated 1%)\n",
            "  adding: content/data_with_masks_compressed/data_with_mask-325-compressed.jpg (deflated 1%)\n",
            "  adding: content/data_with_masks_compressed/data_with_mask-42-compressed.jpg (deflated 2%)\n",
            "  adding: content/data_with_masks_compressed/data_with_mask-567-compressed.jpg (deflated 1%)\n",
            "  adding: content/data_with_masks_compressed/data_with_mask-193-compressed.jpg (deflated 2%)\n",
            "  adding: content/data_with_masks_compressed/data_with_mask-128-compressed.jpg (deflated 3%)\n",
            "  adding: content/data_with_masks_compressed/data_with_mask-447-compressed.jpg (deflated 2%)\n",
            "  adding: content/data_with_masks_compressed/data_with_mask-152-compressed.jpg (deflated 1%)\n",
            "  adding: content/data_with_masks_compressed/data_with_mask-38-compressed.jpg (deflated 2%)\n",
            "  adding: content/data_with_masks_compressed/data_with_mask-386-compressed.jpg (deflated 1%)\n",
            "  adding: content/data_with_masks_compressed/data_with_mask-389-compressed.jpg (deflated 2%)\n",
            "  adding: content/data_with_masks_compressed/data_with_mask-349-compressed.jpg (deflated 2%)\n",
            "  adding: content/data_with_masks_compressed/data_with_mask-551-compressed.jpg (deflated 2%)\n",
            "  adding: content/data_with_masks_compressed/data_with_mask-149-compressed.jpg (deflated 1%)\n",
            "  adding: content/data_with_masks_compressed/data_with_mask-131-compressed.jpg (deflated 2%)\n",
            "  adding: content/data_with_masks_compressed/data_with_mask-390-compressed.jpg (deflated 1%)\n",
            "  adding: content/data_with_masks_compressed/data_with_mask-293-compressed.jpg (deflated 1%)\n",
            "  adding: content/data_with_masks_compressed/data_with_mask-206-compressed.jpg (deflated 2%)\n",
            "  adding: content/data_with_masks_compressed/data_with_mask-295-compressed.jpg (deflated 1%)\n",
            "  adding: content/data_with_masks_compressed/data_with_mask-483-compressed.jpg (deflated 2%)\n",
            "  adding: content/data_with_masks_compressed/data_with_mask-134-compressed.jpg (deflated 1%)\n",
            "  adding: content/data_with_masks_compressed/data_with_mask-387-compressed.jpg (deflated 2%)\n",
            "  adding: content/data_with_masks_compressed/data_with_mask-550-compressed.jpg (deflated 1%)\n",
            "  adding: content/data_with_masks_compressed/data_with_mask-353-compressed.jpg (deflated 1%)\n",
            "  adding: content/data_with_masks_compressed/data_with_mask-347-compressed.jpg (deflated 2%)\n",
            "  adding: content/data_with_masks_compressed/data_with_mask-306-compressed.jpg (deflated 2%)\n",
            "  adding: content/data_with_masks_compressed/data_with_mask-515-compressed.jpg (deflated 1%)\n",
            "  adding: content/data_with_masks_compressed/data_with_mask-40-compressed.jpg (deflated 1%)\n",
            "  adding: content/data_with_masks_compressed/data_with_mask-122-compressed.jpg (deflated 1%)\n",
            "  adding: content/data_with_masks_compressed/data_with_mask-383-compressed.jpg (deflated 1%)\n",
            "  adding: content/data_with_masks_compressed/data_with_mask-36-compressed.jpg (deflated 0%)\n",
            "  adding: content/data_with_masks_compressed/data_with_mask-450-compressed.jpg (deflated 1%)\n",
            "  adding: content/data_with_masks_compressed/data_with_mask-207-compressed.jpg (deflated 1%)\n",
            "  adding: content/data_with_masks_compressed/data_with_mask-43-compressed.jpg (deflated 2%)\n",
            "  adding: content/data_with_masks_compressed/data_with_mask-57-compressed.jpg (deflated 2%)\n",
            "  adding: content/data_with_masks_compressed/data_with_mask-1-compressed.jpg (deflated 2%)\n",
            "  adding: content/data_with_masks_compressed/data_with_mask-464-compressed.jpg (deflated 2%)\n",
            "  adding: content/data_with_masks_compressed/data_with_mask-403-compressed.jpg (deflated 0%)\n",
            "  adding: content/data_with_masks_compressed/data_with_mask-563-compressed.jpg (deflated 2%)\n",
            "  adding: content/data_with_masks_compressed/data_with_mask-305-compressed.jpg (deflated 2%)\n",
            "  adding: content/data_with_masks_compressed/data_with_mask-356-compressed.jpg (deflated 1%)\n",
            "  adding: content/data_with_masks_compressed/data_with_mask-549-compressed.jpg (deflated 2%)\n",
            "  adding: content/data_with_masks_compressed/data_with_mask-70-compressed.jpg (deflated 1%)\n",
            "  adding: content/data_with_masks_compressed/data_with_mask-322-compressed.jpg (deflated 1%)\n",
            "  adding: content/data_with_masks_compressed/data_with_mask-278-compressed.jpg (deflated 3%)\n",
            "  adding: content/data_with_masks_compressed/data_with_mask-339-compressed.jpg (deflated 1%)\n",
            "  adding: content/data_with_masks_compressed/data_with_mask-194-compressed.jpg (deflated 1%)\n",
            "  adding: content/data_with_masks_compressed/data_with_mask-74-compressed.jpg (deflated 2%)\n",
            "  adding: content/data_with_masks_compressed/data_with_mask-394-compressed.jpg (deflated 3%)\n",
            "  adding: content/data_with_masks_compressed/data_with_mask-85-compressed.jpg (deflated 2%)\n",
            "  adding: content/data_with_masks_compressed/data_with_mask-530-compressed.jpg (deflated 1%)\n",
            "  adding: content/data_with_masks_compressed/data_with_mask-366-compressed.jpg (deflated 2%)\n",
            "  adding: content/data_with_masks_compressed/data_with_mask-197-compressed.jpg (deflated 2%)\n",
            "  adding: content/data_with_masks_compressed/data_with_mask-177-compressed.jpg (deflated 1%)\n",
            "  adding: content/data_with_masks_compressed/data_with_mask-168-compressed.jpg (deflated 1%)\n",
            "  adding: content/data_with_masks_compressed/data_with_mask-471-compressed.jpg (deflated 2%)\n",
            "  adding: content/data_with_masks_compressed/data_with_mask-338-compressed.jpg (deflated 1%)\n",
            "  adding: content/data_with_masks_compressed/data_with_mask-407-compressed.jpg (deflated 2%)\n",
            "  adding: content/data_with_masks_compressed/data_with_mask-503-compressed.jpg (deflated 0%)\n",
            "  adding: content/data_with_masks_compressed/data_with_mask-368-compressed.jpg (deflated 2%)\n",
            "  adding: content/data_with_masks_compressed/data_with_mask-221-compressed.jpg (deflated 1%)\n",
            "  adding: content/data_with_masks_compressed/data_with_mask-427-compressed.jpg (deflated 1%)\n",
            "  adding: content/data_with_masks_compressed/data_with_mask-195-compressed.jpg (deflated 2%)\n",
            "  adding: content/data_with_masks_compressed/data_with_mask-495-compressed.jpg (deflated 1%)\n",
            "  adding: content/data_with_masks_compressed/data_with_mask-399-compressed.jpg (deflated 1%)\n",
            "  adding: content/data_with_masks_compressed/data_with_mask-369-compressed.jpg (deflated 2%)\n",
            "  adding: content/data_with_masks_compressed/data_with_mask-392-compressed.jpg (deflated 1%)\n",
            "  adding: content/data_with_masks_compressed/data_with_mask-467-compressed.jpg (deflated 2%)\n",
            "  adding: content/data_with_masks_compressed/data_with_mask-421-compressed.jpg (deflated 1%)\n",
            "  adding: content/data_with_masks_compressed/data_with_mask-243-compressed.jpg (deflated 9%)\n",
            "  adding: content/data_with_masks_compressed/data_with_mask-404-compressed.jpg (deflated 2%)\n",
            "  adding: content/data_with_masks_compressed/data_with_mask-150-compressed.jpg (deflated 1%)\n",
            "  adding: content/data_with_masks_compressed/data_with_mask-317-compressed.jpg (deflated 0%)\n",
            "  adding: content/data_with_masks_compressed/data_with_mask-173-compressed.jpg (deflated 2%)\n",
            "  adding: content/data_with_masks_compressed/data_with_mask-151-compressed.jpg (deflated 1%)\n",
            "  adding: content/data_with_masks_compressed/data_with_mask-263-compressed.jpg (deflated 2%)\n",
            "  adding: content/data_with_masks_compressed/data_with_mask-573-compressed.jpg (deflated 1%)\n",
            "  adding: content/data_with_masks_compressed/data_with_mask-212-compressed.jpg (deflated 1%)\n",
            "  adding: content/data_with_masks_compressed/data_with_mask-511-compressed.jpg (deflated 2%)\n",
            "  adding: content/data_with_masks_compressed/data_with_mask-262-compressed.jpg (deflated 1%)\n",
            "  adding: content/data_with_masks_compressed/data_with_mask-277-compressed.jpg (deflated 2%)\n",
            "  adding: content/data_with_masks_compressed/data_with_mask-456-compressed.jpg (deflated 1%)\n",
            "  adding: content/data_with_masks_compressed/data_with_mask-466-compressed.jpg (deflated 1%)\n",
            "  adding: content/data_with_masks_compressed/data_with_mask-224-compressed.jpg (deflated 1%)\n",
            "  adding: content/data_with_masks_compressed/data_with_mask-106-compressed.jpg (deflated 2%)\n",
            "  adding: content/data_with_masks_compressed/data_with_mask-80-compressed.jpg (deflated 2%)\n",
            "  adding: content/data_with_masks_compressed/data_with_mask-412-compressed.jpg (deflated 1%)\n",
            "  adding: content/data_with_masks_compressed/data_with_mask-358-compressed.jpg (deflated 1%)\n",
            "  adding: content/data_with_masks_compressed/data_with_mask-382-compressed.jpg (deflated 2%)\n",
            "  adding: content/data_with_masks_compressed/data_with_mask-562-compressed.jpg (deflated 1%)\n",
            "  adding: content/data_with_masks_compressed/data_with_mask-509-compressed.jpg (deflated 1%)\n",
            "  adding: content/data_with_masks_compressed/data_with_mask-303-compressed.jpg (deflated 2%)\n",
            "  adding: content/data_with_masks_compressed/data_with_mask-20-compressed.jpg (deflated 1%)\n",
            "  adding: content/data_with_masks_compressed/data_with_mask-480-compressed.jpg (deflated 1%)\n",
            "  adding: content/data_with_masks_compressed/data_with_mask-204-compressed.jpg (deflated 2%)\n",
            "  adding: content/data_with_masks_compressed/data_with_mask-315-compressed.jpg (deflated 1%)\n",
            "  adding: content/data_with_masks_compressed/data_with_mask-517-compressed.jpg (deflated 2%)\n",
            "  adding: content/data_with_masks_compressed/data_with_mask-408-compressed.jpg (deflated 2%)\n",
            "  adding: content/data_with_masks_compressed/data_with_mask-66-compressed.jpg (deflated 1%)\n",
            "  adding: content/data_with_masks_compressed/data_with_mask-475-compressed.jpg (deflated 9%)\n",
            "  adding: content/data_with_masks_compressed/data_with_mask-478-compressed.jpg (deflated 1%)\n",
            "  adding: content/data_with_masks_compressed/data_with_mask-355-compressed.jpg (deflated 1%)\n",
            "  adding: content/data_with_masks_compressed/data_with_mask-437-compressed.jpg (deflated 1%)\n",
            "  adding: content/data_with_masks_compressed/data_with_mask-223-compressed.jpg (deflated 2%)\n",
            "  adding: content/data_with_masks_compressed/data_with_mask-72-compressed.jpg (deflated 2%)\n",
            "  adding: content/data_with_masks_compressed/data_with_mask-516-compressed.jpg (deflated 1%)\n",
            "  adding: content/data_with_masks_compressed/data_with_mask-348-compressed.jpg (deflated 1%)\n",
            "  adding: content/data_with_masks_compressed/data_with_mask-210-compressed.jpg (deflated 1%)\n",
            "  adding: content/data_with_masks_compressed/data_with_mask-34-compressed.jpg (deflated 2%)\n",
            "  adding: content/data_with_masks_compressed/data_with_mask-344-compressed.jpg (deflated 2%)\n",
            "  adding: content/data_with_masks_compressed/data_with_mask-391-compressed.jpg (deflated 2%)\n",
            "  adding: content/data_with_masks_compressed/data_with_mask-120-compressed.jpg (deflated 2%)\n",
            "  adding: content/data_with_masks_compressed/data_with_mask-138-compressed.jpg (deflated 1%)\n",
            "  adding: content/data_with_masks_compressed/data_with_mask-534-compressed.jpg (deflated 2%)\n",
            "  adding: content/data_with_masks_compressed/data_with_mask-346-compressed.jpg (deflated 1%)\n",
            "  adding: content/data_with_masks_compressed/data_with_mask-564-compressed.jpg (deflated 1%)\n",
            "  adding: content/data_with_masks_compressed/data_with_mask-145-compressed.jpg (deflated 0%)\n",
            "  adding: content/data_with_masks_compressed/data_with_mask-291-compressed.jpg (deflated 0%)\n",
            "  adding: content/data_with_masks_compressed/data_with_mask-508-compressed.jpg (deflated 2%)\n",
            "  adding: content/data_with_masks_compressed/data_with_mask-419-compressed.jpg (deflated 1%)\n",
            "  adding: content/data_with_masks_compressed/data_with_mask-77-compressed.jpg (deflated 1%)\n",
            "  adding: content/data_with_masks_compressed/data_with_mask-218-compressed.jpg (deflated 1%)\n",
            "  adding: content/data_with_masks_compressed/data_with_mask-250-compressed.jpg (deflated 1%)\n",
            "  adding: content/data_with_masks_compressed/data_with_mask-552-compressed.jpg (deflated 2%)\n",
            "  adding: content/data_with_masks_compressed/data_with_mask-556-compressed.jpg (deflated 1%)\n",
            "  adding: content/data_with_masks_compressed/data_with_mask-217-compressed.jpg (deflated 1%)\n",
            "  adding: content/data_with_masks_compressed/data_with_mask-16-compressed.jpg (deflated 1%)\n",
            "  adding: content/data_with_masks_compressed/data_with_mask-32-compressed.jpg (deflated 1%)\n",
            "  adding: content/data_with_masks_compressed/data_with_mask-461-compressed.jpg (deflated 3%)\n",
            "  adding: content/data_with_masks_compressed/data_with_mask-214-compressed.jpg (deflated 3%)\n",
            "  adding: content/data_with_masks_compressed/data_with_mask-318-compressed.jpg (deflated 1%)\n",
            "  adding: content/data_with_masks_compressed/data_with_mask-95-compressed.jpg (deflated 1%)\n",
            "  adding: content/data_with_masks_compressed/data_with_mask-469-compressed.jpg (deflated 1%)\n",
            "  adding: content/data_with_masks_compressed/data_with_mask-167-compressed.jpg (deflated 2%)\n",
            "  adding: content/data_with_masks_compressed/data_with_mask-53-compressed.jpg (deflated 2%)\n",
            "  adding: content/data_with_masks_compressed/data_with_mask-482-compressed.jpg (deflated 2%)\n",
            "  adding: content/data_with_masks_compressed/data_with_mask-115-compressed.jpg (deflated 1%)\n",
            "  adding: content/data_with_masks_compressed/data_with_mask-18-compressed.jpg (deflated 2%)\n",
            "  adding: content/data_with_masks_compressed/data_with_mask-107-compressed.jpg (deflated 2%)\n",
            "  adding: content/data_with_masks_compressed/data_with_mask-159-compressed.jpg (deflated 2%)\n",
            "  adding: content/data_with_masks_compressed/data_with_mask-544-compressed.jpg (deflated 0%)\n",
            "  adding: content/data_with_masks_compressed/data_with_mask-161-compressed.jpg (deflated 1%)\n",
            "  adding: content/data_with_masks_compressed/data_with_mask-415-compressed.jpg (deflated 1%)\n",
            "  adding: content/data_with_masks_compressed/data_with_mask-506-compressed.jpg (deflated 1%)\n",
            "  adding: content/data_with_masks_compressed/data_with_mask-54-compressed.jpg (deflated 1%)\n"
          ],
          "name": "stdout"
        },
        {
          "output_type": "display_data",
          "data": {
            "application/javascript": [
              "\n",
              "    async function download(id, filename, size) {\n",
              "      if (!google.colab.kernel.accessAllowed) {\n",
              "        return;\n",
              "      }\n",
              "      const div = document.createElement('div');\n",
              "      const label = document.createElement('label');\n",
              "      label.textContent = `Downloading \"${filename}\": `;\n",
              "      div.appendChild(label);\n",
              "      const progress = document.createElement('progress');\n",
              "      progress.max = size;\n",
              "      div.appendChild(progress);\n",
              "      document.body.appendChild(div);\n",
              "\n",
              "      const buffers = [];\n",
              "      let downloaded = 0;\n",
              "\n",
              "      const channel = await google.colab.kernel.comms.open(id);\n",
              "      // Send a message to notify the kernel that we're ready.\n",
              "      channel.send({})\n",
              "\n",
              "      for await (const message of channel.messages) {\n",
              "        // Send a message to notify the kernel that we're ready.\n",
              "        channel.send({})\n",
              "        if (message.buffers) {\n",
              "          for (const buffer of message.buffers) {\n",
              "            buffers.push(buffer);\n",
              "            downloaded += buffer.byteLength;\n",
              "            progress.value = downloaded;\n",
              "          }\n",
              "        }\n",
              "      }\n",
              "      const blob = new Blob(buffers, {type: 'application/binary'});\n",
              "      const a = document.createElement('a');\n",
              "      a.href = window.URL.createObjectURL(blob);\n",
              "      a.download = filename;\n",
              "      div.appendChild(a);\n",
              "      a.click();\n",
              "      div.remove();\n",
              "    }\n",
              "  "
            ],
            "text/plain": [
              "<IPython.core.display.Javascript object>"
            ]
          },
          "metadata": {
            "tags": []
          }
        },
        {
          "output_type": "display_data",
          "data": {
            "application/javascript": [
              "download(\"download_1c0fe8a9-350a-49fa-80cf-cc0afa1b43a6\", \"data_with_masks_compressed.zip\", 14417292)"
            ],
            "text/plain": [
              "<IPython.core.display.Javascript object>"
            ]
          },
          "metadata": {
            "tags": []
          }
        }
      ]
    },
    {
      "cell_type": "code",
      "metadata": {
        "id": "JQQ6uZzJbOHy"
      },
      "source": [
        "#print image\n",
        "plt.figure()\n",
        "plt.imshow(pixels, interpolation='none')\n",
        "\n",
        "plt.figure()\n",
        "plt.imshow(image, interpolation='none')\n",
        "\n"
      ],
      "execution_count": null,
      "outputs": []
    },
    {
      "cell_type": "code",
      "metadata": {
        "id": "71hB047GFr7w"
      },
      "source": [
        "###object detection using YOLOv3 using Ultralytics"
      ],
      "execution_count": null,
      "outputs": []
    }
  ]
}